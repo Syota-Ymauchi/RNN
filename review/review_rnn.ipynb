{
 "cells": [
  {
   "cell_type": "markdown",
   "id": "6a1547cd-df84-4d41-b4f0-3f176513c8f4",
   "metadata": {},
   "source": [
    "# RNNの復習はここに"
   ]
  },
  {
   "cell_type": "markdown",
   "id": "c060093e-080e-44c0-a9a0-c5ed871f4130",
   "metadata": {},
   "source": [
    "### nerの復習\n",
    "\n",
    "###### データ読み込み\n",
    "###### label encoding\n",
    "###### 辞書作成　エンコード\n",
    "###### データ分割\n",
    "###### padding\n",
    "###### 学習準備\n",
    "###### モデルの定義\n",
    "###### 学習ループ\n",
    "###### 評価"
   ]
  },
  {
   "cell_type": "code",
   "execution_count": 1,
   "id": "85e39a23-923e-4462-a05a-a9d8870afe62",
   "metadata": {},
   "outputs": [],
   "source": [
    "import pickle"
   ]
  },
  {
   "cell_type": "code",
   "execution_count": 2,
   "id": "d465aa09-3373-4b2c-afe9-a1a93675122c",
   "metadata": {},
   "outputs": [],
   "source": [
    "# ラベルデータ\n",
    "with open('ner_dataset_labels.txt', 'rb') as fp:\n",
    "    labels = pickle.load(fp)\n",
    "# sentenceデータ\n",
    "with open('ner_dataset_sentences.txt', 'rb') as fp:\n",
    "    sentences = pickle.load(fp)"
   ]
  },
  {
   "cell_type": "code",
   "execution_count": 3,
   "id": "720ac483-b417-43de-bc51-d874cfba4d2c",
   "metadata": {},
   "outputs": [
    {
     "data": {
      "text/plain": [
       "['The cat sat on the mat .',\n",
       " 'John lives in New York .',\n",
       " 'I have two dogs .',\n",
       " 'She works at Google .',\n",
       " 'The Eiffel Tower is in Paris .',\n",
       " 'He is from Spain .',\n",
       " 'I visited the Great Wall of China .',\n",
       " 'She is studying at Oxford University .',\n",
       " 'He works for the United Nations .',\n",
       " 'Berlin is the capital of Germany .',\n",
       " 'Mount Everest is the highest peak in the world .',\n",
       " 'The Nile is the longest river in the world .',\n",
       " 'The Pyramids are located in Egypt .',\n",
       " 'The Sahara desert is in Africa .',\n",
       " 'I work at Microsoft .',\n",
       " 'She is from Australia .',\n",
       " 'He is going to Paris for a meeting .',\n",
       " 'The Amazon is the largest rainforest .',\n",
       " 'He studied at Harvard .',\n",
       " 'Mona Lisa is a famous painting .',\n",
       " 'Shakespeare is known for Romeo and Juliet .',\n",
       " 'Albert Einstein was a physicist .',\n",
       " 'The Leaning Tower of Pisa is in Italy .',\n",
       " 'The Great Barrier Reef is in Australia .',\n",
       " 'She works at Facebook .',\n",
       " 'The Grand Canyon is in Arizona .',\n",
       " 'She is studying at the University of Tokyo .',\n",
       " 'He lives in Los Angeles .',\n",
       " 'They are visiting London this summer .',\n",
       " 'He works for the World Health Organization .']"
      ]
     },
     "execution_count": 3,
     "metadata": {},
     "output_type": "execute_result"
    }
   ],
   "source": [
    "sentences"
   ]
  },
  {
   "cell_type": "code",
   "execution_count": 4,
   "id": "49ee2638-d6c5-4e78-9eb2-d46e678717f7",
   "metadata": {},
   "outputs": [
    {
     "data": {
      "text/plain": [
       "[['O', 'O', 'O', 'O', 'O', 'O', 'O'],\n",
       " ['B-per', 'O', 'O', 'B-geo', 'I-geo', 'O'],\n",
       " ['O', 'O', 'O', 'O', 'O'],\n",
       " ['O', 'O', 'O', 'B-org', 'O'],\n",
       " ['O', 'B-geo', 'I-geo', 'O', 'O', 'B-geo', 'O'],\n",
       " ['O', 'O', 'O', 'B-geo', 'O'],\n",
       " ['O', 'O', 'O', 'B-geo', 'I-geo', 'I-geo', 'I-geo', 'O'],\n",
       " ['O', 'O', 'O', 'O', 'B-org', 'I-org', 'O'],\n",
       " ['O', 'O', 'O', 'O', 'B-org', 'I-org', 'O'],\n",
       " ['B-geo', 'O', 'O', 'O', 'O', 'B-geo', 'O'],\n",
       " ['B-geo', 'I-geo', 'O', 'O', 'O', 'O', 'O', 'O', 'O', 'O'],\n",
       " ['O', 'B-geo', 'O', 'O', 'O', 'O', 'O', 'O', 'O', 'O'],\n",
       " ['O', 'B-geo', 'O', 'O', 'O', 'B-geo', 'O'],\n",
       " ['O', 'B-geo', 'O', 'O', 'O', 'B-geo', 'O'],\n",
       " ['O', 'O', 'O', 'B-org', 'O'],\n",
       " ['O', 'O', 'O', 'B-geo', 'O'],\n",
       " ['O', 'O', 'O', 'O', 'B-geo', 'O', 'O', 'O', 'O'],\n",
       " ['O', 'B-geo', 'O', 'O', 'O', 'O', 'O'],\n",
       " ['O', 'O', 'O', 'B-org', 'O'],\n",
       " ['B-per', 'I-per', 'O', 'O', 'O', 'O', 'O'],\n",
       " ['B-per', 'O', 'O', 'O', 'O', 'O', 'O', 'O'],\n",
       " ['B-per', 'I-per', 'O', 'O', 'O', 'O'],\n",
       " ['O', 'B-geo', 'I-geo', 'I-geo', 'I-geo', 'O', 'O', 'B-geo', 'O'],\n",
       " ['O', 'B-geo', 'I-geo', 'I-geo', 'O', 'O', 'B-geo', 'O'],\n",
       " ['O', 'O', 'O', 'B-org', 'O'],\n",
       " ['O', 'B-geo', 'I-geo', 'O', 'O', 'B-geo', 'O'],\n",
       " ['O', 'O', 'O', 'O', 'O', 'B-org', 'I-org', 'I-org', 'O'],\n",
       " ['O', 'O', 'O', 'B-geo', 'I-geo', 'O'],\n",
       " ['O', 'O', 'O', 'B-geo', 'O', 'O', 'O'],\n",
       " ['O', 'O', 'O', 'O', 'B-org', 'I-org', 'I-org', 'O']]"
      ]
     },
     "execution_count": 4,
     "metadata": {},
     "output_type": "execute_result"
    }
   ],
   "source": [
    "labels"
   ]
  },
  {
   "cell_type": "markdown",
   "id": "71022399-0ca9-49de-899b-830f29cbb7fe",
   "metadata": {},
   "source": [
    "### label encoding"
   ]
  },
  {
   "cell_type": "code",
   "execution_count": 5,
   "id": "79577827-b5ad-4632-bcd7-e5d29c0c6e0f",
   "metadata": {},
   "outputs": [],
   "source": [
    "from sklearn.preprocessing import LabelEncoder\n",
    "\n",
    "label_encoder = LabelEncoder()"
   ]
  },
  {
   "cell_type": "code",
   "execution_count": 6,
   "id": "18233e53-e8be-4c05-b0d8-8b66746ae1da",
   "metadata": {},
   "outputs": [],
   "source": [
    "# まず、全てのラベルを取得するために全データで1つのリストにする\n",
    "all_labels = [label for sublabel in labels for label in sublabel]\n",
    "\n",
    "# これに対してlabel encoderのfit\n",
    "label_encoder.fit(all_labels) # labelのidを作成する\n",
    "\n",
    "# labelsに対して適用する。padding用に+1することに注意\n",
    "encodered_labels = [label_encoder.transform(sublabel) + 1 for sublabel in labels]"
   ]
  },
  {
   "cell_type": "code",
   "execution_count": 7,
   "id": "20bcb59f-cc93-4714-9af4-7c03236807bf",
   "metadata": {},
   "outputs": [
    {
     "data": {
      "text/plain": [
       "[array([7, 7, 7, 7, 7, 7, 7]),\n",
       " array([3, 7, 7, 1, 4, 7]),\n",
       " array([7, 7, 7, 7, 7]),\n",
       " array([7, 7, 7, 2, 7]),\n",
       " array([7, 1, 4, 7, 7, 1, 7]),\n",
       " array([7, 7, 7, 1, 7]),\n",
       " array([7, 7, 7, 1, 4, 4, 4, 7]),\n",
       " array([7, 7, 7, 7, 2, 5, 7]),\n",
       " array([7, 7, 7, 7, 2, 5, 7]),\n",
       " array([1, 7, 7, 7, 7, 1, 7]),\n",
       " array([1, 4, 7, 7, 7, 7, 7, 7, 7, 7]),\n",
       " array([7, 1, 7, 7, 7, 7, 7, 7, 7, 7]),\n",
       " array([7, 1, 7, 7, 7, 1, 7]),\n",
       " array([7, 1, 7, 7, 7, 1, 7]),\n",
       " array([7, 7, 7, 2, 7]),\n",
       " array([7, 7, 7, 1, 7]),\n",
       " array([7, 7, 7, 7, 1, 7, 7, 7, 7]),\n",
       " array([7, 1, 7, 7, 7, 7, 7]),\n",
       " array([7, 7, 7, 2, 7]),\n",
       " array([3, 6, 7, 7, 7, 7, 7]),\n",
       " array([3, 7, 7, 7, 7, 7, 7, 7]),\n",
       " array([3, 6, 7, 7, 7, 7]),\n",
       " array([7, 1, 4, 4, 4, 7, 7, 1, 7]),\n",
       " array([7, 1, 4, 4, 7, 7, 1, 7]),\n",
       " array([7, 7, 7, 2, 7]),\n",
       " array([7, 1, 4, 7, 7, 1, 7]),\n",
       " array([7, 7, 7, 7, 7, 2, 5, 5, 7]),\n",
       " array([7, 7, 7, 1, 4, 7]),\n",
       " array([7, 7, 7, 1, 7, 7, 7]),\n",
       " array([7, 7, 7, 7, 2, 5, 5, 7])]"
      ]
     },
     "execution_count": 7,
     "metadata": {},
     "output_type": "execute_result"
    }
   ],
   "source": [
    "encodered_labels"
   ]
  },
  {
   "cell_type": "markdown",
   "id": "c62b331b-6a95-4f49-a931-115cab252e1c",
   "metadata": {},
   "source": [
    "### 辞書作成 エンコード"
   ]
  },
  {
   "cell_type": "code",
   "execution_count": 8,
   "id": "6ea0b4f7-43a9-4b86-806c-aca899084857",
   "metadata": {},
   "outputs": [],
   "source": [
    "word2indx = {'<PAD>':0}\n",
    "encodered_sentences = []\n",
    "for sentence in sentences:\n",
    "    encodered_sentence = [word2indx.setdefault(word, len(word2indx)) for word in sentence.split() ]\n",
    "    encodered_sentences.append(encodered_sentence) # ここでようやく2次元に "
   ]
  },
  {
   "cell_type": "code",
   "execution_count": 9,
   "id": "f8e82f87-e0d8-4c15-ba34-fcf32b2b7bf6",
   "metadata": {},
   "outputs": [
    {
     "data": {
      "text/plain": [
       "[[1, 2, 3, 4, 5, 6, 7],\n",
       " [8, 9, 10, 11, 12, 7],\n",
       " [13, 14, 15, 16, 7],\n",
       " [17, 18, 19, 20, 7],\n",
       " [1, 21, 22, 23, 10, 24, 7],\n",
       " [25, 23, 26, 27, 7],\n",
       " [13, 28, 5, 29, 30, 31, 32, 7],\n",
       " [17, 23, 33, 19, 34, 35, 7],\n",
       " [25, 18, 36, 5, 37, 38, 7],\n",
       " [39, 23, 5, 40, 31, 41, 7],\n",
       " [42, 43, 23, 5, 44, 45, 10, 5, 46, 7],\n",
       " [1, 47, 23, 5, 48, 49, 10, 5, 46, 7],\n",
       " [1, 50, 51, 52, 10, 53, 7],\n",
       " [1, 54, 55, 23, 10, 56, 7],\n",
       " [13, 57, 19, 58, 7],\n",
       " [17, 23, 26, 59, 7],\n",
       " [25, 23, 60, 61, 24, 36, 62, 63, 7],\n",
       " [1, 64, 23, 5, 65, 66, 7],\n",
       " [25, 67, 19, 68, 7],\n",
       " [69, 70, 23, 62, 71, 72, 7],\n",
       " [73, 23, 74, 36, 75, 76, 77, 7],\n",
       " [78, 79, 80, 62, 81, 7],\n",
       " [1, 82, 22, 31, 83, 23, 10, 84, 7],\n",
       " [1, 29, 85, 86, 23, 10, 59, 7],\n",
       " [17, 18, 19, 87, 7],\n",
       " [1, 88, 89, 23, 10, 90, 7],\n",
       " [17, 23, 33, 19, 5, 35, 31, 91, 7],\n",
       " [25, 9, 10, 92, 93, 7],\n",
       " [94, 51, 95, 96, 97, 98, 7],\n",
       " [25, 18, 36, 5, 99, 100, 101, 7]]"
      ]
     },
     "execution_count": 9,
     "metadata": {},
     "output_type": "execute_result"
    }
   ],
   "source": [
    "encodered_sentences"
   ]
  },
  {
   "cell_type": "code",
   "execution_count": 10,
   "id": "e1938031-40f7-4a4b-8600-ed9e6ce1a09d",
   "metadata": {
    "scrolled": true
   },
   "outputs": [
    {
     "data": {
      "text/plain": [
       "{'<PAD>': 0,\n",
       " 'The': 1,\n",
       " 'cat': 2,\n",
       " 'sat': 3,\n",
       " 'on': 4,\n",
       " 'the': 5,\n",
       " 'mat': 6,\n",
       " '.': 7,\n",
       " 'John': 8,\n",
       " 'lives': 9,\n",
       " 'in': 10,\n",
       " 'New': 11,\n",
       " 'York': 12,\n",
       " 'I': 13,\n",
       " 'have': 14,\n",
       " 'two': 15,\n",
       " 'dogs': 16,\n",
       " 'She': 17,\n",
       " 'works': 18,\n",
       " 'at': 19,\n",
       " 'Google': 20,\n",
       " 'Eiffel': 21,\n",
       " 'Tower': 22,\n",
       " 'is': 23,\n",
       " 'Paris': 24,\n",
       " 'He': 25,\n",
       " 'from': 26,\n",
       " 'Spain': 27,\n",
       " 'visited': 28,\n",
       " 'Great': 29,\n",
       " 'Wall': 30,\n",
       " 'of': 31,\n",
       " 'China': 32,\n",
       " 'studying': 33,\n",
       " 'Oxford': 34,\n",
       " 'University': 35,\n",
       " 'for': 36,\n",
       " 'United': 37,\n",
       " 'Nations': 38,\n",
       " 'Berlin': 39,\n",
       " 'capital': 40,\n",
       " 'Germany': 41,\n",
       " 'Mount': 42,\n",
       " 'Everest': 43,\n",
       " 'highest': 44,\n",
       " 'peak': 45,\n",
       " 'world': 46,\n",
       " 'Nile': 47,\n",
       " 'longest': 48,\n",
       " 'river': 49,\n",
       " 'Pyramids': 50,\n",
       " 'are': 51,\n",
       " 'located': 52,\n",
       " 'Egypt': 53,\n",
       " 'Sahara': 54,\n",
       " 'desert': 55,\n",
       " 'Africa': 56,\n",
       " 'work': 57,\n",
       " 'Microsoft': 58,\n",
       " 'Australia': 59,\n",
       " 'going': 60,\n",
       " 'to': 61,\n",
       " 'a': 62,\n",
       " 'meeting': 63,\n",
       " 'Amazon': 64,\n",
       " 'largest': 65,\n",
       " 'rainforest': 66,\n",
       " 'studied': 67,\n",
       " 'Harvard': 68,\n",
       " 'Mona': 69,\n",
       " 'Lisa': 70,\n",
       " 'famous': 71,\n",
       " 'painting': 72,\n",
       " 'Shakespeare': 73,\n",
       " 'known': 74,\n",
       " 'Romeo': 75,\n",
       " 'and': 76,\n",
       " 'Juliet': 77,\n",
       " 'Albert': 78,\n",
       " 'Einstein': 79,\n",
       " 'was': 80,\n",
       " 'physicist': 81,\n",
       " 'Leaning': 82,\n",
       " 'Pisa': 83,\n",
       " 'Italy': 84,\n",
       " 'Barrier': 85,\n",
       " 'Reef': 86,\n",
       " 'Facebook': 87,\n",
       " 'Grand': 88,\n",
       " 'Canyon': 89,\n",
       " 'Arizona': 90,\n",
       " 'Tokyo': 91,\n",
       " 'Los': 92,\n",
       " 'Angeles': 93,\n",
       " 'They': 94,\n",
       " 'visiting': 95,\n",
       " 'London': 96,\n",
       " 'this': 97,\n",
       " 'summer': 98,\n",
       " 'World': 99,\n",
       " 'Health': 100,\n",
       " 'Organization': 101}"
      ]
     },
     "execution_count": 10,
     "metadata": {},
     "output_type": "execute_result"
    }
   ],
   "source": [
    "word2indx"
   ]
  },
  {
   "cell_type": "markdown",
   "id": "29a9c745-2a93-400c-9242-03d562826a4d",
   "metadata": {},
   "source": [
    "### 訓練データ、検証データに分割する"
   ]
  },
  {
   "cell_type": "code",
   "execution_count": 11,
   "id": "5d4b8c91-056e-4fdd-94c1-d0605b019fd4",
   "metadata": {},
   "outputs": [],
   "source": [
    "from sklearn.model_selection import train_test_split"
   ]
  },
  {
   "cell_type": "code",
   "execution_count": 12,
   "id": "1415acd7-ffa4-4c0a-8002-493851c629b7",
   "metadata": {},
   "outputs": [],
   "source": [
    "X_train, X_val, y_train, y_val, train_sentences, val_sentences = train_test_split(encodered_sentences, encodered_labels, sentences, test_size=0.3, random_state=42)"
   ]
  },
  {
   "cell_type": "code",
   "execution_count": 13,
   "id": "196cefbc-0315-498f-a4a4-4ab7069ea55a",
   "metadata": {},
   "outputs": [
    {
     "name": "stdout",
     "output_type": "stream",
     "text": [
      "[[1, 2, 3, 4, 5, 6, 7]]\n",
      "[array([7, 7, 7, 7, 7, 7, 7])]\n",
      "['The cat sat on the mat .']\n"
     ]
    }
   ],
   "source": [
    "print(X_train[:1])\n",
    "print(y_train[:1])\n",
    "print(train_sentences[:1])"
   ]
  },
  {
   "cell_type": "code",
   "execution_count": 14,
   "id": "a014ec37-2b7c-418e-b319-3d20b3e00b07",
   "metadata": {},
   "outputs": [],
   "source": [
    "from torch.nn.utils.rnn import pad_sequence\n",
    "import torch"
   ]
  },
  {
   "cell_type": "markdown",
   "id": "9a055732-fb4d-4891-9f15-a519f81f8b02",
   "metadata": {},
   "source": [
    "### padding"
   ]
  },
  {
   "cell_type": "code",
   "execution_count": 15,
   "id": "ca2befb5-6e7b-4a1d-bcb3-b5a644085332",
   "metadata": {},
   "outputs": [],
   "source": [
    "X_train = pad_sequence([torch.tensor(x) for x in X_train], batch_first=True)\n",
    "X_val = pad_sequence([torch.tensor(x) for x in X_val], batch_first=True)\n",
    "y_train = pad_sequence([torch.tensor(y) for y in y_train], batch_first=True)\n",
    "y_val = pad_sequence([torch.tensor(y) for y in y_val], batch_first=True)"
   ]
  },
  {
   "cell_type": "markdown",
   "id": "05757202-383c-4bad-a247-457c8f267c1e",
   "metadata": {},
   "source": [
    "### モデルの定義　\n",
    "\n",
    "### この後に、双方向、Deepに対応させて再度実行する"
   ]
  },
  {
   "cell_type": "code",
   "execution_count": 16,
   "id": "11331b4c-ada5-4a7f-bb4f-a223c3b270c1",
   "metadata": {},
   "outputs": [],
   "source": [
    "import torch.nn as nn\n",
    "from model import Model, PytorchModel\n",
    "import torch\n",
    "\n",
    "\n",
    "import pickle # ピクル\n",
    "from sklearn.preprocessing import LabelEncoder\n",
    "from sklearn.model_selection import train_test_split\n",
    "import torch\n",
    "import torch.optim as optim\n",
    "import torch.nn as nn\n",
    "from torch.nn.utils.rnn import pad_sequence\n",
    "from torch.utils.data import DataLoader, TensorDataset\n",
    "from tqdm import tqdm\n",
    "import matplotlib.pyplot as plt"
   ]
  },
  {
   "cell_type": "code",
   "execution_count": 20,
   "id": "d7ea60c1-9e20-4a9d-b305-0d3b6645960e",
   "metadata": {},
   "outputs": [
    {
     "name": "stdout",
     "output_type": "stream",
     "text": [
      "LSTM\n"
     ]
    }
   ],
   "source": [
    "vocab_size = len(word2indx) # 102\n",
    "num_classes = len(label_encoder.classes_) + 1 # クラス数 paddingも考慮して+1をする 8クラスになる\n",
    "embedding_dim = 50\n",
    "hidden_size = 70 # 一般的にはembedding_dimより減らす\n",
    "output_size = num_classes\n",
    "batch_size = 3\n",
    "learning_rate = 0.03\n",
    "\n",
    "# モデルの定義\n",
    "model = PytorchModel(vocab_size, embedding_dim, hidden_size, output_size, rnn_type='LSTM', bidirectional=True, num_layers=3)\n",
    "\n",
    "# Dataset DataLoader作成\n",
    "train_dataset = TensorDataset(X_train, y_train) # datasetを作成してくれる。便利\n",
    "train_loader = DataLoader(train_dataset, batch_size=batch_size, shuffle=True)\n",
    "val_dataset = TensorDataset(X_val, y_val)\n",
    "val_loader = DataLoader(val_dataset, batch_size=batch_size, shuffle=False)\n",
    "\n",
    "# 損失関数とoptimizer\n",
    "opt = optim.Adam(model.parameters(), lr=learning_rate)\n",
    "criterion = nn.CrossEntropyLoss(ignore_index=0)\n",
    "\n"
   ]
  },
  {
   "cell_type": "code",
   "execution_count": 21,
   "id": "e839e664-37fd-47ea-9792-6d411df3266b",
   "metadata": {
    "scrolled": true
   },
   "outputs": [
    {
     "name": "stderr",
     "output_type": "stream",
     "text": [
      "                                                   \r"
     ]
    },
    {
     "name": "stdout",
     "output_type": "stream",
     "text": [
      "epoch=0  train_losse=1.5989 val_loss=1.0854 val_accuracy=0.5972\n"
     ]
    },
    {
     "name": "stderr",
     "output_type": "stream",
     "text": [
      "                                                   \r"
     ]
    },
    {
     "name": "stdout",
     "output_type": "stream",
     "text": [
      "epoch=1  train_losse=1.1601 val_loss=1.1840 val_accuracy=0.5972\n"
     ]
    },
    {
     "name": "stderr",
     "output_type": "stream",
     "text": [
      "                                                   \r"
     ]
    },
    {
     "name": "stdout",
     "output_type": "stream",
     "text": [
      "epoch=2  train_losse=1.0016 val_loss=0.9211 val_accuracy=0.5972\n"
     ]
    },
    {
     "name": "stderr",
     "output_type": "stream",
     "text": [
      "                                                   \r"
     ]
    },
    {
     "name": "stdout",
     "output_type": "stream",
     "text": [
      "epoch=3  train_losse=1.0451 val_loss=0.9842 val_accuracy=0.5972\n"
     ]
    },
    {
     "name": "stderr",
     "output_type": "stream",
     "text": [
      "                                                   \r"
     ]
    },
    {
     "name": "stdout",
     "output_type": "stream",
     "text": [
      "epoch=4  train_losse=0.9135 val_loss=0.8714 val_accuracy=0.5972\n"
     ]
    },
    {
     "name": "stderr",
     "output_type": "stream",
     "text": [
      "                                                   \r"
     ]
    },
    {
     "name": "stdout",
     "output_type": "stream",
     "text": [
      "epoch=5  train_losse=0.8272 val_loss=0.7716 val_accuracy=0.6389\n"
     ]
    },
    {
     "name": "stderr",
     "output_type": "stream",
     "text": [
      "                                                   \r"
     ]
    },
    {
     "name": "stdout",
     "output_type": "stream",
     "text": [
      "epoch=6  train_losse=0.7321 val_loss=0.7297 val_accuracy=0.6111\n"
     ]
    },
    {
     "name": "stderr",
     "output_type": "stream",
     "text": [
      "                                                   \r"
     ]
    },
    {
     "name": "stdout",
     "output_type": "stream",
     "text": [
      "epoch=7  train_losse=0.5988 val_loss=0.7107 val_accuracy=0.6250\n"
     ]
    },
    {
     "name": "stderr",
     "output_type": "stream",
     "text": [
      "                                                   \r"
     ]
    },
    {
     "name": "stdout",
     "output_type": "stream",
     "text": [
      "epoch=8  train_losse=0.4512 val_loss=0.6408 val_accuracy=0.6667\n"
     ]
    },
    {
     "name": "stderr",
     "output_type": "stream",
     "text": [
      "                                                   \r"
     ]
    },
    {
     "name": "stdout",
     "output_type": "stream",
     "text": [
      "epoch=9  train_losse=0.3655 val_loss=0.6261 val_accuracy=0.6389\n"
     ]
    },
    {
     "name": "stderr",
     "output_type": "stream",
     "text": [
      "                                                   \r"
     ]
    },
    {
     "name": "stdout",
     "output_type": "stream",
     "text": [
      "epoch=10  train_losse=0.2367 val_loss=0.7240 val_accuracy=0.6528\n"
     ]
    },
    {
     "name": "stderr",
     "output_type": "stream",
     "text": [
      "                                                   \r"
     ]
    },
    {
     "name": "stdout",
     "output_type": "stream",
     "text": [
      "epoch=11  train_losse=0.4093 val_loss=0.6948 val_accuracy=0.6111\n"
     ]
    },
    {
     "name": "stderr",
     "output_type": "stream",
     "text": [
      "                                                   \r"
     ]
    },
    {
     "name": "stdout",
     "output_type": "stream",
     "text": [
      "epoch=12  train_losse=0.2879 val_loss=0.8792 val_accuracy=0.6250\n"
     ]
    },
    {
     "name": "stderr",
     "output_type": "stream",
     "text": [
      "                                                   \r"
     ]
    },
    {
     "name": "stdout",
     "output_type": "stream",
     "text": [
      "epoch=13  train_losse=0.1414 val_loss=0.7340 val_accuracy=0.6389\n"
     ]
    },
    {
     "name": "stderr",
     "output_type": "stream",
     "text": [
      "                                                   \r"
     ]
    },
    {
     "name": "stdout",
     "output_type": "stream",
     "text": [
      "epoch=14  train_losse=0.0835 val_loss=0.6720 val_accuracy=0.6389\n"
     ]
    },
    {
     "name": "stderr",
     "output_type": "stream",
     "text": [
      "                                                   \r"
     ]
    },
    {
     "name": "stdout",
     "output_type": "stream",
     "text": [
      "epoch=15  train_losse=0.0917 val_loss=0.7206 val_accuracy=0.6806\n"
     ]
    },
    {
     "name": "stderr",
     "output_type": "stream",
     "text": [
      "                                                   \r"
     ]
    },
    {
     "name": "stdout",
     "output_type": "stream",
     "text": [
      "epoch=16  train_losse=0.0173 val_loss=0.7801 val_accuracy=0.6667\n"
     ]
    },
    {
     "name": "stderr",
     "output_type": "stream",
     "text": [
      "                                                   \r"
     ]
    },
    {
     "name": "stdout",
     "output_type": "stream",
     "text": [
      "epoch=17  train_losse=0.0071 val_loss=0.8217 val_accuracy=0.6667\n"
     ]
    },
    {
     "name": "stderr",
     "output_type": "stream",
     "text": [
      "                                                   \r"
     ]
    },
    {
     "name": "stdout",
     "output_type": "stream",
     "text": [
      "epoch=18  train_losse=0.0037 val_loss=0.8607 val_accuracy=0.6667\n"
     ]
    },
    {
     "name": "stderr",
     "output_type": "stream",
     "text": [
      "                                                   \r"
     ]
    },
    {
     "name": "stdout",
     "output_type": "stream",
     "text": [
      "epoch=19  train_losse=0.0026 val_loss=0.8929 val_accuracy=0.6667\n"
     ]
    },
    {
     "name": "stderr",
     "output_type": "stream",
     "text": [
      "                                                   \r"
     ]
    },
    {
     "name": "stdout",
     "output_type": "stream",
     "text": [
      "epoch=20  train_losse=0.0019 val_loss=0.9296 val_accuracy=0.6389\n"
     ]
    },
    {
     "name": "stderr",
     "output_type": "stream",
     "text": [
      "                                                   \r"
     ]
    },
    {
     "name": "stdout",
     "output_type": "stream",
     "text": [
      "epoch=21  train_losse=0.0015 val_loss=0.9566 val_accuracy=0.6389\n"
     ]
    },
    {
     "name": "stderr",
     "output_type": "stream",
     "text": [
      "                                                   \r"
     ]
    },
    {
     "name": "stdout",
     "output_type": "stream",
     "text": [
      "epoch=22  train_losse=0.0013 val_loss=0.9706 val_accuracy=0.6389\n"
     ]
    },
    {
     "name": "stderr",
     "output_type": "stream",
     "text": [
      "                                                   \r"
     ]
    },
    {
     "name": "stdout",
     "output_type": "stream",
     "text": [
      "epoch=23  train_losse=0.0011 val_loss=0.9849 val_accuracy=0.6389\n"
     ]
    },
    {
     "name": "stderr",
     "output_type": "stream",
     "text": [
      "                                                   \r"
     ]
    },
    {
     "name": "stdout",
     "output_type": "stream",
     "text": [
      "epoch=24  train_losse=0.0010 val_loss=0.9950 val_accuracy=0.6389\n"
     ]
    },
    {
     "name": "stderr",
     "output_type": "stream",
     "text": [
      "                                                   \r"
     ]
    },
    {
     "name": "stdout",
     "output_type": "stream",
     "text": [
      "epoch=25  train_losse=0.0009 val_loss=0.9974 val_accuracy=0.6389\n"
     ]
    },
    {
     "name": "stderr",
     "output_type": "stream",
     "text": [
      "                                                   \r"
     ]
    },
    {
     "name": "stdout",
     "output_type": "stream",
     "text": [
      "epoch=26  train_losse=0.0009 val_loss=1.0096 val_accuracy=0.6389\n"
     ]
    },
    {
     "name": "stderr",
     "output_type": "stream",
     "text": [
      "                                                   \r"
     ]
    },
    {
     "name": "stdout",
     "output_type": "stream",
     "text": [
      "epoch=27  train_losse=0.0008 val_loss=1.0192 val_accuracy=0.6389\n"
     ]
    },
    {
     "name": "stderr",
     "output_type": "stream",
     "text": [
      "                                                   \r"
     ]
    },
    {
     "name": "stdout",
     "output_type": "stream",
     "text": [
      "epoch=28  train_losse=0.0007 val_loss=1.0264 val_accuracy=0.6389\n"
     ]
    },
    {
     "name": "stderr",
     "output_type": "stream",
     "text": [
      "                                                   "
     ]
    },
    {
     "name": "stdout",
     "output_type": "stream",
     "text": [
      "epoch=29  train_losse=0.0007 val_loss=1.0294 val_accuracy=0.6389\n"
     ]
    },
    {
     "name": "stderr",
     "output_type": "stream",
     "text": [
      "\r"
     ]
    }
   ],
   "source": [
    "# 損失関数とoptimizer\n",
    "opt = optim.Adam(model.parameters(), lr=learning_rate)\n",
    "criterion = nn.CrossEntropyLoss(ignore_index=0)\n",
    "\n",
    "num_epochs = 30\n",
    "eary_stopping = 5\n",
    "\n",
    "# ログ\n",
    "# est_val_loss = float('inf')\n",
    "train_losses = []\n",
    "val_losses = []\n",
    "val_accuracies = []\n",
    "\n",
    "# GPU設定\n",
    "device = torch.device('cuda' if torch.cuda.is_available() else 'cpu')\n",
    "\n",
    "\n",
    "\n",
    "for epoch in range(num_epochs):\n",
    "    model.train()\n",
    "    running_loss = 0.0\n",
    "    running_val_loss = 0.0\n",
    "    total_correct = 0\n",
    "    \n",
    "    # training\n",
    "    for i, (sentences, labels) in tqdm(enumerate(train_loader), desc='now training', total=len(train_loader), leave=False):\n",
    "        sentences = sentences.to(device)\n",
    "        labels = labels.to(device)\n",
    "        opt.zero_grad()\n",
    "        output, _ = model(sentences) # [batch_size, seq_len, num_classes]\n",
    "        output = output.reshape(-1, num_classes) # [batch_size, seq_len, num_classes] -> [batch_size * seq_len, num_classes]\n",
    "        labels = labels.view(-1) # [batch_size, seq_len] -> [batch_size * seq_len]\n",
    "        loss = criterion(output, labels)\n",
    "        loss.backward()\n",
    "        running_loss += loss.item()\n",
    "        opt.step()\n",
    "    train_losses.append(running_loss / len(train_loader))\n",
    "\n",
    "    # validation\n",
    "    # 評価用\n",
    "\n",
    "    total_num = 0\n",
    "    total_correct = 0\n",
    "\n",
    "    for i, (sentences, labels) in tqdm(enumerate(val_loader), desc='valdation', total=len(val_loader), leave=False):\n",
    "        model.eval()\n",
    "        with torch.no_grad():\n",
    "            \n",
    "            sentences = sentences.to(device)\n",
    "            labels = labels.to(device)\n",
    "            output, _ = model(sentences) # [batch_size, seq_len, num_classes]\n",
    "    \n",
    "            # accuracy計算\n",
    "            _, predicted = torch.max(output, -1) #[batch_size, seq_len]\n",
    "            total_correct += torch.sum(predicted == labels).item()\n",
    "            total_num += labels.numel() # [batch_size * seq_len]\n",
    "    \n",
    "            \n",
    "            output = output.reshape(-1, num_classes) # [batch_size, seq_len, num_classes] -> [batch_size * seq_len, num_classes]\n",
    "            labels = labels.view(-1) # [batch_size, seq_len] -> [batch_size * seq_len]\n",
    "            loss = criterion(output, labels)\n",
    "            running_val_loss += loss.item()\n",
    "    \n",
    "    val_losses.append(running_val_loss / len(val_loader))\n",
    "    val_accuracies.append(total_correct / total_num)\n",
    "    print(f\"epoch={epoch}  train_losse={train_losses[-1]:.4f} val_loss={val_losses[-1]:.4f} val_accuracy={val_accuracies[-1]:.4f}\")"
   ]
  },
  {
   "cell_type": "code",
   "execution_count": 19,
   "id": "2ea1d9b3-7887-4c43-b1b0-709e823c7811",
   "metadata": {},
   "outputs": [
    {
     "data": {
      "image/png": "[encoded data removed]",
      "text/plain": [
       "<Figure size 640x480 with 1 Axes>"
      ]
     },
     "metadata": {},
     "output_type": "display_data"
    }
   ],
   "source": [
    "plt.plot(train_losses, label='train')\n",
    "plt.plot(val_losses, label='val')\n",
    "plt.legend()\n",
    "plt.show()"
   ]
  },
  {
   "cell_type": "code",
   "execution_count": null,
   "id": "5abb45d8-57f2-4771-bde0-9f693c5348d4",
   "metadata": {},
   "outputs": [],
   "source": []
  },
  {
   "cell_type": "code",
   "execution_count": null,
   "id": "3790cb38-a94c-44a6-80b6-edabaf6dd1a6",
   "metadata": {},
   "outputs": [],
   "source": []
  }
 ],
 "metadata": {
  "kernelspec": {
   "display_name": "Python 3 (ipykernel)",
   "language": "python",
   "name": "python3"
  },
  "language_info": {
   "codemirror_mode": {
    "name": "ipython",
    "version": 3
   },
   "file_extension": ".py",
   "mimetype": "text/x-python",
   "name": "python",
   "nbconvert_exporter": "python",
   "pygments_lexer": "ipython3",
   "version": "3.8.18"
  }
 },
 "nbformat": 4,
 "nbformat_minor": 5
}
