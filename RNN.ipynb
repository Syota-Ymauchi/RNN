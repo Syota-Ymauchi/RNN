{
 "cells": [
  {
   "cell_type": "markdown",
   "id": "ff791260-91a8-41ca-be71-d2a9a23812c2",
   "metadata": {},
   "source": [
    "# RNN"
   ]
  },
  {
   "cell_type": "code",
   "execution_count": 225,
   "id": "91f9e55d-7e01-4da8-a1aa-c76e58d48d46",
   "metadata": {},
   "outputs": [],
   "source": [
    "from torch import nn\n",
    "from torch.nn import functional as F\n",
    "import math\n",
    "import torch"
   ]
  },
  {
   "cell_type": "markdown",
   "id": "46aad919-274e-4540-9d3d-1e0b3a06e5ea",
   "metadata": {},
   "source": [
    "### RNNのスクラッチ実装"
   ]
  },
  {
   "cell_type": "markdown",
   "id": "b2563fb2-c8e2-4c64-92d9-9be10f2c7f97",
   "metadata": {},
   "source": [
    "##### • 入力層の次元数と，隠れ層の次元数を引数にとる\n",
    "##### • 入力層と隠れ層の重みとバイアスをパラメータとして保持\n",
    "##### • 初期値は に従う確率分布からランダムサンプル\n",
    "##### • forwardメソッドに順伝搬を行う処理を記述\n",
    "##### • input: [batch_size, seq_len, input_size]およびh_0:[1, batch_size, hidden_size]を引数にする\n",
    "##### • 全stepの隠れ状態[batch_size, seq_len, hidden_size]および最後の\n",
    "##### stepの隠れ状態[1, batch_size, hidden_size]を戻り値として返す\n",
    "##### • 出力層は実装不要\n",
    "##### • forwardメソッドの出力をnn.Linearに入力し最終的な予測値を計算する想定"
   ]
  },
  {
   "cell_type": "code",
   "execution_count": 237,
   "id": "e9fc2012-405a-4e78-bcf9-dcfaa470374f",
   "metadata": {},
   "outputs": [],
   "source": [
    "class MyRNN:\n",
    "    def __init__(self, input_size, hidden_size):\n",
    "        self.hidden_size = hidden_size\n",
    "        init_range = 1.0 / math.sqrt(hidden_size)\n",
    "        self.W_in = torch.empty(hidden_size, input_size).uniform_(-init_range, init_range)\n",
    "        self.W_h = torch.empty(hidden_size, hidden_size).uniform_(-init_range, init_range)\n",
    "        \n",
    "        self.b_in = torch.empty(hidden_size).uniform_(-init_range, init_range)\n",
    "        self.b_h = torch.empty(hidden_size).uniform_(-init_range, init_range)\n",
    "\n",
    "    def forward(self, input, h_0=None):\n",
    "        # input: [batch_size, seq_len, input_size]\n",
    "        batch_size, seq_len, _ = input.size()\n",
    "        h_0 = h_0\n",
    "        \n",
    "        if h_0 is None:\n",
    "            h_0 = torch.zeros(1, batch_size, self.hidden_size)#.to(device)\n",
    "\n",
    "        outputs = []\n",
    "        h = h_0 # [1, batch_size, hidden_size]\n",
    "        for i in range(seq_len):\n",
    "            # input[:, i] : [batch_size, input_size]\n",
    "            h = torch.tanh(input[:, i] @ self.W_in.T + self.b_in + h.squeeze(0) @ self.W_h.T + self.b_h) # [batch_size, hidden_size] :\n",
    "            \n",
    "            outputs.append(h.unsqueeze(1)) # h : [batch_size, hidden_size] -> [batch_size, 1, hidden_size] \n",
    "        output_seq = torch.cat(outputs, dim=1) # h : [batch_size, seq_len, hidden_size] # 各単語相当の値を全て返すための処理\n",
    "        h_n = h.unsqueeze(0) # [batch_size, hidden_size] -> [1, batch_size, hidden_size] # RNNの出力\n",
    "\n",
    "        return output_seq, h_n"
   ]
  },
  {
   "cell_type": "markdown",
   "id": "6ca5d5ea-444c-4e47-896f-852af243c63e",
   "metadata": {},
   "source": [
    "#### 補足"
   ]
  },
  {
   "cell_type": "code",
   "execution_count": 238,
   "id": "bbc6db50-0fce-4ec8-a305-ee56a4d3908f",
   "metadata": {},
   "outputs": [
    {
     "data": {
      "text/plain": [
       "tensor([[-0.5507, -0.3276, -0.2726, -0.0728, -0.0731],\n",
       "        [ 0.5599,  0.5573, -0.0765,  0.3836,  0.4200],\n",
       "        [-0.1853, -0.3739,  0.0751, -0.2020,  0.4832]])"
      ]
     },
     "execution_count": 238,
     "metadata": {},
     "output_type": "execute_result"
    }
   ],
   "source": [
    "# 一様分布\n",
    "hidden_size = 3\n",
    "input_size = 5\n",
    "W_in = torch.empty(hidden_size, input_size).uniform_()\n",
    "\n",
    "init_range = 1.0/math.sqrt(hidden_size)\n",
    "W_in.uniform_(-init_range, init_range)"
   ]
  },
  {
   "cell_type": "code",
   "execution_count": 239,
   "id": "b51cd41e-7292-4109-8585-5b119b4b3b2f",
   "metadata": {},
   "outputs": [
    {
     "data": {
      "text/plain": [
       "tensor([[[0., 0., 0.],\n",
       "         [0., 0., 0.],\n",
       "         [0., 0., 0.],\n",
       "         [0., 0., 0.],\n",
       "         [0., 0., 0.],\n",
       "         [0., 0., 0.],\n",
       "         [0., 0., 0.],\n",
       "         [0., 0., 0.]]])"
      ]
     },
     "execution_count": 239,
     "metadata": {},
     "output_type": "execute_result"
    }
   ],
   "source": [
    "# h_0の初期化\n",
    "batch_size = 8\n",
    "hidden_size = 3\n",
    "h_0 = torch.zeros(1, batch_size, hidden_size)\n",
    "h_0"
   ]
  },
  {
   "cell_type": "code",
   "execution_count": 240,
   "id": "84b6f7c3-f1ee-413c-81da-29787ae8e1ba",
   "metadata": {},
   "outputs": [
    {
     "name": "stdout",
     "output_type": "stream",
     "text": [
      "tensor([[[ 7.5992e-01, -7.1731e-01, -1.1518e+00,  1.3113e+00, -1.7666e+00],\n",
      "         [ 6.3005e-01,  3.0492e-01, -1.3523e+00,  2.9592e-01,  5.1149e-01],\n",
      "         [ 1.5216e+00, -1.7167e+00,  8.2104e-01,  5.2866e-01,  6.0376e-01]],\n",
      "\n",
      "        [[-1.3030e-01, -1.0487e+00,  1.2462e+00,  2.0516e-04,  1.1060e+00],\n",
      "         [ 5.7418e-01,  1.7675e+00,  5.5719e-01,  8.6913e-01,  1.0264e+00],\n",
      "         [ 5.9024e-02,  1.6412e+00,  2.1535e+00,  7.0747e-01,  1.0058e+00]]])\n",
      "\n",
      "tensor([ 0.7599, -0.1303])\n",
      "\n",
      "tensor([[ 7.5992e-01, -7.1731e-01, -1.1518e+00,  1.3113e+00, -1.7666e+00],\n",
      "        [-1.3030e-01, -1.0487e+00,  1.2462e+00,  2.0516e-04,  1.1060e+00]])\n"
     ]
    }
   ],
   "source": [
    "# 配列の確認\n",
    "a = torch.randn(2, 3, 5)\n",
    "print(a)\n",
    "print()\n",
    "print(a[:, 0, 0])\n",
    "print()\n",
    "print(a[:, 0])"
   ]
  },
  {
   "cell_type": "markdown",
   "id": "95af0ae4-dc91-4c2a-919e-15367e09aaca",
   "metadata": {},
   "source": [
    "### テスト"
   ]
  },
  {
   "cell_type": "code",
   "execution_count": 241,
   "id": "7375b2f7-57a8-4b9c-a485-1102aa20103d",
   "metadata": {},
   "outputs": [
    {
     "name": "stdout",
     "output_type": "stream",
     "text": [
      "torch.Size([8, 5, 3]) torch.Size([1, 8, 3])\n"
     ]
    }
   ],
   "source": [
    "input_size = 10\n",
    "hidden_size = 3\n",
    "batch_size = 8\n",
    "seq_len = 5\n",
    "\n",
    "input_tensor = torch.randn(batch_size, seq_len, input_size)\n",
    "rnn = MyRNN(input_size, hidden_size)\n",
    "output_seq, h_n  = rnn.forward(input_tensor) \n",
    "print(output_seq.shape, h_n.shape)"
   ]
  },
  {
   "cell_type": "markdown",
   "id": "9bc49ac0-4d8c-4305-9ac9-5ddee3506864",
   "metadata": {},
   "source": [
    "### MyRNNモデル"
   ]
  },
  {
   "cell_type": "code",
   "execution_count": 242,
   "id": "377cfb03-5f14-4953-9349-09252f68dcaf",
   "metadata": {},
   "outputs": [],
   "source": [
    "class MyRNNModel():\n",
    "    def __init__(self, input_size, hidden_size, output_size):\n",
    "        self.rnn = MyRNN(input_size, hidden_size) \n",
    "        self.fc = nn.Linear(hidden_size, output_size)\n",
    "\n",
    "    def forward(self, x):\n",
    "        output_seq, h_n = self.rnn.forward(x) # [1, b, h_size]\n",
    "        out = self.fc(h_n.squeeze(0)) # [b, out]\n",
    "        return out"
   ]
  },
  {
   "cell_type": "code",
   "execution_count": 243,
   "id": "e403d007-9ee1-435b-8eed-6df85b6d4a66",
   "metadata": {},
   "outputs": [
    {
     "data": {
      "text/plain": [
       "torch.Size([8, 2])"
      ]
     },
     "execution_count": 243,
     "metadata": {},
     "output_type": "execute_result"
    }
   ],
   "source": [
    "output_size = 2\n",
    "model = MyRNNModel(input_size, hidden_size, output_size)\n",
    "out = model.forward(input_tensor)\n",
    "out.shape"
   ]
  },
  {
   "cell_type": "markdown",
   "id": "2334ce75-3efb-473f-a543-20c4de1c1e50",
   "metadata": {},
   "source": [
    "### nn.RNN "
   ]
  },
  {
   "cell_type": "code",
   "execution_count": 244,
   "id": "929652d3-7100-441f-8b77-38c0f7edd83d",
   "metadata": {},
   "outputs": [],
   "source": [
    "class RNNModel(nn.Module):\n",
    "    def __init__(self, input_size, hidden_size, output_size):\n",
    "        super().__init__()\n",
    "        self.rnn = nn.RNN(input_size, hidden_size, batch_first=True) \n",
    "        self.fc = nn.Linear(hidden_size, output_size)\n",
    "\n",
    "    def forward(self, x):\n",
    "        # output_seq : [batch_size, seq_len, hidden_size]\n",
    "        # h_n :  [1, b, h_size]\n",
    "        # out : [b, out]\n",
    "        output_seq, h_n = self.rnn(x) \n",
    "        # out = self.fc(h_n.squeeze(0)) \n",
    "        out = self.fc(output_seq[:, -1, :]) # [batch_size, 1, hidden_size]\n",
    "        # NER (many to many)\n",
    "        # out = self.fc(output_seq)\n",
    "        return out"
   ]
  },
  {
   "cell_type": "code",
   "execution_count": 245,
   "id": "d413642e-e351-48e6-812b-dfe04a662c78",
   "metadata": {},
   "outputs": [
    {
     "data": {
      "text/plain": [
       "torch.Size([8, 2])"
      ]
     },
     "execution_count": 245,
     "metadata": {},
     "output_type": "execute_result"
    }
   ],
   "source": [
    "output_size = 2\n",
    "model = RNNModel(input_size, hidden_size, output_size)\n",
    "out = model(input_tensor)\n",
    "out.shape"
   ]
  },
  {
   "cell_type": "code",
   "execution_count": 246,
   "id": "79bcb4bf-fd23-4dbc-922b-bde859a50d43",
   "metadata": {},
   "outputs": [
    {
     "data": {
      "text/plain": [
       "torch.Size([8, 2])"
      ]
     },
     "execution_count": 246,
     "metadata": {},
     "output_type": "execute_result"
    }
   ],
   "source": [
    "input_size = 10\n",
    "hidden_size = 3\n",
    "batch_size = 8\n",
    "seq_len = 5\n",
    "model = RNNModel(input_size, hidden_size, output_size)\n",
    "out = model(input_tensor)\n",
    "out.size()"
   ]
  },
  {
   "cell_type": "code",
   "execution_count": 247,
   "id": "b9c698a1-b441-4b12-a869-8096b20fa2ba",
   "metadata": {},
   "outputs": [
    {
     "name": "stdout",
     "output_type": "stream",
     "text": [
      "rnn.weight_ih_l0: torch.Size([3, 10])\n",
      "rnn.weight_hh_l0: torch.Size([3, 3])\n",
      "rnn.bias_ih_l0: torch.Size([3])\n",
      "rnn.bias_hh_l0: torch.Size([3])\n",
      "fc.weight: torch.Size([2, 3])\n",
      "fc.bias: torch.Size([2])\n"
     ]
    }
   ],
   "source": [
    "for name, param in model.named_parameters():\n",
    "    print(f\"{name}: {param.size()}\")"
   ]
  },
  {
   "cell_type": "markdown",
   "id": "5982ddee-9391-46cb-8551-08621fcfe1b4",
   "metadata": {},
   "source": [
    "#### ↑ nn.Linear は最後の次元に対してのみ作用。つまり、入力テンソルの形状のうち、第1軸（0から数えると第2軸）には何も作用しない"
   ]
  },
  {
   "cell_type": "markdown",
   "id": "e9227375-30c5-4229-88d2-6b6a154d15d1",
   "metadata": {},
   "source": [
    "### RNN baack propagation"
   ]
  },
  {
   "cell_type": "code",
   "execution_count": 248,
   "id": "757db618-8f8c-431b-989d-55c107a22680",
   "metadata": {},
   "outputs": [],
   "source": [
    "class MyRNN:\n",
    "    def __init__(self, input_size, hidden_size):\n",
    "        self.hidden_size = hidden_size\n",
    "        init_range = 1.0 / math.sqrt(hidden_size)\n",
    "        self.W_in = torch.empty(hidden_size, input_size).uniform_(-init_range, init_range).clone().requires_grad_(True)\n",
    "        self.W_h = torch.empty(hidden_size, hidden_size).uniform_(-init_range, init_range).clone().requires_grad_(True)\n",
    "        \n",
    "        self.b_in = torch.empty(hidden_size).uniform_(-init_range, init_range).clone().requires_grad_(True)\n",
    "        self.b_h = torch.empty(hidden_size).uniform_(-init_range, init_range).clone().requires_grad_(True)\n",
    "\n",
    "    def forward(self, input, h_0=None):\n",
    "        # input: [batch_size, seq_len, input_size\n",
    "        self.input = input\n",
    "        batch_size, self.seq_len, _ = input.size()\n",
    "        self.h_0 = h_0\n",
    "        \n",
    "        if h_0 is None:\n",
    "            self.h_0 = torch.zeros(1, batch_size, self.hidden_size)#.to(device)\n",
    "\n",
    "        outputs = []\n",
    "        h = self.h_0 # [1, batch_size, hidden_size]\n",
    "        for i in range(seq_len):\n",
    "            # input[:, i] : [batch_size, input_size]\n",
    "            h = torch.tanh(input[:, i] @ self.W_in.T + self.b_in + h.squeeze(0) @ self.W_h.T + self.b_h) # [batch_size, hidden_size] :\n",
    "            \n",
    "            outputs.append(h.unsqueeze(1)) # h : [batch_size, hidden_size] -> [batch_size, 1, hidden_size] \n",
    "        self.output_seq = torch.cat(outputs, dim=1) # h : [batch_size, seq_len, hidden_size] # 各単語相当の値を全て返すための処理\n",
    "        h_n = h.unsqueeze(0) # [batch_size, hidden_size] -> [1, batch_size, hidden_size] # RNNの出力\n",
    "\n",
    "        return self.output_seq, h_n\n",
    "\n",
    "    def backward(self, out_grad):\n",
    "        self.grad_W_in_list = []\n",
    "        self.grad_W_h_list = []\n",
    "        self.grad_b_in_list = []\n",
    "        self.grad_b_h_list = []\n",
    "\n",
    "        self.grad_h_list = []\n",
    "        self.grad_h_tanh_list = []\n",
    "   \n",
    "        # 勾配の初期化\n",
    "        grad_W_in = torch.zeros_like(self.W_in)\n",
    "        grad_W_h = torch.zeros_like(self.W_h)\n",
    "        grad_b_in = torch.zeros_like(self.b_in)\n",
    "        grad_b_h = torch.zeros_like(self.b_h)\n",
    "        grad_h = torch.zeros_like(self.h_0)\n",
    "\n",
    "        \n",
    "        # 各ステップの隠れ状態の初期化\n",
    "        grad_output_seq = torch.zeros_like(self.output_seq) #[b, seq_len, hidden_size]\n",
    "        grad_output_seq[:, -1, :] = out_grad\n",
    "\n",
    "        \n",
    "        # 各ステップにおける勾配を計算\n",
    "        for i in reversed(range(self.seq_len)):\n",
    "\n",
    "            # tanhの微分 (dh*(1-dh^2))\n",
    "            grad_h_tanh = grad_output_seq[:, i] * (1 - self.output_seq[:, i].pow(2))\n",
    "            grad_W_in += torch.sum(grad_h_tanh.unsqueeze(2) * self.input[:, i].unsqueeze(1), dim=0)  # バッチの合計を取る\n",
    "            grad_b_in += torch.sum(grad_h_tanh, dim=0)\n",
    "            grad_h = grad_h_tanh @ self.W_h\n",
    "            grad_b_h += torch.sum(grad_h_tanh, dim=0)\n",
    "            \n",
    "            \n",
    "            \n",
    "\n",
    "            if i !=0 :\n",
    "                # self.output_seqを使って計算\n",
    "                grad_output_seq[:, i-1] = grad_h\n",
    "                grad_W_h += torch.sum(grad_h_tanh.unsqueeze(2) * self.output_seq[:, i-1].squeeze(0).unsqueeze(1), dim=0) \n",
    "                \n",
    "            else:\n",
    "                # h_0を使って計算\n",
    "                grad_W_h += torch.sum(grad_h_tanh.unsqueeze(2) * self.h_0.squeeze(0).unsqueeze(1), dim=0) \n",
    "               \n",
    "               \n",
    "               \n",
    "    \n",
    "            # 勾配を保存\n",
    "            # テンソルのバックアップ: ある処理を行う前のテンソルの状態を保存しておきたい場合に、clone()を使ってバックアップを作成する\n",
    "            self.grad_W_in_list.append(grad_W_in.clone())\n",
    "            self.grad_W_h_list.append(grad_W_h.clone())\n",
    "            self.grad_b_in_list.append(grad_b_in.clone())\n",
    "            self.grad_b_h_list.append(grad_b_h.clone())\n",
    "            self.grad_h_list.append(grad_h.clone())\n",
    "            self.grad_h_tanh_list.append(grad_h_tanh.clone())\n",
    "\n",
    "\n",
    "class MyRNNModel():\n",
    "    def __init__(self, input_size, hidden_size, output_size):\n",
    "        self.rnn = MyRNN(input_size, hidden_size) \n",
    "        self.fc = nn.Linear(hidden_size, output_size)\n",
    "\n",
    "    def forward(self, x):\n",
    "        self.output_seq, self.h_n = self.rnn.forward(x) # [1, b, h_size]\n",
    "        out = self.fc(self.h_n.squeeze(0)) # [b, out]\n",
    "        return out"
   ]
  },
  {
   "cell_type": "markdown",
   "id": "ee14f4d2-8140-407f-b4db-20c52ebec3c3",
   "metadata": {},
   "source": [
    "### テスト"
   ]
  },
  {
   "cell_type": "code",
   "execution_count": 249,
   "id": "f15ba72d-ce0d-428a-b956-d7c6660f8a9e",
   "metadata": {},
   "outputs": [],
   "source": [
    "input_size = 3\n",
    "hidden_size = 2\n",
    "batch_size = 1\n",
    "seq_len = 5\n",
    "output_size = 2 \n",
    "\n",
    "# 正解ラベルの定義\n",
    "target = torch.tensor([0])\n",
    "\n",
    "input_tensor = torch.randn(batch_size, seq_len, input_size)\n",
    "# モデルのインスタンス作成\n",
    "model = MyRNNModel(input_size, hidden_size, output_size)\n",
    "\n",
    "# forward\n",
    "output = model.forward(input_tensor)\n",
    "\n",
    "\n",
    "\n",
    "# 損失関数\n",
    "criterion = nn.CrossEntropyLoss()\n",
    "\n",
    "\n",
    "loss = criterion(output, target)\n",
    "# 出力層の勾配計算\n",
    "out_grad = torch.autograd.grad(loss, model.h_n, retain_graph=True)[0]\n",
    "# スクラッチのbackward\n",
    "model.rnn.backward(out_grad)\n",
    "\n",
    "# autograd\n",
    "loss.backward()\n"
   ]
  },
  {
   "cell_type": "code",
   "execution_count": 250,
   "id": "9a9fbd97-765b-47f4-8c61-66d7f15578a5",
   "metadata": {},
   "outputs": [
    {
     "data": {
      "text/plain": [
       "tensor([[-0.0065,  0.0967, -0.0774],\n",
       "        [-0.0359, -0.0586,  0.0447]], grad_fn=<CloneBackward0>)"
      ]
     },
     "execution_count": 250,
     "metadata": {},
     "output_type": "execute_result"
    }
   ],
   "source": [
    "model.rnn.grad_W_in_list[-1]"
   ]
  },
  {
   "cell_type": "code",
   "execution_count": 251,
   "id": "080b9219-34f2-435c-958a-9b6c64835229",
   "metadata": {},
   "outputs": [
    {
     "data": {
      "text/plain": [
       "tensor([[-0.0065,  0.0967, -0.0774],\n",
       "        [-0.0359, -0.0586,  0.0447]])"
      ]
     },
     "execution_count": 251,
     "metadata": {},
     "output_type": "execute_result"
    }
   ],
   "source": [
    "model.rnn.W_in.grad"
   ]
  },
  {
   "cell_type": "markdown",
   "id": "68e9876c-75da-4ac3-bd70-0bb0621d48d4",
   "metadata": {},
   "source": [
    "#### 補足"
   ]
  },
  {
   "cell_type": "code",
   "execution_count": 224,
   "id": "e3573bb8-1eb4-4c24-82ff-05831981e81a",
   "metadata": {},
   "outputs": [
    {
     "name": "stdout",
     "output_type": "stream",
     "text": [
      "4\n",
      "3\n",
      "2\n",
      "1\n",
      "0\n",
      "tensor([[1, 2],\n",
      "        [3, 4],\n",
      "        [5, 6]])\n",
      "tensor([[1, 2, 3],\n",
      "        [4, 5, 6],\n",
      "        [7, 8, 9]])\n",
      "[tensor([[1, 2, 3],\n",
      "        [2, 4, 6]]), tensor([[12, 15, 18],\n",
      "        [16, 20, 24]]), tensor([[35, 40, 45],\n",
      "        [42, 48, 54]])]\n",
      "tensor([[[ 1,  2,  3],\n",
      "         [ 2,  4,  6]],\n",
      "\n",
      "        [[12, 15, 18],\n",
      "         [16, 20, 24]],\n",
      "\n",
      "        [[35, 40, 45],\n",
      "         [42, 48, 54]]])\n"
     ]
    }
   ],
   "source": [
    "# reversed(range()) \n",
    "for i in reversed(range(5)):\n",
    "    print(i)\n",
    "\n",
    "# 外積の計算\n",
    "a = torch.tensor([[1, 2], [3, 4], [5, 6]])\n",
    "b = torch.tensor([[1, 2, 3], [4, 5, 6], [7, 8, 9]])\n",
    "\n",
    "print(a)\n",
    "\n",
    "print(b)\n",
    "\n",
    "outer_product_list = [torch.ger(a_row, b_row) for a_row, b_row in zip(a, b)] \n",
    "\n",
    "print(outer_product_list )\n",
    "\n",
    "print(a.unsqueeze(2) * b.unsqueeze(1))"
   ]
  }
 ],
 "metadata": {
  "kernelspec": {
   "display_name": "Python 3 (ipykernel)",
   "language": "python",
   "name": "python3"
  },
  "language_info": {
   "codemirror_mode": {
    "name": "ipython",
    "version": 3
   },
   "file_extension": ".py",
   "mimetype": "text/x-python",
   "name": "python",
   "nbconvert_exporter": "python",
   "pygments_lexer": "ipython3",
   "version": "3.8.18"
  }
 },
 "nbformat": 4,
 "nbformat_minor": 5
}
