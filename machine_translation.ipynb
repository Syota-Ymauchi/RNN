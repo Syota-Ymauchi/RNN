{
  "nbformat": 4,
  "nbformat_minor": 0,
  "metadata": {
    "colab": {
      "provenance": [],
      "gpuType": "T4"
    },
    "kernelspec": {
      "name": "python3",
      "display_name": "Python 3"
    },
    "language_info": {
      "name": "python"
    },
    "accelerator": "GPU"
  },
  "cells": [
    {
      "cell_type": "markdown",
      "source": [
        "# Machine Translation"
      ],
      "metadata": {
        "id": "MvI6yJTCHjRv"
      }
    },
    {
      "cell_type": "code",
      "source": [
        "!pip install portalocker # データセットを使用可能にする"
      ],
      "metadata": {
        "colab": {
          "base_uri": "https://localhost:8080/"
        },
        "id": "mgtri8LnPO9A",
        "outputId": "1042bb2a-03c8-48b3-89e1-928aad915588"
      },
      "execution_count": 10,
      "outputs": [
        {
          "output_type": "stream",
          "name": "stdout",
          "text": [
            "Requirement already satisfied: portalocker in /usr/local/lib/python3.10/dist-packages (2.10.1)\n"
          ]
        }
      ]
    },
    {
      "cell_type": "code",
      "execution_count": 11,
      "metadata": {
        "colab": {
          "base_uri": "https://localhost:8080/"
        },
        "collapsed": true,
        "id": "ynNhFnZ5O5wH",
        "outputId": "02598fe8-a493-4621-a24b-71db6344b8c0"
      },
      "outputs": [
        {
          "output_type": "stream",
          "name": "stdout",
          "text": [
            "Requirement already satisfied: torchtext==0.16 in /usr/local/lib/python3.10/dist-packages (0.16.0)\n",
            "Requirement already satisfied: tqdm in /usr/local/lib/python3.10/dist-packages (from torchtext==0.16) (4.66.5)\n",
            "Requirement already satisfied: requests in /usr/local/lib/python3.10/dist-packages (from torchtext==0.16) (2.32.3)\n",
            "Requirement already satisfied: torch==2.1.0 in /usr/local/lib/python3.10/dist-packages (from torchtext==0.16) (2.1.0)\n",
            "Requirement already satisfied: numpy in /usr/local/lib/python3.10/dist-packages (from torchtext==0.16) (1.26.4)\n",
            "Requirement already satisfied: torchdata==0.7.0 in /usr/local/lib/python3.10/dist-packages (from torchtext==0.16) (0.7.0)\n",
            "Requirement already satisfied: filelock in /usr/local/lib/python3.10/dist-packages (from torch==2.1.0->torchtext==0.16) (3.16.1)\n",
            "Requirement already satisfied: typing-extensions in /usr/local/lib/python3.10/dist-packages (from torch==2.1.0->torchtext==0.16) (4.12.2)\n",
            "Requirement already satisfied: sympy in /usr/local/lib/python3.10/dist-packages (from torch==2.1.0->torchtext==0.16) (1.13.3)\n",
            "Requirement already satisfied: networkx in /usr/local/lib/python3.10/dist-packages (from torch==2.1.0->torchtext==0.16) (3.3)\n",
            "Requirement already satisfied: jinja2 in /usr/local/lib/python3.10/dist-packages (from torch==2.1.0->torchtext==0.16) (3.1.4)\n",
            "Requirement already satisfied: fsspec in /usr/local/lib/python3.10/dist-packages (from torch==2.1.0->torchtext==0.16) (2024.6.1)\n",
            "Requirement already satisfied: nvidia-cuda-nvrtc-cu12==12.1.105 in /usr/local/lib/python3.10/dist-packages (from torch==2.1.0->torchtext==0.16) (12.1.105)\n",
            "Requirement already satisfied: nvidia-cuda-runtime-cu12==12.1.105 in /usr/local/lib/python3.10/dist-packages (from torch==2.1.0->torchtext==0.16) (12.1.105)\n",
            "Requirement already satisfied: nvidia-cuda-cupti-cu12==12.1.105 in /usr/local/lib/python3.10/dist-packages (from torch==2.1.0->torchtext==0.16) (12.1.105)\n",
            "Requirement already satisfied: nvidia-cudnn-cu12==8.9.2.26 in /usr/local/lib/python3.10/dist-packages (from torch==2.1.0->torchtext==0.16) (8.9.2.26)\n",
            "Requirement already satisfied: nvidia-cublas-cu12==12.1.3.1 in /usr/local/lib/python3.10/dist-packages (from torch==2.1.0->torchtext==0.16) (12.1.3.1)\n",
            "Requirement already satisfied: nvidia-cufft-cu12==11.0.2.54 in /usr/local/lib/python3.10/dist-packages (from torch==2.1.0->torchtext==0.16) (11.0.2.54)\n",
            "Requirement already satisfied: nvidia-curand-cu12==10.3.2.106 in /usr/local/lib/python3.10/dist-packages (from torch==2.1.0->torchtext==0.16) (10.3.2.106)\n",
            "Requirement already satisfied: nvidia-cusolver-cu12==11.4.5.107 in /usr/local/lib/python3.10/dist-packages (from torch==2.1.0->torchtext==0.16) (11.4.5.107)\n",
            "Requirement already satisfied: nvidia-cusparse-cu12==12.1.0.106 in /usr/local/lib/python3.10/dist-packages (from torch==2.1.0->torchtext==0.16) (12.1.0.106)\n",
            "Requirement already satisfied: nvidia-nccl-cu12==2.18.1 in /usr/local/lib/python3.10/dist-packages (from torch==2.1.0->torchtext==0.16) (2.18.1)\n",
            "Requirement already satisfied: nvidia-nvtx-cu12==12.1.105 in /usr/local/lib/python3.10/dist-packages (from torch==2.1.0->torchtext==0.16) (12.1.105)\n",
            "Requirement already satisfied: triton==2.1.0 in /usr/local/lib/python3.10/dist-packages (from torch==2.1.0->torchtext==0.16) (2.1.0)\n",
            "Requirement already satisfied: urllib3>=1.25 in /usr/local/lib/python3.10/dist-packages (from torchdata==0.7.0->torchtext==0.16) (2.2.3)\n",
            "Requirement already satisfied: nvidia-nvjitlink-cu12 in /usr/local/lib/python3.10/dist-packages (from nvidia-cusolver-cu12==11.4.5.107->torch==2.1.0->torchtext==0.16) (12.6.68)\n",
            "Requirement already satisfied: charset-normalizer<4,>=2 in /usr/local/lib/python3.10/dist-packages (from requests->torchtext==0.16) (3.3.2)\n",
            "Requirement already satisfied: idna<4,>=2.5 in /usr/local/lib/python3.10/dist-packages (from requests->torchtext==0.16) (3.10)\n",
            "Requirement already satisfied: certifi>=2017.4.17 in /usr/local/lib/python3.10/dist-packages (from requests->torchtext==0.16) (2024.8.30)\n",
            "Requirement already satisfied: MarkupSafe>=2.0 in /usr/local/lib/python3.10/dist-packages (from jinja2->torch==2.1.0->torchtext==0.16) (2.1.5)\n",
            "Requirement already satisfied: mpmath<1.4,>=1.1.0 in /usr/local/lib/python3.10/dist-packages (from sympy->torch==2.1.0->torchtext==0.16) (1.3.0)\n"
          ]
        }
      ],
      "source": [
        "# バージョン0.16ならうまくいったので\n",
        "! pip install torchtext==0.16"
      ]
    },
    {
      "cell_type": "code",
      "source": [
        "!python -m spacy download de_core_news_sm"
      ],
      "metadata": {
        "colab": {
          "base_uri": "https://localhost:8080/"
        },
        "id": "cd5WaprzXspS",
        "outputId": "0415d173-5e49-48d1-97a7-c0280fc8a410"
      },
      "execution_count": 12,
      "outputs": [
        {
          "output_type": "stream",
          "name": "stdout",
          "text": [
            "Collecting de-core-news-sm==3.7.0\n",
            "  Downloading https://github.com/explosion/spacy-models/releases/download/de_core_news_sm-3.7.0/de_core_news_sm-3.7.0-py3-none-any.whl (14.6 MB)\n",
            "\u001b[2K     \u001b[90m━━━━━━━━━━━━━━━━━━━━━━━━━━━━━━━━━━━━━━━━\u001b[0m \u001b[32m14.6/14.6 MB\u001b[0m \u001b[31m58.4 MB/s\u001b[0m eta \u001b[36m0:00:00\u001b[0m\n",
            "\u001b[?25hRequirement already satisfied: spacy<3.8.0,>=3.7.0 in /usr/local/lib/python3.10/dist-packages (from de-core-news-sm==3.7.0) (3.7.5)\n",
            "Requirement already satisfied: spacy-legacy<3.1.0,>=3.0.11 in /usr/local/lib/python3.10/dist-packages (from spacy<3.8.0,>=3.7.0->de-core-news-sm==3.7.0) (3.0.12)\n",
            "Requirement already satisfied: spacy-loggers<2.0.0,>=1.0.0 in /usr/local/lib/python3.10/dist-packages (from spacy<3.8.0,>=3.7.0->de-core-news-sm==3.7.0) (1.0.5)\n",
            "Requirement already satisfied: murmurhash<1.1.0,>=0.28.0 in /usr/local/lib/python3.10/dist-packages (from spacy<3.8.0,>=3.7.0->de-core-news-sm==3.7.0) (1.0.10)\n",
            "Requirement already satisfied: cymem<2.1.0,>=2.0.2 in /usr/local/lib/python3.10/dist-packages (from spacy<3.8.0,>=3.7.0->de-core-news-sm==3.7.0) (2.0.8)\n",
            "Requirement already satisfied: preshed<3.1.0,>=3.0.2 in /usr/local/lib/python3.10/dist-packages (from spacy<3.8.0,>=3.7.0->de-core-news-sm==3.7.0) (3.0.9)\n",
            "Requirement already satisfied: thinc<8.3.0,>=8.2.2 in /usr/local/lib/python3.10/dist-packages (from spacy<3.8.0,>=3.7.0->de-core-news-sm==3.7.0) (8.2.5)\n",
            "Requirement already satisfied: wasabi<1.2.0,>=0.9.1 in /usr/local/lib/python3.10/dist-packages (from spacy<3.8.0,>=3.7.0->de-core-news-sm==3.7.0) (1.1.3)\n",
            "Requirement already satisfied: srsly<3.0.0,>=2.4.3 in /usr/local/lib/python3.10/dist-packages (from spacy<3.8.0,>=3.7.0->de-core-news-sm==3.7.0) (2.4.8)\n",
            "Requirement already satisfied: catalogue<2.1.0,>=2.0.6 in /usr/local/lib/python3.10/dist-packages (from spacy<3.8.0,>=3.7.0->de-core-news-sm==3.7.0) (2.0.10)\n",
            "Requirement already satisfied: weasel<0.5.0,>=0.1.0 in /usr/local/lib/python3.10/dist-packages (from spacy<3.8.0,>=3.7.0->de-core-news-sm==3.7.0) (0.4.1)\n",
            "Requirement already satisfied: typer<1.0.0,>=0.3.0 in /usr/local/lib/python3.10/dist-packages (from spacy<3.8.0,>=3.7.0->de-core-news-sm==3.7.0) (0.12.5)\n",
            "Requirement already satisfied: tqdm<5.0.0,>=4.38.0 in /usr/local/lib/python3.10/dist-packages (from spacy<3.8.0,>=3.7.0->de-core-news-sm==3.7.0) (4.66.5)\n",
            "Requirement already satisfied: requests<3.0.0,>=2.13.0 in /usr/local/lib/python3.10/dist-packages (from spacy<3.8.0,>=3.7.0->de-core-news-sm==3.7.0) (2.32.3)\n",
            "Requirement already satisfied: pydantic!=1.8,!=1.8.1,<3.0.0,>=1.7.4 in /usr/local/lib/python3.10/dist-packages (from spacy<3.8.0,>=3.7.0->de-core-news-sm==3.7.0) (2.9.2)\n",
            "Requirement already satisfied: jinja2 in /usr/local/lib/python3.10/dist-packages (from spacy<3.8.0,>=3.7.0->de-core-news-sm==3.7.0) (3.1.4)\n",
            "Requirement already satisfied: setuptools in /usr/local/lib/python3.10/dist-packages (from spacy<3.8.0,>=3.7.0->de-core-news-sm==3.7.0) (71.0.4)\n",
            "Requirement already satisfied: packaging>=20.0 in /usr/local/lib/python3.10/dist-packages (from spacy<3.8.0,>=3.7.0->de-core-news-sm==3.7.0) (24.1)\n",
            "Requirement already satisfied: langcodes<4.0.0,>=3.2.0 in /usr/local/lib/python3.10/dist-packages (from spacy<3.8.0,>=3.7.0->de-core-news-sm==3.7.0) (3.4.1)\n",
            "Requirement already satisfied: numpy>=1.19.0 in /usr/local/lib/python3.10/dist-packages (from spacy<3.8.0,>=3.7.0->de-core-news-sm==3.7.0) (1.26.4)\n",
            "Requirement already satisfied: language-data>=1.2 in /usr/local/lib/python3.10/dist-packages (from langcodes<4.0.0,>=3.2.0->spacy<3.8.0,>=3.7.0->de-core-news-sm==3.7.0) (1.2.0)\n",
            "Requirement already satisfied: annotated-types>=0.6.0 in /usr/local/lib/python3.10/dist-packages (from pydantic!=1.8,!=1.8.1,<3.0.0,>=1.7.4->spacy<3.8.0,>=3.7.0->de-core-news-sm==3.7.0) (0.7.0)\n",
            "Requirement already satisfied: pydantic-core==2.23.4 in /usr/local/lib/python3.10/dist-packages (from pydantic!=1.8,!=1.8.1,<3.0.0,>=1.7.4->spacy<3.8.0,>=3.7.0->de-core-news-sm==3.7.0) (2.23.4)\n",
            "Requirement already satisfied: typing-extensions>=4.6.1 in /usr/local/lib/python3.10/dist-packages (from pydantic!=1.8,!=1.8.1,<3.0.0,>=1.7.4->spacy<3.8.0,>=3.7.0->de-core-news-sm==3.7.0) (4.12.2)\n",
            "Requirement already satisfied: charset-normalizer<4,>=2 in /usr/local/lib/python3.10/dist-packages (from requests<3.0.0,>=2.13.0->spacy<3.8.0,>=3.7.0->de-core-news-sm==3.7.0) (3.3.2)\n",
            "Requirement already satisfied: idna<4,>=2.5 in /usr/local/lib/python3.10/dist-packages (from requests<3.0.0,>=2.13.0->spacy<3.8.0,>=3.7.0->de-core-news-sm==3.7.0) (3.10)\n",
            "Requirement already satisfied: urllib3<3,>=1.21.1 in /usr/local/lib/python3.10/dist-packages (from requests<3.0.0,>=2.13.0->spacy<3.8.0,>=3.7.0->de-core-news-sm==3.7.0) (2.2.3)\n",
            "Requirement already satisfied: certifi>=2017.4.17 in /usr/local/lib/python3.10/dist-packages (from requests<3.0.0,>=2.13.0->spacy<3.8.0,>=3.7.0->de-core-news-sm==3.7.0) (2024.8.30)\n",
            "Requirement already satisfied: blis<0.8.0,>=0.7.8 in /usr/local/lib/python3.10/dist-packages (from thinc<8.3.0,>=8.2.2->spacy<3.8.0,>=3.7.0->de-core-news-sm==3.7.0) (0.7.11)\n",
            "Requirement already satisfied: confection<1.0.0,>=0.0.1 in /usr/local/lib/python3.10/dist-packages (from thinc<8.3.0,>=8.2.2->spacy<3.8.0,>=3.7.0->de-core-news-sm==3.7.0) (0.1.5)\n",
            "Requirement already satisfied: click>=8.0.0 in /usr/local/lib/python3.10/dist-packages (from typer<1.0.0,>=0.3.0->spacy<3.8.0,>=3.7.0->de-core-news-sm==3.7.0) (8.1.7)\n",
            "Requirement already satisfied: shellingham>=1.3.0 in /usr/local/lib/python3.10/dist-packages (from typer<1.0.0,>=0.3.0->spacy<3.8.0,>=3.7.0->de-core-news-sm==3.7.0) (1.5.4)\n",
            "Requirement already satisfied: rich>=10.11.0 in /usr/local/lib/python3.10/dist-packages (from typer<1.0.0,>=0.3.0->spacy<3.8.0,>=3.7.0->de-core-news-sm==3.7.0) (13.8.1)\n",
            "Requirement already satisfied: cloudpathlib<1.0.0,>=0.7.0 in /usr/local/lib/python3.10/dist-packages (from weasel<0.5.0,>=0.1.0->spacy<3.8.0,>=3.7.0->de-core-news-sm==3.7.0) (0.19.0)\n",
            "Requirement already satisfied: smart-open<8.0.0,>=5.2.1 in /usr/local/lib/python3.10/dist-packages (from weasel<0.5.0,>=0.1.0->spacy<3.8.0,>=3.7.0->de-core-news-sm==3.7.0) (7.0.4)\n",
            "Requirement already satisfied: MarkupSafe>=2.0 in /usr/local/lib/python3.10/dist-packages (from jinja2->spacy<3.8.0,>=3.7.0->de-core-news-sm==3.7.0) (2.1.5)\n",
            "Requirement already satisfied: marisa-trie>=0.7.7 in /usr/local/lib/python3.10/dist-packages (from language-data>=1.2->langcodes<4.0.0,>=3.2.0->spacy<3.8.0,>=3.7.0->de-core-news-sm==3.7.0) (1.2.0)\n",
            "Requirement already satisfied: markdown-it-py>=2.2.0 in /usr/local/lib/python3.10/dist-packages (from rich>=10.11.0->typer<1.0.0,>=0.3.0->spacy<3.8.0,>=3.7.0->de-core-news-sm==3.7.0) (3.0.0)\n",
            "Requirement already satisfied: pygments<3.0.0,>=2.13.0 in /usr/local/lib/python3.10/dist-packages (from rich>=10.11.0->typer<1.0.0,>=0.3.0->spacy<3.8.0,>=3.7.0->de-core-news-sm==3.7.0) (2.18.0)\n",
            "Requirement already satisfied: wrapt in /usr/local/lib/python3.10/dist-packages (from smart-open<8.0.0,>=5.2.1->weasel<0.5.0,>=0.1.0->spacy<3.8.0,>=3.7.0->de-core-news-sm==3.7.0) (1.16.0)\n",
            "Requirement already satisfied: mdurl~=0.1 in /usr/local/lib/python3.10/dist-packages (from markdown-it-py>=2.2.0->rich>=10.11.0->typer<1.0.0,>=0.3.0->spacy<3.8.0,>=3.7.0->de-core-news-sm==3.7.0) (0.1.2)\n",
            "Installing collected packages: de-core-news-sm\n",
            "Successfully installed de-core-news-sm-3.7.0\n",
            "\u001b[38;5;2m✔ Download and installation successful\u001b[0m\n",
            "You can now load the package via spacy.load('de_core_news_sm')\n",
            "\u001b[38;5;3m⚠ Restart to reload dependencies\u001b[0m\n",
            "If you are in a Jupyter or Colab notebook, you may need to restart Python in\n",
            "order to load all the package's dependencies. You can do this by selecting the\n",
            "'Restart kernel' or 'Restart runtime' option.\n"
          ]
        }
      ]
    },
    {
      "cell_type": "markdown",
      "source": [
        "### データ準備"
      ],
      "metadata": {
        "id": "pKUTnVOKPHZm"
      }
    },
    {
      "cell_type": "code",
      "source": [
        "import time\n",
        "from tqdm import tqdm\n",
        "\n",
        "import matplotlib.pyplot as plt\n",
        "import random\n",
        "from sklearn.model_selection import train_test_split\n",
        "import torch\n",
        "from torch import nn, optim\n",
        "from torch.nn.utils.rnn import pad_sequence\n",
        "from torch.utils.data import DataLoader\n",
        "from torchtext.datasets import Multi30k # 機械翻訳用のデータセット\n",
        "from torchtext.data.utils import get_tokenizer # token 作成\n",
        "from torchtext.vocab import build_vocab_from_iterator # 辞書作成"
      ],
      "metadata": {
        "id": "o0nq22lTPbYa"
      },
      "execution_count": 1,
      "outputs": []
    },
    {
      "cell_type": "code",
      "source": [
        "# データのロード\n",
        "data = Multi30k(split='train', language_pair=('de', 'en')) # dataを返すジェネレーター\n",
        "data = list(data)"
      ],
      "metadata": {
        "id": "TgaquLiUPltO"
      },
      "execution_count": 2,
      "outputs": []
    },
    {
      "cell_type": "code",
      "source": [
        "# データの分割\n",
        "train_data, remaining = train_test_split(data, train_size=0.1, random_state=0)\n",
        "_, val_data = train_test_split(remaining, test_size=0.2, random_state=0)"
      ],
      "metadata": {
        "id": "WfuOGfdIP9-L"
      },
      "execution_count": 3,
      "outputs": []
    },
    {
      "cell_type": "code",
      "source": [
        "print(len(train_data), len(val_data))"
      ],
      "metadata": {
        "colab": {
          "base_uri": "https://localhost:8080/"
        },
        "id": "3159NXvfSlZB",
        "outputId": "bfd74ef7-8d06-4cd1-fa6f-7a3d03087afa"
      },
      "execution_count": 4,
      "outputs": [
        {
          "output_type": "stream",
          "name": "stdout",
          "text": [
            "2900 5221\n"
          ]
        }
      ]
    },
    {
      "cell_type": "code",
      "source": [
        "# tokenizer\n",
        "# tokenizerは一つのオブジェクトにするのが良い\n",
        "token_transform = {}\n",
        "\n",
        "# enやdeもよく使う文字列となるので変数にする\n",
        "# 大文字で定義する変数 -> コンスタンツ　: 定義した後に変更されない(pythonでは出来ないが読み手に伝えることは出来る)\n",
        "SRC_LANGUAGE = 'de'\n",
        "TGT_LANGUAGE = 'en'\n",
        "\n",
        "# tokenizerのオブジェクト化\n",
        "for ln in [SRC_LANGUAGE, TGT_LANGUAGE]:\n",
        "    token_transform[ln] = get_tokenizer('spacy', language=ln)"
      ],
      "metadata": {
        "colab": {
          "base_uri": "https://localhost:8080/"
        },
        "id": "5Y7OBYK-TZ6F",
        "outputId": "989c011f-3db9-4860-dadd-1f98ab9a833f"
      },
      "execution_count": 5,
      "outputs": [
        {
          "output_type": "stream",
          "name": "stderr",
          "text": [
            "/usr/local/lib/python3.10/dist-packages/torchtext/data/utils.py:105: UserWarning: Spacy model \"de\" could not be loaded, trying \"de_core_news_sm\" instead\n",
            "  warnings.warn(\n",
            "/usr/local/lib/python3.10/dist-packages/torchtext/data/utils.py:105: UserWarning: Spacy model \"en\" could not be loaded, trying \"en_core_web_sm\" instead\n",
            "  warnings.warn(\n"
          ]
        }
      ]
    },
    {
      "cell_type": "code",
      "source": [
        "token_transform[SRC_LANGUAGE]('ich lerne Deutsch')"
      ],
      "metadata": {
        "colab": {
          "base_uri": "https://localhost:8080/"
        },
        "id": "kxpekfFfYlIO",
        "outputId": "2993fa30-bade-4c61-f338-7475fc123bd9"
      },
      "execution_count": 6,
      "outputs": [
        {
          "output_type": "execute_result",
          "data": {
            "text/plain": [
              "['ich', 'lerne', 'Deutsch']"
            ]
          },
          "metadata": {},
          "execution_count": 6
        }
      ]
    },
    {
      "cell_type": "code",
      "source": [
        "token_transform[TGT_LANGUAGE]('I have a pen')"
      ],
      "metadata": {
        "colab": {
          "base_uri": "https://localhost:8080/"
        },
        "id": "2BRZmGO4YAXm",
        "outputId": "a3aa47ba-73d7-4756-9d45-06852c683322"
      },
      "execution_count": 7,
      "outputs": [
        {
          "output_type": "execute_result",
          "data": {
            "text/plain": [
              "['I', 'have', 'a', 'pen']"
            ]
          },
          "metadata": {},
          "execution_count": 7
        }
      ]
    },
    {
      "cell_type": "markdown",
      "source": [
        "### 辞書作成"
      ],
      "metadata": {
        "id": "9rgbAGvuMY2P"
      }
    },
    {
      "cell_type": "code",
      "source": [
        "\n",
        "def yield_tokens(data_iter, language):\n",
        "    language_index = {SRC_LANGUAGE: 0, TGT_LANGUAGE : 1}\n",
        "    for data_sample in data_iter:\n",
        "        yield token_transform[language](data_sample[language_index[language]])\n",
        "\n",
        "specials=['<unk>', '<pad>', '<bos>', '<eos>']\n",
        "# これも一つのオブジェクトにまとめる\n",
        "vocab_transform = {}\n",
        "for ln in [SRC_LANGUAGE, TGT_LANGUAGE]:\n",
        "    vocab_transform[ln] = build_vocab_from_iterator(yield_tokens(data, ln), specials=specials)\n",
        "    # 今回は全ての単語で辞書を作っているのでunknownはない想定\n",
        "    vocab_transform[ln].set_default_index(vocab_transform[ln]['<unk>'])\n"
      ],
      "metadata": {
        "id": "SYFi17Q1Yugs"
      },
      "execution_count": 8,
      "outputs": []
    },
    {
      "cell_type": "code",
      "source": [
        "vocab_transform['en']['cat']"
      ],
      "metadata": {
        "colab": {
          "base_uri": "https://localhost:8080/"
        },
        "id": "B8rKW7TNKDWJ",
        "outputId": "2032d579-3ec6-42d2-9b45-4b54f60d5d59"
      },
      "execution_count": 9,
      "outputs": [
        {
          "output_type": "execute_result",
          "data": {
            "text/plain": [
              "813"
            ]
          },
          "metadata": {},
          "execution_count": 9
        }
      ]
    },
    {
      "cell_type": "code",
      "source": [
        "# ### tokenizerの定義と辞書作成を一つに\n",
        "\n",
        "# def yield_tokens(data_iter, language):\n",
        "#     language_index = {SRC_LANGUAGE: 0, TGT_LANGUAGE : 1}\n",
        "#     for data_sample in data_iter:\n",
        "#         yield token_transform[language](data_sample[language_index[language]])\n",
        "\n",
        "# token_transform = {}\n",
        "# vocab_transform = {}\n",
        "# SRC_LANGUAGE = 'de'\n",
        "# TGT_LANGUAGE = 'en'\n",
        "# specials=['<unk>', '<pad>', '<bos>', 'eos']\n",
        "\n",
        "\n",
        "# # tokenizer、辞書のオブジェクト化\n",
        "# for ln in [SRC_LANGUAGE, TGT_LANGUAGE]:\n",
        "#     token_transform[ln] = get_tokenizer('spacy', language=ln)\n",
        "#     vocab_transform[ln] = build_vocab_from_iterator(yield_tokens(data, ln), specials=specials)\n",
        "#     vocab_transform[ln].set_default_index(vocab_transform[ln]['<unk>'])\n"
      ],
      "metadata": {
        "id": "dJHUCyQaKtu1"
      },
      "execution_count": 10,
      "outputs": []
    },
    {
      "cell_type": "markdown",
      "source": [
        "### 符号化の課程"
      ],
      "metadata": {
        "id": "UTXzx4zJN_zh"
      }
    },
    {
      "cell_type": "code",
      "source": [
        "# 1. token化\n",
        "print(token_transform[TGT_LANGUAGE](train_data[0][1]))\n",
        "# 2. 符号化\n",
        "print([vocab_transform[TGT_LANGUAGE][token] for token in token_transform[TGT_LANGUAGE](train_data[0][1])])\n",
        "# 3. tensor化\n",
        "print(torch.tensor([vocab_transform[TGT_LANGUAGE][token] for token in token_transform[TGT_LANGUAGE](train_data[0][1])]))"
      ],
      "metadata": {
        "colab": {
          "base_uri": "https://localhost:8080/"
        },
        "id": "B2n6ug6wQMAe",
        "outputId": "9cf71c90-b621-479d-efbd-8dea1f9e8514"
      },
      "execution_count": 11,
      "outputs": [
        {
          "output_type": "stream",
          "name": "stdout",
          "text": [
            "['Two', 'people', 'are', 'walking', 'on', 'a', 'striped', 'path', '.']\n",
            "[19, 22, 17, 42, 9, 4, 198, 297, 5]\n",
            "tensor([ 19,  22,  17,  42,   9,   4, 198, 297,   5])\n"
          ]
        }
      ]
    },
    {
      "cell_type": "code",
      "source": [
        "def data_preprocess(data_iter):\n",
        "    data = []\n",
        "    for (src, tgt) in data_iter:\n",
        "        src_tensor = torch.tensor([vocab_transform[SRC_LANGUAGE][token] for token in token_transform[SRC_LANGUAGE](src)])\n",
        "        tgt_tensor = torch.tensor([vocab_transform[TGT_LANGUAGE][token] for token in token_transform[TGT_LANGUAGE](tgt)])\n",
        "        data.append((src_tensor, tgt_tensor))\n",
        "    return data\n"
      ],
      "metadata": {
        "id": "x6HhqI11Q31Z"
      },
      "execution_count": 12,
      "outputs": []
    },
    {
      "cell_type": "code",
      "source": [
        "train_data_tensor = data_preprocess(train_data)\n",
        "val_data_tensor = data_preprocess(val_data)"
      ],
      "metadata": {
        "id": "s8t0WFD3Sj9N"
      },
      "execution_count": 13,
      "outputs": []
    },
    {
      "cell_type": "code",
      "source": [
        "train_data_tensor[0:3]"
      ],
      "metadata": {
        "colab": {
          "base_uri": "https://localhost:8080/"
        },
        "id": "8besDUHnSxV5",
        "outputId": "aa6037e3-97e3-46fa-d489-29db9fa1d12f"
      },
      "execution_count": 14,
      "outputs": [
        {
          "output_type": "execute_result",
          "data": {
            "text/plain": [
              "[(tensor([ 21,  42,  77,  11,   6, 259, 237,   4]),\n",
              "  tensor([ 19,  22,  17,  42,   9,   4, 198, 297,   5])),\n",
              " (tensor([   5,   12,   70,   11,   13, 3256,   15,  428,   10,   26,  189,    4]),\n",
              "  tensor([   6,   12,    9,    4, 1347, 1226,  173,    4,  267,  328,    5])),\n",
              " (tensor([    5,    12,    10,  2012,    70, 13529]),\n",
              "  tensor([   6,   12,  581, 1066,   14,   27,  570,  359,    9,    5]))]"
            ]
          },
          "metadata": {},
          "execution_count": 14
        }
      ]
    },
    {
      "cell_type": "markdown",
      "source": [
        "### padding、DataLoader作成"
      ],
      "metadata": {
        "id": "PMD4nUkyTPBo"
      }
    },
    {
      "cell_type": "code",
      "source": [
        "def collate_fn(batch):\n",
        "    src_batch = []\n",
        "    tgt_batch = []\n",
        "    for src, tgt in batch:\n",
        "\n",
        "        src_batch.append(torch.cat([torch.tensor([vocab_transform[SRC_LANGUAGE][\"<bos>\"]]),\n",
        "                                    src,\n",
        "                                    torch.tensor([vocab_transform[SRC_LANGUAGE][\"<eos>\"]])], dim=0))\n",
        "\n",
        "        tgt_batch.append(torch.cat([torch.tensor([vocab_transform[TGT_LANGUAGE][\"<bos>\"]]),\n",
        "                                    tgt,\n",
        "                                    torch.tensor([vocab_transform[TGT_LANGUAGE][\"<eos>\"]])], dim=0))\n",
        "\n",
        "    src_batch = pad_sequence(src_batch, batch_first=True, padding_value=vocab_transform[SRC_LANGUAGE]['<pad>']) # vocab_transform['de']['<pad>'] : 1\n",
        "\n",
        "    tgt_batch = pad_sequence(tgt_batch, batch_first=True, padding_value=vocab_transform[TGT_LANGUAGE]['<pad>']) # vocab_transform['en']['<pad>'] : 1\n",
        "    return src_batch, tgt_batch\n",
        "\n",
        "train_loader = DataLoader(train_data_tensor, batch_size=16, collate_fn=collate_fn, shuffle=True)\n",
        "val_loader = DataLoader(val_data_tensor, batch_size=16, collate_fn=collate_fn, shuffle=False)\n"
      ],
      "metadata": {
        "id": "B10h8R7uUOvu"
      },
      "execution_count": 15,
      "outputs": []
    },
    {
      "cell_type": "code",
      "source": [
        "src, tgt = next(iter(train_loader))\n",
        "print(src.shape)\n",
        "print(tgt.shape)"
      ],
      "metadata": {
        "colab": {
          "base_uri": "https://localhost:8080/"
        },
        "id": "YSnjLKJSVNJY",
        "outputId": "b0084e52-cb98-4a7e-a861-ccb7321c55d0"
      },
      "execution_count": 16,
      "outputs": [
        {
          "output_type": "stream",
          "name": "stdout",
          "text": [
            "torch.Size([16, 20])\n",
            "torch.Size([16, 21])\n"
          ]
        }
      ]
    },
    {
      "cell_type": "code",
      "source": [
        "torch.tensor([vocab_transform[SRC_LANGUAGE][\"<eos>\"]])"
      ],
      "metadata": {
        "colab": {
          "base_uri": "https://localhost:8080/"
        },
        "id": "YkxSE6wwVdsR",
        "outputId": "965b9f6f-2e3b-4dbc-f655-a6916c71393f"
      },
      "execution_count": 17,
      "outputs": [
        {
          "output_type": "execute_result",
          "data": {
            "text/plain": [
              "tensor([3])"
            ]
          },
          "metadata": {},
          "execution_count": 17
        }
      ]
    },
    {
      "cell_type": "code",
      "source": [
        "torch.tensor([vocab_transform[TGT_LANGUAGE][\"<bos>\"]])"
      ],
      "metadata": {
        "colab": {
          "base_uri": "https://localhost:8080/"
        },
        "id": "yEBZ_sEKV-0_",
        "outputId": "0a018634-4837-4938-fcc1-647cba623d2c"
      },
      "execution_count": 18,
      "outputs": [
        {
          "output_type": "execute_result",
          "data": {
            "text/plain": [
              "tensor([2])"
            ]
          },
          "metadata": {},
          "execution_count": 18
        }
      ]
    },
    {
      "cell_type": "markdown",
      "source": [
        "### モデル構築"
      ],
      "metadata": {
        "id": "OAMS6snYRANh"
      }
    },
    {
      "cell_type": "code",
      "source": [
        "class Model(nn.Module):\n",
        "    def __init__(self, vocab_size, embedding_dim, hidden_size, output_size, embedding_matrix=None, num_layers=1, rnn_type='LSTM', bidirectional=False):\n",
        "        super().__init__()\n",
        "        self.num_directional = 2 if bidirectional else 1\n",
        "\n",
        "        # emdedding layer\n",
        "        if embedding_matrix is not None:\n",
        "            self.embedding = nn.Embedding.from_pretrained(embedding_matrix, freeze=False)\n",
        "        else:\n",
        "            self.embedding = nn.Embedding(vocab_size, embedding_dim)\n",
        "\n",
        "        input_size = embedding_dim\n",
        "\n",
        "        # rnn typeを選択する処理\n",
        "        if rnn_type == 'RNN':\n",
        "            self.rnn = nn.RNN(input_size, hidden_size, num_layers=num_layers, batch_first=True, bidirectional=bidirectional)\n",
        "        elif rnn_type == 'LSTM':\n",
        "            self.rnn = nn.LSTM(input_size, hidden_size, num_layers=num_layers, batch_first=True, bidirectional=bidirectional)\n",
        "        elif rnn_type == 'GRU':\n",
        "            self.rnn = nn.GRU(input_size, hidden_size, num_layers=num_layers, batch_first=True, bidirectional=bidirectional)\n",
        "        else:\n",
        "            raise ValueError('Unsupported RNN type. Choose from [\"LSTM\", \"RNN\", \"GRU\"]')\n",
        "\n",
        "        self.fc = nn.Linear(hidden_size*self.num_directional, output_size)"
      ],
      "metadata": {
        "id": "8CN-onbJckxw"
      },
      "execution_count": 19,
      "outputs": []
    },
    {
      "cell_type": "code",
      "source": [
        "# encoderとdecoder作成\n",
        "class Encoder(Model):\n",
        "    def __init__(self, vocab_size, embedding_dim, hidden_size, num_layers):\n",
        "        super().__init__(vocab_size, embedding_dim, hidden_size, hidden_size, num_layers=num_layers, rnn_type='LSTM', bidirectional=False)\n",
        "\n",
        "    def forward(self, src):\n",
        "        embedded = self.embedding(src)\n",
        "        output_seq, (hidden, cell) = self.rnn(embedded)\n",
        "        return hidden, cell\n"
      ],
      "metadata": {
        "id": "EpHWU2XMAW-i"
      },
      "execution_count": 20,
      "outputs": []
    },
    {
      "cell_type": "code",
      "source": [
        "# decoder\n",
        "\n",
        "class Decoder(Model):\n",
        "    def __init__(self, vocab_size, embedding_dim, hidden_size, num_layers=1):\n",
        "\n",
        "        \"\"\"\n",
        "        vocab_size : ターゲット(今回では英語のvocab_size)\n",
        "        embedding_dim : vocab_sizeを何次元に圧縮するか\n",
        "        hidden_size : 隠れ層の次元\n",
        "        num_layers : Deep RNN に対応 多くて3くらい デフォルトで1\n",
        "\n",
        "        bidirectionalはFalseにする(decoderでは使えない)\n",
        "        \"\"\"\n",
        "        super().__init__(vocab_size, embedding_dim, hidden_size, vocab_size, num_layers=num_layers, rnn_type='LSTM', bidirectional=False)\n",
        "        self.output_size = vocab_size\n",
        "\n",
        "    def forward(self, input, hidden, cell):\n",
        "\n",
        "        \"\"\"\n",
        "        input :  前の層の予測 [batch_size,] インデックスになっている\n",
        "        hidden : 前の層の隠れ状態\n",
        "        cell : 前の層のcellの状態\n",
        "        順伝播を行う。1文字を処理をしてある文字がどの文字なのかを予測するlogitsの値が入っているoutputsを返す。\n",
        "        vocab_sizeクラスの分類といえる?\n",
        "        \"\"\"\n",
        "        input = input.unsqueeze(1) # [batch_size,] => [batch_size, 1]\n",
        "        embedded = self.embedding(input)  # embedded : [batch_size, 1, embedding_dim]\n",
        "        output_seq, (hidden, cell) = self.rnn(embedded, (hidden, cell))\n",
        "\n",
        "        # output_seq : [batch_size, 1, hidden_size]\n",
        "        # hidden : [num_layers * 1, batch_size, hidden_size]\n",
        "        # cell : [num_layers * 1, batch_size, hidden_size]\n",
        "\n",
        "        prediction = self.fc(output_seq.squeeze(1)) # prediction : [batch_size, vocab_size]\n",
        "\n",
        "        return prediction, hidden, cell\n",
        "\n"
      ],
      "metadata": {
        "id": "GA3DjBj2HbPO"
      },
      "execution_count": 21,
      "outputs": []
    },
    {
      "cell_type": "code",
      "source": [
        "# seq2seq\n",
        "\n",
        "class Seq2Seq(nn.Module):\n",
        "    def __init__(self, encoder, decoder, device):\n",
        "\n",
        "        \"\"\"\n",
        "        encoder : エンコーダ\n",
        "        decoder : デコーダー\n",
        "        \"\"\"\n",
        "        super().__init__()\n",
        "        self.device = device\n",
        "        self.encoder = encoder\n",
        "        self.decoder = decoder\n",
        "\n",
        "    def forward(self, src, tgt, teacher_forcing=0.5):\n",
        "        \"\"\"\n",
        "        src : [batch_size, vocab_size]\n",
        "        tgt : [batch_size, ]\n",
        "        teacher_forcing : teacher forcingをする閾値を確率で設定する　大きい程teacher forcingしやすい\n",
        "        \"\"\"\n",
        "        batch_size = tgt.shape[0]\n",
        "        tgt_len = tgt.shape[1]\n",
        "        tgt_vocab_size = self.decoder.output_size\n",
        "\n",
        "        # encoderのforward\n",
        "        hidden, cell = self.encoder(src)\n",
        "\n",
        "\n",
        "        # decoderのforward\n",
        "        outputs = torch.zeros((batch_size, tgt_len, tgt_vocab_size)).to(self.device)\n",
        "        input = tgt[:, 0] # <bos>\n",
        "        for t in range(1, tgt_len):\n",
        "            output, hidden, cell = self.decoder(input, hidden, cell)\n",
        "            # output : [batch_size, vocab_size]\n",
        "            outputs[:, t] = output\n",
        "            teacher_force = random.random() < teacher_forcing\n",
        "            top1 = output.argmax(1) # greedy sarch\n",
        "            input = tgt[:, t] if teacher_force else top1\n",
        "\n",
        "        return outputs"
      ],
      "metadata": {
        "id": "gi_QEd_LMuO4"
      },
      "execution_count": 22,
      "outputs": []
    },
    {
      "cell_type": "markdown",
      "source": [
        "### 学習ループ"
      ],
      "metadata": {
        "id": "WnuVFAgumNe7"
      }
    },
    {
      "cell_type": "code",
      "source": [
        "def train(model, train_loader, val_loader, optimizer, criterion, num_epochs,  model_save_path=None):\n",
        "\n",
        "    # ログ\n",
        "    train_losses = []\n",
        "    val_losses = []\n",
        "\n",
        "    best_val_loss = float('inf')\n",
        "\n",
        "\n",
        "    # deviceの設定\n",
        "    device = torch.device('cuda' if torch.cuda.is_available() else 'cpu')\n",
        "    model.to(device)\n",
        "\n",
        "\n",
        "    for epoch in range(num_epochs):\n",
        "        model.train()\n",
        "        running_loss = 0.0\n",
        "        running_val_loss = 0.0\n",
        "        total_correct = 0\n",
        "\n",
        "        # training\n",
        "        for i, (src, tgt) in tqdm(enumerate(train_loader), desc='now training', total=len(train_loader), leave=False):\n",
        "            src = src.to(device)\n",
        "            # import pdb; pdb.set_trace()\n",
        "            tgt = tgt.to(device)\n",
        "            optimizer.zero_grad()\n",
        "\n",
        "            outputs = model(src, tgt) # [batch_size, tgt_len, tgt_vocab_en]\n",
        "            output_size = outputs.shape[-1]\n",
        "\n",
        "            outputs = outputs[:,1:].reshape(-1, output_size)# [batch_size * tgtq_len, tgt_vocab_en] outputs[:,0]は<bos>なので無視\n",
        "            tgt = tgt[:,1:].reshape(-1) # [batch_size, src_seq_len] -> [batch_size * src_seq_len]\n",
        "            loss = criterion(outputs, tgt)\n",
        "            loss.backward()\n",
        "            running_loss += loss.item()\n",
        "            optimizer.step()\n",
        "        train_losses.append(running_loss / len(train_loader))\n",
        "\n",
        "        # validation\n",
        "        # 評価用\n",
        "\n",
        "        total_num = 0\n",
        "        total_correct = 0\n",
        "\n",
        "        for i, (src, tgt) in tqdm(enumerate(val_loader), desc='valdation', total=len(val_loader), leave=False):\n",
        "\n",
        "            model.eval()\n",
        "            with torch.no_grad():\n",
        "\n",
        "                src = src.to(device)\n",
        "                tgt = tgt.to(device)\n",
        "                outputs = model(src, tgt, teacher_forcing=0) # [batch_size, seq_len, tgt_vocab_len], teacher_forcingなし\n",
        "\n",
        "                tgt = tgt[:,1:].reshape(-1) # [batch_size, src_seq_len] -> [batch_size * src_seq_len]\n",
        "\n",
        "                output_size = outputs.shape[-1]\n",
        "\n",
        "                outputs = outputs[:,1:].reshape(-1, output_size) # [batch_size * seq_len, tgt_vocab_en]\n",
        "\n",
        "                loss = criterion(outputs, tgt)\n",
        "                running_val_loss += loss.item()\n",
        "\n",
        "\n",
        "\n",
        "        val_losses.append(running_val_loss / len(val_loader))\n",
        "\n",
        "\n",
        "\n",
        "\n",
        "        print(f\"epoch={epoch}  train_losse={train_losses[-1]:.4f} val_loss={val_losses[-1]:.4f}\")\n",
        "\n",
        "\n",
        "        # モデル保存\n",
        "        if best_val_loss > val_losses[-1]:\n",
        "            best_val_loss = val_losses[-1]\n",
        "            torch.save(model.state_dict(), f'{model_save_path}/seq2seq_{epoch}' )\n",
        "            print(f'Model saved with validation loss: {best_val_loss:.4f}')\n",
        "\n",
        "\n",
        "    return train_losses, val_losses"
      ],
      "metadata": {
        "id": "igy-QP2M4B9h"
      },
      "execution_count": 23,
      "outputs": []
    },
    {
      "cell_type": "code",
      "source": [
        "# deviceの設定\n",
        "device = torch.device('cuda' if torch.cuda.is_available() else 'cpu')\n",
        "\n",
        "# vocab size\n",
        "tgt_vocab_size = len(vocab_transform[TGT_LANGUAGE])\n",
        "src_vocab_size = len(vocab_transform[SRC_LANGUAGE])\n",
        "\n",
        "embedding_dim = 300\n",
        "hidden_size = 512\n",
        "num_layers = 2\n",
        "\n",
        "num_epochs = 20\n",
        "\n",
        "\n",
        "\n",
        "# encoder,decoder\n",
        "enc = Encoder(src_vocab_size, embedding_dim, hidden_size=hidden_size, num_layers=num_layers)\n",
        "dec = Decoder(tgt_vocab_size ,embedding_dim, hidden_size, num_layers)\n",
        "\n",
        "# seq2seq\n",
        "model = Seq2Seq(enc, dec, device)\n",
        "\n",
        "# 損失関数とoptimizer\n",
        "learning_rate = 0.001\n",
        "opt = optim.Adam(model.parameters(), lr=learning_rate)\n",
        "criterion = nn.CrossEntropyLoss(ignore_index=vocab_transform[TGT_LANGUAGE]['<pad>'])"
      ],
      "metadata": {
        "id": "m12zQDZ94IcU"
      },
      "execution_count": 24,
      "outputs": []
    },
    {
      "cell_type": "code",
      "source": [
        "# colabの準備\n",
        "from google.colab import drive\n",
        "drive_path = '/content/drive'\n",
        "drive.mount(drive_path)\n",
        "import sys\n",
        "now_path = drive_path + \"/MyDrive/深層学習/RNN\"\n",
        "sys.path.append(now_path)\n",
        "\n",
        "model_save_path = f'{now_path}/machine_translation_models'"
      ],
      "metadata": {
        "colab": {
          "base_uri": "https://localhost:8080/"
        },
        "id": "5_Wwzlq49O-E",
        "outputId": "59099ab4-c538-46ca-dce0-90aa66334bfc"
      },
      "execution_count": 25,
      "outputs": [
        {
          "output_type": "stream",
          "name": "stdout",
          "text": [
            "Mounted at /content/drive\n"
          ]
        }
      ]
    },
    {
      "cell_type": "code",
      "source": [
        "train_losses, val_losses = train(model, train_loader, val_loader, opt, criterion, num_epochs, model_save_path = model_save_path)"
      ],
      "metadata": {
        "colab": {
          "base_uri": "https://localhost:8080/"
        },
        "id": "RBm-MBbby47c",
        "outputId": "54b898bd-8dd0-4abb-90e2-747a97d87219"
      },
      "execution_count": 26,
      "outputs": [
        {
          "output_type": "stream",
          "name": "stderr",
          "text": []
        },
        {
          "output_type": "stream",
          "name": "stdout",
          "text": [
            "epoch=0  train_losse=5.4504 val_loss=5.1271\n",
            "Model saved with validation loss: 5.1271\n"
          ]
        },
        {
          "output_type": "stream",
          "name": "stderr",
          "text": []
        },
        {
          "output_type": "stream",
          "name": "stdout",
          "text": [
            "epoch=1  train_losse=4.7562 val_loss=5.1479\n"
          ]
        },
        {
          "output_type": "stream",
          "name": "stderr",
          "text": []
        },
        {
          "output_type": "stream",
          "name": "stdout",
          "text": [
            "epoch=2  train_losse=4.5140 val_loss=5.0668\n",
            "Model saved with validation loss: 5.0668\n"
          ]
        },
        {
          "output_type": "stream",
          "name": "stderr",
          "text": []
        },
        {
          "output_type": "stream",
          "name": "stdout",
          "text": [
            "epoch=3  train_losse=4.3028 val_loss=4.9975\n",
            "Model saved with validation loss: 4.9975\n"
          ]
        },
        {
          "output_type": "stream",
          "name": "stderr",
          "text": []
        },
        {
          "output_type": "stream",
          "name": "stdout",
          "text": [
            "epoch=4  train_losse=4.1192 val_loss=5.0219\n"
          ]
        },
        {
          "output_type": "stream",
          "name": "stderr",
          "text": []
        },
        {
          "output_type": "stream",
          "name": "stdout",
          "text": [
            "epoch=5  train_losse=3.9588 val_loss=4.9471\n",
            "Model saved with validation loss: 4.9471\n"
          ]
        },
        {
          "output_type": "stream",
          "name": "stderr",
          "text": []
        },
        {
          "output_type": "stream",
          "name": "stdout",
          "text": [
            "epoch=6  train_losse=3.8082 val_loss=4.9037\n",
            "Model saved with validation loss: 4.9037\n"
          ]
        },
        {
          "output_type": "stream",
          "name": "stderr",
          "text": []
        },
        {
          "output_type": "stream",
          "name": "stdout",
          "text": [
            "epoch=7  train_losse=3.6644 val_loss=4.9100\n"
          ]
        },
        {
          "output_type": "stream",
          "name": "stderr",
          "text": []
        },
        {
          "output_type": "stream",
          "name": "stdout",
          "text": [
            "epoch=8  train_losse=3.5135 val_loss=4.9568\n"
          ]
        },
        {
          "output_type": "stream",
          "name": "stderr",
          "text": []
        },
        {
          "output_type": "stream",
          "name": "stdout",
          "text": [
            "epoch=9  train_losse=3.3865 val_loss=4.9345\n"
          ]
        },
        {
          "output_type": "stream",
          "name": "stderr",
          "text": []
        },
        {
          "output_type": "stream",
          "name": "stdout",
          "text": [
            "epoch=10  train_losse=3.2505 val_loss=4.9369\n"
          ]
        },
        {
          "output_type": "stream",
          "name": "stderr",
          "text": []
        },
        {
          "output_type": "stream",
          "name": "stdout",
          "text": [
            "epoch=11  train_losse=3.1026 val_loss=5.0761\n"
          ]
        },
        {
          "output_type": "stream",
          "name": "stderr",
          "text": []
        },
        {
          "output_type": "stream",
          "name": "stdout",
          "text": [
            "epoch=12  train_losse=2.9572 val_loss=5.1114\n"
          ]
        },
        {
          "output_type": "stream",
          "name": "stderr",
          "text": []
        },
        {
          "output_type": "stream",
          "name": "stdout",
          "text": [
            "epoch=13  train_losse=2.8143 val_loss=5.1646\n"
          ]
        },
        {
          "output_type": "stream",
          "name": "stderr",
          "text": []
        },
        {
          "output_type": "stream",
          "name": "stdout",
          "text": [
            "epoch=14  train_losse=2.6762 val_loss=5.2087\n"
          ]
        },
        {
          "output_type": "stream",
          "name": "stderr",
          "text": []
        },
        {
          "output_type": "stream",
          "name": "stdout",
          "text": [
            "epoch=15  train_losse=2.5094 val_loss=5.2792\n"
          ]
        },
        {
          "output_type": "stream",
          "name": "stderr",
          "text": []
        },
        {
          "output_type": "stream",
          "name": "stdout",
          "text": [
            "epoch=16  train_losse=2.3464 val_loss=5.3741\n"
          ]
        },
        {
          "output_type": "stream",
          "name": "stderr",
          "text": []
        },
        {
          "output_type": "stream",
          "name": "stdout",
          "text": [
            "epoch=17  train_losse=2.1700 val_loss=5.4845\n"
          ]
        },
        {
          "output_type": "stream",
          "name": "stderr",
          "text": []
        },
        {
          "output_type": "stream",
          "name": "stdout",
          "text": [
            "epoch=18  train_losse=2.0154 val_loss=5.6069\n"
          ]
        },
        {
          "output_type": "stream",
          "name": "stderr",
          "text": [
            "                                                            "
          ]
        },
        {
          "output_type": "stream",
          "name": "stdout",
          "text": [
            "epoch=19  train_losse=1.8239 val_loss=5.6380\n"
          ]
        },
        {
          "output_type": "stream",
          "name": "stderr",
          "text": [
            "\r"
          ]
        }
      ]
    },
    {
      "cell_type": "code",
      "source": [
        "plt.plot(train_losses)\n",
        "plt.plot(val_losses)\n",
        "plt.show()"
      ],
      "metadata": {
        "colab": {
          "base_uri": "https://localhost:8080/",
          "height": 430
        },
        "id": "5Hh5jT1A-F_0",
        "outputId": "c02624df-5b53-4328-fa1b-90a4deb34377"
      },
      "execution_count": 27,
      "outputs": [
        {
          "output_type": "display_data",
          "data": {
            "text/plain": [
              "<Figure size 640x480 with 1 Axes>"
            ],
            "image/png": "[encoded data removed]"
          },
          "metadata": {}
        }
      ]
    },
    {
      "cell_type": "markdown",
      "source": [
        "### 推論コードを作る"
      ],
      "metadata": {
        "id": "khPvDurLKM6_"
      }
    },
    {
      "cell_type": "code",
      "source": [
        "enc = Encoder(src_vocab_size, embedding_dim, hidden_size, num_layers)\n",
        "dec = Decoder(tgt_vocab_size, embedding_dim, hidden_size, num_layers)\n",
        "device = torch.device('cuda' if torch.cuda.is_available() else 'cpu')\n",
        "model = Seq2Seq(enc, dec, device).to(device)"
      ],
      "metadata": {
        "id": "siRcuCVJ6XX7"
      },
      "execution_count": 28,
      "outputs": []
    },
    {
      "cell_type": "code",
      "source": [
        "model.load_state_dict(torch.load(f'{model_save_path}/seq2seq_7', map_location=torch.device(device)))"
      ],
      "metadata": {
        "colab": {
          "base_uri": "https://localhost:8080/"
        },
        "id": "bdcqoKKU7-Qt",
        "outputId": "e6ea2fa7-75b4-47ab-8629-af25acffc499"
      },
      "execution_count": 29,
      "outputs": [
        {
          "output_type": "execute_result",
          "data": {
            "text/plain": [
              "<All keys matched successfully>"
            ]
          },
          "metadata": {},
          "execution_count": 29
        }
      ]
    },
    {
      "cell_type": "code",
      "source": [
        "def translate_sentence(model, sentence, device, max_len=50):\n",
        "    max_len = max_len\n",
        "\n",
        "    sentence = sentence\n",
        "    # 1. tokenize\n",
        "    tokenized_sentence = token_transform[SRC_LANGUAGE](sentence)\n",
        "    # 2. 符号\n",
        "    numericalaized = [vocab_transform[SRC_LANGUAGE]['<bos>']]  \\\n",
        "                    + [vocab_transform[SRC_LANGUAGE][token] for token in tokenized_sentence] \\\n",
        "                    + [vocab_transform[SRC_LANGUAGE]['<eos>']]\n",
        "    # 3. Tnsor化\n",
        "    numericalaized = torch.LongTensor(numericalaized).unsqueeze(0).to(device)\n",
        "\n",
        "    # encoderのforward\n",
        "    hidden, cell = model.encoder(numericalaized)\n",
        "\n",
        "    # decoderへの最初の入力\n",
        "    input = torch.LongTensor([vocab_transform[TGT_LANGUAGE]['<bos>']]).to(device)\n",
        "\n",
        "    # Decoderのforwardで文章生成\n",
        "    translated_sentence = []\n",
        "    for _ in range(max_len):\n",
        "        output, hidden, cell = model.decoder(input, hidden, cell)\n",
        "        best_gess_index = output.argmax(1).item()\n",
        "        best_word = vocab_transform[TGT_LANGUAGE].lookup_token(best_gess_index)\n",
        "        translated_sentence.append(best_word)\n",
        "        if best_gess_index == vocab_transform[TGT_LANGUAGE]['<eos>']:\n",
        "            break\n",
        "        input = torch.LongTensor([best_gess_index]).to(device)\n",
        "    # ' '.join() はPythonの文字列メソッドで、リストやタプルに含まれる要素を一つの文字列として結合する際に使う\n",
        "    return ' '.join(translated_sentence)"
      ],
      "metadata": {
        "id": "x2xpNz5j8nAF"
      },
      "execution_count": 30,
      "outputs": []
    },
    {
      "cell_type": "code",
      "source": [
        "# A boat with several men on it is being pulled to the shore by a large team of horses.\n",
        "sentence = \"Ein Boot mit mehreren Männern darauf wird von einem großen Pferdegespann ans Ufer gezogen.\"\n",
        "translated_sentence = translate_sentence(model, sentence, device, 50)\n",
        "translated_sentence"
      ],
      "metadata": {
        "colab": {
          "base_uri": "https://localhost:8080/",
          "height": 36
        },
        "id": "3oJsXWbZ80R-",
        "outputId": "ffa97db9-48e8-4d9a-afd1-5953f433bdfc"
      },
      "execution_count": 31,
      "outputs": [
        {
          "output_type": "execute_result",
          "data": {
            "text/plain": [
              "'A couple is a a a a while a a to a . <eos>'"
            ],
            "application/vnd.google.colaboratory.intrinsic+json": {
              "type": "string"
            }
          },
          "metadata": {},
          "execution_count": 31
        }
      ]
    },
    {
      "cell_type": "markdown",
      "source": [
        "### ' '.join([要素が文字列のリスト])"
      ],
      "metadata": {
        "id": "rD1nm4CxJSHu"
      }
    },
    {
      "cell_type": "code",
      "source": [
        "words = ['I', 'love', 'PyTorch']\n",
        "sentence = ' 　　　　'.join(words)\n",
        "print(sentence)"
      ],
      "metadata": {
        "colab": {
          "base_uri": "https://localhost:8080/"
        },
        "id": "z6i3AwqMHSrW",
        "outputId": "2ea61c44-2452-4193-8d37-2dd2e691999b"
      },
      "execution_count": 32,
      "outputs": [
        {
          "output_type": "stream",
          "name": "stdout",
          "text": [
            "I 　　　　love 　　　　PyTorch\n"
          ]
        }
      ]
    },
    {
      "cell_type": "markdown",
      "source": [
        "### Beam_sarch"
      ],
      "metadata": {
        "id": "Uf8u4fTlJPbX"
      }
    },
    {
      "cell_type": "code",
      "source": [
        "def translate_sentence_beam_search(model, sentence, device, max_len=50, k=10, alpha=0.7):\n",
        "\n",
        "    # 1. tokenize\n",
        "    tokenized = token_transform[SRC_LANGUAGE](sentence)\n",
        "\n",
        "    # 2. 符号化,<bos>,<eos>を付ける\n",
        "    numericalized = [vocab_transform[SRC_LANGUAGE]['<bos>']] \\\n",
        "                + [vocab_transform[SRC_LANGUAGE][token] for token in tokenized] + \\\n",
        "                  [vocab_transform[SRC_LANGUAGE]['<eos>']]\n",
        "    # Tnsor化\n",
        "    numericalized = torch.LongTensor(numericalized).unsqueeze(0).to(device) #[1, tgt_len] -> [tgt_len]\n",
        "\n",
        "    # Encoderのforward\n",
        "    hidden, cell = model.encoder(numericalized)\n",
        "\n",
        "    # <bos> (最初のDecoderへの入力)]\n",
        "    input = torch.LongTensor([vocab_transform[SRC_LANGUAGE]['<bos>']]).to(device)\n",
        "\n",
        "\n",
        "    translated_sentence = []\n",
        "    beam = [(0, [vocab_transform[TGT_LANGUAGE]['<bos>']], hidden, cell)]\n",
        "    beam_log = []\n",
        "\n",
        "    for _ in range(max_len):\n",
        "\n",
        "        all_candidates = []\n",
        "        for score, word_list, hidden, cell in beam: # 最初は1回、次は10回\n",
        "            if word_list[-1] == vocab_transform[TGT_LANGUAGE]['<eos>']:\n",
        "                all_candidates.append((score, word_list, hidden, cell))\n",
        "            else:\n",
        "                output, hidden, cell = model.decoder(input, hidden, cell)\n",
        "                # output: [1, vocab_size]\n",
        "                probs = torch.log_softmax(output, dim=-1)\n",
        "                probs = probs.view(-1)\n",
        "\n",
        "            for i, prob in enumerate(probs): # tgt_vocab分\n",
        "                next_score = ((score * len(word_list)**alpha) + prob.item()) / ((len(word_list)+1)**alpha)\n",
        "                # (score, wordlist, hidden, cell)\n",
        "                all_candidates.append((next_score, word_list + [i], hidden, cell)) # [(0,[3,4,2,4...],[[[]]], [[[]]]), (0,[53,24,21,41...],[[[]]], [[[]]]), (0,[983,42,297,214...],[[[]]], [[[]]]) ]\n",
        "        all_candidates.sort(key=lambda x : x[0], reverse=True) # score基準に並べ替え\n",
        "        beam = all_candidates[:k]\n",
        "\n",
        "        # log用\n",
        "        beam_log.append(cand[0] for cand in all_candidates[:k])\n",
        "    return beam, beam_log\n"
      ],
      "metadata": {
        "id": "YFOoNEu0qbtX"
      },
      "execution_count": 33,
      "outputs": []
    },
    {
      "cell_type": "code",
      "source": [
        "# A boat with several men on it is being pulled to the shore by a large team of horses.\n",
        "sentence = \"Ein Boot mit mehreren Männern darauf wird von einem großen Pferdegespann ans Ufer gezogen.\"\n",
        "beam, beam_log = translate_sentence_beam_search(model, sentence, device)"
      ],
      "metadata": {
        "id": "Cu_QTDps9tiy"
      },
      "execution_count": 35,
      "outputs": []
    },
    {
      "cell_type": "code",
      "source": [
        "for b in beam:\n",
        "    word_list = b[1]\n",
        "    translated_sentence = [vocab_transform[TGT_LANGUAGE].lookup_token(word_id) for word_id in word_list]\n",
        "    print(translated_sentence)"
      ],
      "metadata": {
        "colab": {
          "base_uri": "https://localhost:8080/"
        },
        "id": "TJXjvmRf-40C",
        "outputId": "b4d084d4-d17e-4fdd-c0b4-3cde2e2a7b3d"
      },
      "execution_count": 36,
      "outputs": [
        {
          "output_type": "stream",
          "name": "stdout",
          "text": [
            "['<bos>', 'A', 'Asian', 'and', 'and', 'and', 'and', 'and', 'at', 'at', 'at', 'to', 'to', 'in', 'at', '.', '.', '.', '.', '.', '.', '.', '.', '.', '.', '.', '.', '.', '.', '.', '.', '.', '.', '.', '.', '.', '.', '.', '.', '.', '.', '.', '.', '.', '.', '.', '.', '.', '.', '.', '.']\n",
            "['<bos>', 'A', 'Asian', 'and', 'and', 'and', 'and', 'and', 'at', 'at', 'at', 'to', 'to', 'to', 'at', '.', '.', '.', '.', '.', '.', '.', '.', '.', '.', '.', '.', '.', '.', '.', '.', '.', '.', '.', '.', '.', '.', '.', '.', '.', '.', '.', '.', '.', '.', '.', '.', '.', '.', '.', '.']\n",
            "['<bos>', 'A', 'Asian', 'and', 'and', 'and', 'and', 'and', 'at', 'at', 'at', 'to', 'to', 'at', 'at', '.', '.', '.', '.', '.', '.', '.', '.', '.', '.', '.', '.', '.', '.', '.', '.', '.', '.', '.', '.', '.', '.', '.', '.', '.', '.', '.', '.', '.', '.', '.', '.', '.', '.', '.', '.']\n",
            "['<bos>', 'A', 'Asian', 'and', 'and', 'and', 'and', 'and', 'at', 'at', 'at', 'to', 'to', 'in', 'in', '.', '.', '.', '.', '.', '.', '.', '.', '.', '.', '.', '.', '.', '.', '.', '.', '.', '.', '.', '.', '.', '.', '.', '.', '.', '.', '.', '.', '.', '.', '.', '.', '.', '.', '.', '.']\n",
            "['<bos>', 'A', 'Asian', 'and', 'and', 'and', 'and', 'and', 'at', 'at', 'at', 'to', 'to', 'to', 'in', '.', '.', '.', '.', '.', '.', '.', '.', '.', '.', '.', '.', '.', '.', '.', '.', '.', '.', '.', '.', '.', '.', '.', '.', '.', '.', '.', '.', '.', '.', '.', '.', '.', '.', '.', '.']\n",
            "['<bos>', 'A', 'Asian', 'and', 'and', 'and', 'and', 'and', 'at', 'at', 'at', 'to', 'to', 'at', 'in', '.', '.', '.', '.', '.', '.', '.', '.', '.', '.', '.', '.', '.', '.', '.', '.', '.', '.', '.', '.', '.', '.', '.', '.', '.', '.', '.', '.', '.', '.', '.', '.', '.', '.', '.', '.']\n",
            "['<bos>', 'A', 'Asian', 'and', 'and', 'and', 'and', 'and', 'and', 'at', 'at', 'to', 'to', 'in', 'at', '.', '.', '.', '.', '.', '.', '.', '.', '.', '.', '.', '.', '.', '.', '.', '.', '.', '.', '.', '.', '.', '.', '.', '.', '.', '.', '.', '.', '.', '.', '.', '.', '.', '.', '.', '.']\n",
            "['<bos>', 'A', 'Asian', 'and', 'and', 'and', 'and', 'and', 'and', 'at', 'at', 'to', 'to', 'to', 'at', '.', '.', '.', '.', '.', '.', '.', '.', '.', '.', '.', '.', '.', '.', '.', '.', '.', '.', '.', '.', '.', '.', '.', '.', '.', '.', '.', '.', '.', '.', '.', '.', '.', '.', '.', '.']\n",
            "['<bos>', 'A', 'Asian', 'and', 'and', 'and', 'and', 'and', 'and', 'at', 'at', 'to', 'to', 'at', 'at', '.', '.', '.', '.', '.', '.', '.', '.', '.', '.', '.', '.', '.', '.', '.', '.', '.', '.', '.', '.', '.', '.', '.', '.', '.', '.', '.', '.', '.', '.', '.', '.', '.', '.', '.', '.']\n",
            "['<bos>', 'A', 'Asian', 'and', 'and', 'and', 'and', 'and', 'at', 'at', 'at', 'at', 'to', 'in', 'at', '.', '.', '.', '.', '.', '.', '.', '.', '.', '.', '.', '.', '.', '.', '.', '.', '.', '.', '.', '.', '.', '.', '.', '.', '.', '.', '.', '.', '.', '.', '.', '.', '.', '.', '.', '.']\n"
          ]
        }
      ]
    }
  ]
}