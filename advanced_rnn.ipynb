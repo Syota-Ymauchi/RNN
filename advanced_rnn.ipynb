{
 "cells": [
  {
   "cell_type": "code",
   "execution_count": 1,
   "id": "edfd004b-1d9c-4cb1-aef5-44fa5ca1c682",
   "metadata": {},
   "outputs": [],
   "source": [
    "import torch\n",
    "import torch.nn as nn\n",
    "import math"
   ]
  },
  {
   "cell_type": "markdown",
   "id": "8fa3ce85-bc41-4923-8b61-e13b38e4529f",
   "metadata": {},
   "source": [
    "### RNNのさらなる工夫"
   ]
  },
  {
   "cell_type": "markdown",
   "id": "3023f07e-1b25-47b5-80af-a4c09be8553c",
   "metadata": {},
   "source": [
    "### Bidirectional RNN"
   ]
  },
  {
   "cell_type": "code",
   "execution_count": 2,
   "id": "0836f465-1cd3-446f-8696-1c709e610b6b",
   "metadata": {},
   "outputs": [],
   "source": [
    "class MyRNN:\n",
    "    def __init__(self, input_size, hidden_size, bidirectional=False):\n",
    "        self.hidden_size = hidden_size\n",
    "        self.bidirectional = bidirectional\n",
    "        init_range = 1.0 / math.sqrt(hidden_size)\n",
    "\n",
    "        # 順方向の重みとバイアス\n",
    "        self.W_in = torch.empty(hidden_size, input_size).uniform_(-init_range, init_range).clone().requires_grad_(True)\n",
    "        self.W_h = torch.empty(hidden_size, hidden_size).uniform_(-init_range, init_range).clone().requires_grad_(True)\n",
    "        self.b_in = torch.empty(hidden_size).uniform_(-init_range, init_range).clone().requires_grad_(True)\n",
    "        self.b_h = torch.empty(hidden_size).uniform_(-init_range, init_range).clone().requires_grad_(True)\n",
    "        \n",
    "\n",
    "        # 逆向の重みとバイアス\n",
    "        self.W_in_backward = torch.empty(hidden_size, input_size).uniform_(-init_range, init_range).clone().requires_grad_(True)\n",
    "        self.W_h_backward = torch.empty(hidden_size, hidden_size).uniform_(-init_range, init_range).clone().requires_grad_(True)\n",
    "        self.b_in_backward = torch.empty(hidden_size).uniform_(-init_range, init_range).clone().requires_grad_(True)\n",
    "        self.b_h_backward = torch.empty(hidden_size).uniform_(-init_range, init_range).clone().requires_grad_(True)\n",
    "\n",
    "        \n",
    "\n",
    "    def forward(self, input, h_0=None):\n",
    "        # input: [batch_size, seq_len, input_size\n",
    "        self.input = input\n",
    "        batch_size, self.seq_len, _ = input.size()\n",
    "        self.h_0 = h_0\n",
    "        \n",
    "        if h_0 is None:\n",
    "            self.h_0 = torch.zeros(1, batch_size, self.hidden_size)#.to(device)\n",
    "\n",
    "        outputs = []\n",
    "        # 順方向の処理\n",
    "        h = self.h_0 # [1, batch_size, hidden_size]\n",
    "        for i in range(seq_len):\n",
    "            # input[:, i] : [batch_size, input_size]\n",
    "            h = torch.tanh(input[:, i] @ self.W_in.T + self.b_in + h.squeeze(0) @ self.W_h.T + self.b_h) # [batch_size, hidden_size] :\n",
    "            \n",
    "            outputs.append(h.unsqueeze(1)) # h : [batch_size, hidden_size] -> [batch_size, 1, hidden_size] \n",
    "        self.output_seq = torch.cat(outputs, dim=1) # h : [batch_size, seq_len, hidden_size]\n",
    "\n",
    "        # 逆方向の処理(双方向の場合)\n",
    "        if self.bidirectional:\n",
    "            h_backward = self.h_0\n",
    "            outputs_backward = []\n",
    "            for i in reversed(range(seq_len)):\n",
    "                # input[:, i] : [batch_size, input_size]\n",
    "                h_backward = torch.tanh(input[:, i] @ self.W_in_backward.T + self.b_in_backward + h.squeeze(0) @ self.W_h_backward.T + self.b_h_backward) # [batch_size, hidden_size] :\n",
    "                outputs_backward.append(h_backward.unsqueeze(1)) # h : [batch_size, hidden_size] -> [batch_size, 1, hidden_size] \n",
    "            outputs_backward = outputs_backward[::-1] # [t, t-1, t-2, ... , 2, 1] -> [1, 2, 3, ... , t]\n",
    "            self.output_seq_backward = torch.cat(outputs_backward, dim=1) # h : [batch_size, seq_len, hidden_size] \n",
    "            self.output_seq = torch.cat((self.output_seq, self.output_seq_backward), dim=2) #  [batch_size, seq_len, hidden_size*2] \n",
    "            h_n = torch.cat((h.unsqueeze(0), h_backward.unsqueeze(0)), dim=0) # [batch_size, hidden_size] -> [2, batch_size, hidden_size] # RNNの出力\n",
    "\n",
    "\n",
    "        else:\n",
    "            h_n = h.unsqueeze(0)\n",
    "        # bidirectional = Trueの時   \n",
    "        # h_n[0]のは順伝播のt=Tでの隠れ状態、h_n[1]のはt=1での隠れ状態が入っている\n",
    "        # output_seqのはt = nの時の順伝播と逆伝搬がconcatされた状態で出力(最初のhidden_sizeが順伝播、最後のhidden_sizeが逆伝搬\n",
    "        return self.output_seq, h_n"
   ]
  },
  {
   "cell_type": "code",
   "execution_count": 3,
   "id": "df0011b5-2fe7-4272-95d9-869ceddf04f8",
   "metadata": {},
   "outputs": [
    {
     "name": "stdout",
     "output_type": "stream",
     "text": [
      "torch.Size([8, 5, 6]) torch.Size([2, 8, 3])\n"
     ]
    }
   ],
   "source": [
    "# テスト\n",
    "input_size = 10\n",
    "hidden_size = 3\n",
    "batch_size = 8\n",
    "seq_len = 5\n",
    "\n",
    "input_tensor = torch.randn(batch_size, seq_len, input_size)\n",
    "rnn = MyRNN(input_size, hidden_size, bidirectional=True)\n",
    "output_seq, h_n  = rnn.forward(input_tensor) \n",
    "print(output_seq.shape, h_n.shape)"
   ]
  },
  {
   "cell_type": "code",
   "execution_count": 4,
   "id": "e5816f55-d9bc-4e3e-be6d-eba33587300d",
   "metadata": {},
   "outputs": [
    {
     "data": {
      "text/plain": [
       "tensor([[ 0.6442, -0.0271, -0.9702],\n",
       "        [ 0.1636, -0.4272,  0.9615],\n",
       "        [-0.7471,  0.1447,  0.4163],\n",
       "        [-0.5452, -0.2141,  0.9699],\n",
       "        [ 0.7476,  0.8307,  0.5552],\n",
       "        [ 0.0064, -0.2136,  0.2578],\n",
       "        [ 0.6008,  0.3157,  0.2578],\n",
       "        [ 0.8442, -0.3519, -0.8461]], grad_fn=<SelectBackward0>)"
      ]
     },
     "execution_count": 4,
     "metadata": {},
     "output_type": "execute_result"
    }
   ],
   "source": [
    " # t = T 順伝播\n",
    "h_n[0]"
   ]
  },
  {
   "cell_type": "code",
   "execution_count": 5,
   "id": "fc0db97b-f092-4c2a-b22c-464948aae6cc",
   "metadata": {},
   "outputs": [
    {
     "data": {
      "text/plain": [
       "tensor([[ 0.6442, -0.0271, -0.9702],\n",
       "        [ 0.1636, -0.4272,  0.9615],\n",
       "        [-0.7471,  0.1447,  0.4163],\n",
       "        [-0.5452, -0.2141,  0.9699],\n",
       "        [ 0.7476,  0.8307,  0.5552],\n",
       "        [ 0.0064, -0.2136,  0.2578],\n",
       "        [ 0.6008,  0.3157,  0.2578],\n",
       "        [ 0.8442, -0.3519, -0.8461]], grad_fn=<SliceBackward0>)"
      ]
     },
     "execution_count": 5,
     "metadata": {},
     "output_type": "execute_result"
    }
   ],
   "source": [
    " # t = T 順伝播\n",
    "output_seq[:, -1, :hidden_size] "
   ]
  },
  {
   "cell_type": "code",
   "execution_count": 6,
   "id": "3d7496f2-58a9-4628-b37d-41dda38ca659",
   "metadata": {},
   "outputs": [
    {
     "data": {
      "text/plain": [
       "tensor([[True, True, True],\n",
       "        [True, True, True],\n",
       "        [True, True, True],\n",
       "        [True, True, True],\n",
       "        [True, True, True],\n",
       "        [True, True, True],\n",
       "        [True, True, True],\n",
       "        [True, True, True]])"
      ]
     },
     "execution_count": 6,
     "metadata": {},
     "output_type": "execute_result"
    }
   ],
   "source": [
    "# t = T\n",
    "output_seq[:, -1, :hidden_size] == h_n[0] "
   ]
  },
  {
   "cell_type": "code",
   "execution_count": 7,
   "id": "809ad4f5-49ad-4657-b1b7-37c98e4633fc",
   "metadata": {},
   "outputs": [
    {
     "data": {
      "text/plain": [
       "tensor([[ 0.0026, -0.1756,  0.3559],\n",
       "        [-0.2078, -0.6433,  0.5251],\n",
       "        [ 0.6611,  0.1191, -0.4573],\n",
       "        [ 0.9385, -0.9939,  0.9230],\n",
       "        [ 0.1584, -0.8523,  0.5501],\n",
       "        [ 0.8973, -0.7616,  0.4186],\n",
       "        [-0.7024, -0.0830,  0.3416],\n",
       "        [ 0.3912,  0.6610,  0.9656]], grad_fn=<SelectBackward0>)"
      ]
     },
     "execution_count": 7,
     "metadata": {},
     "output_type": "execute_result"
    }
   ],
   "source": [
    "# t = 1 逆伝搬\n",
    "h_n[1]"
   ]
  },
  {
   "cell_type": "code",
   "execution_count": 8,
   "id": "a31809b6-15d9-4c39-92e3-cc5a9e4806f2",
   "metadata": {},
   "outputs": [
    {
     "data": {
      "text/plain": [
       "tensor([[ 0.0026, -0.1756,  0.3559],\n",
       "        [-0.2078, -0.6433,  0.5251],\n",
       "        [ 0.6611,  0.1191, -0.4573],\n",
       "        [ 0.9385, -0.9939,  0.9230],\n",
       "        [ 0.1584, -0.8523,  0.5501],\n",
       "        [ 0.8973, -0.7616,  0.4186],\n",
       "        [-0.7024, -0.0830,  0.3416],\n",
       "        [ 0.3912,  0.6610,  0.9656]], grad_fn=<SliceBackward0>)"
      ]
     },
     "execution_count": 8,
     "metadata": {},
     "output_type": "execute_result"
    }
   ],
   "source": [
    "# t = 1, 逆伝搬\n",
    "output_seq[:, 0, hidden_size:] "
   ]
  },
  {
   "cell_type": "code",
   "execution_count": 9,
   "id": "bcd4da35-7f08-42d7-8e6e-3c586d32c898",
   "metadata": {},
   "outputs": [
    {
     "data": {
      "text/plain": [
       "tensor([[True, True, True],\n",
       "        [True, True, True],\n",
       "        [True, True, True],\n",
       "        [True, True, True],\n",
       "        [True, True, True],\n",
       "        [True, True, True],\n",
       "        [True, True, True],\n",
       "        [True, True, True]])"
      ]
     },
     "execution_count": 9,
     "metadata": {},
     "output_type": "execute_result"
    }
   ],
   "source": [
    "# t=1\n",
    "output_seq[:, 0, hidden_size:] == h_n[1]"
   ]
  },
  {
   "cell_type": "markdown",
   "id": "d2920153-323d-4309-b3bb-653aab1dc90f",
   "metadata": {},
   "source": [
    "### 要素を逆順にする"
   ]
  },
  {
   "cell_type": "code",
   "execution_count": 10,
   "id": "ac937448-82af-4e3e-8fd6-3a53bf15d19a",
   "metadata": {},
   "outputs": [
    {
     "data": {
      "text/plain": [
       "[5, 4, 3, 2, 1]"
      ]
     },
     "execution_count": 10,
     "metadata": {},
     "output_type": "execute_result"
    }
   ],
   "source": [
    "list1 = [1,2,3,4,5]\n",
    "list1[::-1]"
   ]
  },
  {
   "cell_type": "markdown",
   "id": "0d0972ee-11f2-477b-890a-3ab59b688a7f",
   "metadata": {},
   "source": [
    "### PytorchのBidirectional"
   ]
  },
  {
   "cell_type": "code",
   "execution_count": 30,
   "id": "f26b6160-1f43-4491-9518-d85665025845",
   "metadata": {},
   "outputs": [],
   "source": [
    "class Model(nn.Module):\n",
    "    def __init__(self, input_size, hidden_size, output_size, rnn_type='LSTM', bidirectional=False, print_shape=False):\n",
    "        super().__init__()\n",
    "        self.num_direction = 2 if bidirectional else 1\n",
    "        self.print_shape = print_shape\n",
    "\n",
    "\n",
    "        if rnn_type == 'RNN':\n",
    "            self.rnn = nn.RNN(input_size, hidden_size, batch_first=True, bidirectional=bidirectional) \n",
    "        \n",
    "        elif rnn_type == 'GRU':\n",
    "            self.rnn = nn.GRU(input_size, hidden_size, batch_first=True, bidirectional=bidirectional) \n",
    "\n",
    "        elif rnn_type == 'LSTM':\n",
    "            self.rnn = nn.LSTM(input_size, hidden_size, batch_first=True, bidirectional=bidirectional) \n",
    "\n",
    "       \n",
    "        else:\n",
    "            raise ValueError('Unsapported RNN type. Choose from [\"LSTM\", \"RNN\", \"GUR\", \"UGRNN\"')\n",
    "\n",
    "        self.fc = nn.Linear(hidden_size * self.num_direction, output_size)\n",
    "            \n",
    "            \n",
    "            \n",
    "     \n",
    "\n",
    "    def forward(self, x):\n",
    "        output_seq, h_n = self.rnn(x)\n",
    "        print(f\"size of output_seq : {output_seq.shape}\")\n",
    "        #print(h_n)\n",
    "        print(f\"size of h_n : {h_n[0].shape}\")\n",
    "        \n",
    "        \n",
    "\n",
    "        # bidirectionが実行されたshape確認用\n",
    "        if self.print_shape:\n",
    "            print(output_seq.shape)\n",
    "\n",
    "        # output_seq : [batch_size, seq_len, hidden_size*num_direction]\n",
    "        output_seq = output_seq[:, -1, :] # [batch_size, hidden_size*num_direction] \n",
    "        \n",
    "\n",
    "        out = self.fc(output_seq)\n",
    "        return out"
   ]
  },
  {
   "cell_type": "code",
   "execution_count": 31,
   "id": "5299e25a-3d0d-4cf4-9ade-263e5d476f12",
   "metadata": {},
   "outputs": [
    {
     "name": "stdout",
     "output_type": "stream",
     "text": [
      "size of output_seq : torch.Size([8, 5, 6])\n",
      "size of h_n : torch.Size([2, 8, 3])\n",
      "torch.Size([8, 5, 6])\n",
      "torch.Size([8, 3])\n"
     ]
    }
   ],
   "source": [
    "# テスト\n",
    "input_size = 10\n",
    "hidden_size = 3\n",
    "output_size = 3\n",
    "batch_size = 8\n",
    "seq_len = 5\n",
    "\n",
    "input_tensor = torch.randn(batch_size, seq_len, input_size)\n",
    "rnn = Model(input_size, hidden_size, output_size, bidirectional=True, print_shape=True)\n",
    "output = rnn(input_tensor) \n",
    "print(output.shape)"
   ]
  },
  {
   "cell_type": "markdown",
   "id": "bca2a0f3-6c8e-4733-a01c-56f51d297688",
   "metadata": {},
   "source": [
    "### Deep RNN"
   ]
  },
  {
   "cell_type": "code",
   "execution_count": 32,
   "id": "2855c61f-ab8d-4d82-88c8-ac2271a19c1b",
   "metadata": {},
   "outputs": [],
   "source": [
    "num_layers_list = [1, 2, 3]"
   ]
  },
  {
   "cell_type": "code",
   "execution_count": 38,
   "id": "0bc5f87b-3faa-4a18-bb06-fb97adef6153",
   "metadata": {},
   "outputs": [
    {
     "name": "stdout",
     "output_type": "stream",
     "text": [
      "\n",
      "Num Layers1\n",
      "Output shape torch.Size([8, 5, 6])\n",
      "Last Hidden State Shape : torch.Size([2, 8, 3])\n",
      "\n",
      "Num Layers2\n",
      "Output shape torch.Size([8, 5, 6])\n",
      "Last Hidden State Shape : torch.Size([4, 8, 3])\n",
      "\n",
      "Num Layers3\n",
      "Output shape torch.Size([8, 5, 6])\n",
      "Last Hidden State Shape : torch.Size([6, 8, 3])\n"
     ]
    }
   ],
   "source": [
    "for num_layer in num_layers_list:\n",
    "    rnn = nn.RNN(input_size, hidden_size, num_layers=num_layer, bidirectional=True, batch_first=True)\n",
    "    output_seq, h_n = rnn(input_tensor)\n",
    "    print()\n",
    "    print(f\"Num Layers{num_layer}\")\n",
    "    print(f\"Output shape {output_seq.shape}\")\n",
    "    print(f\"Last Hidden State Shape : {h_n.shape}\")"
   ]
  },
  {
   "cell_type": "code",
   "execution_count": 39,
   "id": "1041a3ab-786c-4248-b25d-a484bdc54132",
   "metadata": {},
   "outputs": [],
   "source": [
    "class Model(nn.Module):\n",
    "    def __init__(self, input_size, hidden_size, output_size, num_layers=1, rnn_type='LSTM', bidirectional=False, print_shape=False):\n",
    "        super().__init__()\n",
    "        self.num_direction = 2 if bidirectional else 1\n",
    "        self.print_shape = print_shape\n",
    "\n",
    "\n",
    "        if rnn_type == 'RNN':\n",
    "            self.rnn = nn.RNN(input_size, hidden_size, num_layers, batch_first=True, bidirectional=bidirectional) \n",
    "        \n",
    "        elif rnn_type == 'GRU':\n",
    "            self.rnn = nn.GRU(input_size, hidden_size, num_layers, batch_first=True, bidirectional=bidirectional) \n",
    "\n",
    "        elif rnn_type == 'LSTM':\n",
    "            self.rnn = nn.LSTM(input_size, hidden_size, num_layers, batch_first=True, bidirectional=bidirectional) \n",
    "\n",
    "       \n",
    "        else:\n",
    "            raise ValueError('Unsapported RNN type. Choose from [\"LSTM\", \"RNN\", \"GUR\", \"UGRNN\"')\n",
    "\n",
    "        self.fc = nn.Linear(hidden_size * self.num_direction, output_size)\n",
    "            \n",
    "            \n",
    "            \n",
    "     \n",
    "\n",
    "    def forward(self, x):\n",
    "        output_seq, h_n = self.rnn(x)\n",
    "        print(f\"size of output_seq : {output_seq.shape}\")\n",
    "        #print(h_n)\n",
    "        print(f\"size of h_n : {h_n[0].shape}\")\n",
    "        \n",
    "        \n",
    "\n",
    "        # bidirectionが実行されたshape確認用\n",
    "        if self.print_shape:\n",
    "            print(output_seq.shape)\n",
    "\n",
    "        # output_seq : [batch_size, seq_len, hidden_size*num_direction]\n",
    "        output_seq = output_seq[:, -1, :] # [batch_size, hidden_size*num_direction] \n",
    "        \n",
    "\n",
    "        out = self.fc(output_seq)\n",
    "        return out"
   ]
  },
  {
   "cell_type": "code",
   "execution_count": 41,
   "id": "6cde7df8-ebb8-4d5a-ae76-edc136ef3a0b",
   "metadata": {},
   "outputs": [
    {
     "name": "stdout",
     "output_type": "stream",
     "text": [
      "size of output_seq : torch.Size([8, 5, 6])\n",
      "size of h_n : torch.Size([4, 8, 3])\n",
      "torch.Size([8, 5, 6])\n",
      "torch.Size([8, 3])\n"
     ]
    }
   ],
   "source": [
    "# テスト\n",
    "input_size = 10\n",
    "hidden_size = 3\n",
    "output_size = 3\n",
    "batch_size = 8\n",
    "seq_len = 5\n",
    "\n",
    "input_tensor = torch.randn(batch_size, seq_len, input_size)\n",
    "rnn = Model(input_size, hidden_size, output_size, num_layers=2 ,bidirectional=True, print_shape=True)\n",
    "output = rnn(input_tensor) \n",
    "print(output.shape)"
   ]
  },
  {
   "cell_type": "code",
   "execution_count": null,
   "id": "8c395892-7705-43ad-9596-4c6f8cfb9aaa",
   "metadata": {},
   "outputs": [],
   "source": []
  }
 ],
 "metadata": {
  "kernelspec": {
   "display_name": "Python 3 (ipykernel)",
   "language": "python",
   "name": "python3"
  },
  "language_info": {
   "codemirror_mode": {
    "name": "ipython",
    "version": 3
   },
   "file_extension": ".py",
   "mimetype": "text/x-python",
   "name": "python",
   "nbconvert_exporter": "python",
   "pygments_lexer": "ipython3",
   "version": "3.8.18"
  }
 },
 "nbformat": 4,
 "nbformat_minor": 5
}
