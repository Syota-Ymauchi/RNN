{
  "nbformat": 4,
  "nbformat_minor": 0,
  "metadata": {
    "colab": {
      "provenance": [],
      "gpuType": "T4"
    },
    "kernelspec": {
      "name": "python3",
      "display_name": "Python 3"
    },
    "language_info": {
      "name": "python"
    },
    "accelerator": "GPU"
  },
  "cells": [
    {
      "cell_type": "code",
      "source": [
        "!pip install portalocker"
      ],
      "metadata": {
        "colab": {
          "base_uri": "https://localhost:8080/"
        },
        "id": "BiGVYV9igyT1",
        "outputId": "8bd418eb-f5b0-4522-d250-745f04884bea"
      },
      "execution_count": 1,
      "outputs": [
        {
          "output_type": "stream",
          "name": "stdout",
          "text": [
            "Collecting portalocker\n",
            "  Downloading portalocker-2.10.1-py3-none-any.whl.metadata (8.5 kB)\n",
            "Downloading portalocker-2.10.1-py3-none-any.whl (18 kB)\n",
            "Installing collected packages: portalocker\n",
            "Successfully installed portalocker-2.10.1\n"
          ]
        }
      ]
    },
    {
      "cell_type": "code",
      "source": [
        "# 0.18(2024-09-25時点で最新)だと動かない... 0.16は動いたのでこっちで\n",
        "!pip install torchtext==0.16"
      ],
      "metadata": {
        "colab": {
          "base_uri": "https://localhost:8080/"
        },
        "collapsed": true,
        "id": "cKYT87L1glO8",
        "outputId": "b3d550e2-6381-44f3-e983-316a89b60d84"
      },
      "execution_count": 2,
      "outputs": [
        {
          "output_type": "stream",
          "name": "stdout",
          "text": [
            "Collecting torchtext==0.16\n",
            "  Downloading torchtext-0.16.0-cp310-cp310-manylinux1_x86_64.whl.metadata (7.5 kB)\n",
            "Requirement already satisfied: tqdm in /usr/local/lib/python3.10/dist-packages (from torchtext==0.16) (4.66.5)\n",
            "Requirement already satisfied: requests in /usr/local/lib/python3.10/dist-packages (from torchtext==0.16) (2.32.3)\n",
            "Collecting torch==2.1.0 (from torchtext==0.16)\n",
            "  Downloading torch-2.1.0-cp310-cp310-manylinux1_x86_64.whl.metadata (25 kB)\n",
            "Requirement already satisfied: numpy in /usr/local/lib/python3.10/dist-packages (from torchtext==0.16) (1.26.4)\n",
            "Collecting torchdata==0.7.0 (from torchtext==0.16)\n",
            "  Downloading torchdata-0.7.0-cp310-cp310-manylinux_2_17_x86_64.manylinux2014_x86_64.whl.metadata (13 kB)\n",
            "Requirement already satisfied: filelock in /usr/local/lib/python3.10/dist-packages (from torch==2.1.0->torchtext==0.16) (3.16.1)\n",
            "Requirement already satisfied: typing-extensions in /usr/local/lib/python3.10/dist-packages (from torch==2.1.0->torchtext==0.16) (4.12.2)\n",
            "Requirement already satisfied: sympy in /usr/local/lib/python3.10/dist-packages (from torch==2.1.0->torchtext==0.16) (1.13.3)\n",
            "Requirement already satisfied: networkx in /usr/local/lib/python3.10/dist-packages (from torch==2.1.0->torchtext==0.16) (3.3)\n",
            "Requirement already satisfied: jinja2 in /usr/local/lib/python3.10/dist-packages (from torch==2.1.0->torchtext==0.16) (3.1.4)\n",
            "Requirement already satisfied: fsspec in /usr/local/lib/python3.10/dist-packages (from torch==2.1.0->torchtext==0.16) (2024.6.1)\n",
            "Collecting nvidia-cuda-nvrtc-cu12==12.1.105 (from torch==2.1.0->torchtext==0.16)\n",
            "  Downloading nvidia_cuda_nvrtc_cu12-12.1.105-py3-none-manylinux1_x86_64.whl.metadata (1.5 kB)\n",
            "Collecting nvidia-cuda-runtime-cu12==12.1.105 (from torch==2.1.0->torchtext==0.16)\n",
            "  Downloading nvidia_cuda_runtime_cu12-12.1.105-py3-none-manylinux1_x86_64.whl.metadata (1.5 kB)\n",
            "Collecting nvidia-cuda-cupti-cu12==12.1.105 (from torch==2.1.0->torchtext==0.16)\n",
            "  Downloading nvidia_cuda_cupti_cu12-12.1.105-py3-none-manylinux1_x86_64.whl.metadata (1.6 kB)\n",
            "Collecting nvidia-cudnn-cu12==8.9.2.26 (from torch==2.1.0->torchtext==0.16)\n",
            "  Downloading nvidia_cudnn_cu12-8.9.2.26-py3-none-manylinux1_x86_64.whl.metadata (1.6 kB)\n",
            "Collecting nvidia-cublas-cu12==12.1.3.1 (from torch==2.1.0->torchtext==0.16)\n",
            "  Downloading nvidia_cublas_cu12-12.1.3.1-py3-none-manylinux1_x86_64.whl.metadata (1.5 kB)\n",
            "Collecting nvidia-cufft-cu12==11.0.2.54 (from torch==2.1.0->torchtext==0.16)\n",
            "  Downloading nvidia_cufft_cu12-11.0.2.54-py3-none-manylinux1_x86_64.whl.metadata (1.5 kB)\n",
            "Collecting nvidia-curand-cu12==10.3.2.106 (from torch==2.1.0->torchtext==0.16)\n",
            "  Downloading nvidia_curand_cu12-10.3.2.106-py3-none-manylinux1_x86_64.whl.metadata (1.5 kB)\n",
            "Collecting nvidia-cusolver-cu12==11.4.5.107 (from torch==2.1.0->torchtext==0.16)\n",
            "  Downloading nvidia_cusolver_cu12-11.4.5.107-py3-none-manylinux1_x86_64.whl.metadata (1.6 kB)\n",
            "Collecting nvidia-cusparse-cu12==12.1.0.106 (from torch==2.1.0->torchtext==0.16)\n",
            "  Downloading nvidia_cusparse_cu12-12.1.0.106-py3-none-manylinux1_x86_64.whl.metadata (1.6 kB)\n",
            "Collecting nvidia-nccl-cu12==2.18.1 (from torch==2.1.0->torchtext==0.16)\n",
            "  Downloading nvidia_nccl_cu12-2.18.1-py3-none-manylinux1_x86_64.whl.metadata (1.8 kB)\n",
            "Collecting nvidia-nvtx-cu12==12.1.105 (from torch==2.1.0->torchtext==0.16)\n",
            "  Downloading nvidia_nvtx_cu12-12.1.105-py3-none-manylinux1_x86_64.whl.metadata (1.7 kB)\n",
            "Collecting triton==2.1.0 (from torch==2.1.0->torchtext==0.16)\n",
            "  Downloading triton-2.1.0-0-cp310-cp310-manylinux2014_x86_64.manylinux_2_17_x86_64.whl.metadata (1.3 kB)\n",
            "Requirement already satisfied: urllib3>=1.25 in /usr/local/lib/python3.10/dist-packages (from torchdata==0.7.0->torchtext==0.16) (2.2.3)\n",
            "Requirement already satisfied: nvidia-nvjitlink-cu12 in /usr/local/lib/python3.10/dist-packages (from nvidia-cusolver-cu12==11.4.5.107->torch==2.1.0->torchtext==0.16) (12.6.68)\n",
            "Requirement already satisfied: charset-normalizer<4,>=2 in /usr/local/lib/python3.10/dist-packages (from requests->torchtext==0.16) (3.3.2)\n",
            "Requirement already satisfied: idna<4,>=2.5 in /usr/local/lib/python3.10/dist-packages (from requests->torchtext==0.16) (3.10)\n",
            "Requirement already satisfied: certifi>=2017.4.17 in /usr/local/lib/python3.10/dist-packages (from requests->torchtext==0.16) (2024.8.30)\n",
            "Requirement already satisfied: MarkupSafe>=2.0 in /usr/local/lib/python3.10/dist-packages (from jinja2->torch==2.1.0->torchtext==0.16) (2.1.5)\n",
            "Requirement already satisfied: mpmath<1.4,>=1.1.0 in /usr/local/lib/python3.10/dist-packages (from sympy->torch==2.1.0->torchtext==0.16) (1.3.0)\n",
            "Downloading torchtext-0.16.0-cp310-cp310-manylinux1_x86_64.whl (2.0 MB)\n",
            "\u001b[2K   \u001b[90m━━━━━━━━━━━━━━━━━━━━━━━━━━━━━━━━━━━━━━━━\u001b[0m \u001b[32m2.0/2.0 MB\u001b[0m \u001b[31m35.6 MB/s\u001b[0m eta \u001b[36m0:00:00\u001b[0m\n",
            "\u001b[?25hDownloading torch-2.1.0-cp310-cp310-manylinux1_x86_64.whl (670.2 MB)\n",
            "\u001b[2K   \u001b[90m━━━━━━━━━━━━━━━━━━━━━━━━━━━━━━━━━━━━━━━━\u001b[0m \u001b[32m670.2/670.2 MB\u001b[0m \u001b[31m2.6 MB/s\u001b[0m eta \u001b[36m0:00:00\u001b[0m\n",
            "\u001b[?25hDownloading torchdata-0.7.0-cp310-cp310-manylinux_2_17_x86_64.manylinux2014_x86_64.whl (4.7 MB)\n",
            "\u001b[2K   \u001b[90m━━━━━━━━━━━━━━━━━━━━━━━━━━━━━━━━━━━━━━━━\u001b[0m \u001b[32m4.7/4.7 MB\u001b[0m \u001b[31m29.9 MB/s\u001b[0m eta \u001b[36m0:00:00\u001b[0m\n",
            "\u001b[?25hDownloading nvidia_cublas_cu12-12.1.3.1-py3-none-manylinux1_x86_64.whl (410.6 MB)\n",
            "\u001b[2K   \u001b[90m━━━━━━━━━━━━━━━━━━━━━━━━━━━━━━━━━━━━━━━━\u001b[0m \u001b[32m410.6/410.6 MB\u001b[0m \u001b[31m4.0 MB/s\u001b[0m eta \u001b[36m0:00:00\u001b[0m\n",
            "\u001b[?25hDownloading nvidia_cuda_cupti_cu12-12.1.105-py3-none-manylinux1_x86_64.whl (14.1 MB)\n",
            "\u001b[2K   \u001b[90m━━━━━━━━━━━━━━━━━━━━━━━━━━━━━━━━━━━━━━━━\u001b[0m \u001b[32m14.1/14.1 MB\u001b[0m \u001b[31m102.8 MB/s\u001b[0m eta \u001b[36m0:00:00\u001b[0m\n",
            "\u001b[?25hDownloading nvidia_cuda_nvrtc_cu12-12.1.105-py3-none-manylinux1_x86_64.whl (23.7 MB)\n",
            "\u001b[2K   \u001b[90m━━━━━━━━━━━━━━━━━━━━━━━━━━━━━━━━━━━━━━━━\u001b[0m \u001b[32m23.7/23.7 MB\u001b[0m \u001b[31m79.1 MB/s\u001b[0m eta \u001b[36m0:00:00\u001b[0m\n",
            "\u001b[?25hDownloading nvidia_cuda_runtime_cu12-12.1.105-py3-none-manylinux1_x86_64.whl (823 kB)\n",
            "\u001b[2K   \u001b[90m━━━━━━━━━━━━━━━━━━━━━━━━━━━━━━━━━━━━━━━━\u001b[0m \u001b[32m823.6/823.6 kB\u001b[0m \u001b[31m50.2 MB/s\u001b[0m eta \u001b[36m0:00:00\u001b[0m\n",
            "\u001b[?25hDownloading nvidia_cudnn_cu12-8.9.2.26-py3-none-manylinux1_x86_64.whl (731.7 MB)\n",
            "\u001b[2K   \u001b[90m━━━━━━━━━━━━━━━━━━━━━━━━━━━━━━━━━━━━━━━━\u001b[0m \u001b[32m731.7/731.7 MB\u001b[0m \u001b[31m2.7 MB/s\u001b[0m eta \u001b[36m0:00:00\u001b[0m\n",
            "\u001b[?25hDownloading nvidia_cufft_cu12-11.0.2.54-py3-none-manylinux1_x86_64.whl (121.6 MB)\n",
            "\u001b[2K   \u001b[90m━━━━━━━━━━━━━━━━━━━━━━━━━━━━━━━━━━━━━━━━\u001b[0m \u001b[32m121.6/121.6 MB\u001b[0m \u001b[31m7.6 MB/s\u001b[0m eta \u001b[36m0:00:00\u001b[0m\n",
            "\u001b[?25hDownloading nvidia_curand_cu12-10.3.2.106-py3-none-manylinux1_x86_64.whl (56.5 MB)\n",
            "\u001b[2K   \u001b[90m━━━━━━━━━━━━━━━━━━━━━━━━━━━━━━━━━━━━━━━━\u001b[0m \u001b[32m56.5/56.5 MB\u001b[0m \u001b[31m12.9 MB/s\u001b[0m eta \u001b[36m0:00:00\u001b[0m\n",
            "\u001b[?25hDownloading nvidia_cusolver_cu12-11.4.5.107-py3-none-manylinux1_x86_64.whl (124.2 MB)\n",
            "\u001b[2K   \u001b[90m━━━━━━━━━━━━━━━━━━━━━━━━━━━━━━━━━━━━━━━━\u001b[0m \u001b[32m124.2/124.2 MB\u001b[0m \u001b[31m7.3 MB/s\u001b[0m eta \u001b[36m0:00:00\u001b[0m\n",
            "\u001b[?25hDownloading nvidia_cusparse_cu12-12.1.0.106-py3-none-manylinux1_x86_64.whl (196.0 MB)\n",
            "\u001b[2K   \u001b[90m━━━━━━━━━━━━━━━━━━━━━━━━━━━━━━━━━━━━━━━━\u001b[0m \u001b[32m196.0/196.0 MB\u001b[0m \u001b[31m6.4 MB/s\u001b[0m eta \u001b[36m0:00:00\u001b[0m\n",
            "\u001b[?25hDownloading nvidia_nccl_cu12-2.18.1-py3-none-manylinux1_x86_64.whl (209.8 MB)\n",
            "\u001b[2K   \u001b[90m━━━━━━━━━━━━━━━━━━━━━━━━━━━━━━━━━━━━━━━━\u001b[0m \u001b[32m209.8/209.8 MB\u001b[0m \u001b[31m5.7 MB/s\u001b[0m eta \u001b[36m0:00:00\u001b[0m\n",
            "\u001b[?25hDownloading nvidia_nvtx_cu12-12.1.105-py3-none-manylinux1_x86_64.whl (99 kB)\n",
            "\u001b[2K   \u001b[90m━━━━━━━━━━━━━━━━━━━━━━━━━━━━━━━━━━━━━━━━\u001b[0m \u001b[32m99.1/99.1 kB\u001b[0m \u001b[31m9.1 MB/s\u001b[0m eta \u001b[36m0:00:00\u001b[0m\n",
            "\u001b[?25hDownloading triton-2.1.0-0-cp310-cp310-manylinux2014_x86_64.manylinux_2_17_x86_64.whl (89.2 MB)\n",
            "\u001b[2K   \u001b[90m━━━━━━━━━━━━━━━━━━━━━━━━━━━━━━━━━━━━━━━━\u001b[0m \u001b[32m89.2/89.2 MB\u001b[0m \u001b[31m10.0 MB/s\u001b[0m eta \u001b[36m0:00:00\u001b[0m\n",
            "\u001b[?25hInstalling collected packages: triton, nvidia-nvtx-cu12, nvidia-nccl-cu12, nvidia-cusparse-cu12, nvidia-curand-cu12, nvidia-cufft-cu12, nvidia-cuda-runtime-cu12, nvidia-cuda-nvrtc-cu12, nvidia-cuda-cupti-cu12, nvidia-cublas-cu12, nvidia-cusolver-cu12, nvidia-cudnn-cu12, torch, torchdata, torchtext\n",
            "  Attempting uninstall: nvidia-nccl-cu12\n",
            "    Found existing installation: nvidia-nccl-cu12 2.23.4\n",
            "    Uninstalling nvidia-nccl-cu12-2.23.4:\n",
            "      Successfully uninstalled nvidia-nccl-cu12-2.23.4\n",
            "  Attempting uninstall: nvidia-cusparse-cu12\n",
            "    Found existing installation: nvidia-cusparse-cu12 12.5.3.3\n",
            "    Uninstalling nvidia-cusparse-cu12-12.5.3.3:\n",
            "      Successfully uninstalled nvidia-cusparse-cu12-12.5.3.3\n",
            "  Attempting uninstall: nvidia-cufft-cu12\n",
            "    Found existing installation: nvidia-cufft-cu12 11.2.6.59\n",
            "    Uninstalling nvidia-cufft-cu12-11.2.6.59:\n",
            "      Successfully uninstalled nvidia-cufft-cu12-11.2.6.59\n",
            "  Attempting uninstall: nvidia-cuda-runtime-cu12\n",
            "    Found existing installation: nvidia-cuda-runtime-cu12 12.6.68\n",
            "    Uninstalling nvidia-cuda-runtime-cu12-12.6.68:\n",
            "      Successfully uninstalled nvidia-cuda-runtime-cu12-12.6.68\n",
            "  Attempting uninstall: nvidia-cuda-cupti-cu12\n",
            "    Found existing installation: nvidia-cuda-cupti-cu12 12.6.68\n",
            "    Uninstalling nvidia-cuda-cupti-cu12-12.6.68:\n",
            "      Successfully uninstalled nvidia-cuda-cupti-cu12-12.6.68\n",
            "  Attempting uninstall: nvidia-cublas-cu12\n",
            "    Found existing installation: nvidia-cublas-cu12 12.6.1.4\n",
            "    Uninstalling nvidia-cublas-cu12-12.6.1.4:\n",
            "      Successfully uninstalled nvidia-cublas-cu12-12.6.1.4\n",
            "  Attempting uninstall: nvidia-cusolver-cu12\n",
            "    Found existing installation: nvidia-cusolver-cu12 11.6.4.69\n",
            "    Uninstalling nvidia-cusolver-cu12-11.6.4.69:\n",
            "      Successfully uninstalled nvidia-cusolver-cu12-11.6.4.69\n",
            "  Attempting uninstall: nvidia-cudnn-cu12\n",
            "    Found existing installation: nvidia-cudnn-cu12 9.4.0.58\n",
            "    Uninstalling nvidia-cudnn-cu12-9.4.0.58:\n",
            "      Successfully uninstalled nvidia-cudnn-cu12-9.4.0.58\n",
            "  Attempting uninstall: torch\n",
            "    Found existing installation: torch 2.4.1+cu121\n",
            "    Uninstalling torch-2.4.1+cu121:\n",
            "      Successfully uninstalled torch-2.4.1+cu121\n",
            "\u001b[31mERROR: pip's dependency resolver does not currently take into account all the packages that are installed. This behaviour is the source of the following dependency conflicts.\n",
            "torchaudio 2.4.1+cu121 requires torch==2.4.1, but you have torch 2.1.0 which is incompatible.\n",
            "torchvision 0.19.1+cu121 requires torch==2.4.1, but you have torch 2.1.0 which is incompatible.\u001b[0m\u001b[31m\n",
            "\u001b[0mSuccessfully installed nvidia-cublas-cu12-12.1.3.1 nvidia-cuda-cupti-cu12-12.1.105 nvidia-cuda-nvrtc-cu12-12.1.105 nvidia-cuda-runtime-cu12-12.1.105 nvidia-cudnn-cu12-8.9.2.26 nvidia-cufft-cu12-11.0.2.54 nvidia-curand-cu12-10.3.2.106 nvidia-cusolver-cu12-11.4.5.107 nvidia-cusparse-cu12-12.1.0.106 nvidia-nccl-cu12-2.18.1 nvidia-nvtx-cu12-12.1.105 torch-2.1.0 torchdata-0.7.0 torchtext-0.16.0 triton-2.1.0\n"
          ]
        }
      ]
    },
    {
      "cell_type": "code",
      "source": [
        "# colabの準備\n",
        "from google.colab import drive\n",
        "drive_path = '/content/drive'\n",
        "drive.mount(drive_path)\n",
        "import sys\n",
        "now_path = drive_path + \"/MyDrive/深層学習/RNN\"\n",
        "sys.path.append(now_path)"
      ],
      "metadata": {
        "colab": {
          "base_uri": "https://localhost:8080/"
        },
        "id": "4E_I7922IV22",
        "outputId": "4dea5731-1813-4020-c73c-534761dfd51a"
      },
      "execution_count": 3,
      "outputs": [
        {
          "output_type": "stream",
          "name": "stdout",
          "text": [
            "Mounted at /content/drive\n"
          ]
        }
      ]
    },
    {
      "cell_type": "code",
      "execution_count": 4,
      "metadata": {
        "id": "hKJ-H0TBgL1m"
      },
      "outputs": [],
      "source": [
        "# ライブラリ\n",
        "import matplotlib.pyplot as plt\n",
        "import numpy as np\n",
        "import seaborn as sns\n",
        "from sklearn.model_selection import train_test_split\n",
        "from torchtext.datasets import AG_NEWS\n",
        "from torchtext.data.utils import get_tokenizer\n",
        "from torchtext.vocab import build_vocab_from_iterator\n",
        "import torch\n",
        "import torch.nn as nn\n",
        "import torch.optim as optim\n",
        "from torch.utils.data import DataLoader\n",
        "from torch.nn.utils.rnn import pad_sequence\n",
        "from tqdm import tqdm\n",
        "from gensim.models import KeyedVectors\n",
        "# import pandas as pd\n",
        "# 講座ではpandasだが、練習のためpolarsを使用\n",
        "import polars as pl"
      ]
    },
    {
      "cell_type": "code",
      "source": [
        "data = AG_NEWS('./ag_news', split='train')"
      ],
      "metadata": {
        "id": "qp9RGxHigdwP"
      },
      "execution_count": 5,
      "outputs": []
    },
    {
      "cell_type": "code",
      "source": [
        "list(data)[:3]"
      ],
      "metadata": {
        "colab": {
          "base_uri": "https://localhost:8080/"
        },
        "id": "hwdty4kulBx8",
        "outputId": "4a3d10cd-5093-4f72-a2aa-2275c614de4f"
      },
      "execution_count": 6,
      "outputs": [
        {
          "output_type": "execute_result",
          "data": {
            "text/plain": [
              "[(3,\n",
              "  \"Wall St. Bears Claw Back Into the Black (Reuters) Reuters - Short-sellers, Wall Street's dwindling\\\\band of ultra-cynics, are seeing green again.\"),\n",
              " (3,\n",
              "  'Carlyle Looks Toward Commercial Aerospace (Reuters) Reuters - Private investment firm Carlyle Group,\\\\which has a reputation for making well-timed and occasionally\\\\controversial plays in the defense industry, has quietly placed\\\\its bets on another part of the market.'),\n",
              " (3,\n",
              "  \"Oil and Economy Cloud Stocks' Outlook (Reuters) Reuters - Soaring crude prices plus worries\\\\about the economy and the outlook for earnings are expected to\\\\hang over the stock market next week during the depth of the\\\\summer doldrums.\")]"
            ]
          },
          "metadata": {},
          "execution_count": 6
        }
      ]
    },
    {
      "cell_type": "code",
      "source": [
        "label,sentence = next(iter(data))"
      ],
      "metadata": {
        "id": "G0lRqSUZi3aB"
      },
      "execution_count": 7,
      "outputs": []
    },
    {
      "cell_type": "code",
      "source": [
        "sentence"
      ],
      "metadata": {
        "colab": {
          "base_uri": "https://localhost:8080/",
          "height": 36
        },
        "id": "u_EX5fu9jVAC",
        "outputId": "c5498029-4569-4fde-8214-e99f0647b711"
      },
      "execution_count": 8,
      "outputs": [
        {
          "output_type": "execute_result",
          "data": {
            "text/plain": [
              "\"Wall St. Bears Claw Back Into the Black (Reuters) Reuters - Short-sellers, Wall Street's dwindling\\\\band of ultra-cynics, are seeing green again.\""
            ],
            "application/vnd.google.colaboratory.intrinsic+json": {
              "type": "string"
            }
          },
          "metadata": {},
          "execution_count": 8
        }
      ]
    },
    {
      "cell_type": "code",
      "source": [
        "label"
      ],
      "metadata": {
        "colab": {
          "base_uri": "https://localhost:8080/"
        },
        "id": "uPrYeF25i4cC",
        "outputId": "8cc4ed5e-7d06-4856-922f-c5463fae1bad"
      },
      "execution_count": 9,
      "outputs": [
        {
          "output_type": "execute_result",
          "data": {
            "text/plain": [
              "3"
            ]
          },
          "metadata": {},
          "execution_count": 9
        }
      ]
    },
    {
      "cell_type": "code",
      "source": [
        "# 学習データ10%, 検証データ9%\n",
        "# 1: \"World\", 2:\"Sports\", 3:\"Business\", \"Sci/Tech\"\n",
        "data = list(data)\n",
        "train_data, remain_train = train_test_split(data, train_size=0.1, random_state=0)\n",
        "_, val_data = train_test_split(remain_train, test_size=0.1, random_state=0)"
      ],
      "metadata": {
        "id": "PC-42aidlXEw",
        "colab": {
          "base_uri": "https://localhost:8080/"
        },
        "outputId": "6cf4afea-b10e-435b-a1e4-6005eff23ab2"
      },
      "execution_count": 10,
      "outputs": [
        {
          "output_type": "stream",
          "name": "stderr",
          "text": [
            "/usr/local/lib/python3.10/dist-packages/torch/utils/data/datapipes/iter/combining.py:333: UserWarning: Some child DataPipes are not exhausted when __iter__ is called. We are resetting the buffer and each child DataPipe will read from the start again.\n",
            "  warnings.warn(\"Some child DataPipes are not exhausted when __iter__ is called. We are resetting \"\n"
          ]
        }
      ]
    },
    {
      "cell_type": "code",
      "source": [
        "labels = [label for label, text in data]\n",
        "labels = pl.Series(labels)"
      ],
      "metadata": {
        "id": "VD_qJeFanaTH"
      },
      "execution_count": 11,
      "outputs": []
    },
    {
      "cell_type": "code",
      "source": [
        "labels.value_counts()"
      ],
      "metadata": {
        "colab": {
          "base_uri": "https://localhost:8080/",
          "height": 223
        },
        "id": "4hyaM0z8n8Sp",
        "outputId": "198c62ea-7a95-4f87-ab2b-9d2e565acbd2"
      },
      "execution_count": 12,
      "outputs": [
        {
          "output_type": "execute_result",
          "data": {
            "text/plain": [
              "shape: (4, 2)\n",
              "┌─────┬───────┐\n",
              "│     ┆ count │\n",
              "│ --- ┆ ---   │\n",
              "│ i64 ┆ u32   │\n",
              "╞═════╪═══════╡\n",
              "│ 1   ┆ 30000 │\n",
              "│ 3   ┆ 30000 │\n",
              "│ 2   ┆ 30000 │\n",
              "│ 4   ┆ 30000 │\n",
              "└─────┴───────┘"
            ],
            "text/html": [
              "<div><style>\n",
              ".dataframe > thead > tr,\n",
              ".dataframe > tbody > tr {\n",
              "  text-align: right;\n",
              "  white-space: pre-wrap;\n",
              "}\n",
              "</style>\n",
              "<small>shape: (4, 2)</small><table border=\"1\" class=\"dataframe\"><thead><tr><th></th><th>count</th></tr><tr><td>i64</td><td>u32</td></tr></thead><tbody><tr><td>1</td><td>30000</td></tr><tr><td>3</td><td>30000</td></tr><tr><td>2</td><td>30000</td></tr><tr><td>4</td><td>30000</td></tr></tbody></table></div>"
            ]
          },
          "metadata": {},
          "execution_count": 12
        }
      ]
    },
    {
      "cell_type": "code",
      "source": [
        "text_length = pl.Series([len(text.split()) for _, text in data])\n",
        "sns.histplot(text_length)"
      ],
      "metadata": {
        "colab": {
          "base_uri": "https://localhost:8080/",
          "height": 448
        },
        "id": "67BxXz-foCfu",
        "outputId": "0ac2a7e3-412d-4d11-c00a-7404acb51681"
      },
      "execution_count": 13,
      "outputs": [
        {
          "output_type": "execute_result",
          "data": {
            "text/plain": [
              "<Axes: ylabel='Count'>"
            ]
          },
          "metadata": {},
          "execution_count": 13
        },
        {
          "output_type": "display_data",
          "data": {
            "text/plain": [
              "<Figure size 640x480 with 1 Axes>"
            ],
            "image/png": "[encoded data removed]"
          },
          "metadata": {}
        }
      ]
    },
    {
      "cell_type": "markdown",
      "source": [
        "# イテレーターとは\n",
        "### イテレーターは、__iter__()メソッドと__next__()メソッドを持つオブジェクトのこ とを指します。__next__()を使って次の要素を順番に返し、要素がなくなるとStopIteration例外を発生させます。イテレーターは、forループなどで順次要素を取り出す際に利用されます。\n",
        "\n",
        "# ジェネレーターの役割\n",
        "### ジェネレーターは、特別な方法でイテレーターを簡単に作成できる仕組みです。yieldを使った関数は自動的にイテレーターとして振る舞い、__iter__()と__next__()メソッドを自動的に実装したジェネレーターオブジェクトを生成します。"
      ],
      "metadata": {
        "id": "wBUdZPWR0bqH"
      }
    },
    {
      "cell_type": "markdown",
      "source": [
        "### データ準備"
      ],
      "metadata": {
        "id": "ClmYLBM6qOPw"
      }
    },
    {
      "cell_type": "code",
      "source": [
        "tokenizer = get_tokenizer(\"basic_english\")"
      ],
      "metadata": {
        "id": "t35A2__SsYbp"
      },
      "execution_count": 14,
      "outputs": []
    },
    {
      "cell_type": "code",
      "source": [
        "tokenizer('I am a student (students-j3)') # 単語で分割してくれる(大文字、小文字の区別はない)"
      ],
      "metadata": {
        "colab": {
          "base_uri": "https://localhost:8080/"
        },
        "id": "jjY51fCEtMbs",
        "outputId": "6551422c-1449-4ea4-ba2f-62f3f2af5d7b"
      },
      "execution_count": 15,
      "outputs": [
        {
          "output_type": "execute_result",
          "data": {
            "text/plain": [
              "['i', 'am', 'a', 'student', '(', 'students-j3', ')']"
            ]
          },
          "metadata": {},
          "execution_count": 15
        }
      ]
    },
    {
      "cell_type": "code",
      "source": [
        "for _, text in data[:3]:\n",
        "    print(tokenizer(text))"
      ],
      "metadata": {
        "colab": {
          "base_uri": "https://localhost:8080/"
        },
        "id": "GRGikwSuz_tK",
        "outputId": "fc97f4c2-8be3-45b0-e9be-b450fe37a2fb"
      },
      "execution_count": 16,
      "outputs": [
        {
          "output_type": "stream",
          "name": "stdout",
          "text": [
            "['wall', 'st', '.', 'bears', 'claw', 'back', 'into', 'the', 'black', '(', 'reuters', ')', 'reuters', '-', 'short-sellers', ',', 'wall', 'street', \"'\", 's', 'dwindling\\\\band', 'of', 'ultra-cynics', ',', 'are', 'seeing', 'green', 'again', '.']\n",
            "['carlyle', 'looks', 'toward', 'commercial', 'aerospace', '(', 'reuters', ')', 'reuters', '-', 'private', 'investment', 'firm', 'carlyle', 'group', ',', '\\\\which', 'has', 'a', 'reputation', 'for', 'making', 'well-timed', 'and', 'occasionally\\\\controversial', 'plays', 'in', 'the', 'defense', 'industry', ',', 'has', 'quietly', 'placed\\\\its', 'bets', 'on', 'another', 'part', 'of', 'the', 'market', '.']\n",
            "['oil', 'and', 'economy', 'cloud', 'stocks', \"'\", 'outlook', '(', 'reuters', ')', 'reuters', '-', 'soaring', 'crude', 'prices', 'plus', 'worries\\\\about', 'the', 'economy', 'and', 'the', 'outlook', 'for', 'earnings', 'are', 'expected', 'to\\\\hang', 'over', 'the', 'stock', 'market', 'next', 'week', 'during', 'the', 'depth', 'of', 'the\\\\summer', 'doldrums', '.']\n"
          ]
        }
      ]
    },
    {
      "cell_type": "markdown",
      "source": [
        "### イテレーター作成"
      ],
      "metadata": {
        "id": "HXCkjwGhv2zy"
      }
    },
    {
      "cell_type": "code",
      "source": [
        "# ジェネレーターはイテラブル\n",
        "def yield_tokens(data_iter):\n",
        "    for _, text in data_iter:\n",
        "        yield tokenizer(text)"
      ],
      "metadata": {
        "id": "cqKB_U7Ywdc1"
      },
      "execution_count": 17,
      "outputs": []
    },
    {
      "cell_type": "code",
      "source": [
        "genereter = yield_tokens(data)\n",
        "a = next(genereter)\n",
        "b = next(genereter)"
      ],
      "metadata": {
        "id": "iCg4sFQYw5yM"
      },
      "execution_count": 18,
      "outputs": []
    },
    {
      "cell_type": "code",
      "source": [
        "a"
      ],
      "metadata": {
        "colab": {
          "base_uri": "https://localhost:8080/"
        },
        "id": "1XC24RDK3GgK",
        "outputId": "f1a74499-b6cf-4ab7-b834-14d79c1a7d9d"
      },
      "execution_count": 19,
      "outputs": [
        {
          "output_type": "execute_result",
          "data": {
            "text/plain": [
              "['wall',\n",
              " 'st',\n",
              " '.',\n",
              " 'bears',\n",
              " 'claw',\n",
              " 'back',\n",
              " 'into',\n",
              " 'the',\n",
              " 'black',\n",
              " '(',\n",
              " 'reuters',\n",
              " ')',\n",
              " 'reuters',\n",
              " '-',\n",
              " 'short-sellers',\n",
              " ',',\n",
              " 'wall',\n",
              " 'street',\n",
              " \"'\",\n",
              " 's',\n",
              " 'dwindling\\\\band',\n",
              " 'of',\n",
              " 'ultra-cynics',\n",
              " ',',\n",
              " 'are',\n",
              " 'seeing',\n",
              " 'green',\n",
              " 'again',\n",
              " '.']"
            ]
          },
          "metadata": {},
          "execution_count": 19
        }
      ]
    },
    {
      "cell_type": "code",
      "source": [
        "b"
      ],
      "metadata": {
        "colab": {
          "base_uri": "https://localhost:8080/"
        },
        "id": "6-GkxMLM3ftE",
        "outputId": "68b9f0d3-6dfb-46cd-a4b5-cd2d54723225"
      },
      "execution_count": 20,
      "outputs": [
        {
          "output_type": "execute_result",
          "data": {
            "text/plain": [
              "['carlyle',\n",
              " 'looks',\n",
              " 'toward',\n",
              " 'commercial',\n",
              " 'aerospace',\n",
              " '(',\n",
              " 'reuters',\n",
              " ')',\n",
              " 'reuters',\n",
              " '-',\n",
              " 'private',\n",
              " 'investment',\n",
              " 'firm',\n",
              " 'carlyle',\n",
              " 'group',\n",
              " ',',\n",
              " '\\\\which',\n",
              " 'has',\n",
              " 'a',\n",
              " 'reputation',\n",
              " 'for',\n",
              " 'making',\n",
              " 'well-timed',\n",
              " 'and',\n",
              " 'occasionally\\\\controversial',\n",
              " 'plays',\n",
              " 'in',\n",
              " 'the',\n",
              " 'defense',\n",
              " 'industry',\n",
              " ',',\n",
              " 'has',\n",
              " 'quietly',\n",
              " 'placed\\\\its',\n",
              " 'bets',\n",
              " 'on',\n",
              " 'another',\n",
              " 'part',\n",
              " 'of',\n",
              " 'the',\n",
              " 'market',\n",
              " '.']"
            ]
          },
          "metadata": {},
          "execution_count": 20
        }
      ]
    },
    {
      "cell_type": "markdown",
      "source": [
        "### 辞書作成"
      ],
      "metadata": {
        "id": "6aGmc7c5vRoA"
      }
    },
    {
      "cell_type": "code",
      "source": [
        "vocab = build_vocab_from_iterator(yield_tokens(data), specials=['<unk>'])"
      ],
      "metadata": {
        "id": "mQVG8QAmvv2N"
      },
      "execution_count": 21,
      "outputs": []
    },
    {
      "cell_type": "code",
      "source": [
        "vocab['hello']"
      ],
      "metadata": {
        "colab": {
          "base_uri": "https://localhost:8080/"
        },
        "id": "r8iK66_Rzlo8",
        "outputId": "bedd4c39-da03-4c71-85ce-a543a3852f3e"
      },
      "execution_count": 22,
      "outputs": [
        {
          "output_type": "execute_result",
          "data": {
            "text/plain": [
              "12544"
            ]
          },
          "metadata": {},
          "execution_count": 22
        }
      ]
    },
    {
      "cell_type": "code",
      "source": [
        "vocab['<unk>']"
      ],
      "metadata": {
        "colab": {
          "base_uri": "https://localhost:8080/"
        },
        "id": "K9FlupdcypNw",
        "outputId": "0aa5c083-42cb-4af1-f17f-a99c761334db"
      },
      "execution_count": 23,
      "outputs": [
        {
          "output_type": "execute_result",
          "data": {
            "text/plain": [
              "0"
            ]
          },
          "metadata": {},
          "execution_count": 23
        }
      ]
    },
    {
      "cell_type": "code",
      "source": [
        "# .set_default_index(0)\n",
        "vocab.set_default_index(vocab['<unk>']) # set_default_indexで辞書にない単語のデフォルトのindexを指定"
      ],
      "metadata": {
        "id": "ZUxqIy2rysyv"
      },
      "execution_count": 24,
      "outputs": []
    },
    {
      "cell_type": "code",
      "source": [
        "vocab['xxxxx']"
      ],
      "metadata": {
        "colab": {
          "base_uri": "https://localhost:8080/"
        },
        "id": "PpahnF5MzDW2",
        "outputId": "ef9b3f00-321c-45aa-fc62-4c6f955b31ba"
      },
      "execution_count": 25,
      "outputs": [
        {
          "output_type": "execute_result",
          "data": {
            "text/plain": [
              "0"
            ]
          },
          "metadata": {},
          "execution_count": 25
        }
      ]
    },
    {
      "cell_type": "code",
      "source": [
        "# vocab.get_itos()[vocab['hello']]\n",
        "vocab.get_itos()[12544] # 単語のリスト"
      ],
      "metadata": {
        "colab": {
          "base_uri": "https://localhost:8080/",
          "height": 36
        },
        "id": "FDT2SSCPzU7R",
        "outputId": "a6cace2e-048d-45f0-dfbe-2f24ecf8beec"
      },
      "execution_count": 26,
      "outputs": [
        {
          "output_type": "execute_result",
          "data": {
            "text/plain": [
              "'hello'"
            ],
            "application/vnd.google.colaboratory.intrinsic+json": {
              "type": "string"
            }
          },
          "metadata": {},
          "execution_count": 26
        }
      ]
    },
    {
      "cell_type": "markdown",
      "source": [
        "#### DataLoader作成"
      ],
      "metadata": {
        "id": "oQoEh1CL4X0Z"
      }
    },
    {
      "cell_type": "code",
      "source": [
        "vocab['wall']"
      ],
      "metadata": {
        "colab": {
          "base_uri": "https://localhost:8080/"
        },
        "id": "nkpwb0Hl6jtL",
        "outputId": "5a9d5af6-9087-4f43-b9e7-963863aec196"
      },
      "execution_count": 27,
      "outputs": [
        {
          "output_type": "execute_result",
          "data": {
            "text/plain": [
              "431"
            ]
          },
          "metadata": {},
          "execution_count": 27
        }
      ]
    },
    {
      "cell_type": "code",
      "source": [
        "vocab['wall']"
      ],
      "metadata": {
        "colab": {
          "base_uri": "https://localhost:8080/"
        },
        "id": "ey8_nKLn9bm0",
        "outputId": "ce570c9d-6a0a-4b69-f057-c2b549efd750"
      },
      "execution_count": 28,
      "outputs": [
        {
          "output_type": "execute_result",
          "data": {
            "text/plain": [
              "431"
            ]
          },
          "metadata": {},
          "execution_count": 28
        }
      ]
    },
    {
      "cell_type": "code",
      "source": [
        "sentences = []\n",
        "labels = []\n",
        "for label, text in data:\n",
        "    label += 1\n",
        "    labels.append(label)\n",
        "    sentence = [vocab[tanngo] for tanngo in tokenizer(text)]\n",
        "    sentences.append(sentence)"
      ],
      "metadata": {
        "id": "fbG6mTS45-lo"
      },
      "execution_count": 29,
      "outputs": []
    },
    {
      "cell_type": "code",
      "source": [
        "sentences[:2]"
      ],
      "metadata": {
        "colab": {
          "base_uri": "https://localhost:8080/"
        },
        "id": "xEtRPv3W9pJa",
        "outputId": "23cb493a-182c-4cdf-fd96-1d80dba67bb1"
      },
      "execution_count": 30,
      "outputs": [
        {
          "output_type": "execute_result",
          "data": {
            "text/plain": [
              "[[431,\n",
              "  425,\n",
              "  1,\n",
              "  1605,\n",
              "  14838,\n",
              "  113,\n",
              "  66,\n",
              "  2,\n",
              "  848,\n",
              "  13,\n",
              "  27,\n",
              "  14,\n",
              "  27,\n",
              "  15,\n",
              "  50725,\n",
              "  3,\n",
              "  431,\n",
              "  374,\n",
              "  16,\n",
              "  9,\n",
              "  67507,\n",
              "  6,\n",
              "  52258,\n",
              "  3,\n",
              "  42,\n",
              "  4009,\n",
              "  783,\n",
              "  325,\n",
              "  1],\n",
              " [15874,\n",
              "  1072,\n",
              "  854,\n",
              "  1310,\n",
              "  4250,\n",
              "  13,\n",
              "  27,\n",
              "  14,\n",
              "  27,\n",
              "  15,\n",
              "  929,\n",
              "  797,\n",
              "  320,\n",
              "  15874,\n",
              "  98,\n",
              "  3,\n",
              "  27657,\n",
              "  28,\n",
              "  5,\n",
              "  4459,\n",
              "  11,\n",
              "  564,\n",
              "  52790,\n",
              "  8,\n",
              "  80617,\n",
              "  2125,\n",
              "  7,\n",
              "  2,\n",
              "  525,\n",
              "  241,\n",
              "  3,\n",
              "  28,\n",
              "  3890,\n",
              "  82814,\n",
              "  6574,\n",
              "  10,\n",
              "  206,\n",
              "  359,\n",
              "  6,\n",
              "  2,\n",
              "  126,\n",
              "  1]]"
            ]
          },
          "metadata": {},
          "execution_count": 30
        }
      ]
    },
    {
      "cell_type": "code",
      "source": [
        "# batch: [(label, text), (label, text), ...,]\n",
        "# この関数がDataLoderのイテレーションが回るごとに実行される\n",
        "def collate_batch(batch):\n",
        "    sentences = []\n",
        "    labels = []\n",
        "\n",
        "    for label, text in batch :\n",
        "    # label , textに対する処理\n",
        "        label -= 1\n",
        "        labels.append(label)\n",
        "        sentence = [vocab[tanngo] for tanngo in tokenizer(text)]\n",
        "        sentences.append(sentence)\n",
        "    # # # padding\n",
        "    pad_sentences = pad_sequence([torch.tensor(sentence) for sentence in sentences], batch_first=True)\n",
        "    labels = torch.tensor(labels)\n",
        "\n",
        "    return labels, pad_sentences\n"
      ],
      "metadata": {
        "id": "7c1UtKFP5XYP"
      },
      "execution_count": 73,
      "outputs": []
    },
    {
      "cell_type": "code",
      "source": [
        "labels, sentences = collate_batch(train_data[0:8])"
      ],
      "metadata": {
        "id": "t36YaRTi42wj"
      },
      "execution_count": 74,
      "outputs": []
    },
    {
      "cell_type": "code",
      "source": [
        "sentences.shape"
      ],
      "metadata": {
        "colab": {
          "base_uri": "https://localhost:8080/"
        },
        "id": "nZQfitmbF4PE",
        "outputId": "3f02871a-f8a5-4e0d-c86c-41d685afe246"
      },
      "execution_count": 75,
      "outputs": [
        {
          "output_type": "execute_result",
          "data": {
            "text/plain": [
              "torch.Size([8, 66])"
            ]
          },
          "metadata": {},
          "execution_count": 75
        }
      ]
    },
    {
      "cell_type": "code",
      "source": [
        "train_loader = DataLoader(train_data, batch_size=8, shuffle=True, collate_fn=collate_batch)\n",
        "val_loader = DataLoader(val_data, batch_size=8, shuffle=False, collate_fn=collate_batch)"
      ],
      "metadata": {
        "id": "jEE7J8fcDZD3"
      },
      "execution_count": 76,
      "outputs": []
    },
    {
      "cell_type": "code",
      "source": [
        "sentence, label = next(iter(train_loader))"
      ],
      "metadata": {
        "id": "9XSwTaL2EHxX"
      },
      "execution_count": 77,
      "outputs": []
    },
    {
      "cell_type": "code",
      "source": [
        "sentence"
      ],
      "metadata": {
        "colab": {
          "base_uri": "https://localhost:8080/"
        },
        "id": "sHhaZWJlELgU",
        "outputId": "ed611004-566f-4fb8-fb91-a649c3d3be32"
      },
      "execution_count": 78,
      "outputs": [
        {
          "output_type": "execute_result",
          "data": {
            "text/plain": [
              "tensor([1, 2, 0, 0, 1, 0, 2, 1])"
            ]
          },
          "metadata": {},
          "execution_count": 78
        }
      ]
    },
    {
      "cell_type": "code",
      "source": [
        "label"
      ],
      "metadata": {
        "colab": {
          "base_uri": "https://localhost:8080/"
        },
        "id": "VDmz2FrAEUfp",
        "outputId": "2d2d2025-06e8-4cfd-db51-e7a87235e7d6"
      },
      "execution_count": 79,
      "outputs": [
        {
          "output_type": "execute_result",
          "data": {
            "text/plain": [
              "tensor([[ 1132,    12,  3072,  8652,  1899,     3,  4892,  1899,   228,   438,\n",
              "            15,    30, 17828, 36857,    62, 21845, 15197,    18, 52726,     3,\n",
              "          4254, 62317,  3268,    32, 30058,    29,    32, 34489,     3,    32,\n",
              "         22134,    29,    32, 13604,     1,     0,     0,     0,     0,     0,\n",
              "             0,     0,     0,     0,     0,     0],\n",
              "        [  953,   292,   371,     4,  6787,  6492,     3,   108,     3,  1283,\n",
              "           329,   236,     3,   315,    53,   168,  2512,   246,   953,   292,\n",
              "           371,    21,     4,   414,   161,     6,    22,   732,  8772,  6492,\n",
              "            18,     2,   296,     6,    68,   108,     3,  1283,   329,     3,\n",
              "             2,    54,   134,     1,     0,     0],\n",
              "        [ 2650,  3359,   344,    29,    36,  5569,     7,    70,     5,   131,\n",
              "          3359,     4,  2353,   208,  1192,  5021,  2538,    35,  1861,    29,\n",
              "            36,  5569,    10,    60,     3,    30,  3359,     4,  2650,    26,\n",
              "             1,  6634, 78650, 59164,     3,    75,    35,  2177,     4,    39,\n",
              "            81,   380,     0,     0,     0,     0],\n",
              "        [38415,    36,   352,     4,  2864,    11,  4189,     6,  5595,     3,\n",
              "            84,  1986,  4513,  1986,     3,    70,    12,     9,  1277,   199,\n",
              "           125,     3,    26,    74,    17,     2,  5343, 12289,     6,   175,\n",
              "           352,    86,   661,     4,     2,  4189,     6,  2892,   208,   476,\n",
              "          5595,    24,  1138,    10,    91,     1],\n",
              "        [    7,   465,     3,   953,     1,  1045,   943,    18,     2,  2156,\n",
              "          1881,  2166,  3744,  1045,    35,  9273,    90,    49,  4306,    66,\n",
              "             2,  1767,  2156,    12,  5428,  1682,    34,  1489,    10,    55,\n",
              "          1561,     1,     0,     0,     0,     0,     0,     0,     0,     0,\n",
              "             0,     0,     0,     0,     0,     0],\n",
              "        [  757,    16,  5748,    33,   998,   329,    16,  2483,  1853,     6,\n",
              "          5748,     4,    37,  1900,     7,     2,   386,    95,   998,   797,\n",
              "             8,   686,     6,   329,     3,   980,   757,    84,     1,     0,\n",
              "             0,     0,     0,     0,     0,     0,     0,     0,     0,     0,\n",
              "             0,     0,     0,     0,     0,     0],\n",
              "        [  329,   890,  1529,  5607,  2438,     3,     2,   521,     6,     2,\n",
              "           307, 10555,  3643,   890,  4196,    17,    36,  4092,   232,     4,\n",
              "           588,  3170,    34,     2,    23,    71,     1,     0,     0,     0,\n",
              "             0,     0,     0,     0,     0,     0,     0,     0,     0,     0,\n",
              "             0,     0,     0,     0,     0,     0],\n",
              "        [ 1111,   653,   119,  1189,    11,  3254,    13,    27,    14,    27,\n",
              "            15,   141,    78,     1,   108,  2438, 82676,  1111,  1348,    29,\n",
              "            30, 11478,  3342,   903, 73737,    16,     9, 41767,  2728,     6,\n",
              "            23,  2555,    56,   115,     1,     0,     0,     0,     0,     0,\n",
              "             0,     0,     0,     0,     0,     0]])"
            ]
          },
          "metadata": {},
          "execution_count": 79
        }
      ]
    },
    {
      "cell_type": "markdown",
      "source": [
        "### word embedding"
      ],
      "metadata": {
        "id": "RhjitvBeEWhk"
      }
    },
    {
      "cell_type": "code",
      "source": [
        "# gensimのword2vecを使用\n",
        "word2Vec = KeyedVectors.load_word2vec_format(now_path + \"/GoogleNews-vectors-negative300.bin\", binary=True)"
      ],
      "metadata": {
        "id": "szUBJNRYIwoj"
      },
      "execution_count": 80,
      "outputs": []
    },
    {
      "cell_type": "code",
      "source": [
        "# embedding matrixを作成\n",
        "# 今回は、embedding dimを300にする\n",
        "embedding_matrix = torch.zeros((len(vocab), 300))"
      ],
      "metadata": {
        "id": "oIlIvDxNKnLM"
      },
      "execution_count": 81,
      "outputs": []
    },
    {
      "cell_type": "code",
      "source": [
        "# vocabのインデックスが2の文字を取得して、これに対して、既に作成されたベクトルをembedding matrixに埋め込む\n",
        "print(f'vocab.get_itos()[2] is \"{vocab.get_itos()[2]}\".')\n",
        "print()\n",
        "# print(f'word2Vec[vocab.get_itos()[2]] is {word2Vec[vocab.get_itos()[2]]}')\n",
        "embedding_matrix[2] = torch.from_numpy(word2Vec[vocab.get_itos()[2]])\n",
        "\n",
        "embedding_matrix"
      ],
      "metadata": {
        "colab": {
          "base_uri": "https://localhost:8080/"
        },
        "id": "giI-8LCXK33f",
        "outputId": "1d07144e-53d3-408f-cc59-3c8b46e8db1d"
      },
      "execution_count": 82,
      "outputs": [
        {
          "output_type": "stream",
          "name": "stdout",
          "text": [
            "vocab.get_itos()[2] is \"the\".\n",
            "\n"
          ]
        },
        {
          "output_type": "execute_result",
          "data": {
            "text/plain": [
              "tensor([[ 0.0000,  0.0000,  0.0000,  ...,  0.0000,  0.0000,  0.0000],\n",
              "        [ 0.0000,  0.0000,  0.0000,  ...,  0.0000,  0.0000,  0.0000],\n",
              "        [ 0.0801,  0.1050,  0.0498,  ...,  0.0037,  0.0476, -0.0688],\n",
              "        ...,\n",
              "        [ 0.0000,  0.0000,  0.0000,  ...,  0.0000,  0.0000,  0.0000],\n",
              "        [ 0.0000,  0.0000,  0.0000,  ...,  0.0000,  0.0000,  0.0000],\n",
              "        [ 0.0000,  0.0000,  0.0000,  ...,  0.0000,  0.0000,  0.0000]])"
            ]
          },
          "metadata": {},
          "execution_count": 82
        }
      ]
    },
    {
      "cell_type": "code",
      "source": [
        "# これをvocab内の全データに対して行う\n",
        "\n",
        "# unkownには word2vec全体の平均の単語ベクトルを適用する\n",
        "unk_vector = torch.from_numpy(np.mean(word2Vec.vectors, axis=0))\n",
        "\n",
        "for i, word in enumerate(vocab.get_itos()):\n",
        "    if word in word2Vec:\n",
        "        embedding_matrix[i] = torch.from_numpy(word2Vec[word])\n",
        "    else:\n",
        "        embedding_matrix[i] = unk_vector"
      ],
      "metadata": {
        "id": "pPr2Va9WM6OI"
      },
      "execution_count": 83,
      "outputs": []
    },
    {
      "cell_type": "code",
      "source": [
        "# これで今回のdataに対応したembeddig matrixを作成できた\n",
        "embedding_matrix"
      ],
      "metadata": {
        "colab": {
          "base_uri": "https://localhost:8080/"
        },
        "id": "j_Gzd6KqPYxt",
        "outputId": "e60f561c-90b8-4600-d7bc-b29d75b1965d"
      },
      "execution_count": 84,
      "outputs": [
        {
          "output_type": "execute_result",
          "data": {
            "text/plain": [
              "tensor([[-2.2573e-04, -1.0131e-03, -1.0477e-02,  ..., -2.7636e-02,\n",
              "          6.1091e-02,  3.8046e-02],\n",
              "        [-2.2573e-04, -1.0131e-03, -1.0477e-02,  ..., -2.7636e-02,\n",
              "          6.1091e-02,  3.8046e-02],\n",
              "        [ 8.0078e-02,  1.0498e-01,  4.9805e-02,  ...,  3.6621e-03,\n",
              "          4.7607e-02, -6.8848e-02],\n",
              "        ...,\n",
              "        [-1.7480e-01,  5.5664e-02,  1.1353e-02,  ...,  7.7637e-02,\n",
              "          1.6016e-01,  1.3281e-01],\n",
              "        [-1.0498e-01,  9.3750e-02,  6.3965e-02,  ...,  2.3804e-02,\n",
              "         -4.6387e-02,  4.4141e-01],\n",
              "        [-3.4912e-02,  1.4746e-01, -2.9541e-02,  ...,  2.8320e-02,\n",
              "          6.2256e-02,  1.7773e-01]])"
            ]
          },
          "metadata": {},
          "execution_count": 84
        }
      ]
    },
    {
      "cell_type": "markdown",
      "source": [
        "### モデルの定義"
      ],
      "metadata": {
        "id": "70i2XwpAjxY1"
      }
    },
    {
      "cell_type": "code",
      "source": [
        "class Model(nn.Module):\n",
        "    def __init__(self, vocab_size, embedding_dim, hidden_size, output_size , embedding_matrix=None, num_layers=1, rnn_type='LSTM', bidirectional=False):\n",
        "\n",
        "        super().__init__()\n",
        "        self.num_directions = 2 if bidirectional else 1\n",
        "\n",
        "        # embedding layer追加 (vocab_size x embedding_dim)\n",
        "        if embedding_matrix is None:\n",
        "            self.embedding = nn.Embedding(vocab_size, embedding_dim)\n",
        "\n",
        "        else:\n",
        "            self.embedding = nn.Embedding.from_pretrained(embedding_matrix, freeze=False)\n",
        "\n",
        "        input_size = embedding_dim\n",
        "\n",
        "        if rnn_type == 'RNN':\n",
        "            self.rnn = nn.RNN(input_size, hidden_size, num_layers=num_layers, batch_first=True, bidirectional=bidirectional)\n",
        "        elif rnn_type == 'LSTM':\n",
        "            self.rnn = nn.LSTM(input_size, hidden_size, num_layers=num_layers, batch_first=True, bidirectional=bidirectional)\n",
        "        elif rnn_type == 'GRU':\n",
        "            self.rnn = nn.GRU(input_size, hidden_size, num_layers=num_layers, batch_first=True, bidirectional=bidirectional)\n",
        "        else:\n",
        "            raise ValueError('Unsupported RNN type. Choose from [\"LSTM\", \"RNN\", \"GRU\"]')\n",
        "\n",
        "        self.fc = nn.Linear(hidden_size*self.num_directions, output_size)\n",
        "        self._wight_initialize()\n",
        "\n",
        "    def _wight_initialize(self):\n",
        "        \"\"\"\n",
        "        パラメータの初期を行うようにする関数.\n",
        "        コンストラクタとして実行\n",
        "        \"\"\"\n",
        "        # ネストが深い...\n",
        "        for name, module in self.named_modules():\n",
        "            if name:\n",
        "\n",
        "                if isinstance(module, nn.Linear):\n",
        "                    nn.init.kaiming_normal_(module.weight)\n",
        "\n",
        "                if isinstance(module, (nn.RNN, nn.LSTM, nn.GRU)):\n",
        "                    for param_name, param in module.named_parameters():\n",
        "                        if 'weight' in param_name:\n",
        "                            nn.init.xavier_normal_(param)\n",
        "\n",
        "\n",
        "\n",
        "    def forward(self, x):\n",
        "        x = self.embedding(x)\n",
        "        output_seq, _ = self.rnn(x)\n",
        "\n",
        "        # import pdb; pdb.set_trace()\n",
        "        out = self.fc(output_seq[:, -1, :]) # [batch_size, hidden_size * num_directions]\n",
        "        return out"
      ],
      "metadata": {
        "id": "PXJTzoHqQ3GZ"
      },
      "execution_count": 106,
      "outputs": []
    },
    {
      "cell_type": "code",
      "source": [
        "vocab_size = len(vocab)\n",
        "embedding_dim=300\n",
        "num_layers = 1\n",
        "model = Model(vocab_size=vocab_size, embedding_dim=embedding_dim, hidden_size=200, output_size=4, \\\n",
        "              embedding_matrix=None, num_layers=num_layers, rnn_type='LSTM', bidirectional=True)\n",
        "\n",
        "out = model(sentences)\n",
        "out.shape"
      ],
      "metadata": {
        "colab": {
          "base_uri": "https://localhost:8080/"
        },
        "id": "MbhbNmM1r1cm",
        "outputId": "16c68206-7603-4fdf-ec92-b318a6e2e076"
      },
      "execution_count": 112,
      "outputs": [
        {
          "output_type": "execute_result",
          "data": {
            "text/plain": [
              "torch.Size([8, 4])"
            ]
          },
          "metadata": {},
          "execution_count": 112
        }
      ]
    },
    {
      "cell_type": "markdown",
      "source": [
        "### 学習ループ"
      ],
      "metadata": {
        "id": "C6hegPJEj1ZA"
      }
    },
    {
      "cell_type": "code",
      "source": [
        "vocab_size = len(vocab)\n",
        "num_classes = 4\n",
        "embedding_dim=300\n",
        "learning_rate = 0.001\n",
        "output_size = num_classes\n",
        "num_epochs = 7\n",
        "num_layers = 3\n",
        "\n",
        "\n",
        "# モデルの定義\n",
        "model = Model(vocab_size=vocab_size, embedding_dim=embedding_dim, hidden_size=200, output_size=4, \\\n",
        "              embedding_matrix=embedding_matrix, num_layers=num_layers, rnn_type='LSTM', bidirectional=True)\n",
        "\n",
        "# 損失関数とoptimizer\n",
        "opt = optim.Adam(model.parameters(), lr=learning_rate)\n",
        "criterion = nn.CrossEntropyLoss()\n",
        "\n",
        "\n",
        "\n",
        "\n",
        "def train(model, train_loader, val_loader, optimizer, criterion, num_epochs, learning_rate=0.01):\n",
        "\n",
        "    # ログ\n",
        "    train_losses = []\n",
        "    val_losses = []\n",
        "    val_accuracies = []\n",
        "\n",
        "\n",
        "    # GPU設定\n",
        "    device = torch.device('cuda' if torch.cuda.is_available() else 'cpu')\n",
        "    model.to(device)\n",
        "    for epoch in range(num_epochs):\n",
        "        model.train()\n",
        "        running_loss = 0.0\n",
        "        running_val_loss = 0.0\n",
        "        total_correct = 0\n",
        "\n",
        "        # training\n",
        "        for i, (labels, sentences) in tqdm(enumerate(train_loader), desc='now training', total=len(train_loader), leave=False):\n",
        "            sentences = sentences.to(device)\n",
        "            # import pdb; pdb.set_trace()\n",
        "            labels = labels.to(device)\n",
        "            opt.zero_grad()\n",
        "            output = model(sentences) # [batch_size,  num_classes]\n",
        "            loss = criterion(output, labels)\n",
        "            loss.backward()\n",
        "            running_loss += loss.item()\n",
        "            opt.step()\n",
        "        train_losses.append(running_loss / len(train_loader))\n",
        "\n",
        "        # validation\n",
        "        # 評価用\n",
        "\n",
        "        total_num = 0\n",
        "        total_correct = 0\n",
        "\n",
        "        for i, (labels, sentences) in tqdm(enumerate(val_loader), desc='valdation', total=len(val_loader), leave=False):\n",
        "\n",
        "            model.eval()\n",
        "            with torch.no_grad():\n",
        "\n",
        "                sentences = sentences.to(device)\n",
        "                labels = labels.to(device)\n",
        "                output = model(sentences) # [batch_size, 1, num_classes]\n",
        "\n",
        "                # accuracy計算\n",
        "                _, predicted = torch.max(output, -1) #[batch_size, 1]\n",
        "                total_correct += torch.sum(predicted == labels).item()\n",
        "                total_num += labels.numel() # [batch_size * seq_len]\n",
        "\n",
        "\n",
        "                loss = criterion(output, labels)\n",
        "                running_val_loss += loss.item()\n",
        "\n",
        "        val_losses.append(running_val_loss / len(val_loader))\n",
        "        val_accuracies.append(total_correct / total_num)\n",
        "        print(f\"epoch={epoch}  train_losse={train_losses[-1]:.4f} val_loss={val_losses[-1]:.4f} val_accuracy={val_accuracies[-1]:.4f}\")\n",
        "    return train_losses, val_losses, val_accuracies"
      ],
      "metadata": {
        "id": "UV4a2u7SXGkk"
      },
      "execution_count": 116,
      "outputs": []
    },
    {
      "cell_type": "code",
      "source": [
        "train_losses, val_losses, val_accuracies = train(model, train_loader, val_loader, opt, criterion, num_epochs, learning_rate)"
      ],
      "metadata": {
        "colab": {
          "base_uri": "https://localhost:8080/"
        },
        "id": "7Id82JJgoNIQ",
        "outputId": "80b828c4-bd0e-432a-a39f-9e650cda12c7"
      },
      "execution_count": 117,
      "outputs": [
        {
          "output_type": "stream",
          "name": "stderr",
          "text": []
        },
        {
          "output_type": "stream",
          "name": "stdout",
          "text": [
            "epoch=0  train_losse=1.0976 val_loss=0.5610 val_accuracy=0.7574\n"
          ]
        },
        {
          "output_type": "stream",
          "name": "stderr",
          "text": []
        },
        {
          "output_type": "stream",
          "name": "stdout",
          "text": [
            "epoch=1  train_losse=0.4349 val_loss=0.3375 val_accuracy=0.8933\n"
          ]
        },
        {
          "output_type": "stream",
          "name": "stderr",
          "text": []
        },
        {
          "output_type": "stream",
          "name": "stdout",
          "text": [
            "epoch=2  train_losse=0.2077 val_loss=0.3381 val_accuracy=0.8947\n"
          ]
        },
        {
          "output_type": "stream",
          "name": "stderr",
          "text": []
        },
        {
          "output_type": "stream",
          "name": "stdout",
          "text": [
            "epoch=3  train_losse=0.1004 val_loss=0.3996 val_accuracy=0.8838\n"
          ]
        },
        {
          "output_type": "stream",
          "name": "stderr",
          "text": []
        },
        {
          "output_type": "stream",
          "name": "stdout",
          "text": [
            "epoch=4  train_losse=0.0458 val_loss=0.5100 val_accuracy=0.8686\n"
          ]
        },
        {
          "output_type": "stream",
          "name": "stderr",
          "text": []
        },
        {
          "output_type": "stream",
          "name": "stdout",
          "text": [
            "epoch=5  train_losse=0.0244 val_loss=0.5615 val_accuracy=0.8725\n"
          ]
        },
        {
          "output_type": "stream",
          "name": "stderr",
          "text": [
            "                                                               "
          ]
        },
        {
          "output_type": "stream",
          "name": "stdout",
          "text": [
            "epoch=6  train_losse=0.0199 val_loss=0.5873 val_accuracy=0.8741\n"
          ]
        },
        {
          "output_type": "stream",
          "name": "stderr",
          "text": [
            "\r"
          ]
        }
      ]
    },
    {
      "cell_type": "code",
      "source": [
        "plt.plot(train_losses, label='train')\n",
        "plt.plot(val_losses, label='val')\n",
        "plt.legend()\n",
        "plt.show()"
      ],
      "metadata": {
        "colab": {
          "base_uri": "https://localhost:8080/",
          "height": 430
        },
        "id": "ZnbBZPrbrbYW",
        "outputId": "7bac3843-09dd-415b-ba13-bdca9e225697"
      },
      "execution_count": 118,
      "outputs": [
        {
          "output_type": "display_data",
          "data": {
            "text/plain": [
              "<Figure size 640x480 with 1 Axes>"
            ],
            "image/png": "[encoded data removed]"
          },
          "metadata": {}
        }
      ]
    },
    {
      "cell_type": "code",
      "source": [],
      "metadata": {
        "id": "mSJJT661yc_G"
      },
      "execution_count": null,
      "outputs": []
    }
  ]
}