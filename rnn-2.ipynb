{
 "cells": [
  {
   "cell_type": "code",
   "execution_count": 5,
   "id": "486e2557-613a-488a-9618-2a86dd6d1c25",
   "metadata": {},
   "outputs": [],
   "source": [
    "import torch"
   ]
  },
  {
   "cell_type": "markdown",
   "id": "4a57cdbb-6888-4ce4-847a-f0b5747afeed",
   "metadata": {},
   "source": [
    "### Backpropagation"
   ]
  },
  {
   "cell_type": "code",
   "execution_count": 6,
   "id": "ff57d031-6890-455c-93cb-5479c52ecccd",
   "metadata": {},
   "outputs": [],
   "source": [
    "def linear_backward(A, W, b, Z):\n",
    "    W.grad_ = Z.grad_.T @ A \n",
    "    b.grad_ = torch.sum(Z.grad_ , dim=0)\n",
    "    A.grad_ = Z.grad_ @ W\n",
    "\n",
    "def relu_backward(Z, A):\n",
    "    Z.grad_ = A.grad_ * (Z > 0).float()"
   ]
  },
  {
   "cell_type": "code",
   "execution_count": 40,
   "id": "6ea2339a-8616-4218-8dd6-fb9993f3a191",
   "metadata": {},
   "outputs": [],
   "source": [
    "def softmax_cross_entropy(X, y_true):\n",
    "    e_x = torch.exp(X - torch.max(X, dim=-1, keepdim=True)[0])\n",
    "    softmax_out = e_x / (torch.sum(e_x, dim=-1, keepdim=True) + 1e-10)\n",
    "    loss = -torch.sum(y_true * torch.log(y_pred + 1e-10)) / y_true.shape[0]\n",
    "    return loss, softmax_out"
   ]
  },
  {
   "cell_type": "code",
   "execution_count": 41,
   "id": "f7b013ff-d7f4-4101-89ad-f673efa77845",
   "metadata": {},
   "outputs": [],
   "source": [
    "def linear(X, W, b):\n",
    "    return X @ W.T + b\n",
    "\n",
    "def relu(Z):\n",
    "    return Z.clamp_min(0.)\n",
    "\n",
    "def forward_and_backward(X, y):\n",
    "    # forward\n",
    "    Z1 = linear(X, W1, b1)\n",
    "    A1 = relu(Z1)\n",
    "    Z2 = linear(A1, W2, b2)\n",
    "    loss , A2 = softmax_cross_entropy(Z2, y)\n",
    "    # backward\n",
    "    Z2.grad = (A2 - y) / X.shape[0]\n",
    "    linear_backward(A1, W2, b2, Z2)\n",
    "    relu_backward(Z1, A1)\n",
    "    linear_backward(X, W1, b1, Z1)\n",
    "    return loss, Z1, A1, Z2, A2"
   ]
  },
  {
   "cell_type": "code",
   "execution_count": null,
   "id": "a9a43b32-f844-472a-bedf-be4903f9986c",
   "metadata": {},
   "outputs": [],
   "source": []
  }
 ],
 "metadata": {
  "kernelspec": {
   "display_name": "Python 3 (ipykernel)",
   "language": "python",
   "name": "python3"
  },
  "language_info": {
   "codemirror_mode": {
    "name": "ipython",
    "version": 3
   },
   "file_extension": ".py",
   "mimetype": "text/x-python",
   "name": "python",
   "nbconvert_exporter": "python",
   "pygments_lexer": "ipython3",
   "version": "3.8.18"
  }
 },
 "nbformat": 4,
 "nbformat_minor": 5
}
