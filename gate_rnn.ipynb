{
 "cells": [
  {
   "cell_type": "markdown",
   "id": "d75d8373-f8c4-4491-a8c5-81e626c4e39c",
   "metadata": {},
   "source": [
    "### ゲート付きRNN"
   ]
  },
  {
   "cell_type": "code",
   "execution_count": 1,
   "id": "62db801b-3305-48b2-8cf6-be9eded227e2",
   "metadata": {},
   "outputs": [],
   "source": [
    "import torch\n",
    "import torch.nn as nn"
   ]
  },
  {
   "cell_type": "markdown",
   "id": "0e6c8e27-135f-4c4e-a7d4-d282a6d67e30",
   "metadata": {},
   "source": [
    "### UGRNN"
   ]
  },
  {
   "cell_type": "code",
   "execution_count": 9,
   "id": "8209082e-2638-4b03-8d07-1a9a50404907",
   "metadata": {},
   "outputs": [],
   "source": [
    "class UGRNN(nn.Module):\n",
    "    def __init__(self, input_size, hidden_size):\n",
    "        super().__init__()\n",
    "        self.hidden_size = hidden_size\n",
    "\n",
    "        # 線形変換\n",
    "        self.transform = nn.Linear(input_size+hidden_size, hidden_size)\n",
    "        self.update = nn.Linear(input_size+hidden_size, hidden_size)\n",
    "\n",
    "        # 活性化関数\n",
    "        self.tanh = nn.Tanh()\n",
    "        self.sigmoid = nn.Sigmoid()\n",
    "        \n",
    "    def forward(self, input, h_0=None):\n",
    "        # input: [batch_size, seq_len, input_size\n",
    "        batch_size, seq_len, _ = input.size()\n",
    "        if h_0 is None:\n",
    "            h_0 = torch.zeros(1, batch_size, self.hidden_size) \n",
    "        outputs = []\n",
    "        h = h_0.squeeze(0) # [1, batch_size, hidden_size] -> [batch_size, hidden_size]\n",
    "        for i in range(seq_len):\n",
    "            # input[:, i] : [batch_size, input_size]\n",
    "            combined = torch.cat((input[:, i, :], h), dim=1)\n",
    "            hidden_candidate = self.tanh(self.transform(combined))\n",
    "            update_gate = self.sigmoid(self.update(combined))\n",
    "            h = update_gate * hidden_candidate + (1 - update_gate) * h            \n",
    "            outputs.append(h.unsqueeze(1)) # h : [batch_size, hidden_size] -> [batch_size, 1, hidden_size] \n",
    "        self.output_seq = torch.cat(outputs, dim=1) # h : [batch_size, seq_len, hidden_size] # 各単語相当の値を全て返すための処理\n",
    "        h_n = h.unsqueeze(0) # [batch_size, hidden_size] -> [1, batch_size, hidden_size] # RNNの出力\n",
    "\n",
    "        return self.output_seq, h_n"
   ]
  },
  {
   "cell_type": "code",
   "execution_count": 12,
   "id": "d383bf48-6e03-4e8c-a36e-77f7c10fd2c4",
   "metadata": {},
   "outputs": [
    {
     "data": {
      "text/plain": [
       "torch.Size([8, 5, 3])"
      ]
     },
     "execution_count": 12,
     "metadata": {},
     "output_type": "execute_result"
    }
   ],
   "source": [
    "# UGRNNのテスト\n",
    "input_size = 10\n",
    "hidden_size = 3\n",
    "batch_size = 8\n",
    "seq_len = 5\n",
    "input_tensor = torch.randn(batch_size, seq_len, input_size)\n",
    "ugrnn = UGRNN(input_size, hidden_size)\n",
    "output_seq, h_n = ugrnn(input_tensor)\n",
    "output_seq.shape"
   ]
  },
  {
   "cell_type": "markdown",
   "id": "b43018bb-97f7-4f8b-8157-cb74bea36884",
   "metadata": {},
   "source": [
    "### LSTM"
   ]
  },
  {
   "cell_type": "code",
   "execution_count": 30,
   "id": "d17c5e5c-3651-4dc6-99dd-c0cdaa41ff45",
   "metadata": {},
   "outputs": [],
   "source": [
    "class MyLSTM(nn.Module):\n",
    "    def __init__(self, input_size, hidden_size):\n",
    "        super().__init__()\n",
    "        self.hidden_size = hidden_size\n",
    "\n",
    "        # 線形変換\n",
    "        self.update_gate = nn.Linear(input_size+hidden_size, hidden_size)\n",
    "        self.forget_gate = nn.Linear(input_size+hidden_size, hidden_size)\n",
    "        self.output_gate = nn.Linear(input_size+hidden_size, hidden_size)\n",
    "\n",
    "        # セル状態の更新に必要な全結合層\n",
    "        self.cell_candidate = nn.Linear(input_size+hidden_size, hidden_size)\n",
    "\n",
    "        # 活性化関数\n",
    "        self.tanh = nn.Tanh()\n",
    "        self.sigmoid = nn.Sigmoid()\n",
    "        \n",
    "    def forward(self, input, h_0=None, c_0=None):\n",
    "        # input: [batch_size, seq_len, input_size\n",
    "        batch_size, seq_len, _ = input.size()\n",
    "        if h_0 is None:\n",
    "            h_0 = torch.zeros(1, batch_size, self.hidden_size) \n",
    "        if c_0 is None:\n",
    "            c_0 = torch.zeros(1, batch_size, self.hidden_size) \n",
    "       \n",
    "        h = h_0.squeeze(0) # [1, batch_size, hidden_size] -> [batch_size, hidden_size]\n",
    "        c = c_0.squeeze(0) # [1, batch_size, hidden_size] -> [batch_size, hidden_size]\n",
    "        outputs = []\n",
    "        for i in range(seq_len):\n",
    "            # input[:, i] : [batch_size, input_size]\n",
    "            combined = torch.cat((input[:, i, :], h), dim=1)\n",
    "            cell_candidate = self.tanh(self.cell_candidate(combined))\n",
    "            update_gate = self.sigmoid(self.update_gate(combined))\n",
    "            forget_gate = self.sigmoid(self.forget_gate(combined))\n",
    "            output_gate = self.sigmoid(self.output_gate(combined))\n",
    "            \n",
    "            c = update_gate * cell_candidate + forget_gate * c\n",
    "            h = output_gate * self.tanh(c)\n",
    "            outputs.append(h.unsqueeze(1)) # h : [batch_size, hidden_size] -> [batch_size, 1, hidden_size] \n",
    "        self.output_seq = torch.cat(outputs, dim=1) # h : [batch_size, seq_len, hidden_size] \n",
    "        h_n = h.unsqueeze(0) # [batch_size, hidden_size] -> [1, batch_size, hidden_size] \n",
    "        c_n = c.unsqueeze(0) # [batch_size, hidden_size] -> [1, batch_size, hidden_size] \n",
    "\n",
    "        return self.output_seq, (h_n, c_n) # (h_n, c_n)は、pytrochの実装にあわせている"
   ]
  },
  {
   "cell_type": "code",
   "execution_count": 39,
   "id": "fa99b7c5-45fe-4504-9813-e84017f55c2d",
   "metadata": {},
   "outputs": [
    {
     "name": "stdout",
     "output_type": "stream",
     "text": [
      "torch.Size([8, 5, 3])\n",
      "torch.Size([1, 8, 3]) torch.Size([1, 8, 3])\n"
     ]
    }
   ],
   "source": [
    "# UGRNNのテスト\n",
    "input_size = 10\n",
    "hidden_size = 3\n",
    "batch_size = 8\n",
    "seq_len = 5\n",
    "input_tensor = torch.randn(batch_size, seq_len, input_size)\n",
    "lstm = MyLSTM(input_size, hidden_size)\n",
    "output_seq, (h_n, c_n) = lstm(input_tensor)\n",
    "print(output_seq.shape)\n",
    "print(h_n.shape, c_n.shape)"
   ]
  },
  {
   "cell_type": "markdown",
   "id": "11aafa5e-fb07-47db-8bd0-4ef60b4364f0",
   "metadata": {},
   "source": [
    "### PytorchのGRUとLSTMを使用する"
   ]
  },
  {
   "cell_type": "code",
   "execution_count": 40,
   "id": "9ca0586c-64f1-4895-a416-cafd206fd8b9",
   "metadata": {},
   "outputs": [
    {
     "name": "stdout",
     "output_type": "stream",
     "text": [
      "torch.Size([8, 5, 3])\n",
      "torch.Size([1, 8, 3])\n"
     ]
    }
   ],
   "source": [
    "# GRU\n",
    "gru = nn.GRU(input_size, hidden_size, batch_first=True)\n",
    "output_seq, h_n = gru(input_tensor)\n",
    "print(output_seq.shape)\n",
    "print(h_n.shape)"
   ]
  },
  {
   "cell_type": "code",
   "execution_count": 41,
   "id": "f28c518a-5b7a-43db-998c-b09d114e793c",
   "metadata": {},
   "outputs": [
    {
     "name": "stdout",
     "output_type": "stream",
     "text": [
      "torch.Size([8, 5, 3])\n",
      "torch.Size([1, 8, 3]) torch.Size([1, 8, 3])\n"
     ]
    }
   ],
   "source": [
    "# LSTM\n",
    "lstm = nn.LSTM(input_size, hidden_size, batch_first=True)\n",
    "output_seq, (h_n, c_n) = lstm(input_tensor)\n",
    "print(output_seq.shape)\n",
    "print(h_n.shape, c_n.shape)"
   ]
  },
  {
   "cell_type": "code",
   "execution_count": 48,
   "id": "6667ebca-64c2-4c8b-9475-b8fdfa41c862",
   "metadata": {},
   "outputs": [],
   "source": [
    "class Model(nn.Module):\n",
    "    def __init__(self, input_size, hidden_size, output_size, rnn_type='LSTM'):\n",
    "        super().__init__()\n",
    "        \n",
    "        if rnn_type == 'RNN':\n",
    "            self.rnn = nn.RNN(input_size, hidden_size, batch_first=True) \n",
    "        \n",
    "        elif rnn_type == 'GRU':\n",
    "            self.rnn = nn.GRU(input_size, hidden_size, batch_first=True) \n",
    "\n",
    "        elif rnn_type == 'LSTM':\n",
    "            self.rnn = nn.LSTM(input_size, hidden_size, batch_first=True) \n",
    "\n",
    "        elif rnn_type == 'UGRNN':\n",
    "            self.rnn = UGRNN(input_size, hidden_size) # pytorchでは実装されていない\n",
    "\n",
    "        else:\n",
    "            raise ValueError('Unsapported RNN type. Choose from [\"LSTM\", \"RNN\", \"GUR\", \"UGRNN\"')\n",
    "            \n",
    "        self.fc = nn.Linear(hidden_size, output_size)\n",
    "\n",
    "    def forward(self, x):\n",
    "        output_seq, _ = self.rnn(x) \n",
    "        # output_seq : [b, st_len, hidden_size]\n",
    "        out = self.fc(output_seq[:, -1, :])\n",
    "        return out\n",
    "        \n",
    "       "
   ]
  },
  {
   "cell_type": "code",
   "execution_count": 51,
   "id": "4bffc374-54ed-4774-9caa-a5a6812e9715",
   "metadata": {},
   "outputs": [
    {
     "name": "stdout",
     "output_type": "stream",
     "text": [
      "torch.Size([8, 3])\n"
     ]
    }
   ],
   "source": [
    "output_size = 3\n",
    "model = Model(input_size, hidden_size, output_size, rnn_type='RNN')\n",
    "output = model(input_tensor)\n",
    "print(output.shape)"
   ]
  },
  {
   "cell_type": "markdown",
   "id": "90d0042e-613c-4add-8678-c742b21d1946",
   "metadata": {},
   "source": [
    "### 補足"
   ]
  },
  {
   "cell_type": "code",
   "execution_count": 23,
   "id": "58e05215-a5c5-4f5b-84bd-68b15061257b",
   "metadata": {},
   "outputs": [],
   "source": [
    "X = torch.randn(8, 5) # [batch_size, input_size]\n",
    "h = torch.randn(8, 32) # [batch_size, hidden_size]\n",
    "\n",
    "W = torch.randn(32, 5+32)\n",
    "\n",
    "b = torch.ones(32)"
   ]
  },
  {
   "cell_type": "code",
   "execution_count": 24,
   "id": "33446dca-0ef3-40df-8c18-fd52e7624107",
   "metadata": {
    "scrolled": true
   },
   "outputs": [
    {
     "data": {
      "text/plain": [
       "tensor([[-0.0446, -1.9736,  0.0460,  0.0781, -0.6876, -3.6557,  0.9979,  0.7083,\n",
       "          0.2976,  1.1999, -0.8881, -0.6283, -2.6703,  0.4093,  1.1520, -0.5572,\n",
       "          2.9445,  2.0503,  1.1618,  0.5219,  0.2108,  0.1347, -0.0699, -1.0595,\n",
       "         -0.3145, -0.9347,  0.7353, -0.0433,  1.1855,  1.1288, -0.7172, -1.2068,\n",
       "          1.2265,  1.1323, -1.3892, -1.3278, -0.3085],\n",
       "        [ 1.4799, -0.4404, -0.9352,  0.4447, -1.1642, -0.8137,  0.4417, -2.3990,\n",
       "          1.7263,  0.7223, -0.9813,  0.1665, -1.0050, -1.0454,  1.1890, -1.0982,\n",
       "         -2.0528,  2.0969, -1.0906, -0.6501,  0.8423,  0.4964, -2.4665,  0.3983,\n",
       "         -0.5736, -0.1606,  0.3175, -0.0468,  1.7533, -1.9398, -0.4008, -0.5261,\n",
       "         -0.5312, -1.2497, -1.6455,  0.1489,  0.2087],\n",
       "        [-0.5195, -0.1675,  0.2761,  0.5483,  0.2494,  0.1480, -0.3050,  0.7821,\n",
       "         -0.0767, -0.9582,  0.5438,  0.0176,  2.1386,  0.9012, -1.3719,  1.9839,\n",
       "          1.0006,  0.9636,  1.0587, -1.0281, -0.5082, -0.6767, -0.1877,  0.3550,\n",
       "          0.6019, -0.4220, -0.4355, -0.9311, -0.2734, -0.0992,  0.1515,  1.2465,\n",
       "         -0.2646, -1.0915,  0.8582,  0.2472, -0.3455],\n",
       "        [-0.8253, -0.3793, -1.1067,  1.2515, -0.5214,  1.0803,  1.4309, -2.2514,\n",
       "          1.7552,  1.2736,  0.6674,  0.4722, -0.5423,  0.5908,  0.8693,  1.3398,\n",
       "         -2.1359, -1.2087, -0.4216,  0.3790,  1.1031, -1.9308,  0.1394,  1.1295,\n",
       "         -0.6421, -0.5965,  0.9779,  0.0539, -0.9784,  0.5371,  1.0037, -0.6538,\n",
       "          0.6168,  0.2109, -0.5411,  0.1705, -1.7435],\n",
       "        [ 0.3685, -1.0077,  1.8055,  0.2030,  0.4354,  1.0235,  0.7142,  1.0341,\n",
       "         -1.0613, -1.0019,  0.3841, -1.2154, -1.2064, -0.7001, -0.5196,  1.3946,\n",
       "          2.6864, -0.0319, -0.5092,  1.9818,  0.1117, -0.9531,  2.0136, -0.3397,\n",
       "          0.7224, -1.5037,  0.4249, -1.1384, -0.8032,  0.6543, -0.0221, -0.9998,\n",
       "         -0.0201, -0.4914, -0.5512, -0.6939, -1.1303],\n",
       "        [ 1.2406, -0.2260,  1.1861, -1.5847, -1.1694,  0.1024, -1.4993, -0.4215,\n",
       "          0.1352, -0.9024, -0.9692, -1.4392,  0.2062, -0.0802, -0.8757,  0.4275,\n",
       "         -0.9524, -0.2915,  0.8418,  2.4999,  0.8909, -0.9241, -2.4183, -0.4820,\n",
       "         -1.6032,  0.2234, -0.2706,  1.1136,  1.5434, -0.7718,  0.1719, -0.7486,\n",
       "         -0.1041,  0.1928,  0.9753, -1.0727,  0.5259],\n",
       "        [ 0.1423,  1.6001, -0.3418,  0.8093,  0.6195,  2.4924,  0.2425,  0.9636,\n",
       "         -1.3606,  1.0978,  0.6866,  1.0846,  0.7479, -0.2190, -1.2602,  1.0712,\n",
       "         -0.9620,  0.4659,  0.0594, -1.1771,  0.9137,  0.3782, -1.0760, -0.6443,\n",
       "          1.5160, -0.0483, -0.1965,  0.1813, -0.0957,  2.2046, -0.5076,  0.8221,\n",
       "          1.3210,  0.8403, -0.0293, -0.5729, -0.6185],\n",
       "        [ 1.5743, -0.1315,  0.0550, -0.5173, -0.3496, -0.8352,  1.0412, -1.7249,\n",
       "         -1.2624,  2.3288, -0.9261, -1.1265, -0.6548, -0.1782,  0.4603,  1.4772,\n",
       "          1.7708,  1.2635, -0.0380, -1.7143,  1.2133,  0.1909, -0.5775,  0.7309,\n",
       "         -0.6251, -0.5949,  0.0678,  0.3437,  0.5786,  0.0557,  0.5086,  1.2221,\n",
       "         -0.6274, -0.8276,  0.0933,  0.3218,  0.3168]])"
      ]
     },
     "execution_count": 24,
     "metadata": {},
     "output_type": "execute_result"
    }
   ],
   "source": [
    "combained = torch.cat((X, h), dim=1)\n",
    "combained"
   ]
  },
  {
   "cell_type": "code",
   "execution_count": 25,
   "id": "b9793acf-bf52-43a9-a5e4-d654e2abd4c3",
   "metadata": {},
   "outputs": [
    {
     "data": {
      "text/plain": [
       "torch.Size([8, 37])"
      ]
     },
     "execution_count": 25,
     "metadata": {},
     "output_type": "execute_result"
    }
   ],
   "source": [
    "combained.shape"
   ]
  },
  {
   "cell_type": "code",
   "execution_count": 27,
   "id": "273bd95d-74cf-4b4b-9067-a7e4ec8b1849",
   "metadata": {},
   "outputs": [],
   "source": [
    "h = combained @ W.T + b # 隠れ層\n"
   ]
  },
  {
   "cell_type": "code",
   "execution_count": null,
   "id": "0be21f20-bcc2-4056-93c0-73ad1ecd74ae",
   "metadata": {},
   "outputs": [],
   "source": []
  }
 ],
 "metadata": {
  "kernelspec": {
   "display_name": "Python 3 (ipykernel)",
   "language": "python",
   "name": "python3"
  },
  "language_info": {
   "codemirror_mode": {
    "name": "ipython",
    "version": 3
   },
   "file_extension": ".py",
   "mimetype": "text/x-python",
   "name": "python",
   "nbconvert_exporter": "python",
   "pygments_lexer": "ipython3",
   "version": "3.8.18"
  }
 },
 "nbformat": 4,
 "nbformat_minor": 5
}
