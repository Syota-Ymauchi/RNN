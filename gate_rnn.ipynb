{
 "cells": [
  {
   "cell_type": "markdown",
   "id": "d75d8373-f8c4-4491-a8c5-81e626c4e39c",
   "metadata": {},
   "source": [
    "### ゲート付きRNN"
   ]
  },
  {
   "cell_type": "code",
   "execution_count": 1,
   "id": "62db801b-3305-48b2-8cf6-be9eded227e2",
   "metadata": {},
   "outputs": [],
   "source": [
    "import torch\n",
    "import torch.nn as nn"
   ]
  },
  {
   "cell_type": "markdown",
   "id": "0e6c8e27-135f-4c4e-a7d4-d282a6d67e30",
   "metadata": {},
   "source": [
    "### UGRNN"
   ]
  },
  {
   "cell_type": "code",
   "execution_count": 9,
   "id": "8209082e-2638-4b03-8d07-1a9a50404907",
   "metadata": {},
   "outputs": [],
   "source": [
    "class UGRNN(nn.Module):\n",
    "    def __init__(self, input_size, hidden_size):\n",
    "        super().__init__()\n",
    "        self.hidden_size = hidden_size\n",
    "\n",
    "        # 線形変換\n",
    "        self.transform = nn.Linear(input_size+hidden_size, hidden_size)\n",
    "        self.update = nn.Linear(input_size+hidden_size, hidden_size)\n",
    "\n",
    "        # 活性化関数\n",
    "        self.tanh = nn.Tanh()\n",
    "        self.sigmoid = nn.Sigmoid()\n",
    "        \n",
    "    def forward(self, input, h_0=None):\n",
    "        # input: [batch_size, seq_len, input_size\n",
    "        batch_size, seq_len, _ = input.size()\n",
    "        if h_0 is None:\n",
    "            h_0 = torch.zeros(1, batch_size, self.hidden_size) \n",
    "        outputs = []\n",
    "        h = h_0.squeeze(0) # [1, batch_size, hidden_size] -> [batch_size, hidden_size]\n",
    "        for i in range(seq_len):\n",
    "            # input[:, i] : [batch_size, input_size]\n",
    "            combined = torch.cat((input[:, i, :], h), dim=1)\n",
    "            hidden_candidate = self.tanh(self.transform(combined))\n",
    "            update_gate = self.sigmoid(self.update(combined))\n",
    "            h = update_gate * hidden_candidate + (1 - update_gate) * h            \n",
    "            outputs.append(h.unsqueeze(1)) # h : [batch_size, hidden_size] -> [batch_size, 1, hidden_size] \n",
    "        self.output_seq = torch.cat(outputs, dim=1) # h : [batch_size, seq_len, hidden_size] # 各単語相当の値を全て返すための処理\n",
    "        h_n = h.unsqueeze(0) # [batch_size, hidden_size] -> [1, batch_size, hidden_size] # RNNの出力\n",
    "\n",
    "        return self.output_seq, h_n"
   ]
  },
  {
   "cell_type": "code",
   "execution_count": 12,
   "id": "d383bf48-6e03-4e8c-a36e-77f7c10fd2c4",
   "metadata": {},
   "outputs": [
    {
     "data": {
      "text/plain": [
       "torch.Size([8, 5, 3])"
      ]
     },
     "execution_count": 12,
     "metadata": {},
     "output_type": "execute_result"
    }
   ],
   "source": [
    "# UGRNNのテスト\n",
    "input_size = 10\n",
    "hidden_size = 3\n",
    "batch_size = 8\n",
    "seq_len = 5\n",
    "input_tensor = torch.randn(batch_size, seq_len, input_size)\n",
    "ugrnn = UGRNN(input_size, hidden_size)\n",
    "output_seq, h_n = ugrnn(input_tensor)\n",
    "output_seq.shape"
   ]
  },
  {
   "cell_type": "markdown",
   "id": "b43018bb-97f7-4f8b-8157-cb74bea36884",
   "metadata": {},
   "source": [
    "### LSTM"
   ]
  },
  {
   "cell_type": "code",
   "execution_count": 30,
   "id": "d17c5e5c-3651-4dc6-99dd-c0cdaa41ff45",
   "metadata": {},
   "outputs": [],
   "source": [
    "class MyLSTM(nn.Module):\n",
    "    def __init__(self, input_size, hidden_size):\n",
    "        super().__init__()\n",
    "        self.hidden_size = hidden_size\n",
    "\n",
    "        # 線形変換\n",
    "        self.update_gate = nn.Linear(input_size+hidden_size, hidden_size)\n",
    "        self.forget_gate = nn.Linear(input_size+hidden_size, hidden_size)\n",
    "        self.output_gate = nn.Linear(input_size+hidden_size, hidden_size)\n",
    "\n",
    "        # セル状態の更新に必要な全結合層\n",
    "        self.cell_candidate = nn.Linear(input_size+hidden_size, hidden_size)\n",
    "\n",
    "        # 活性化関数\n",
    "        self.tanh = nn.Tanh()\n",
    "        self.sigmoid = nn.Sigmoid()\n",
    "        \n",
    "    def forward(self, input, h_0=None, c_0=None):\n",
    "        # input: [batch_size, seq_len, input_size\n",
    "        batch_size, seq_len, _ = input.size()\n",
    "        if h_0 is None:\n",
    "            h_0 = torch.zeros(1, batch_size, self.hidden_size) \n",
    "        if c_0 is None:\n",
    "            c_0 = torch.zeros(1, batch_size, self.hidden_size) \n",
    "       \n",
    "        h = h_0.squeeze(0) # [1, batch_size, hidden_size] -> [batch_size, hidden_size]\n",
    "        c = c_0.squeeze(0) # [1, batch_size, hidden_size] -> [batch_size, hidden_size]\n",
    "        outputs = []\n",
    "        for i in range(seq_len):\n",
    "            # input[:, i] : [batch_size, input_size]\n",
    "            combined = torch.cat((input[:, i, :], h), dim=1)\n",
    "            cell_candidate = self.tanh(self.cell_candidate(combined))\n",
    "            update_gate = self.sigmoid(self.update_gate(combined))\n",
    "            forget_gate = self.sigmoid(self.forget_gate(combined))\n",
    "            output_gate = self.sigmoid(self.output_gate(combined))\n",
    "            \n",
    "            c = update_gate * cell_candidate + forget_gate * c\n",
    "            h = output_gate * self.tanh(c)\n",
    "            outputs.append(h.unsqueeze(1)) # h : [batch_size, hidden_size] -> [batch_size, 1, hidden_size] \n",
    "        self.output_seq = torch.cat(outputs, dim=1) # h : [batch_size, seq_len, hidden_size] \n",
    "        h_n = h.unsqueeze(0) # [batch_size, hidden_size] -> [1, batch_size, hidden_size] \n",
    "        c_n = c.unsqueeze(0) # [batch_size, hidden_size] -> [1, batch_size, hidden_size] \n",
    "\n",
    "        return self.output_seq, (h_n, c_n) # (h_n, c_n)は、pytrochの実装にあわせている"
   ]
  },
  {
   "cell_type": "code",
   "execution_count": 39,
   "id": "fa99b7c5-45fe-4504-9813-e84017f55c2d",
   "metadata": {},
   "outputs": [
    {
     "name": "stdout",
     "output_type": "stream",
     "text": [
      "torch.Size([8, 5, 3])\n",
      "torch.Size([1, 8, 3]) torch.Size([1, 8, 3])\n"
     ]
    }
   ],
   "source": [
    "# UGRNNのテスト\n",
    "input_size = 10\n",
    "hidden_size = 3\n",
    "batch_size = 8\n",
    "seq_len = 5\n",
    "input_tensor = torch.randn(batch_size, seq_len, input_size)\n",
    "lstm = MyLSTM(input_size, hidden_size)\n",
    "output_seq, (h_n, c_n) = lstm(input_tensor)\n",
    "print(output_seq.shape)\n",
    "print(h_n.shape, c_n.shape)"
   ]
  },
  {
   "cell_type": "markdown",
   "id": "11aafa5e-fb07-47db-8bd0-4ef60b4364f0",
   "metadata": {},
   "source": [
    "### PytorchのGRUとLSTMを使用する"
   ]
  },
  {
   "cell_type": "code",
   "execution_count": 40,
   "id": "9ca0586c-64f1-4895-a416-cafd206fd8b9",
   "metadata": {},
   "outputs": [
    {
     "name": "stdout",
     "output_type": "stream",
     "text": [
      "torch.Size([8, 5, 3])\n",
      "torch.Size([1, 8, 3])\n"
     ]
    }
   ],
   "source": [
    "# GRU\n",
    "gru = nn.GRU(input_size, hidden_size, batch_first=True)\n",
    "output_seq, h_n = gru(input_tensor)\n",
    "print(output_seq.shape)\n",
    "print(h_n.shape)"
   ]
  },
  {
   "cell_type": "code",
   "execution_count": 41,
   "id": "f28c518a-5b7a-43db-998c-b09d114e793c",
   "metadata": {},
   "outputs": [
    {
     "name": "stdout",
     "output_type": "stream",
     "text": [
      "torch.Size([8, 5, 3])\n",
      "torch.Size([1, 8, 3]) torch.Size([1, 8, 3])\n"
     ]
    }
   ],
   "source": [
    "# LSTM\n",
    "lstm = nn.LSTM(input_size, hidden_size, batch_first=True)\n",
    "output_seq, (h_n, c_n) = lstm(input_tensor)\n",
    "print(output_seq.shape)\n",
    "print(h_n.shape, c_n.shape)"
   ]
  },
  {
   "cell_type": "code",
   "execution_count": 48,
   "id": "6667ebca-64c2-4c8b-9475-b8fdfa41c862",
   "metadata": {},
   "outputs": [],
   "source": [
    "class Model(nn.Module):\n",
    "    def __init__(self, input_size, hidden_size, output_size, rnn_type='LSTM'):\n",
    "        super().__init__()\n",
    "        \n",
    "        if rnn_type == 'RNN':\n",
    "            self.rnn = nn.RNN(input_size, hidden_size, batch_first=True) \n",
    "        \n",
    "        elif rnn_type == 'GRU':\n",
    "            self.rnn = nn.GRU(input_size, hidden_size, batch_first=True) \n",
    "\n",
    "        elif rnn_type == 'LSTM':\n",
    "            self.rnn = nn.LSTM(input_size, hidden_size, batch_first=True) \n",
    "\n",
    "        elif rnn_type == 'UGRNN':\n",
    "            self.rnn = UGRNN(input_size, hidden_size) # pytorchでは実装されていない\n",
    "\n",
    "        else:\n",
    "            raise ValueError('Unsapported RNN type. Choose from [\"LSTM\", \"RNN\", \"GUR\", \"UGRNN\"')\n",
    "            \n",
    "        self.fc = nn.Linear(hidden_size, output_size)\n",
    "\n",
    "    def forward(self, x):\n",
    "        output_seq, _ = self.rnn(x) \n",
    "        # output_seq : [b, st_len, hidden_size]\n",
    "        out = self.fc(output_seq[:, -1, :])\n",
    "        return out\n",
    "        \n",
    "       "
   ]
  },
  {
   "cell_type": "code",
   "execution_count": 51,
   "id": "4bffc374-54ed-4774-9caa-a5a6812e9715",
   "metadata": {},
   "outputs": [
    {
     "name": "stdout",
     "output_type": "stream",
     "text": [
      "torch.Size([8, 3])\n"
     ]
    }
   ],
   "source": [
    "output_size = 3\n",
    "model = Model(input_size, hidden_size, output_size, rnn_type='RNN')\n",
    "output = model(input_tensor)\n",
    "print(output.shape)"
   ]
  },
  {
   "cell_type": "code",
   "execution_count": null,
   "id": "5f32219f-4b73-48c7-bb58-ce733d9b2b69",
   "metadata": {},
   "outputs": [],
   "source": []
  }
 ],
 "metadata": {
  "kernelspec": {
   "display_name": "Python 3 (ipykernel)",
   "language": "python",
   "name": "python3"
  },
  "language_info": {
   "codemirror_mode": {
    "name": "ipython",
    "version": 3
   },
   "file_extension": ".py",
   "mimetype": "text/x-python",
   "name": "python",
   "nbconvert_exporter": "python",
   "pygments_lexer": "ipython3",
   "version": "3.8.18"
  }
 },
 "nbformat": 4,
 "nbformat_minor": 5
}
