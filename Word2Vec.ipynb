{
 "cells": [
  {
   "cell_type": "markdown",
   "metadata": {
    "id": "A7ronG3XFqkS"
   },
   "source": [
    "### Gensim"
   ]
  },
  {
   "cell_type": "code",
   "execution_count": 2,
   "metadata": {
    "colab": {
     "base_uri": "https://localhost:8080/"
    },
    "id": "oTb0VJvwIelD",
    "outputId": "cdf243f1-a250-4da4-f491-efa2dba43a9d"
   },
   "outputs": [
    {
     "name": "stdout",
     "output_type": "stream",
     "text": [
      "Drive already mounted at /content/drive; to attempt to forcibly remount, call drive.mount(\"/content/drive\", force_remount=True).\n"
     ]
    }
   ],
   "source": [
    "# colabの準備\n",
    "from google.colab import drive\n",
    "drive_path = '/content/drive'\n",
    "drive.mount(drive_path)\n",
    "import sys\n",
    "now_path = drive_path + \"/MyDrive/深層学習\"\n",
    "sys.path.append(now_path)"
   ]
  },
  {
   "cell_type": "code",
   "execution_count": 5,
   "metadata": {
    "colab": {
     "base_uri": "https://localhost:8080/"
    },
    "id": "zq8yXFxyGQEh",
    "outputId": "66b47109-f483-4556-d2c1-d2cf77cd9164"
   },
   "outputs": [
    {
     "name": "stdout",
     "output_type": "stream",
     "text": [
      "Requirement already satisfied: gensim in /usr/local/lib/python3.10/dist-packages (4.3.3)\n",
      "Requirement already satisfied: numpy<2.0,>=1.18.5 in /usr/local/lib/python3.10/dist-packages (from gensim) (1.26.4)\n",
      "Requirement already satisfied: scipy<1.14.0,>=1.7.0 in /usr/local/lib/python3.10/dist-packages (from gensim) (1.13.1)\n",
      "Requirement already satisfied: smart-open>=1.8.1 in /usr/local/lib/python3.10/dist-packages (from gensim) (7.0.4)\n",
      "Requirement already satisfied: wrapt in /usr/local/lib/python3.10/dist-packages (from smart-open>=1.8.1->gensim) (1.16.0)\n"
     ]
    }
   ],
   "source": [
    "! pip install gensim"
   ]
  },
  {
   "cell_type": "code",
   "execution_count": 3,
   "metadata": {
    "id": "RbHiB81HGVmh"
   },
   "outputs": [],
   "source": [
    "from gensim.models import KeyedVectors"
   ]
  },
  {
   "cell_type": "code",
   "execution_count": 7,
   "metadata": {
    "colab": {
     "base_uri": "https://localhost:8080/",
     "height": 186
    },
    "id": "ssqM1KjbGkrT",
    "outputId": "5ab29128-2097-4da7-ffa1-934a80b4182e"
   },
   "outputs": [
    {
     "data": {
      "text/html": [
       "<div style=\"max-width:800px; border: 1px solid var(--colab-border-color);\"><style>\n",
       "      pre.function-repr-contents {\n",
       "        overflow-x: auto;\n",
       "        padding: 8px 12px;\n",
       "        max-height: 500px;\n",
       "      }\n",
       "\n",
       "      pre.function-repr-contents.function-repr-contents-collapsed {\n",
       "        cursor: pointer;\n",
       "        max-height: 100px;\n",
       "      }\n",
       "    </style>\n",
       "    <pre style=\"white-space: initial; background:\n",
       "         var(--colab-secondary-surface-color); padding: 8px 12px;\n",
       "         border-bottom: 1px solid var(--colab-border-color);\"><b>gensim.models.keyedvectors.KeyedVectors</b><br/>def __init__(vector_size, count=0, dtype=np.float32, mapfile_path=None)</pre><pre class=\"function-repr-contents function-repr-contents-collapsed\" style=\"\"><a class=\"filepath\" style=\"display:none\" href=\"#\">/usr/local/lib/python3.10/dist-packages/gensim/models/keyedvectors.py</a>Serialize/deserialize objects from disk, by equipping them with the `save()` / `load()` methods.\n",
       "\n",
       "Warnings\n",
       "--------\n",
       "This uses pickle internally (among other techniques), so objects must not contain unpicklable attributes\n",
       "such as lambda functions etc.</pre>\n",
       "      <script>\n",
       "      if (google.colab.kernel.accessAllowed && google.colab.files && google.colab.files.view) {\n",
       "        for (const element of document.querySelectorAll('.filepath')) {\n",
       "          element.style.display = 'block'\n",
       "          element.onclick = (event) => {\n",
       "            event.preventDefault();\n",
       "            event.stopPropagation();\n",
       "            google.colab.files.view(element.textContent, 211);\n",
       "          };\n",
       "        }\n",
       "      }\n",
       "      for (const element of document.querySelectorAll('.function-repr-contents')) {\n",
       "        element.onclick = (event) => {\n",
       "          event.preventDefault();\n",
       "          event.stopPropagation();\n",
       "          element.classList.toggle('function-repr-contents-collapsed');\n",
       "        };\n",
       "      }\n",
       "      </script>\n",
       "      </div>"
      ],
      "text/plain": [
       "gensim.models.keyedvectors.KeyedVectors"
      ]
     },
     "execution_count": 7,
     "metadata": {},
     "output_type": "execute_result"
    }
   ],
   "source": [
    "KeyedVectors"
   ]
  },
  {
   "cell_type": "markdown",
   "metadata": {
    "id": "sUz3s5TOowSy"
   },
   "source": [
    "### GoogleNews-vectors-negative300.binモデルはCBOWを使用して学習されています。\n",
    "###### このモデルの詳細については以下のポイントが重要です:\n",
    "###### Googleが独自のコーパスを使用して学習したモデルです。\n",
    "###### 約1,000億語のGoogle Newsデータセットの一部を使用して学習されています。\n",
    "###### 300万語の単語とフレーズの300次元ベクトルが含まれています。\n",
    "###### CBOWアーキテクチャを使用して学習されており、skip-gramバージョンは公開されていません。\n",
    "###### gensim.models.KeyedVectorsを使用してこのモデルを読み込む際、CBOWかskip-gramかを指定する必要はありません。モデルファイル自体にアーキテクチャの情報が含まれているためです。"
   ]
  },
  {
   "cell_type": "code",
   "execution_count": 4,
   "metadata": {
    "id": "M-ZkJr-0GnLa"
   },
   "outputs": [],
   "source": [
    "# モデルファイルのロード\n",
    "word2Vec = KeyedVectors.load_word2vec_format(now_path + \"/GoogleNews-vectors-negative300.bin\", binary=True)"
   ]
  },
  {
   "cell_type": "code",
   "execution_count": 26,
   "metadata": {
    "colab": {
     "base_uri": "https://localhost:8080/"
    },
    "id": "-O0PrjNGXPyI",
    "outputId": "ad6b7ea0-d60a-4ad0-9cad-3824b7f56bd0"
   },
   "outputs": [
    {
     "name": "stdout",
     "output_type": "stream",
     "text": [
      "[ 1.07421875e-01 -2.01171875e-01  1.23046875e-01  2.11914062e-01\n",
      " -9.13085938e-02  2.16796875e-01 -1.31835938e-01  8.30078125e-02\n",
      "  2.02148438e-01  4.78515625e-02  3.66210938e-02 -2.45361328e-02\n",
      "  2.39257812e-02 -1.60156250e-01 -2.61230469e-02  9.71679688e-02\n",
      " -6.34765625e-02  1.84570312e-01  1.70898438e-01 -1.63085938e-01\n",
      " -1.09375000e-01  1.49414062e-01 -4.65393066e-04  9.61914062e-02\n",
      "  1.68945312e-01  2.60925293e-03  8.93554688e-02  6.49414062e-02\n",
      "  3.56445312e-02 -6.93359375e-02 -1.46484375e-01 -1.21093750e-01\n",
      " -2.27539062e-01  2.45361328e-02 -1.24511719e-01 -3.18359375e-01\n",
      " -2.20703125e-01  1.30859375e-01  3.66210938e-02 -3.63769531e-02\n",
      " -1.13281250e-01  1.95312500e-01  9.76562500e-02  1.26953125e-01\n",
      "  6.59179688e-02  6.93359375e-02  1.02539062e-02  1.75781250e-01\n",
      " -1.68945312e-01  1.21307373e-03 -2.98828125e-01 -1.15234375e-01\n",
      "  5.66406250e-02 -1.77734375e-01 -2.08984375e-01  1.76757812e-01\n",
      "  2.38037109e-02 -2.57812500e-01 -4.46777344e-02  1.88476562e-01\n",
      "  5.51757812e-02  5.02929688e-02 -1.06933594e-01  1.89453125e-01\n",
      " -1.16210938e-01  8.49609375e-02 -1.71875000e-01  2.45117188e-01\n",
      " -1.73828125e-01 -8.30078125e-03  4.56542969e-02 -1.61132812e-02\n",
      "  1.86523438e-01 -6.05468750e-02 -4.17480469e-02  1.82617188e-01\n",
      "  2.20703125e-01 -1.22558594e-01 -2.55126953e-02 -3.08593750e-01\n",
      "  9.13085938e-02  1.60156250e-01  1.70898438e-01  1.19628906e-01\n",
      "  7.08007812e-02 -2.64892578e-02 -3.08837891e-02  4.06250000e-01\n",
      " -1.01562500e-01  5.71289062e-02 -7.26318359e-03 -9.17968750e-02\n",
      " -1.50390625e-01 -2.55859375e-01  2.16796875e-01 -3.63769531e-02\n",
      "  2.24609375e-01  8.00781250e-02  1.56250000e-01  5.27343750e-02\n",
      "  1.50390625e-01 -1.14746094e-01 -8.64257812e-02  1.19140625e-01\n",
      " -7.17773438e-02  2.73437500e-01 -1.64062500e-01  7.29370117e-03\n",
      "  4.21875000e-01 -1.12792969e-01 -1.35742188e-01 -1.31835938e-01\n",
      " -1.37695312e-01 -7.66601562e-02  6.25000000e-02  4.98046875e-02\n",
      " -1.91406250e-01 -6.03027344e-02  2.27539062e-01  5.88378906e-02\n",
      " -3.24218750e-01  5.41992188e-02 -1.35742188e-01  8.17871094e-03\n",
      " -5.24902344e-02 -1.74713135e-03 -9.81445312e-02 -2.86865234e-02\n",
      "  3.61328125e-02  2.15820312e-01  5.98144531e-02 -3.08593750e-01\n",
      " -2.27539062e-01  2.61718750e-01  9.86328125e-02 -5.07812500e-02\n",
      "  1.78222656e-02  1.31835938e-01 -5.35156250e-01 -1.81640625e-01\n",
      "  1.38671875e-01 -3.10546875e-01 -9.71679688e-02  1.31835938e-01\n",
      " -1.16210938e-01  7.03125000e-02  2.85156250e-01  3.51562500e-02\n",
      " -1.01562500e-01 -3.75976562e-02  1.41601562e-01  1.42578125e-01\n",
      " -5.68847656e-02  2.65625000e-01 -2.09960938e-01  9.64355469e-03\n",
      " -6.68945312e-02 -4.83398438e-02 -6.10351562e-02  2.45117188e-01\n",
      " -9.66796875e-02  1.78222656e-02 -1.27929688e-01 -4.78515625e-02\n",
      " -7.26318359e-03  1.79687500e-01  2.78320312e-02 -2.10937500e-01\n",
      " -1.43554688e-01 -1.27929688e-01  1.73339844e-02 -3.60107422e-03\n",
      " -2.04101562e-01  3.63159180e-03 -1.19628906e-01 -6.15234375e-02\n",
      "  5.93261719e-02 -3.23486328e-03 -1.70898438e-01 -3.14941406e-02\n",
      " -8.88671875e-02 -2.89062500e-01  3.44238281e-02 -1.87500000e-01\n",
      "  2.94921875e-01  1.58203125e-01 -1.19628906e-01  7.61718750e-02\n",
      "  6.39648438e-02 -4.68750000e-02 -6.83593750e-02  1.21459961e-02\n",
      " -1.44531250e-01  4.54101562e-02  3.68652344e-02  3.88671875e-01\n",
      "  1.45507812e-01 -2.55859375e-01 -4.46777344e-02 -1.33789062e-01\n",
      " -1.38671875e-01  6.59179688e-02  1.37695312e-01  1.14746094e-01\n",
      "  2.03125000e-01 -4.78515625e-02  1.80664062e-02 -8.54492188e-02\n",
      " -2.48046875e-01 -3.39843750e-01 -2.83203125e-02  1.05468750e-01\n",
      " -2.14843750e-01 -8.74023438e-02  7.12890625e-02  1.87500000e-01\n",
      " -1.12304688e-01  2.73437500e-01 -3.26171875e-01 -1.77734375e-01\n",
      " -4.24804688e-02 -2.69531250e-01  6.64062500e-02 -6.88476562e-02\n",
      " -1.99218750e-01 -7.03125000e-02 -2.43164062e-01 -3.66210938e-02\n",
      " -7.37304688e-02 -1.77734375e-01  9.17968750e-02 -1.25000000e-01\n",
      " -1.65039062e-01 -3.57421875e-01 -2.85156250e-01 -1.66992188e-01\n",
      "  1.97265625e-01 -1.53320312e-01  2.31933594e-02  2.06054688e-01\n",
      "  1.80664062e-01 -2.74658203e-02 -1.92382812e-01 -9.61914062e-02\n",
      " -1.06811523e-02 -4.73632812e-02  6.54296875e-02 -1.25732422e-02\n",
      "  1.78222656e-02 -8.00781250e-02 -2.59765625e-01  9.37500000e-02\n",
      " -7.81250000e-02  4.68750000e-02 -2.22167969e-02  1.86767578e-02\n",
      "  3.11279297e-02  1.04980469e-02 -1.69921875e-01  2.58789062e-02\n",
      " -3.41796875e-02 -1.44042969e-02 -5.46875000e-02 -8.78906250e-02\n",
      "  1.96838379e-03  2.23632812e-01 -1.36718750e-01  1.75781250e-01\n",
      " -1.63085938e-01  1.87500000e-01  3.44238281e-02 -5.63964844e-02\n",
      " -2.27689743e-05  4.27246094e-02  5.81054688e-02 -1.07910156e-01\n",
      " -3.88183594e-02 -2.69531250e-01  3.34472656e-02  9.81445312e-02\n",
      "  5.63964844e-02  2.23632812e-01 -5.49316406e-02  1.46484375e-01\n",
      "  5.93261719e-02 -2.19726562e-01  6.39648438e-02  1.66015625e-02\n",
      "  4.56542969e-02  3.26171875e-01 -3.80859375e-01  1.70898438e-01\n",
      "  5.66406250e-02 -1.04492188e-01  1.38671875e-01 -1.57226562e-01\n",
      "  3.23486328e-03 -4.80957031e-02 -2.48046875e-01 -6.20117188e-02]\n"
     ]
    },
    {
     "data": {
      "text/plain": [
       "(300,)"
      ]
     },
     "execution_count": 26,
     "metadata": {},
     "output_type": "execute_result"
    }
   ],
   "source": [
    "# word embedding\n",
    "word_vecter = word2Vec['computer']\n",
    "print(word_vecter)\n",
    "word_vecter.shape  # 300次元のベクトル"
   ]
  },
  {
   "cell_type": "code",
   "execution_count": 27,
   "metadata": {
    "colab": {
     "base_uri": "https://localhost:8080/"
    },
    "id": "7woDWTlaWquM",
    "outputId": "6694f3c5-7740-46c8-f9bc-09fe27e28f48"
   },
   "outputs": [
    {
     "data": {
      "text/plain": [
       "[('computers', 0.7979379892349243),\n",
       " ('laptop', 0.6640493273735046),\n",
       " ('laptop_computer', 0.6548868417739868),\n",
       " ('Computer', 0.647333562374115),\n",
       " ('com_puter', 0.6082080006599426),\n",
       " ('technician_Leonard_Luchko', 0.5662748217582703),\n",
       " ('mainframes_minicomputers', 0.5617720484733582),\n",
       " ('laptop_computers', 0.5585449934005737),\n",
       " ('PC', 0.5539618730545044),\n",
       " ('maker_Dell_DELL.O', 0.5519254207611084)]"
      ]
     },
     "execution_count": 27,
     "metadata": {},
     "output_type": "execute_result"
    }
   ],
   "source": [
    "# 類似の単語を取得する(デフォルトで10個)\n",
    "# 出てくるのはコサイン類似度\n",
    "word2Vec.most_similar('computer')"
   ]
  },
  {
   "cell_type": "code",
   "execution_count": 28,
   "metadata": {
    "colab": {
     "base_uri": "https://localhost:8080/"
    },
    "id": "KUOrtm0YYHSB",
    "outputId": "c34ea9d0-7d71-4905-803a-09622928f01f"
   },
   "outputs": [
    {
     "data": {
      "text/plain": [
       "0.76640123"
      ]
     },
     "execution_count": 28,
     "metadata": {},
     "output_type": "execute_result"
    }
   ],
   "source": [
    "# 類似度を計算する\n",
    "word2Vec.similarity('woman', 'man')"
   ]
  },
  {
   "cell_type": "code",
   "execution_count": 33,
   "metadata": {
    "colab": {
     "base_uri": "https://localhost:8080/"
    },
    "id": "YrBak6pRYefR",
    "outputId": "e3221cbd-a600-4296-b5ea-be2aaca774c8"
   },
   "outputs": [
    {
     "name": "stdout",
     "output_type": "stream",
     "text": [
      "[('king', 0.8449392318725586), ('queen', 0.7300517559051514), ('monarch', 0.645466148853302), ('princess', 0.6156251430511475), ('crown_prince', 0.5818676352500916), ('prince', 0.5777117609977722), ('kings', 0.5613663792610168), ('sultan', 0.5376775860786438), ('Queen_Consort', 0.5344247817993164), ('queens', 0.5289887189865112)]\n"
     ]
    }
   ],
   "source": [
    "# kimg - man + woman\n",
    "result_vecter = word2Vec['king'] - word2Vec['man'] + word2Vec['woman']  # - word2Vec['male'] + word2Vec['female']\n",
    "similar_words = word2Vec.most_similar(result_vecter)\n",
    "print(similar_words)"
   ]
  },
  {
   "cell_type": "markdown",
   "metadata": {
    "id": "OEPJ3uOdZZLo"
   },
   "source": [
    "### Spacy"
   ]
  },
  {
   "cell_type": "markdown",
   "metadata": {
    "id": "fm_e_lOzpP1B"
   },
   "source": [
    "###### GloVeをベースにしたアルゴリズム"
   ]
  },
  {
   "cell_type": "code",
   "execution_count": 34,
   "metadata": {
    "colab": {
     "base_uri": "https://localhost:8080/"
    },
    "id": "SZ4VgDhsmi19",
    "outputId": "53c0cefe-e5f3-444c-939e-15521f59b974"
   },
   "outputs": [
    {
     "name": "stdout",
     "output_type": "stream",
     "text": [
      "Requirement already satisfied: spacy in /usr/local/lib/python3.10/dist-packages (3.7.6)\n",
      "Requirement already satisfied: spacy-legacy<3.1.0,>=3.0.11 in /usr/local/lib/python3.10/dist-packages (from spacy) (3.0.12)\n",
      "Requirement already satisfied: spacy-loggers<2.0.0,>=1.0.0 in /usr/local/lib/python3.10/dist-packages (from spacy) (1.0.5)\n",
      "Requirement already satisfied: murmurhash<1.1.0,>=0.28.0 in /usr/local/lib/python3.10/dist-packages (from spacy) (1.0.10)\n",
      "Requirement already satisfied: cymem<2.1.0,>=2.0.2 in /usr/local/lib/python3.10/dist-packages (from spacy) (2.0.8)\n",
      "Requirement already satisfied: preshed<3.1.0,>=3.0.2 in /usr/local/lib/python3.10/dist-packages (from spacy) (3.0.9)\n",
      "Requirement already satisfied: thinc<8.3.0,>=8.2.2 in /usr/local/lib/python3.10/dist-packages (from spacy) (8.2.5)\n",
      "Requirement already satisfied: wasabi<1.2.0,>=0.9.1 in /usr/local/lib/python3.10/dist-packages (from spacy) (1.1.3)\n",
      "Requirement already satisfied: srsly<3.0.0,>=2.4.3 in /usr/local/lib/python3.10/dist-packages (from spacy) (2.4.8)\n",
      "Requirement already satisfied: catalogue<2.1.0,>=2.0.6 in /usr/local/lib/python3.10/dist-packages (from spacy) (2.0.10)\n",
      "Requirement already satisfied: weasel<0.5.0,>=0.1.0 in /usr/local/lib/python3.10/dist-packages (from spacy) (0.4.1)\n",
      "Requirement already satisfied: typer<1.0.0,>=0.3.0 in /usr/local/lib/python3.10/dist-packages (from spacy) (0.12.5)\n",
      "Requirement already satisfied: tqdm<5.0.0,>=4.38.0 in /usr/local/lib/python3.10/dist-packages (from spacy) (4.66.5)\n",
      "Requirement already satisfied: requests<3.0.0,>=2.13.0 in /usr/local/lib/python3.10/dist-packages (from spacy) (2.32.3)\n",
      "Requirement already satisfied: pydantic!=1.8,!=1.8.1,<3.0.0,>=1.7.4 in /usr/local/lib/python3.10/dist-packages (from spacy) (2.9.1)\n",
      "Requirement already satisfied: jinja2 in /usr/local/lib/python3.10/dist-packages (from spacy) (3.1.4)\n",
      "Requirement already satisfied: setuptools in /usr/local/lib/python3.10/dist-packages (from spacy) (71.0.4)\n",
      "Requirement already satisfied: packaging>=20.0 in /usr/local/lib/python3.10/dist-packages (from spacy) (24.1)\n",
      "Requirement already satisfied: langcodes<4.0.0,>=3.2.0 in /usr/local/lib/python3.10/dist-packages (from spacy) (3.4.0)\n",
      "Requirement already satisfied: numpy>=1.19.0 in /usr/local/lib/python3.10/dist-packages (from spacy) (1.26.4)\n",
      "Requirement already satisfied: language-data>=1.2 in /usr/local/lib/python3.10/dist-packages (from langcodes<4.0.0,>=3.2.0->spacy) (1.2.0)\n",
      "Requirement already satisfied: annotated-types>=0.6.0 in /usr/local/lib/python3.10/dist-packages (from pydantic!=1.8,!=1.8.1,<3.0.0,>=1.7.4->spacy) (0.7.0)\n",
      "Requirement already satisfied: pydantic-core==2.23.3 in /usr/local/lib/python3.10/dist-packages (from pydantic!=1.8,!=1.8.1,<3.0.0,>=1.7.4->spacy) (2.23.3)\n",
      "Requirement already satisfied: typing-extensions>=4.6.1 in /usr/local/lib/python3.10/dist-packages (from pydantic!=1.8,!=1.8.1,<3.0.0,>=1.7.4->spacy) (4.12.2)\n",
      "Requirement already satisfied: charset-normalizer<4,>=2 in /usr/local/lib/python3.10/dist-packages (from requests<3.0.0,>=2.13.0->spacy) (3.3.2)\n",
      "Requirement already satisfied: idna<4,>=2.5 in /usr/local/lib/python3.10/dist-packages (from requests<3.0.0,>=2.13.0->spacy) (3.8)\n",
      "Requirement already satisfied: urllib3<3,>=1.21.1 in /usr/local/lib/python3.10/dist-packages (from requests<3.0.0,>=2.13.0->spacy) (2.0.7)\n",
      "Requirement already satisfied: certifi>=2017.4.17 in /usr/local/lib/python3.10/dist-packages (from requests<3.0.0,>=2.13.0->spacy) (2024.8.30)\n",
      "Requirement already satisfied: blis<0.8.0,>=0.7.8 in /usr/local/lib/python3.10/dist-packages (from thinc<8.3.0,>=8.2.2->spacy) (0.7.11)\n",
      "Requirement already satisfied: confection<1.0.0,>=0.0.1 in /usr/local/lib/python3.10/dist-packages (from thinc<8.3.0,>=8.2.2->spacy) (0.1.5)\n",
      "Requirement already satisfied: click>=8.0.0 in /usr/local/lib/python3.10/dist-packages (from typer<1.0.0,>=0.3.0->spacy) (8.1.7)\n",
      "Requirement already satisfied: shellingham>=1.3.0 in /usr/local/lib/python3.10/dist-packages (from typer<1.0.0,>=0.3.0->spacy) (1.5.4)\n",
      "Requirement already satisfied: rich>=10.11.0 in /usr/local/lib/python3.10/dist-packages (from typer<1.0.0,>=0.3.0->spacy) (13.8.1)\n",
      "Requirement already satisfied: cloudpathlib<1.0.0,>=0.7.0 in /usr/local/lib/python3.10/dist-packages (from weasel<0.5.0,>=0.1.0->spacy) (0.19.0)\n",
      "Requirement already satisfied: smart-open<8.0.0,>=5.2.1 in /usr/local/lib/python3.10/dist-packages (from weasel<0.5.0,>=0.1.0->spacy) (7.0.4)\n",
      "Requirement already satisfied: MarkupSafe>=2.0 in /usr/local/lib/python3.10/dist-packages (from jinja2->spacy) (2.1.5)\n",
      "Requirement already satisfied: marisa-trie>=0.7.7 in /usr/local/lib/python3.10/dist-packages (from language-data>=1.2->langcodes<4.0.0,>=3.2.0->spacy) (1.2.0)\n",
      "Requirement already satisfied: markdown-it-py>=2.2.0 in /usr/local/lib/python3.10/dist-packages (from rich>=10.11.0->typer<1.0.0,>=0.3.0->spacy) (3.0.0)\n",
      "Requirement already satisfied: pygments<3.0.0,>=2.13.0 in /usr/local/lib/python3.10/dist-packages (from rich>=10.11.0->typer<1.0.0,>=0.3.0->spacy) (2.16.1)\n",
      "Requirement already satisfied: wrapt in /usr/local/lib/python3.10/dist-packages (from smart-open<8.0.0,>=5.2.1->weasel<0.5.0,>=0.1.0->spacy) (1.16.0)\n",
      "Requirement already satisfied: mdurl~=0.1 in /usr/local/lib/python3.10/dist-packages (from markdown-it-py>=2.2.0->rich>=10.11.0->typer<1.0.0,>=0.3.0->spacy) (0.1.2)\n"
     ]
    }
   ],
   "source": [
    "! pip install spacy"
   ]
  },
  {
   "cell_type": "code",
   "execution_count": 35,
   "metadata": {
    "id": "e4YmT6LrmnLP"
   },
   "outputs": [],
   "source": [
    "import spacy"
   ]
  },
  {
   "cell_type": "code",
   "execution_count": 38,
   "metadata": {
    "id": "wBSrvKZomtq-"
   },
   "outputs": [],
   "source": [
    "# モデルのロード\n",
    "nlp = spacy.load('en_core_web_sm') # Natural Language Processing"
   ]
  },
  {
   "cell_type": "code",
   "execution_count": 46,
   "metadata": {
    "colab": {
     "base_uri": "https://localhost:8080/"
    },
    "id": "sxzUk9s3m3eD",
    "outputId": "160dc659-d278-4843-b5b4-dd6fc88f70c0"
   },
   "outputs": [
    {
     "name": "stdout",
     "output_type": "stream",
     "text": [
      "[-1.6373895  -0.6080451  -0.6566559  -0.10872576 -0.24852699  0.17527935\n",
      "  0.7263826   1.658519   -0.1795105  -0.57576895  0.2937798  -1.0000906\n",
      " -0.29037115 -0.21647847 -0.03370228  0.7057948  -0.7825656  -1.2829045\n",
      "  1.3557242   0.8119894   0.6912364   0.57129043 -0.33364248 -1.0607941\n",
      "  0.8841657   0.25746697 -0.03119813  0.7934418   0.11529171  0.27637503\n",
      " -0.3697168   0.8258281   1.3755571   0.55934906 -0.52683127 -1.1254272\n",
      "  0.20773923  0.47141504  0.38074216 -0.7482727  -0.07192928 -0.063835\n",
      " -0.5294903   1.2106018  -0.67606175 -0.47462302 -0.9633928   1.2195504\n",
      "  0.205295   -0.22966453  0.32949054  1.4156418   1.0020167  -1.0212331\n",
      "  0.24324086  0.15824679  0.63781977 -0.5370287   0.11409536 -0.44219247\n",
      " -0.9631854  -0.11269182  0.22333866 -0.07143135  1.0847998   0.8003227\n",
      " -0.18230852 -0.67244947  0.09219736 -0.5087909   0.4841568   1.1335273\n",
      "  1.3780379  -0.4093325   0.00951386 -0.3827051  -0.5394529  -0.00996476\n",
      "  0.17741328 -1.2335469   0.32314333 -0.4584407  -2.109942   -1.1390811\n",
      " -0.5345154   1.0022924  -0.26251134 -0.5644884  -1.4048696   0.50332975\n",
      " -1.3758938   0.22028446  1.1431644   0.62964964  0.9079737   0.6585612 ]\n",
      "(96,)\n"
     ]
    }
   ],
   "source": [
    "# world embedding\n",
    "print(nlp('computer').vector)\n",
    "print(nlp('computer').vector.shape)"
   ]
  },
  {
   "cell_type": "code",
   "execution_count": 44,
   "metadata": {
    "colab": {
     "base_uri": "https://localhost:8080/"
    },
    "id": "ONykcgmNnciz",
    "outputId": "292faa83-40f2-4718-997e-a7d6f1874681"
   },
   "outputs": [
    {
     "name": "stderr",
     "output_type": "stream",
     "text": [
      "<ipython-input-44-e41c63190dc3>:2: UserWarning: [W007] The model you're using has no word vectors loaded, so the result of the Doc.similarity method will be based on the tagger, parser and NER, which may not give useful similarity judgements. This may happen if you're using one of the small models, e.g. `en_core_web_sm`, which don't ship with word vectors and only use context-sensitive tensors. You can always add your own word vectors, or use one of the larger models instead if available.\n",
      "  nlp('woman').similarity(nlp('man'))\n"
     ]
    },
    {
     "data": {
      "text/plain": [
       "0.9191394603322555"
      ]
     },
     "execution_count": 44,
     "metadata": {},
     "output_type": "execute_result"
    }
   ],
   "source": [
    "# 類似度を取得\n",
    "nlp('woman').similarity(nlp('man'))  # 0.9191394603322555"
   ]
  },
  {
   "cell_type": "markdown",
   "metadata": {
    "id": "jZqdDzadnqdd"
   },
   "source": [
    "### FastText (with Gensim)"
   ]
  },
  {
   "cell_type": "markdown",
   "metadata": {
    "id": "Ci09aA3Jzl9x"
   },
   "source": [
    "gensim.models.FastTextクラスは、FastTextアルゴリズムを実装した単語埋め込みモデルを作成・学習するためのクラスです。主な特徴は以下の通りです:\n",
    "##### Word2Vecの拡張: FastTextはWord2Vecを基にしており、gensim.models.Word2Vecクラスを継承しています。\n",
    "##### サブワード情報の利用: 単語をn-gramに分解し、サブワード情報を活用することで、未知語や稀少語に対してもベクトル表現を生成できます。\n",
    "##### 学習方法: CBOWとskip-gramの両方の学習方法をサポートしています。\n",
    "モデルの保存と読み込み: 学習したモデルの保存や、事前学習済みモデルの読み込みが可能です。\n",
    "##### 未知語への対応: 学習データに存在しない単語に対してもベクトル表現を生成できます。\n",
    "##### 多言語対応: さまざまな言語のテキストデータで学習可能です。\n",
    "ハイパーパラメータ: ベクトルサイズ、ウィンドウサイズ、最小出現回数、エポック数など、多くのパラメータを調整できます。"
   ]
  },
  {
   "cell_type": "code",
   "execution_count": 47,
   "metadata": {
    "id": "pfwW0ctwzrU3"
   },
   "outputs": [],
   "source": [
    "import gensim.downloader as api"
   ]
  },
  {
   "cell_type": "code",
   "execution_count": 49,
   "metadata": {
    "colab": {
     "base_uri": "https://localhost:8080/"
    },
    "id": "DbpNMZxf0AsR",
    "outputId": "e074bb8b-aa55-4518-96cc-a74a3183f2e5"
   },
   "outputs": [
    {
     "data": {
      "text/plain": [
       "{'num_records': 1701,\n",
       " 'record_format': 'list of str (tokens)',\n",
       " 'file_size': 33182058,\n",
       " 'reader_code': 'https://github.com/RaRe-Technologies/gensim-data/releases/download/text8/__init__.py',\n",
       " 'license': 'not found',\n",
       " 'description': 'First 100,000,000 bytes of plain text from Wikipedia. Used for testing purposes; see wiki-english-* for proper full Wikipedia datasets.',\n",
       " 'checksum': '68799af40b6bda07dfa47a32612e5364',\n",
       " 'file_name': 'text8.gz',\n",
       " 'read_more': ['http://mattmahoney.net/dc/textdata.html'],\n",
       " 'parts': 1}"
      ]
     },
     "execution_count": 49,
     "metadata": {},
     "output_type": "execute_result"
    }
   ],
   "source": [
    "# text8のデータセットの情報\n",
    "api.info('text8')"
   ]
  },
  {
   "cell_type": "code",
   "execution_count": 50,
   "metadata": {
    "colab": {
     "base_uri": "https://localhost:8080/"
    },
    "id": "JL8Dhdni0KwN",
    "outputId": "8229e330-d2fc-4d66-e7e5-bfaf9be229a3"
   },
   "outputs": [
    {
     "name": "stdout",
     "output_type": "stream",
     "text": [
      "[==================================================] 100.0% 31.6/31.6MB downloaded\n"
     ]
    }
   ],
   "source": [
    "dataset = api.load('text8')"
   ]
  },
  {
   "cell_type": "code",
   "execution_count": 55,
   "metadata": {
    "colab": {
     "base_uri": "https://localhost:8080/"
    },
    "id": "pqrVzIza0hZQ",
    "outputId": "377ef03a-0f91-4af7-f1d4-ea3c1109bc91"
   },
   "outputs": [
    {
     "data": {
      "text/plain": [
       "['anarchism',\n",
       " 'originated',\n",
       " 'as',\n",
       " 'a',\n",
       " 'term',\n",
       " 'of',\n",
       " 'abuse',\n",
       " 'first',\n",
       " 'used',\n",
       " 'against']"
      ]
     },
     "execution_count": 55,
     "metadata": {},
     "output_type": "execute_result"
    }
   ],
   "source": [
    "next(iter(dataset))[:10]"
   ]
  },
  {
   "cell_type": "code",
   "execution_count": 56,
   "metadata": {
    "colab": {
     "base_uri": "https://localhost:8080/"
    },
    "id": "5o66xnaZ058C",
    "outputId": "34e429f0-ece5-4de5-b6d7-f6f7c7c63c76"
   },
   "outputs": [
    {
     "name": "stdout",
     "output_type": "stream",
     "text": [
      "Training took 683.738658\n"
     ]
    }
   ],
   "source": [
    "# 学習\n",
    "import time\n",
    "from gensim.models import FastText\n",
    "# FastTextモデルでは、sgパラメータを使ってCBOWとskip-gramを切り替えることができる:\n",
    "# sg=0（デフォルト値）: CBOWモデルを使用\n",
    "# sg=1: Skip-gramモデルを使用\n",
    "start_time = time.time()\n",
    "model = FastText(dataset, vector_size=100, window=5, min_count=5,workers=4)\n",
    "end_time = time.time()\n",
    "training_time = end_time - start_time\n",
    "print(f\"Training took {training_time:2f}\")"
   ]
  },
  {
   "cell_type": "code",
   "execution_count": 57,
   "metadata": {
    "colab": {
     "base_uri": "https://localhost:8080/"
    },
    "id": "DKr82fle2nQk",
    "outputId": "3e8dadd5-871b-41f1-896d-5f60cc0a0de6"
   },
   "outputs": [
    {
     "data": {
      "text/plain": [
       "array([-0.6310219 , -0.43088117, -0.73242086, -0.8479438 ,  0.13219036,\n",
       "       -1.3451334 , -0.6716183 ,  2.8736567 , -0.7191575 , -2.014758  ,\n",
       "        0.2759506 , -1.5634896 ,  3.1581528 ,  3.1189227 ,  2.1013887 ,\n",
       "       -0.655212  , -3.011386  , -1.0436983 ,  1.1530657 , -0.12958491,\n",
       "        0.23828767, -1.7438835 ,  1.5098817 ,  2.245927  ,  0.7163654 ,\n",
       "        1.4178075 , -2.6695218 , -1.2843001 , -1.7613577 , -1.0593234 ,\n",
       "        0.4105746 ,  2.6161335 , -0.04117085,  2.2675288 ,  0.73867416,\n",
       "        1.5392488 ,  0.4401874 ,  0.192323  , -1.7538459 , -1.4514574 ,\n",
       "       -0.18741283, -1.428633  ,  1.043824  ,  3.0407867 , -0.47679445,\n",
       "       -2.3920453 , -2.5954747 , -1.3189179 ,  0.20542304, -2.408414  ,\n",
       "        1.658689  ,  0.264226  , -0.8284922 , -0.03770952, -0.1764593 ,\n",
       "        1.8826362 ,  1.2724019 ,  0.0724032 , -0.2232734 , -0.81018037,\n",
       "        0.8099029 ,  1.9850342 , -0.78439814, -0.602875  , -0.01670636,\n",
       "        0.51287323,  0.3230763 ,  2.4051225 ,  1.0771964 ,  0.08999429,\n",
       "        0.7316798 , -1.7949454 ,  2.2838278 , -2.8841612 , -1.9097601 ,\n",
       "       -0.00596529,  0.32261208, -1.4542419 , -0.82508725,  0.3791757 ,\n",
       "       -2.9310186 , -1.5088623 ,  0.8716203 ,  0.747891  , -3.7619715 ,\n",
       "       -0.39713028,  2.5463297 ,  0.38081604,  1.0141022 ,  0.89919955,\n",
       "        0.4704471 , -0.42806935, -1.0906752 ,  4.9670954 , -0.9989726 ,\n",
       "       -0.815018  , -2.2683113 , -0.09781666, -3.1993983 ,  1.0704399 ],\n",
       "      dtype=float32)"
      ]
     },
     "execution_count": 57,
     "metadata": {},
     "output_type": "execute_result"
    }
   ],
   "source": [
    "# word embeling\n",
    "model.wv['computer']"
   ]
  },
  {
   "cell_type": "code",
   "execution_count": 59,
   "metadata": {
    "colab": {
     "base_uri": "https://localhost:8080/"
    },
    "id": "EtfCr4b667cc",
    "outputId": "144a3dfa-dbc4-4562-dc47-11643e6b6ed5"
   },
   "outputs": [
    {
     "data": {
      "text/plain": [
       "0.7296425"
      ]
     },
     "execution_count": 59,
     "metadata": {},
     "output_type": "execute_result"
    }
   ],
   "source": [
    "similarity = model.wv.similarity('computer', 'software')\n",
    "similarity"
   ]
  },
  {
   "cell_type": "markdown",
   "metadata": {
    "id": "v3mqUAmt7JCV"
   },
   "source": [
    "### Embedding Layer"
   ]
  },
  {
   "cell_type": "code",
   "execution_count": 5,
   "metadata": {
    "id": "zumvSZhoGwre"
   },
   "outputs": [],
   "source": [
    "import torch"
   ]
  },
  {
   "cell_type": "code",
   "execution_count": 6,
   "metadata": {
    "colab": {
     "base_uri": "https://localhost:8080/"
    },
    "id": "mxj-NEOBF9Zs",
    "outputId": "95c90ec9-fa8e-44d4-f7b3-dd4a8e9e0ba8"
   },
   "outputs": [
    {
     "name": "stderr",
     "output_type": "stream",
     "text": [
      "<ipython-input-6-54cda6a3b71f>:7: UserWarning: The given NumPy array is not writable, and PyTorch does not support non-writable tensors. This means writing to this tensor will result in undefined behavior. You may want to copy the array to protect its data or make it writable before converting it to a tensor. This type of warning will be suppressed for the rest of this program. (Triggered internally at ../torch/csrc/utils/tensor_numpy.cpp:206.)\n",
      "  embedding_matrix[i] = torch.from_numpy(word2Vec[word])\n"
     ]
    }
   ],
   "source": [
    "# embedding matrix\n",
    "vocab_size = len(word2Vec) # 3000000 実際には手元データのvocab sizeを指定する\n",
    "enbedding_dim = 300 # 300次元のデータ\n",
    "\n",
    "embedding_matrix = torch.zeros((vocab_size, enbedding_dim))\n",
    "for i, word in enumerate(word2Vec.key_to_index.keys()):\n",
    "  embedding_matrix[i] = torch.from_numpy(word2Vec[word])"
   ]
  },
  {
   "cell_type": "code",
   "execution_count": 8,
   "metadata": {
    "colab": {
     "base_uri": "https://localhost:8080/"
    },
    "id": "KCBU08TUMrj4",
    "outputId": "eaa9e241-1f2c-438d-89d6-7f16942994a2"
   },
   "outputs": [
    {
     "name": "stdout",
     "output_type": "stream",
     "text": [
      "tensor([[ 1.1292e-03, -8.9645e-04,  3.1853e-04,  ..., -1.5640e-03,\n",
      "         -1.2302e-04, -8.6308e-05],\n",
      "        [ 7.0312e-02,  8.6914e-02,  8.7891e-02,  ..., -4.7607e-02,\n",
      "          1.4465e-02, -6.2500e-02],\n",
      "        [-1.1780e-02, -4.7363e-02,  4.4678e-02,  ...,  7.1289e-02,\n",
      "         -3.4912e-02,  2.4170e-02],\n",
      "        ...,\n",
      "        [-1.9653e-02, -9.0820e-02, -1.9409e-02,  ..., -1.6357e-02,\n",
      "         -1.3428e-02,  4.6631e-02],\n",
      "        [ 3.2715e-02, -3.2227e-02,  3.6133e-02,  ..., -8.8501e-03,\n",
      "          2.6978e-02,  1.9043e-02],\n",
      "        [ 4.5166e-02, -4.5166e-02, -3.9368e-03,  ...,  7.9590e-02,\n",
      "          7.2266e-02,  1.3000e-02]])\n"
     ]
    }
   ],
   "source": [
    "embedding_matrix.shape\n",
    "print(embedding_matrix)"
   ]
  },
  {
   "cell_type": "code",
   "execution_count": 9,
   "metadata": {
    "id": "8RWfSewXMIn6"
   },
   "outputs": [],
   "source": [
    "# embedding layerの挙動を確認する\n",
    "import torch.nn as nn\n",
    "embedding_layer = nn.Embedding.from_pretrained(embedding_matrix, freeze=False)"
   ]
  },
  {
   "cell_type": "code",
   "execution_count": 12,
   "metadata": {
    "id": "d0w9_qNjNWQi"
   },
   "outputs": [],
   "source": [
    "# forwardのテスト\n",
    "text = torch.tensor([[1, 2, 3], [4, 5, 6]])\n",
    "out = embedding_layer(text)"
   ]
  },
  {
   "cell_type": "code",
   "execution_count": 13,
   "metadata": {
    "colab": {
     "base_uri": "https://localhost:8080/"
    },
    "id": "TCXr8NbPOVfz",
    "outputId": "c65b6cb3-da1b-4ef4-f242-e2006eb2440d"
   },
   "outputs": [
    {
     "data": {
      "text/plain": [
       "tensor([[[ 0.0703,  0.0869,  0.0879,  ..., -0.0476,  0.0145, -0.0625],\n",
       "         [-0.0118, -0.0474,  0.0447,  ...,  0.0713, -0.0349,  0.0242],\n",
       "         [-0.0157, -0.0283,  0.0835,  ...,  0.0069,  0.0610, -0.1484]],\n",
       "\n",
       "        [[ 0.0070, -0.0732,  0.1719,  ...,  0.0112,  0.1641,  0.1069],\n",
       "         [ 0.0267, -0.0908,  0.0278,  ..., -0.1167, -0.0294, -0.0708],\n",
       "         [ 0.1689, -0.0630, -0.0003,  ...,  0.0238, -0.1235,  0.0164]]],\n",
       "       grad_fn=<EmbeddingBackward0>)"
      ]
     },
     "execution_count": 13,
     "metadata": {},
     "output_type": "execute_result"
    }
   ],
   "source": [
    "out"
   ]
  },
  {
   "cell_type": "code",
   "execution_count": 19,
   "metadata": {
    "colab": {
     "base_uri": "https://localhost:8080/"
    },
    "id": "XhRVZD3wPQax",
    "outputId": "681fa808-a64f-44fd-bf24-eca715f64e4f"
   },
   "outputs": [
    {
     "name": "stdout",
     "output_type": "stream",
     "text": [
      "word : in\n"
     ]
    }
   ],
   "source": [
    "# 単語とその埋め込みベクトルの確認\n",
    "i, j = 0, 0\n",
    "word = list(word2Vec.key_to_index.keys())[text[i, j]]\n",
    "print(f\"word : {word}\")\n",
    "embedding_layer(text[i, j])\n",
    "assert torch.all(embedding_layer(text[i, j]) == embedding_layer(text[i, j]))"
   ]
  },
  {
   "cell_type": "code",
   "execution_count": 21,
   "metadata": {
    "colab": {
     "base_uri": "https://localhost:8080/"
    },
    "id": "vImERWOERF5o",
    "outputId": "f933f484-e1ea-4759-83b6-e79da76f2df3"
   },
   "outputs": [
    {
     "data": {
      "text/plain": [
       "tensor(True)"
      ]
     },
     "execution_count": 21,
     "metadata": {},
     "output_type": "execute_result"
    }
   ],
   "source": [
    "# 重みから直接indexした結果\n",
    "assert torch.all(embedding_layer.weight[text, :] == out)"
   ]
  },
  {
   "cell_type": "markdown",
   "metadata": {
    "id": "WYzbVIEzHq9S"
   },
   "source": [
    "### 補足"
   ]
  },
  {
   "cell_type": "code",
   "execution_count": 16,
   "metadata": {
    "colab": {
     "base_uri": "https://localhost:8080/"
    },
    "id": "Xp0kcPemGa71",
    "outputId": "0629f6c2-ab71-4128-9f1d-d6f577512bdf"
   },
   "outputs": [
    {
     "name": "stdout",
     "output_type": "stream",
     "text": [
      "</s>\n",
      "in\n",
      "for\n",
      "that\n",
      "is\n"
     ]
    }
   ],
   "source": [
    "count = 0\n",
    "for word in word2Vec.key_to_index.keys():\n",
    "  if count <= 4:\n",
    "    print(word)# key (computerなど)をイテレーションで返してくれる\n",
    "    count += 1\n",
    "  else:\n",
    "    break"
   ]
  },
  {
   "cell_type": "code",
   "execution_count": 22,
   "metadata": {
    "id": "2vURq6YXOD-S"
   },
   "outputs": [],
   "source": [
    "# asert\n",
    "# Pythonのassertは、プログラム内で条件をチェックし、その条件が偽の場合にエラーを発生させるためのデバッグツール\n",
    "assert 10 > 9"
   ]
  },
  {
   "cell_type": "code",
   "execution_count": 23,
   "metadata": {
    "colab": {
     "base_uri": "https://localhost:8080/",
     "height": 145
    },
    "id": "EZ5dxJxtSHKi",
    "outputId": "bcc95c5a-aba5-40db-a76a-09c8348b2e91"
   },
   "outputs": [
    {
     "ename": "AssertionError",
     "evalue": "",
     "output_type": "error",
     "traceback": [
      "\u001b[0;31m---------------------------------------------------------------------------\u001b[0m",
      "\u001b[0;31mAssertionError\u001b[0m                            Traceback (most recent call last)",
      "\u001b[0;32m<ipython-input-23-af24cdce9adc>\u001b[0m in \u001b[0;36m<cell line: 1>\u001b[0;34m()\u001b[0m\n\u001b[0;32m----> 1\u001b[0;31m \u001b[0;32massert\u001b[0m \u001b[0;36m10\u001b[0m \u001b[0;34m<\u001b[0m \u001b[0;36m9\u001b[0m\u001b[0;34m\u001b[0m\u001b[0;34m\u001b[0m\u001b[0m\n\u001b[0m",
      "\u001b[0;31mAssertionError\u001b[0m: "
     ]
    }
   ],
   "source": [
    "assert 10 < 9"
   ]
  },
  {
   "cell_type": "code",
   "execution_count": null,
   "metadata": {
    "id": "CArEbyDjSJKT"
   },
   "outputs": [],
   "source": []
  }
 ],
 "metadata": {
  "colab": {
   "provenance": []
  },
  "kernelspec": {
   "display_name": "Python 3 (ipykernel)",
   "language": "python",
   "name": "python3"
  },
  "language_info": {
   "codemirror_mode": {
    "name": "ipython",
    "version": 3
   },
   "file_extension": ".py",
   "mimetype": "text/x-python",
   "name": "python",
   "nbconvert_exporter": "python",
   "pygments_lexer": "ipython3",
   "version": "3.8.18"
  }
 },
 "nbformat": 4,
 "nbformat_minor": 4
}
