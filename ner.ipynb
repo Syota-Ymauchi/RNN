{
 "cells": [
  {
   "cell_type": "markdown",
   "id": "c9470219-5d92-4b71-a854-4b8ad38fb3ea",
   "metadata": {},
   "source": [
    "### NER"
   ]
  },
  {
   "cell_type": "markdown",
   "id": "08ed11e0-28f6-42f1-bcca-e60e07e20ec6",
   "metadata": {},
   "source": [
    "### データ準備"
   ]
  },
  {
   "cell_type": "code",
   "execution_count": 1,
   "id": "019bb8f0-d22b-4e8c-858b-07a523bf5b35",
   "metadata": {},
   "outputs": [],
   "source": [
    "import pickle # ピクル\n",
    "from sklearn.preprocessing import LabelEncoder\n",
    "from sklearn.model_selection import train_test_split\n",
    "import torch\n",
    "import torch.optim as optim\n",
    "import torch.nn as nn\n",
    "from torch.nn.utils.rnn import pad_sequence\n",
    "from torch.utils.data import DataLoader, TensorDataset\n",
    "from tqdm import tqdm\n",
    "import matplotlib.pyplot as plt"
   ]
  },
  {
   "cell_type": "markdown",
   "id": "9af391d3-711e-4fbe-bf7f-4dcf3d9079ad",
   "metadata": {},
   "source": [
    "##### 'r': 読み取り専用 (デフォルト)\n",
    "##### 'w': 書き込み専用（既存のファイル内容は消去）\n",
    "##### 'a': 追記モード\n",
    "##### 'b': バイナリーモード（例: 'rb', 'wb'）"
   ]
  },
  {
   "cell_type": "markdown",
   "id": "dbdff55e-ec13-41c4-a6e9-38d48c92bdae",
   "metadata": {},
   "source": [
    "### データをロード"
   ]
  },
  {
   "cell_type": "code",
   "execution_count": 2,
   "id": "437f8c7b-7d7b-4253-8ab1-7165a12d8fd1",
   "metadata": {},
   "outputs": [],
   "source": [
    "def load_dataset(sentences_file_name='ner_dataset_sentences.txt', label_file_name='ner_dataset_labels.txt'):\n",
    "    with open(sentences_file_name, 'rb') as fp: # rbはバイナリーファイルの時\n",
    "       sentence = pickle.load(fp) # 開いた後のものを引数に入れる\n",
    "    \n",
    "    with open(label_file_name, 'rb') as fp: # rbはバイナリーファイルの時\n",
    "       labels = pickle.load(fp)\n",
    "    return sentence, labels\n"
   ]
  },
  {
   "cell_type": "code",
   "execution_count": 3,
   "id": "0ad77da2-6147-4777-b394-04eae55c26c8",
   "metadata": {},
   "outputs": [],
   "source": [
    "sentences, labels = load_dataset()"
   ]
  },
  {
   "cell_type": "code",
   "execution_count": 4,
   "id": "3e865af4-06e6-48fb-93fa-a251c6b91eff",
   "metadata": {},
   "outputs": [
    {
     "data": {
      "text/plain": [
       "['The cat sat on the mat .',\n",
       " 'John lives in New York .',\n",
       " 'I have two dogs .',\n",
       " 'She works at Google .',\n",
       " 'The Eiffel Tower is in Paris .',\n",
       " 'He is from Spain .',\n",
       " 'I visited the Great Wall of China .',\n",
       " 'She is studying at Oxford University .',\n",
       " 'He works for the United Nations .',\n",
       " 'Berlin is the capital of Germany .']"
      ]
     },
     "execution_count": 4,
     "metadata": {},
     "output_type": "execute_result"
    }
   ],
   "source": [
    "sentences[:10]"
   ]
  },
  {
   "cell_type": "code",
   "execution_count": 5,
   "id": "87b0988f-d138-4dd1-93a1-aadcaed1597a",
   "metadata": {},
   "outputs": [
    {
     "data": {
      "text/plain": [
       "[['O', 'O', 'O', 'O', 'O', 'O', 'O'],\n",
       " ['B-per', 'O', 'O', 'B-geo', 'I-geo', 'O'],\n",
       " ['O', 'O', 'O', 'O', 'O'],\n",
       " ['O', 'O', 'O', 'B-org', 'O'],\n",
       " ['O', 'B-geo', 'I-geo', 'O', 'O', 'B-geo', 'O'],\n",
       " ['O', 'O', 'O', 'B-geo', 'O'],\n",
       " ['O', 'O', 'O', 'B-geo', 'I-geo', 'I-geo', 'I-geo', 'O'],\n",
       " ['O', 'O', 'O', 'O', 'B-org', 'I-org', 'O'],\n",
       " ['O', 'O', 'O', 'O', 'B-org', 'I-org', 'O'],\n",
       " ['B-geo', 'O', 'O', 'O', 'O', 'B-geo', 'O']]"
      ]
     },
     "execution_count": 5,
     "metadata": {},
     "output_type": "execute_result"
    }
   ],
   "source": [
    "labels[:10]"
   ]
  },
  {
   "cell_type": "markdown",
   "id": "86ab9113-407f-4613-9537-31900543bb6d",
   "metadata": {},
   "source": [
    "### ラベルエンコード"
   ]
  },
  {
   "cell_type": "markdown",
   "id": "c0069901-0fec-4d35-8adb-a3cac5c3110e",
   "metadata": {},
   "source": [
    "### 補足 : padding用に1を足す"
   ]
  },
  {
   "cell_type": "code",
   "execution_count": 7,
   "id": "ef3c8098-63de-4afb-ace9-b55d1636072a",
   "metadata": {},
   "outputs": [
    {
     "name": "stdout",
     "output_type": "stream",
     "text": [
      "['O', 'O', 'O', 'O', 'O', 'O', 'O']\n",
      "The cat sat on the mat .\n"
     ]
    },
    {
     "data": {
      "text/plain": [
       "array([7, 7, 7, 7, 7, 7, 7])"
      ]
     },
     "execution_count": 7,
     "metadata": {},
     "output_type": "execute_result"
    }
   ],
   "source": [
    "print(labels[0])\n",
    "print(sentences[0])\n",
    "label_encoder.transform(labels[0]) +1"
   ]
  },
  {
   "cell_type": "markdown",
   "id": "8cf3a610-3167-45cf-90d6-d403a9bfa71c",
   "metadata": {},
   "source": [
    "### 辞書作成とエンコード"
   ]
  },
  {
   "cell_type": "code",
   "execution_count": 8,
   "id": "92463716-9c70-44c7-81f8-71d39c47b09f",
   "metadata": {},
   "outputs": [],
   "source": [
    "# 辞書初期化\n",
    "word2indx = {\"<PAD>\":0}"
   ]
  },
  {
   "cell_type": "code",
   "execution_count": 9,
   "id": "da371985-505e-4d04-8143-73f2748c0786",
   "metadata": {},
   "outputs": [],
   "source": [
    "encorded_sentences = []\n",
    "for sentence in sentences:\n",
    "    encorded_sentence = [word2indx.setdefault(word, len(word2indx)) for word in sentence.split()]\n",
    "    encorded_sentences.append(encorded_sentence)"
   ]
  },
  {
   "cell_type": "code",
   "execution_count": 10,
   "id": "35af856f-6397-48b4-a4d2-c31441bd9b0e",
   "metadata": {},
   "outputs": [
    {
     "data": {
      "text/plain": [
       "[[1, 2, 3, 4, 5, 6, 7],\n",
       " [8, 9, 10, 11, 12, 7],\n",
       " [13, 14, 15, 16, 7],\n",
       " [17, 18, 19, 20, 7],\n",
       " [1, 21, 22, 23, 10, 24, 7],\n",
       " [25, 23, 26, 27, 7],\n",
       " [13, 28, 5, 29, 30, 31, 32, 7],\n",
       " [17, 23, 33, 19, 34, 35, 7],\n",
       " [25, 18, 36, 5, 37, 38, 7],\n",
       " [39, 23, 5, 40, 31, 41, 7]]"
      ]
     },
     "execution_count": 10,
     "metadata": {},
     "output_type": "execute_result"
    }
   ],
   "source": [
    "encorded_sentences[:10]"
   ]
  },
  {
   "cell_type": "markdown",
   "id": "df10f57f-313b-4268-abda-209593946fb2",
   "metadata": {},
   "source": [
    "### 学習データとテストデータに分割"
   ]
  },
  {
   "cell_type": "code",
   "execution_count": 11,
   "id": "74df8c84-63f1-4207-b3c2-46c595b4612f",
   "metadata": {},
   "outputs": [],
   "source": [
    "X_train, X_val, y_train, y_val, train_sentenses, val_sentences = train_test_split(encorded_sentences, encoded_labels, sentences, test_size=0.2, random_state=42) "
   ]
  },
  {
   "cell_type": "code",
   "execution_count": 12,
   "id": "e015d996-8207-4f9e-9b42-d6a452146b04",
   "metadata": {},
   "outputs": [
    {
     "data": {
      "text/plain": [
       "[[94, 51, 95, 96, 97, 98, 7], [17, 18, 19, 87, 7], [1, 50, 51, 52, 10, 53, 7]]"
      ]
     },
     "execution_count": 12,
     "metadata": {},
     "output_type": "execute_result"
    }
   ],
   "source": [
    "X_train[:3]"
   ]
  },
  {
   "cell_type": "code",
   "execution_count": 13,
   "id": "ed67259c-b68d-4946-99ff-6d7d5a02ebbf",
   "metadata": {},
   "outputs": [
    {
     "data": {
      "text/plain": [
       "['They are visiting London this summer .',\n",
       " 'She works at Facebook .',\n",
       " 'The Pyramids are located in Egypt .']"
      ]
     },
     "execution_count": 13,
     "metadata": {},
     "output_type": "execute_result"
    }
   ],
   "source": [
    "train_sentenses[:3]"
   ]
  },
  {
   "cell_type": "markdown",
   "id": "34f75bd7-ec93-4d62-bcb3-3aaee2cd7b03",
   "metadata": {},
   "source": [
    "### Padding"
   ]
  },
  {
   "cell_type": "code",
   "execution_count": 14,
   "id": "cc653b27-dbb2-4290-9082-0dd72e71053e",
   "metadata": {},
   "outputs": [],
   "source": [
    "seq1 = torch.tensor([1, 2, 3])\n",
    "seq2 = torch.tensor([4, 5])\n",
    "seq3 = torch.tensor([6, 7, 8, 9])"
   ]
  },
  {
   "cell_type": "code",
   "execution_count": 15,
   "id": "899c1749-5fff-41e2-80eb-b0a348eec4b4",
   "metadata": {},
   "outputs": [
    {
     "name": "stdout",
     "output_type": "stream",
     "text": [
      "tensor([[1, 2, 3, 0],\n",
      "        [4, 5, 0, 0],\n",
      "        [6, 7, 8, 9]])\n"
     ]
    }
   ],
   "source": [
    "sequence = [seq1, seq2, seq3]\n",
    "padding_sequence = pad_sequence(sequence, batch_first=True)\n",
    "print(padding_sequence)"
   ]
  },
  {
   "cell_type": "code",
   "execution_count": 16,
   "id": "be336d21-d4a1-423c-b9c3-77f41f684568",
   "metadata": {},
   "outputs": [],
   "source": [
    "X_train = pad_sequence([torch.tensor(x) for x in X_train], batch_first=True) # リストの中身はtensorである必要があるのでtorch.tensor(x)の処理が必要\n",
    "X_val = pad_sequence([torch.tensor(x) for x in X_val], batch_first=True)  # ここではfor文各文章を取り出しでpaddingを行っている(デォルトで0padding)\n",
    "y_train = pad_sequence([torch.tensor(y) for y in y_train], batch_first=True)\n",
    "y_val = pad_sequence([torch.tensor(y) for y in y_val], batch_first=True)"
   ]
  },
  {
   "cell_type": "code",
   "execution_count": 17,
   "id": "a8836290-45fb-4841-b467-0d8029c00b7c",
   "metadata": {},
   "outputs": [
    {
     "data": {
      "text/plain": [
       "tensor([[ 94,  51,  95,  96,  97,  98,   7,   0,   0,   0],\n",
       "        [ 17,  18,  19,  87,   7,   0,   0,   0,   0,   0],\n",
       "        [  1,  50,  51,  52,  10,  53,   7,   0,   0,   0],\n",
       "        [  1,   2,   3,   4,   5,   6,   7,   0,   0,   0],\n",
       "        [  1,  21,  22,  23,  10,  24,   7,   0,   0,   0],\n",
       "        [ 25,  23,  60,  61,  24,  36,  62,  63,   7,   0],\n",
       "        [ 25,  23,  26,  27,   7,   0,   0,   0,   0,   0],\n",
       "        [  1,  54,  55,  23,  10,  56,   7,   0,   0,   0],\n",
       "        [  1,  47,  23,   5,  48,  49,  10,   5,  46,   7],\n",
       "        [  1,  82,  22,  31,  83,  23,  10,  84,   7,   0],\n",
       "        [  8,   9,  10,  11,  12,   7,   0,   0,   0,   0],\n",
       "        [ 13,  14,  15,  16,   7,   0,   0,   0,   0,   0],\n",
       "        [  1,  88,  89,  23,  10,  90,   7,   0,   0,   0],\n",
       "        [ 17,  18,  19,  20,   7,   0,   0,   0,   0,   0],\n",
       "        [ 78,  79,  80,  62,  81,   7,   0,   0,   0,   0],\n",
       "        [ 17,  23,  33,  19,   5,  35,  31,  91,   7,   0],\n",
       "        [ 25,  67,  19,  68,   7,   0,   0,   0,   0,   0],\n",
       "        [ 25,  18,  36,   5,  99, 100, 101,   7,   0,   0],\n",
       "        [ 73,  23,  74,  36,  75,  76,  77,   7,   0,   0],\n",
       "        [ 17,  23,  33,  19,  34,  35,   7,   0,   0,   0],\n",
       "        [ 42,  43,  23,   5,  44,  45,  10,   5,  46,   7],\n",
       "        [ 13,  57,  19,  58,   7,   0,   0,   0,   0,   0],\n",
       "        [ 69,  70,  23,  62,  71,  72,   7,   0,   0,   0],\n",
       "        [ 13,  28,   5,  29,  30,  31,  32,   7,   0,   0]])"
      ]
     },
     "execution_count": 17,
     "metadata": {},
     "output_type": "execute_result"
    }
   ],
   "source": [
    "X_train # paddingされている"
   ]
  },
  {
   "cell_type": "code",
   "execution_count": 18,
   "id": "95db0fce-5eb5-4fbf-ba25-faa6c2f8a36e",
   "metadata": {
    "scrolled": true
   },
   "outputs": [
    {
     "data": {
      "text/plain": [
       "{'<PAD>': 0,\n",
       " 'The': 1,\n",
       " 'cat': 2,\n",
       " 'sat': 3,\n",
       " 'on': 4,\n",
       " 'the': 5,\n",
       " 'mat': 6,\n",
       " '.': 7,\n",
       " 'John': 8,\n",
       " 'lives': 9,\n",
       " 'in': 10,\n",
       " 'New': 11,\n",
       " 'York': 12,\n",
       " 'I': 13,\n",
       " 'have': 14,\n",
       " 'two': 15,\n",
       " 'dogs': 16,\n",
       " 'She': 17,\n",
       " 'works': 18,\n",
       " 'at': 19,\n",
       " 'Google': 20,\n",
       " 'Eiffel': 21,\n",
       " 'Tower': 22,\n",
       " 'is': 23,\n",
       " 'Paris': 24,\n",
       " 'He': 25,\n",
       " 'from': 26,\n",
       " 'Spain': 27,\n",
       " 'visited': 28,\n",
       " 'Great': 29,\n",
       " 'Wall': 30,\n",
       " 'of': 31,\n",
       " 'China': 32,\n",
       " 'studying': 33,\n",
       " 'Oxford': 34,\n",
       " 'University': 35,\n",
       " 'for': 36,\n",
       " 'United': 37,\n",
       " 'Nations': 38,\n",
       " 'Berlin': 39,\n",
       " 'capital': 40,\n",
       " 'Germany': 41,\n",
       " 'Mount': 42,\n",
       " 'Everest': 43,\n",
       " 'highest': 44,\n",
       " 'peak': 45,\n",
       " 'world': 46,\n",
       " 'Nile': 47,\n",
       " 'longest': 48,\n",
       " 'river': 49,\n",
       " 'Pyramids': 50,\n",
       " 'are': 51,\n",
       " 'located': 52,\n",
       " 'Egypt': 53,\n",
       " 'Sahara': 54,\n",
       " 'desert': 55,\n",
       " 'Africa': 56,\n",
       " 'work': 57,\n",
       " 'Microsoft': 58,\n",
       " 'Australia': 59,\n",
       " 'going': 60,\n",
       " 'to': 61,\n",
       " 'a': 62,\n",
       " 'meeting': 63,\n",
       " 'Amazon': 64,\n",
       " 'largest': 65,\n",
       " 'rainforest': 66,\n",
       " 'studied': 67,\n",
       " 'Harvard': 68,\n",
       " 'Mona': 69,\n",
       " 'Lisa': 70,\n",
       " 'famous': 71,\n",
       " 'painting': 72,\n",
       " 'Shakespeare': 73,\n",
       " 'known': 74,\n",
       " 'Romeo': 75,\n",
       " 'and': 76,\n",
       " 'Juliet': 77,\n",
       " 'Albert': 78,\n",
       " 'Einstein': 79,\n",
       " 'was': 80,\n",
       " 'physicist': 81,\n",
       " 'Leaning': 82,\n",
       " 'Pisa': 83,\n",
       " 'Italy': 84,\n",
       " 'Barrier': 85,\n",
       " 'Reef': 86,\n",
       " 'Facebook': 87,\n",
       " 'Grand': 88,\n",
       " 'Canyon': 89,\n",
       " 'Arizona': 90,\n",
       " 'Tokyo': 91,\n",
       " 'Los': 92,\n",
       " 'Angeles': 93,\n",
       " 'They': 94,\n",
       " 'visiting': 95,\n",
       " 'London': 96,\n",
       " 'this': 97,\n",
       " 'summer': 98,\n",
       " 'World': 99,\n",
       " 'Health': 100,\n",
       " 'Organization': 101}"
      ]
     },
     "execution_count": 18,
     "metadata": {},
     "output_type": "execute_result"
    }
   ],
   "source": [
    "word2indx"
   ]
  },
  {
   "cell_type": "markdown",
   "id": "c8678b12-1436-4f9f-9d56-5e429bf01418",
   "metadata": {},
   "source": [
    "### NERのモデル"
   ]
  },
  {
   "cell_type": "code",
   "execution_count": 19,
   "id": "5369d470-1e86-4a92-ba53-576364f9d49a",
   "metadata": {},
   "outputs": [],
   "source": [
    "class Model(nn.Module):\n",
    "    def __init__(self, vocab_size, embedding_dim, hidden_size, output_size, num_layers=1, rnn_type='LSTM', bidirectional=False):\n",
    "\n",
    "        super().__init__()\n",
    "        self.num_directions = 2 if bidirectional else 1\n",
    "        \n",
    "        # embedding layer追加 (vocab_size x embedding_dim)\n",
    "        self.embedding = nn.Embedding(vocab_size, embedding_dim, padding_idx=0) # vocab_sizeはdatasetの単語数(one-hotにするため)\n",
    "        input_size = embedding_dim\n",
    "        \n",
    "        if rnn_type == 'RNN':\n",
    "            self.rnn = nn.RNN(input_size, hidden_size, num_layers=num_layers, batch_first=True, bidirectional=bidirectional)\n",
    "        elif rnn_type == 'LSTM':\n",
    "            self.rnn = nn.LSTM(input_size, hidden_size, num_layers=num_layers, batch_first=True, bidirectional=bidirectional)\n",
    "        elif rnn_type == 'GRU':\n",
    "            self.rnn = nn.GRU(input_size, hidden_size, num_layers=num_layers, batch_first=True, bidirectional=bidirectional)\n",
    "        else:\n",
    "            raise ValueError('Unsupported RNN type. Choose from [\"LSTM\", \"RNN\", \"GRU\"]')\n",
    "            \n",
    "        self.fc = nn.Linear(hidden_size*self.num_directions, output_size)\n",
    "        self._wight_initialize()\n",
    "\n",
    "    def _wight_initialize(self):\n",
    "        \"\"\"\n",
    "        パラメータの初期を行うようにする関数.\n",
    "        コンストラクタとして実行\n",
    "        \"\"\"\n",
    "        # ネストが深い...\n",
    "        for name, module in self.named_modules():\n",
    "            if name:\n",
    "                \n",
    "                if isinstance(module, nn.Linear):\n",
    "                    nn.init.kaiming_normal_(module.weight)\n",
    "                    \n",
    "                if isinstance(module, (nn.RNN, nn.LSTM, nn.GRU)):\n",
    "                    for param_name, param in module.named_parameters():\n",
    "                        if 'weight' in param_name:\n",
    "                            nn.init.xavier_normal_(param)  \n",
    "                            \n",
    "            \n",
    "\n",
    "    def forward(self, x):\n",
    "        x = self.embedding(x)\n",
    "        output_seq, _ = self.rnn(x)\n",
    "\n",
    "        # many to many の場合は，\n",
    "        # output_seq: [batch_size, seq_len, hidden_size*num_directions]\n",
    "        out = self.fc(output_seq)\n",
    "        return out"
   ]
  },
  {
   "cell_type": "code",
   "execution_count": 20,
   "id": "60a96da2-a13d-4c10-8cf9-3332781fc868",
   "metadata": {
    "scrolled": true
   },
   "outputs": [
    {
     "name": "stdout",
     "output_type": "stream",
     "text": [
      "X_train.shape = torch.Size([24, 10])\n",
      "out.shape = torch.Size([24, 10, 3])\n"
     ]
    },
    {
     "data": {
      "text/plain": [
       "tensor([[[ 0.7721, -0.0850,  0.3065],\n",
       "         [ 0.9257,  0.1119,  0.0996],\n",
       "         [ 0.9681, -0.0268,  0.2092],\n",
       "         [ 0.5627, -0.6584,  0.1585],\n",
       "         [ 0.8404,  0.4790, -0.0400],\n",
       "         [ 0.6430, -0.3681,  0.3938],\n",
       "         [ 0.6237, -0.2489,  0.3883],\n",
       "         [ 0.5946, -0.0534,  0.1875],\n",
       "         [ 0.6403,  0.0482,  0.1489],\n",
       "         [ 0.6500,  0.1407,  0.1076]],\n",
       "\n",
       "        [[ 0.1615, -0.4244,  0.2846],\n",
       "         [ 0.0780, -0.1786,  0.1550],\n",
       "         [-0.5420, -0.6880,  0.2974],\n",
       "         [ 0.3159, -0.0741, -0.0406],\n",
       "         [ 0.0861, -0.4723,  0.2568],\n",
       "         [ 0.2703, -0.3629,  0.3187],\n",
       "         [ 0.4789, -0.1758,  0.2769],\n",
       "         [ 0.5940, -0.0401,  0.2245],\n",
       "         [ 0.6451,  0.0586,  0.1739],\n",
       "         [ 0.6562,  0.1504,  0.1222]],\n",
       "\n",
       "        [[ 0.1731, -0.5538,  0.5614],\n",
       "         [ 0.0939, -0.3702,  0.2788],\n",
       "         [ 0.4108, -0.3026,  0.4020],\n",
       "         [ 0.6419, -0.5644,  0.4218],\n",
       "         [-0.0036, -0.9570,  0.6572],\n",
       "         [-0.3829, -0.6575,  0.2553],\n",
       "         [ 0.0859, -0.7652,  0.5355],\n",
       "         [ 0.3592, -0.2990,  0.3121],\n",
       "         [ 0.5189, -0.0876,  0.2379],\n",
       "         [ 0.5890,  0.0690,  0.1665]],\n",
       "\n",
       "        [[ 0.4851, -0.6862,  0.7336],\n",
       "         [ 1.1277, -0.1277,  0.5491],\n",
       "         [ 0.6879, -0.0074,  0.1430],\n",
       "         [ 0.6112, -0.2290,  0.4466],\n",
       "         [ 0.2788, -0.2814,  0.2444],\n",
       "         [ 0.6827, -0.0316,  0.1712],\n",
       "         [ 0.8019,  0.0603,  0.2051],\n",
       "         [ 0.6527,  0.0432,  0.1188],\n",
       "         [ 0.6694,  0.0953,  0.1099],\n",
       "         [ 0.6643,  0.1635,  0.0849]],\n",
       "\n",
       "        [[ 0.1611, -0.5826,  0.5730],\n",
       "         [ 0.5537,  0.1479,  0.0032],\n",
       "         [ 0.7504, -0.4659,  0.4172],\n",
       "         [ 1.0049,  0.2578,  0.1444],\n",
       "         [ 0.5070, -0.4381,  0.4525],\n",
       "         [ 0.7345,  0.0372,  0.0526],\n",
       "         [ 0.9404,  0.4686, -0.0443],\n",
       "         [ 0.6957,  0.1893,  0.0562],\n",
       "         [ 0.6938,  0.1659,  0.0848],\n",
       "         [ 0.6789,  0.1990,  0.0749]],\n",
       "\n",
       "        [[ 0.4245,  0.4435, -0.0491],\n",
       "         [ 0.8374,  0.4888,  0.0024],\n",
       "         [ 0.4949,  0.0321,  0.4921],\n",
       "         [ 0.6275,  0.3548,  0.1149],\n",
       "         [ 0.9184,  0.0830,  0.1402],\n",
       "         [ 0.8078,  0.0456, -0.0030],\n",
       "         [ 0.7353,  0.2344,  0.0066],\n",
       "         [ 0.9537,  0.2034,  0.1316],\n",
       "         [ 0.9992,  0.4779,  0.0102],\n",
       "         [ 0.6995,  0.2920,  0.0257]],\n",
       "\n",
       "        [[ 0.4441,  0.4191, -0.0390],\n",
       "         [ 0.9384,  0.5097,  0.0090],\n",
       "         [ 0.7824,  0.1930,  0.2121],\n",
       "         [ 0.6535, -0.6081,  0.4199],\n",
       "         [ 0.6426, -0.1996,  0.2951],\n",
       "         [ 0.6012, -0.0871,  0.1498],\n",
       "         [ 0.6531, -0.0134,  0.1462],\n",
       "         [ 0.6789,  0.0450,  0.1345],\n",
       "         [ 0.6850,  0.1014,  0.1143],\n",
       "         [ 0.6741,  0.1707,  0.0838]],\n",
       "\n",
       "        [[ 0.2068, -0.6215,  0.6028],\n",
       "         [ 0.4597, -0.2334,  0.1129],\n",
       "         [ 0.6180,  0.0710,  0.1045],\n",
       "         [ 0.8603,  0.2412,  0.0978],\n",
       "         [ 0.3096, -0.4751,  0.4145],\n",
       "         [ 0.1783,  0.2702, -0.1604],\n",
       "         [ 0.3753, -0.2103,  0.2087],\n",
       "         [ 0.4376, -0.1461,  0.2240],\n",
       "         [ 0.5529, -0.0218,  0.1963],\n",
       "         [ 0.6047,  0.0986,  0.1457]],\n",
       "\n",
       "        [[ 0.2619, -0.6095,  0.6074],\n",
       "         [ 0.6185, -0.3725,  0.4217],\n",
       "         [ 0.7170,  0.2315,  0.1322],\n",
       "         [ 0.3183, -0.1440,  0.2798],\n",
       "         [ 1.2029,  0.2641,  0.3306],\n",
       "         [ 0.5491, -0.3494,  0.3495],\n",
       "         [ 0.3226, -0.6197,  0.5309],\n",
       "         [ 0.2350, -0.2955,  0.1817],\n",
       "         [ 0.6211, -0.0441,  0.1264],\n",
       "         [ 0.9384,  0.1590,  0.2847]],\n",
       "\n",
       "        [[ 0.2776, -0.6356,  0.6233],\n",
       "         [ 0.8573,  0.1280,  0.2113],\n",
       "         [ 0.7711, -0.5098,  0.4603],\n",
       "         [ 0.9804, -0.0689,  0.3515],\n",
       "         [ 0.4866, -0.0026, -0.0434],\n",
       "         [ 1.0148,  0.3396,  0.0703],\n",
       "         [ 0.5147, -0.3286,  0.3821],\n",
       "         [ 0.1369, -0.7234,  0.4480],\n",
       "         [ 0.1657, -0.7022,  0.5343],\n",
       "         [ 0.3758, -0.1683,  0.2428]],\n",
       "\n",
       "        [[ 0.3803,  0.3354,  0.0616],\n",
       "         [ 1.1789,  0.6080, -0.0928],\n",
       "         [ 0.5157, -0.3130,  0.3728],\n",
       "         [ 0.4283, -0.7048,  0.5416],\n",
       "         [ 0.2688, -0.5202,  0.1638],\n",
       "         [ 0.3479, -0.5065,  0.4244],\n",
       "         [ 0.4830, -0.1957,  0.2362],\n",
       "         [ 0.5890, -0.0578,  0.1997],\n",
       "         [ 0.6381,  0.0448,  0.1589],\n",
       "         [ 0.6498,  0.1401,  0.1133]],\n",
       "\n",
       "        [[ 0.6360, -0.2946,  0.3640],\n",
       "         [ 0.7565, -0.1556,  0.2284],\n",
       "         [ 0.6758,  0.1009,  0.1139],\n",
       "         [ 0.5966,  0.0761,  0.4114],\n",
       "         [ 0.9299,  0.1712,  0.2736],\n",
       "         [ 0.7236,  0.0993,  0.2064],\n",
       "         [ 0.7415,  0.1204,  0.1691],\n",
       "         [ 0.7389,  0.1327,  0.1444],\n",
       "         [ 0.7252,  0.1586,  0.1172],\n",
       "         [ 0.7007,  0.2081,  0.0832]],\n",
       "\n",
       "        [[-0.0852, -0.4906,  0.4656],\n",
       "         [ 0.3737,  0.7298, -0.0654],\n",
       "         [ 0.7025,  0.4333, -0.0134],\n",
       "         [ 0.9990,  0.3173,  0.0696],\n",
       "         [ 0.4781, -0.2753,  0.3249],\n",
       "         [ 0.7071,  0.3131, -0.0615],\n",
       "         [ 0.6992,  0.0120,  0.2379],\n",
       "         [ 0.6165,  0.0309,  0.1741],\n",
       "         [ 0.6549,  0.0908,  0.1491],\n",
       "         [ 0.6604,  0.1642,  0.1105]],\n",
       "\n",
       "        [[ 0.1343, -0.3898,  0.2641],\n",
       "         [-0.0300,  0.0351,  0.0749],\n",
       "         [-0.6637, -0.4898,  0.2154],\n",
       "         [ 0.0846, -0.2161,  0.1620],\n",
       "         [ 0.4292, -0.6042,  0.6119],\n",
       "         [ 0.5495, -0.1747,  0.2807],\n",
       "         [ 0.6384, -0.0394,  0.2170],\n",
       "         [ 0.6783,  0.0412,  0.1739],\n",
       "         [ 0.6890,  0.1052,  0.1364],\n",
       "         [ 0.6789,  0.1765,  0.0961]],\n",
       "\n",
       "        [[-0.0545, -0.5261,  0.2865],\n",
       "         [ 0.1978, -0.3807,  0.2968],\n",
       "         [ 0.6140,  0.4153, -0.0586],\n",
       "         [ 0.6298,  0.1240,  0.0044],\n",
       "         [ 0.6173, -0.0389,  0.1577],\n",
       "         [ 0.7847, -0.0244,  0.3268],\n",
       "         [ 0.6641,  0.0237,  0.1928],\n",
       "         [ 0.6944,  0.0782,  0.1594],\n",
       "         [ 0.6985,  0.1246,  0.1295],\n",
       "         [ 0.6847,  0.1870,  0.0925]],\n",
       "\n",
       "        [[ 0.1235, -0.4759,  0.3145],\n",
       "         [ 0.3840,  0.1838,  0.0682],\n",
       "         [ 0.1050,  0.4644, -0.2113],\n",
       "         [-0.4102, -0.1855,  0.0743],\n",
       "         [ 0.1390, -0.4243,  0.2000],\n",
       "         [ 0.1328, -0.7159,  0.6144],\n",
       "         [ 0.7176, -0.1187,  0.4396],\n",
       "         [ 0.7986,  0.1987,  0.3907],\n",
       "         [ 1.0691,  0.2201,  0.3219],\n",
       "         [ 0.7214,  0.1989,  0.1431]],\n",
       "\n",
       "        [[ 0.3930,  0.5075, -0.0750],\n",
       "         [ 0.4393,  0.2984, -0.1806],\n",
       "         [-0.2622, -0.0511,  0.0020],\n",
       "         [ 0.4653, -0.0210,  0.0669],\n",
       "         [ 0.6301,  0.0416,  0.1190],\n",
       "         [ 0.5706, -0.0375,  0.1553],\n",
       "         [ 0.6379,  0.0038,  0.1670],\n",
       "         [ 0.6739,  0.0534,  0.1530],\n",
       "         [ 0.6847,  0.1070,  0.1277],\n",
       "         [ 0.6756,  0.1752,  0.0926]],\n",
       "\n",
       "        [[ 0.5057,  0.3367, -0.0065],\n",
       "         [ 0.7970, -0.0460,  0.1445],\n",
       "         [ 0.6237,  0.0598,  0.0228],\n",
       "         [ 0.1473,  0.0886,  0.1208],\n",
       "         [-0.0094,  0.2908, -0.0784],\n",
       "         [-0.1252,  0.3951, -0.0188],\n",
       "         [ 0.7168,  0.0902,  0.3156],\n",
       "         [ 1.0714,  0.1628,  0.3726],\n",
       "         [ 0.7419,  0.1228,  0.1903],\n",
       "         [ 0.7209,  0.2180,  0.1056]],\n",
       "\n",
       "        [[-0.1958, -0.5050,  0.1499],\n",
       "         [ 0.5851, -0.1066,  0.2129],\n",
       "         [ 0.8547,  0.1777,  0.1721],\n",
       "         [ 0.7190, -0.3434,  0.2328],\n",
       "         [ 0.2021, -0.7181,  0.4360],\n",
       "         [ 0.1284, -0.9710,  0.6883],\n",
       "         [ 0.1943, -0.5922,  0.5257],\n",
       "         [ 0.3750, -0.4185,  0.4609],\n",
       "         [ 0.4883, -0.0863,  0.2662],\n",
       "         [ 0.5768,  0.0719,  0.1874]],\n",
       "\n",
       "        [[ 0.1278, -0.4801,  0.3164],\n",
       "         [ 0.3968,  0.1684,  0.0735],\n",
       "         [ 0.1065,  0.4787, -0.2330],\n",
       "         [-0.3368, -0.3044,  0.1142],\n",
       "         [ 0.3451, -0.1196,  0.0734],\n",
       "         [ 0.3302, -0.2229,  0.3614],\n",
       "         [ 0.4979, -0.3204,  0.4345],\n",
       "         [ 0.5520, -0.0693,  0.2525],\n",
       "         [ 0.6252,  0.0450,  0.1930],\n",
       "         [ 0.6470,  0.1434,  0.1360]],\n",
       "\n",
       "        [[ 0.5213,  0.0618,  0.0314],\n",
       "         [ 0.3064, -0.5655,  0.6748],\n",
       "         [ 0.5464,  0.0835,  0.2052],\n",
       "         [ 0.2281, -0.0330,  0.2919],\n",
       "         [ 0.3470, -0.2062,  0.4036],\n",
       "         [ 0.7788, -0.1329,  0.3394],\n",
       "         [ 0.2510, -0.7014,  0.5673],\n",
       "         [ 0.2227, -0.2856,  0.2478],\n",
       "         [ 0.6241, -0.0316,  0.1443],\n",
       "         [ 0.9456,  0.1656,  0.2965]],\n",
       "\n",
       "        [[ 0.2907,  0.1196, -0.0063],\n",
       "         [-0.1512, -0.2266,  0.0649],\n",
       "         [-0.4256, -0.9748,  0.3909],\n",
       "         [ 0.7172, -0.2998,  0.1662],\n",
       "         [ 0.6026, -0.1065,  0.2344],\n",
       "         [ 0.5788, -0.0640,  0.1776],\n",
       "         [ 0.6452, -0.0018,  0.1724],\n",
       "         [ 0.6784,  0.0532,  0.1531],\n",
       "         [ 0.6873,  0.1079,  0.1264],\n",
       "         [ 0.6770,  0.1760,  0.0913]],\n",
       "\n",
       "        [[ 0.4355, -0.2367, -0.0028],\n",
       "         [ 0.8827, -0.0563,  0.1076],\n",
       "         [ 0.8096,  0.1571,  0.0466],\n",
       "         [ 0.6643,  0.3012, -0.0662],\n",
       "         [ 0.7815,  0.1411,  0.1954],\n",
       "         [ 0.6679,  0.0445,  0.2437],\n",
       "         [ 1.0159,  0.2278,  0.2504],\n",
       "         [ 0.7364,  0.1272,  0.1482],\n",
       "         [ 0.7287,  0.1675,  0.1111],\n",
       "         [ 0.7029,  0.2129,  0.0798]],\n",
       "\n",
       "        [[ 0.5158, -0.1068,  0.2682],\n",
       "         [ 0.3197,  0.2153,  0.0487],\n",
       "         [ 0.1974, -0.0621, -0.0151],\n",
       "         [ 0.4483, -0.3061,  0.5259],\n",
       "         [ 0.7241, -0.3296,  0.5574],\n",
       "         [ 0.8733, -0.1260,  0.3671],\n",
       "         [ 0.6942, -0.0793,  0.1576],\n",
       "         [ 1.0024,  0.1037,  0.3652],\n",
       "         [ 0.7172,  0.1004,  0.1786],\n",
       "         [ 0.7031,  0.1975,  0.1034]]], grad_fn=<AddBackward0>)"
      ]
     },
     "execution_count": 20,
     "metadata": {},
     "output_type": "execute_result"
    }
   ],
   "source": [
    "# BiRNNのテスト\n",
    "print(f\"X_train.shape = {X_train.shape}\")\n",
    "vocab_size = 300\n",
    "embedding_dim = 50\n",
    "hidden_size = 3\n",
    "batch_size = 24\n",
    "output_size = 3\n",
    "model = Model(vocab_size, embedding_dim, hidden_size, output_size, bidirectional=True)\n",
    "out = model(X_train) # embedding layerは入力にインデックスの羅列を受け取るので適当にinput_tensorは使えない\n",
    "print(f\"out.shape = {out.shape}\")\n",
    "out"
   ]
  },
  {
   "cell_type": "code",
   "execution_count": 21,
   "id": "5b5d8c89-be4b-4d23-bb74-2e381211b736",
   "metadata": {},
   "outputs": [
    {
     "data": {
      "text/plain": [
       "torch.Size([24, 10, 3])"
      ]
     },
     "execution_count": 21,
     "metadata": {},
     "output_type": "execute_result"
    }
   ],
   "source": [
    "out.shape # [batch_size, seq_len(今回はdataset内で最も長い文章の単語数。バッチ単位でseq_lenを決めることもあるので注意), output_size(num_classes)]"
   ]
  },
  {
   "cell_type": "code",
   "execution_count": 22,
   "id": "883998ad-6802-4177-bc02-4bc3e6cc67e6",
   "metadata": {},
   "outputs": [
    {
     "data": {
      "text/plain": [
       "torch.Size([240, 3])"
      ]
     },
     "execution_count": 22,
     "metadata": {},
     "output_type": "execute_result"
    }
   ],
   "source": [
    "out.view(-1, output_size).shape # [batch_size(24) * seq_len(10),  output_size(3)]  "
   ]
  },
  {
   "cell_type": "code",
   "execution_count": 23,
   "id": "3669322d-14d3-4fa7-9dd0-f5b9559b9fe1",
   "metadata": {},
   "outputs": [
    {
     "data": {
      "text/plain": [
       "torch.Size([24, 10])"
      ]
     },
     "execution_count": 23,
     "metadata": {},
     "output_type": "execute_result"
    }
   ],
   "source": [
    "X_train.shape"
   ]
  },
  {
   "cell_type": "code",
   "execution_count": 24,
   "id": "19058f37-946f-47da-b028-ce5a447a5f6b",
   "metadata": {},
   "outputs": [
    {
     "data": {
      "text/plain": [
       "tensor([[25,  9, 10, 92, 93,  7,  0,  0],\n",
       "        [17, 23, 26, 59,  7,  0,  0,  0],\n",
       "        [ 1, 29, 85, 86, 23, 10, 59,  7],\n",
       "        [ 1, 64, 23,  5, 65, 66,  7,  0],\n",
       "        [25, 18, 36,  5, 37, 38,  7,  0],\n",
       "        [39, 23,  5, 40, 31, 41,  7,  0]])"
      ]
     },
     "execution_count": 24,
     "metadata": {},
     "output_type": "execute_result"
    }
   ],
   "source": [
    "X_val"
   ]
  },
  {
   "cell_type": "markdown",
   "id": "cfa44d4f-40b2-4ac7-80f0-66601ffb0974",
   "metadata": {},
   "source": [
    "### 学習の準備"
   ]
  },
  {
   "cell_type": "code",
   "execution_count": 25,
   "id": "0f2c3acb-e1fd-43d4-a636-13cdf169c544",
   "metadata": {},
   "outputs": [],
   "source": [
    "vocab_size = len(word2indx) # 102\n",
    "num_classes = len(label_encoder.classes_) + 1 # クラス数 paddingも考慮して+1をする 8クラスになる\n",
    "embedding_dim = 50\n",
    "hidden_size = 70 # 一般的にはembedding_dimより減らす\n",
    "output_size = num_classes\n",
    "batch_size = 3\n",
    "learning_rate = 0.003\n",
    "\n",
    "# モデルの定義\n",
    "model = Model(vocab_size, embedding_dim, hidden_size, output_size, num_layers=1, rnn_type='GRU', bidirectional=True)\n",
    "\n",
    "# Dataset DataLoader作成\n",
    "train_dataset = TensorDataset(X_train, y_train) # datasetを作成してくれる。便利\n",
    "train_loader = DataLoader(train_dataset, batch_size=batch_size, shuffle=True)\n",
    "val_dataset = TensorDataset(X_val, y_val)\n",
    "val_loader = DataLoader(val_dataset, batch_size=batch_size, shuffle=False)\n",
    "\n",
    "# 損失関数とoptimizer\n",
    "opt = optim.Adam(model.parameters(), lr=learning_rate)\n",
    "criterion = nn.CrossEntropyLoss(ignore_index=0)\n",
    "\n"
   ]
  },
  {
   "cell_type": "markdown",
   "id": "f69a3360-3800-4b4e-bc21-2a94bb56f6f9",
   "metadata": {},
   "source": [
    "### 学習ループ"
   ]
  },
  {
   "cell_type": "code",
   "execution_count": 26,
   "id": "4df54e0d-96da-4f3e-9529-5135a83acfc7",
   "metadata": {},
   "outputs": [
    {
     "name": "stderr",
     "output_type": "stream",
     "text": [
      "                                                   \r"
     ]
    },
    {
     "name": "stdout",
     "output_type": "stream",
     "text": [
      "epoch=0  train_losse=1.3505 val_loss=0.8838 val_accuracy=0.5833\n"
     ]
    },
    {
     "name": "stderr",
     "output_type": "stream",
     "text": [
      "                                                   \r"
     ]
    },
    {
     "name": "stdout",
     "output_type": "stream",
     "text": [
      "epoch=1  train_losse=0.6875 val_loss=0.8458 val_accuracy=0.5833\n"
     ]
    },
    {
     "name": "stderr",
     "output_type": "stream",
     "text": [
      "                                                   \r"
     ]
    },
    {
     "name": "stdout",
     "output_type": "stream",
     "text": [
      "epoch=2  train_losse=0.4313 val_loss=0.7041 val_accuracy=0.6042\n"
     ]
    },
    {
     "name": "stderr",
     "output_type": "stream",
     "text": [
      "                                                   \r"
     ]
    },
    {
     "name": "stdout",
     "output_type": "stream",
     "text": [
      "epoch=3  train_losse=0.2638 val_loss=0.6462 val_accuracy=0.6458\n"
     ]
    },
    {
     "name": "stderr",
     "output_type": "stream",
     "text": [
      "                                                   \r"
     ]
    },
    {
     "name": "stdout",
     "output_type": "stream",
     "text": [
      "epoch=4  train_losse=0.1632 val_loss=0.6301 val_accuracy=0.6458\n"
     ]
    },
    {
     "name": "stderr",
     "output_type": "stream",
     "text": [
      "                                                   \r"
     ]
    },
    {
     "name": "stdout",
     "output_type": "stream",
     "text": [
      "epoch=5  train_losse=0.1021 val_loss=0.6084 val_accuracy=0.6875\n"
     ]
    },
    {
     "name": "stderr",
     "output_type": "stream",
     "text": [
      "                                                   \r"
     ]
    },
    {
     "name": "stdout",
     "output_type": "stream",
     "text": [
      "epoch=6  train_losse=0.0593 val_loss=0.5664 val_accuracy=0.6875\n"
     ]
    },
    {
     "name": "stderr",
     "output_type": "stream",
     "text": [
      "                                                   \r"
     ]
    },
    {
     "name": "stdout",
     "output_type": "stream",
     "text": [
      "epoch=7  train_losse=0.0387 val_loss=0.5619 val_accuracy=0.6875\n"
     ]
    },
    {
     "name": "stderr",
     "output_type": "stream",
     "text": [
      "                                                   \r"
     ]
    },
    {
     "name": "stdout",
     "output_type": "stream",
     "text": [
      "epoch=8  train_losse=0.0266 val_loss=0.5694 val_accuracy=0.7083\n"
     ]
    },
    {
     "name": "stderr",
     "output_type": "stream",
     "text": [
      "                                                   \r"
     ]
    },
    {
     "name": "stdout",
     "output_type": "stream",
     "text": [
      "epoch=9  train_losse=0.0195 val_loss=0.5703 val_accuracy=0.7083\n"
     ]
    },
    {
     "name": "stderr",
     "output_type": "stream",
     "text": [
      "                                                   \r"
     ]
    },
    {
     "name": "stdout",
     "output_type": "stream",
     "text": [
      "epoch=10  train_losse=0.0148 val_loss=0.5702 val_accuracy=0.7083\n"
     ]
    },
    {
     "name": "stderr",
     "output_type": "stream",
     "text": [
      "                                                   \r"
     ]
    },
    {
     "name": "stdout",
     "output_type": "stream",
     "text": [
      "epoch=11  train_losse=0.0119 val_loss=0.5668 val_accuracy=0.7083\n"
     ]
    },
    {
     "name": "stderr",
     "output_type": "stream",
     "text": [
      "                                                   \r"
     ]
    },
    {
     "name": "stdout",
     "output_type": "stream",
     "text": [
      "epoch=12  train_losse=0.0098 val_loss=0.5660 val_accuracy=0.7083\n"
     ]
    },
    {
     "name": "stderr",
     "output_type": "stream",
     "text": [
      "                                                   \r"
     ]
    },
    {
     "name": "stdout",
     "output_type": "stream",
     "text": [
      "epoch=13  train_losse=0.0084 val_loss=0.5677 val_accuracy=0.7083\n"
     ]
    },
    {
     "name": "stderr",
     "output_type": "stream",
     "text": [
      "                                                   \r"
     ]
    },
    {
     "name": "stdout",
     "output_type": "stream",
     "text": [
      "epoch=14  train_losse=0.0071 val_loss=0.5696 val_accuracy=0.7083\n"
     ]
    },
    {
     "name": "stderr",
     "output_type": "stream",
     "text": [
      "                                                   \r"
     ]
    },
    {
     "name": "stdout",
     "output_type": "stream",
     "text": [
      "epoch=15  train_losse=0.0061 val_loss=0.5692 val_accuracy=0.7083\n"
     ]
    },
    {
     "name": "stderr",
     "output_type": "stream",
     "text": [
      "                                                   \r"
     ]
    },
    {
     "name": "stdout",
     "output_type": "stream",
     "text": [
      "epoch=16  train_losse=0.0054 val_loss=0.5711 val_accuracy=0.7083\n"
     ]
    },
    {
     "name": "stderr",
     "output_type": "stream",
     "text": [
      "                                                   \r"
     ]
    },
    {
     "name": "stdout",
     "output_type": "stream",
     "text": [
      "epoch=17  train_losse=0.0049 val_loss=0.5723 val_accuracy=0.7083\n"
     ]
    },
    {
     "name": "stderr",
     "output_type": "stream",
     "text": [
      "                                                   \r"
     ]
    },
    {
     "name": "stdout",
     "output_type": "stream",
     "text": [
      "epoch=18  train_losse=0.0043 val_loss=0.5722 val_accuracy=0.7083\n"
     ]
    },
    {
     "name": "stderr",
     "output_type": "stream",
     "text": [
      "                                                   \r"
     ]
    },
    {
     "name": "stdout",
     "output_type": "stream",
     "text": [
      "epoch=19  train_losse=0.0039 val_loss=0.5729 val_accuracy=0.7083\n"
     ]
    },
    {
     "name": "stderr",
     "output_type": "stream",
     "text": [
      "                                                   \r"
     ]
    },
    {
     "name": "stdout",
     "output_type": "stream",
     "text": [
      "epoch=20  train_losse=0.0036 val_loss=0.5743 val_accuracy=0.7083\n"
     ]
    },
    {
     "name": "stderr",
     "output_type": "stream",
     "text": [
      "                                                   \r"
     ]
    },
    {
     "name": "stdout",
     "output_type": "stream",
     "text": [
      "epoch=21  train_losse=0.0032 val_loss=0.5748 val_accuracy=0.7083\n"
     ]
    },
    {
     "name": "stderr",
     "output_type": "stream",
     "text": [
      "                                                   \r"
     ]
    },
    {
     "name": "stdout",
     "output_type": "stream",
     "text": [
      "epoch=22  train_losse=0.0030 val_loss=0.5756 val_accuracy=0.7083\n"
     ]
    },
    {
     "name": "stderr",
     "output_type": "stream",
     "text": [
      "                                                   \r"
     ]
    },
    {
     "name": "stdout",
     "output_type": "stream",
     "text": [
      "epoch=23  train_losse=0.0028 val_loss=0.5778 val_accuracy=0.7083\n"
     ]
    },
    {
     "name": "stderr",
     "output_type": "stream",
     "text": [
      "                                                   \r"
     ]
    },
    {
     "name": "stdout",
     "output_type": "stream",
     "text": [
      "epoch=24  train_losse=0.0025 val_loss=0.5803 val_accuracy=0.7083\n"
     ]
    },
    {
     "name": "stderr",
     "output_type": "stream",
     "text": [
      "                                                   \r"
     ]
    },
    {
     "name": "stdout",
     "output_type": "stream",
     "text": [
      "epoch=25  train_losse=0.0024 val_loss=0.5807 val_accuracy=0.7083\n"
     ]
    },
    {
     "name": "stderr",
     "output_type": "stream",
     "text": [
      "                                                   \r"
     ]
    },
    {
     "name": "stdout",
     "output_type": "stream",
     "text": [
      "epoch=26  train_losse=0.0022 val_loss=0.5817 val_accuracy=0.7083\n"
     ]
    },
    {
     "name": "stderr",
     "output_type": "stream",
     "text": [
      "                                                   \r"
     ]
    },
    {
     "name": "stdout",
     "output_type": "stream",
     "text": [
      "epoch=27  train_losse=0.0021 val_loss=0.5840 val_accuracy=0.7083\n"
     ]
    },
    {
     "name": "stderr",
     "output_type": "stream",
     "text": [
      "                                                   \r"
     ]
    },
    {
     "name": "stdout",
     "output_type": "stream",
     "text": [
      "epoch=28  train_losse=0.0020 val_loss=0.5858 val_accuracy=0.7083\n"
     ]
    },
    {
     "name": "stderr",
     "output_type": "stream",
     "text": [
      "                                                   "
     ]
    },
    {
     "name": "stdout",
     "output_type": "stream",
     "text": [
      "epoch=29  train_losse=0.0018 val_loss=0.5866 val_accuracy=0.7083\n"
     ]
    },
    {
     "name": "stderr",
     "output_type": "stream",
     "text": [
      "\r"
     ]
    }
   ],
   "source": [
    "# 損失関数とoptimizer\n",
    "opt = optim.Adam(model.parameters(), lr=learning_rate)\n",
    "criterion = nn.CrossEntropyLoss(ignore_index=0)\n",
    "\n",
    "num_epochs = 30\n",
    "eary_stopping = 5\n",
    "\n",
    "# ログ\n",
    "# est_val_loss = float('inf')\n",
    "train_losses = []\n",
    "val_losses = []\n",
    "val_accuracies = []\n",
    "\n",
    "# GPU設定\n",
    "device = torch.device('cuda' if torch.cuda.is_available() else 'cpu')\n",
    "\n",
    "\n",
    "\n",
    "for epoch in range(num_epochs):\n",
    "    model.train()\n",
    "    running_loss = 0.0\n",
    "    running_val_loss = 0.0\n",
    "    total_correct = 0\n",
    "    \n",
    "    # training\n",
    "    for i, (sentences, labels) in tqdm(enumerate(train_loader), desc='now training', total=len(train_loader), leave=False):\n",
    "        sentences = sentences.to(device)\n",
    "        labels = labels.to(device)\n",
    "        opt.zero_grad()\n",
    "        output = model(sentences) # [batch_size, seq_len, num_classes]\n",
    "        output = output.view(-1, num_classes) # [batch_size, seq_len, num_classes] -> [batch_size * seq_len, num_classes]\n",
    "        labels = labels.view(-1) # [batch_size, seq_len] -> [batch_size * seq_len]\n",
    "        loss = criterion(output, labels)\n",
    "        loss.backward()\n",
    "        running_loss += loss.item()\n",
    "        opt.step()\n",
    "    train_losses.append(running_loss / len(train_loader))\n",
    "\n",
    "    # validation\n",
    "    # 評価用\n",
    "\n",
    "    total_num = 0\n",
    "    total_correct = 0\n",
    "\n",
    "    for i, (sentences, labels) in tqdm(enumerate(val_loader), desc='valdation', total=len(val_loader), leave=False):\n",
    "        model.eval()\n",
    "        with torch.no_grad():\n",
    "            \n",
    "            sentences = sentences.to(device)\n",
    "            labels = labels.to(device)\n",
    "            output = model(sentences) # [batch_size, seq_len, num_classes]\n",
    "    \n",
    "            # accuracy計算\n",
    "            _, predicted = torch.max(output, -1) #[batch_size, seq_len]\n",
    "            total_correct += torch.sum(predicted == labels).item()\n",
    "            total_num += labels.numel() # [batch_size * seq_len]\n",
    "    \n",
    "            \n",
    "            output = output.view(-1, num_classes) # [batch_size, seq_len, num_classes] -> [batch_size * seq_len, num_classes]\n",
    "            labels = labels.view(-1) # [batch_size, seq_len] -> [batch_size * seq_len]\n",
    "            loss = criterion(output, labels)\n",
    "            running_val_loss += loss.item()\n",
    "    \n",
    "    val_losses.append(running_val_loss / len(val_loader))\n",
    "    val_accuracies.append(total_correct / total_num)\n",
    "    print(f\"epoch={epoch}  train_losse={train_losses[-1]:.4f} val_loss={val_losses[-1]:.4f} val_accuracy={val_accuracies[-1]:.4f}\")"
   ]
  },
  {
   "cell_type": "code",
   "execution_count": 27,
   "id": "0240e1f7-f27c-4323-9850-7546032c4d49",
   "metadata": {},
   "outputs": [
    {
     "data": {
      "image/png": "[encoded data removed]",
      "text/plain": [
       "<Figure size 640x480 with 1 Axes>"
      ]
     },
     "metadata": {},
     "output_type": "display_data"
    }
   ],
   "source": [
    "plt.plot(train_losses, label='train')\n",
    "plt.plot(val_losses, label='val')\n",
    "plt.legend()\n",
    "plt.show()"
   ]
  },
  {
   "cell_type": "markdown",
   "id": "3605285a-29de-47fd-b8a2-37895037f562",
   "metadata": {},
   "source": [
    "### 検証データで評価(本来はテストデータ)"
   ]
  },
  {
   "cell_type": "code",
   "execution_count": 28,
   "id": "a0dfc843-9a32-44be-bd5d-ec063d41b6eb",
   "metadata": {},
   "outputs": [],
   "source": [
    "model.eval()\n",
    "val_outputs = model(X_val)\n",
    "_, predicted = torch.max(val_outputs, dim=-1)"
   ]
  },
  {
   "cell_type": "code",
   "execution_count": 29,
   "id": "795cacd8-d7bb-44c9-b8f5-9b618c7e32b5",
   "metadata": {},
   "outputs": [
    {
     "data": {
      "text/plain": [
       "tensor([[7, 7, 7, 1, 7, 7, 1, 1],\n",
       "        [7, 7, 7, 1, 7, 1, 1, 7],\n",
       "        [7, 1, 7, 7, 7, 7, 1, 7],\n",
       "        [7, 1, 7, 7, 7, 7, 7, 1],\n",
       "        [7, 7, 7, 7, 2, 5, 7, 7],\n",
       "        [7, 7, 7, 7, 4, 7, 7, 1]])"
      ]
     },
     "execution_count": 29,
     "metadata": {},
     "output_type": "execute_result"
    }
   ],
   "source": [
    "predicted"
   ]
  },
  {
   "cell_type": "code",
   "execution_count": 30,
   "id": "a5226dc5-fa09-432b-89df-bfbcd0fb3e31",
   "metadata": {},
   "outputs": [
    {
     "name": "stdout",
     "output_type": "stream",
     "text": [
      "original sentence : He lives in Los Angeles .\n",
      "predicted labels:['O' 'O' 'O' 'B-geo' 'O' 'O']\n",
      "true labels: ['O' 'O' 'O' 'B-geo' 'I-geo' 'O']\n",
      "\n",
      "original sentence : She is from Australia .\n",
      "predicted labels:['O' 'O' 'O' 'B-geo' 'O']\n",
      "true labels: ['O' 'O' 'O' 'B-geo' 'O']\n",
      "\n",
      "original sentence : The Great Barrier Reef is in Australia .\n",
      "predicted labels:['O' 'B-geo' 'O' 'O' 'O' 'O' 'B-geo' 'O']\n",
      "true labels: ['O' 'B-geo' 'I-geo' 'I-geo' 'O' 'O' 'B-geo' 'O']\n",
      "\n",
      "original sentence : The Amazon is the largest rainforest .\n",
      "predicted labels:['O' 'B-geo' 'O' 'O' 'O' 'O' 'O']\n",
      "true labels: ['O' 'B-geo' 'O' 'O' 'O' 'O' 'O']\n",
      "\n",
      "original sentence : He works for the United Nations .\n",
      "predicted labels:['O' 'O' 'O' 'O' 'B-org' 'I-org' 'O']\n",
      "true labels: ['O' 'O' 'O' 'O' 'B-org' 'I-org' 'O']\n",
      "\n",
      "original sentence : Berlin is the capital of Germany .\n",
      "predicted labels:['O' 'O' 'O' 'O' 'I-geo' 'O' 'O']\n",
      "true labels: ['B-geo' 'O' 'O' 'O' 'O' 'B-geo' 'O']\n",
      "\n"
     ]
    }
   ],
   "source": [
    "for sentence, predicted_label, val_label in zip(val_sentences, predicted, y_val):\n",
    "    words = sentence.split()\n",
    "    decodered_labels = label_encoder.inverse_transform(predicted_label[:len(words)]-1)\n",
    "    original_labels = label_encoder.inverse_transform(val_label[:len(words)]-1)\n",
    "    print(f'original sentence : {sentence}')\n",
    "    print(f'predicted labels:{decodered_labels}')\n",
    "    print(f'true labels: {original_labels}')\n",
    "    print()"
   ]
  },
  {
   "cell_type": "markdown",
   "id": "a7a5d90b-c8dc-4e0d-b5aa-7d69be98267a",
   "metadata": {},
   "source": [
    "### 補足 : TensorDataset "
   ]
  },
  {
   "cell_type": "code",
   "execution_count": 31,
   "id": "07e97d92-7230-442c-9b8c-85d3bdd664ea",
   "metadata": {},
   "outputs": [],
   "source": [
    "train_dataset = TensorDataset(X_train, y_train)"
   ]
  },
  {
   "cell_type": "code",
   "execution_count": 32,
   "id": "9b459844-b598-4192-888c-a9606f4a0ab0",
   "metadata": {},
   "outputs": [
    {
     "data": {
      "text/plain": [
       "(tensor([94, 51, 95, 96, 97, 98,  7,  0,  0,  0]),\n",
       " tensor([7, 7, 7, 1, 7, 7, 7, 0, 0, 0]))"
      ]
     },
     "execution_count": 32,
     "metadata": {},
     "output_type": "execute_result"
    }
   ],
   "source": [
    "train_dataset[0]"
   ]
  },
  {
   "cell_type": "code",
   "execution_count": 33,
   "id": "c8185038-42e5-47b2-b7d4-8b1fce319093",
   "metadata": {},
   "outputs": [
    {
     "data": {
      "text/plain": [
       "[tensor([[78, 79, 80, 62, 81,  7,  0,  0,  0,  0],\n",
       "         [17, 23, 33, 19, 34, 35,  7,  0,  0,  0]]),\n",
       " tensor([[3, 6, 7, 7, 7, 7, 0, 0, 0, 0],\n",
       "         [7, 7, 7, 7, 2, 5, 7, 0, 0, 0]])]"
      ]
     },
     "execution_count": 33,
     "metadata": {},
     "output_type": "execute_result"
    }
   ],
   "source": [
    "train_loader = DataLoader(train_dataset, batch_size=2, shuffle=True)\n",
    "next(iter(train_loader))"
   ]
  }
 ],
 "metadata": {
  "kernelspec": {
   "display_name": "Python 3 (ipykernel)",
   "language": "python",
   "name": "python3"
  },
  "language_info": {
   "codemirror_mode": {
    "name": "ipython",
    "version": 3
   },
   "file_extension": ".py",
   "mimetype": "text/x-python",
   "name": "python",
   "nbconvert_exporter": "python",
   "pygments_lexer": "ipython3",
   "version": "3.8.18"
  }
 },
 "nbformat": 4,
 "nbformat_minor": 5
}
