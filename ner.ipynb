{
 "cells": [
  {
   "cell_type": "markdown",
   "id": "c9470219-5d92-4b71-a854-4b8ad38fb3ea",
   "metadata": {},
   "source": [
    "### NER"
   ]
  },
  {
   "cell_type": "markdown",
   "id": "08ed11e0-28f6-42f1-bcca-e60e07e20ec6",
   "metadata": {},
   "source": [
    "### データ準備"
   ]
  },
  {
   "cell_type": "code",
   "execution_count": 375,
   "id": "019bb8f0-d22b-4e8c-858b-07a523bf5b35",
   "metadata": {},
   "outputs": [],
   "source": [
    "import pickle # ピクル\n",
    "from sklearn.preprocessing import LabelEncoder\n",
    "from sklearn.model_selection import train_test_split\n",
    "import torch\n",
    "import torch.optim as optim\n",
    "import torch.nn as nn\n",
    "from torch.nn.utils.rnn import pad_sequence\n",
    "from torch.utils.data import DataLoader, TensorDataset\n",
    "from tqdm import tqdm\n",
    "import matplotlib.pyplot as plt"
   ]
  },
  {
   "cell_type": "markdown",
   "id": "9af391d3-711e-4fbe-bf7f-4dcf3d9079ad",
   "metadata": {},
   "source": [
    "##### 'r': 読み取り専用 (デフォルト)\n",
    "##### 'w': 書き込み専用（既存のファイル内容は消去）\n",
    "##### 'a': 追記モード\n",
    "##### 'b': バイナリーモード（例: 'rb', 'wb'）"
   ]
  },
  {
   "cell_type": "markdown",
   "id": "dbdff55e-ec13-41c4-a6e9-38d48c92bdae",
   "metadata": {},
   "source": [
    "### データをロード"
   ]
  },
  {
   "cell_type": "code",
   "execution_count": 376,
   "id": "437f8c7b-7d7b-4253-8ab1-7165a12d8fd1",
   "metadata": {},
   "outputs": [],
   "source": [
    "def load_dataset(sentences_file_name='ner_dataset_sentences.txt', label_file_name='ner_dataset_labels.txt'):\n",
    "    with open(sentences_file_name, 'rb') as fp: # rbはバイナリーファイルの時\n",
    "       sentence = pickle.load(fp) # 開いた後のものを引数に入れる\n",
    "    \n",
    "    with open(label_file_name, 'rb') as fp: # rbはバイナリーファイルの時\n",
    "       labels = pickle.load(fp)\n",
    "    return sentence, labels\n"
   ]
  },
  {
   "cell_type": "code",
   "execution_count": 377,
   "id": "0ad77da2-6147-4777-b394-04eae55c26c8",
   "metadata": {},
   "outputs": [],
   "source": [
    "sentences, labels = load_dataset()"
   ]
  },
  {
   "cell_type": "code",
   "execution_count": 378,
   "id": "3e865af4-06e6-48fb-93fa-a251c6b91eff",
   "metadata": {},
   "outputs": [
    {
     "data": {
      "text/plain": [
       "['The cat sat on the mat .',\n",
       " 'John lives in New York .',\n",
       " 'I have two dogs .',\n",
       " 'She works at Google .',\n",
       " 'The Eiffel Tower is in Paris .',\n",
       " 'He is from Spain .',\n",
       " 'I visited the Great Wall of China .',\n",
       " 'She is studying at Oxford University .',\n",
       " 'He works for the United Nations .',\n",
       " 'Berlin is the capital of Germany .']"
      ]
     },
     "execution_count": 378,
     "metadata": {},
     "output_type": "execute_result"
    }
   ],
   "source": [
    "sentences[:10]"
   ]
  },
  {
   "cell_type": "code",
   "execution_count": 379,
   "id": "87b0988f-d138-4dd1-93a1-aadcaed1597a",
   "metadata": {},
   "outputs": [
    {
     "data": {
      "text/plain": [
       "[['O', 'O', 'O', 'O', 'O', 'O', 'O'],\n",
       " ['B-per', 'O', 'O', 'B-geo', 'I-geo', 'O'],\n",
       " ['O', 'O', 'O', 'O', 'O'],\n",
       " ['O', 'O', 'O', 'B-org', 'O'],\n",
       " ['O', 'B-geo', 'I-geo', 'O', 'O', 'B-geo', 'O'],\n",
       " ['O', 'O', 'O', 'B-geo', 'O'],\n",
       " ['O', 'O', 'O', 'B-geo', 'I-geo', 'I-geo', 'I-geo', 'O'],\n",
       " ['O', 'O', 'O', 'O', 'B-org', 'I-org', 'O'],\n",
       " ['O', 'O', 'O', 'O', 'B-org', 'I-org', 'O'],\n",
       " ['B-geo', 'O', 'O', 'O', 'O', 'B-geo', 'O']]"
      ]
     },
     "execution_count": 379,
     "metadata": {},
     "output_type": "execute_result"
    }
   ],
   "source": [
    "labels[:10]"
   ]
  },
  {
   "cell_type": "markdown",
   "id": "86ab9113-407f-4613-9537-31900543bb6d",
   "metadata": {},
   "source": [
    "### ラベルエンコード"
   ]
  },
  {
   "cell_type": "code",
   "execution_count": 380,
   "id": "750620d9-a686-476d-8604-c3fbb7daaa4f",
   "metadata": {},
   "outputs": [],
   "source": [
    "label_encoder = LabelEncoder()\n",
    "all_labels = [label for sublist in labels for label in sublist]\n",
    "label_encoder = LabelEncoder()\n",
    "label_encoder.fit(all_labels)\n",
    "encoded_labels = [label_encoder.transform(label)+1 for label in labels] # paddingのラベルを0にするので1を足す"
   ]
  },
  {
   "cell_type": "markdown",
   "id": "c0069901-0fec-4d35-8adb-a3cac5c3110e",
   "metadata": {},
   "source": [
    "### 補足 : padding用に1を足す"
   ]
  },
  {
   "cell_type": "code",
   "execution_count": 381,
   "id": "ef3c8098-63de-4afb-ace9-b55d1636072a",
   "metadata": {},
   "outputs": [
    {
     "name": "stdout",
     "output_type": "stream",
     "text": [
      "['O', 'O', 'O', 'O', 'O', 'O', 'O']\n",
      "The cat sat on the mat .\n"
     ]
    },
    {
     "data": {
      "text/plain": [
       "array([7, 7, 7, 7, 7, 7, 7])"
      ]
     },
     "execution_count": 381,
     "metadata": {},
     "output_type": "execute_result"
    }
   ],
   "source": [
    "print(labels[0])\n",
    "print(sentences[0])\n",
    "label_encoder.transform(labels[0]) +1"
   ]
  },
  {
   "cell_type": "markdown",
   "id": "8cf3a610-3167-45cf-90d6-d403a9bfa71c",
   "metadata": {},
   "source": [
    "### 辞書作成とエンコード"
   ]
  },
  {
   "cell_type": "code",
   "execution_count": 382,
   "id": "92463716-9c70-44c7-81f8-71d39c47b09f",
   "metadata": {},
   "outputs": [],
   "source": [
    "# 辞書初期化\n",
    "word2indx = {\"<PAD>\":0}"
   ]
  },
  {
   "cell_type": "code",
   "execution_count": 383,
   "id": "da371985-505e-4d04-8143-73f2748c0786",
   "metadata": {},
   "outputs": [],
   "source": [
    "encorded_sentences = []\n",
    "for sentence in sentences:\n",
    "    encorded_sentence = [word2indx.setdefault(word, len(word2indx)) for word in sentence.split()]\n",
    "    encorded_sentences.append(encorded_sentence)"
   ]
  },
  {
   "cell_type": "code",
   "execution_count": 384,
   "id": "35af856f-6397-48b4-a4d2-c31441bd9b0e",
   "metadata": {},
   "outputs": [
    {
     "data": {
      "text/plain": [
       "[[1, 2, 3, 4, 5, 6, 7],\n",
       " [8, 9, 10, 11, 12, 7],\n",
       " [13, 14, 15, 16, 7],\n",
       " [17, 18, 19, 20, 7],\n",
       " [1, 21, 22, 23, 10, 24, 7],\n",
       " [25, 23, 26, 27, 7],\n",
       " [13, 28, 5, 29, 30, 31, 32, 7],\n",
       " [17, 23, 33, 19, 34, 35, 7],\n",
       " [25, 18, 36, 5, 37, 38, 7],\n",
       " [39, 23, 5, 40, 31, 41, 7]]"
      ]
     },
     "execution_count": 384,
     "metadata": {},
     "output_type": "execute_result"
    }
   ],
   "source": [
    "encorded_sentences[:10]"
   ]
  },
  {
   "cell_type": "markdown",
   "id": "df10f57f-313b-4268-abda-209593946fb2",
   "metadata": {},
   "source": [
    "### 学習データとテストデータに分割"
   ]
  },
  {
   "cell_type": "code",
   "execution_count": 385,
   "id": "74df8c84-63f1-4207-b3c2-46c595b4612f",
   "metadata": {},
   "outputs": [],
   "source": [
    "X_train, X_val, y_train, y_val, train_sentenses, val_sentences = train_test_split(encorded_sentences, encoded_labels, sentences, test_size=0.2, random_state=42) "
   ]
  },
  {
   "cell_type": "code",
   "execution_count": 386,
   "id": "e015d996-8207-4f9e-9b42-d6a452146b04",
   "metadata": {},
   "outputs": [
    {
     "data": {
      "text/plain": [
       "[[94, 51, 95, 96, 97, 98, 7], [17, 18, 19, 87, 7], [1, 50, 51, 52, 10, 53, 7]]"
      ]
     },
     "execution_count": 386,
     "metadata": {},
     "output_type": "execute_result"
    }
   ],
   "source": [
    "X_train[:3]"
   ]
  },
  {
   "cell_type": "code",
   "execution_count": 387,
   "id": "ed67259c-b68d-4946-99ff-6d7d5a02ebbf",
   "metadata": {},
   "outputs": [
    {
     "data": {
      "text/plain": [
       "['They are visiting London this summer .',\n",
       " 'She works at Facebook .',\n",
       " 'The Pyramids are located in Egypt .']"
      ]
     },
     "execution_count": 387,
     "metadata": {},
     "output_type": "execute_result"
    }
   ],
   "source": [
    "train_sentenses[:3]"
   ]
  },
  {
   "cell_type": "markdown",
   "id": "34f75bd7-ec93-4d62-bcb3-3aaee2cd7b03",
   "metadata": {},
   "source": [
    "### Padding"
   ]
  },
  {
   "cell_type": "code",
   "execution_count": 388,
   "id": "cc653b27-dbb2-4290-9082-0dd72e71053e",
   "metadata": {},
   "outputs": [],
   "source": [
    "seq1 = torch.tensor([1, 2, 3])\n",
    "seq2 = torch.tensor([4, 5])\n",
    "seq3 = torch.tensor([6, 7, 8, 9])"
   ]
  },
  {
   "cell_type": "code",
   "execution_count": 389,
   "id": "899c1749-5fff-41e2-80eb-b0a348eec4b4",
   "metadata": {},
   "outputs": [
    {
     "name": "stdout",
     "output_type": "stream",
     "text": [
      "tensor([[1, 2, 3, 0],\n",
      "        [4, 5, 0, 0],\n",
      "        [6, 7, 8, 9]])\n"
     ]
    }
   ],
   "source": [
    "sequence = [seq1, seq2, seq3]\n",
    "padding_sequence = pad_sequence(sequence, batch_first=True)\n",
    "print(padding_sequence)"
   ]
  },
  {
   "cell_type": "code",
   "execution_count": 390,
   "id": "be336d21-d4a1-423c-b9c3-77f41f684568",
   "metadata": {},
   "outputs": [],
   "source": [
    "X_train = pad_sequence([torch.tensor(x) for x in X_train], batch_first=True) # リストの中身はtensorである必要があるのでtorch.tensor(x)の処理が必要\n",
    "X_val = pad_sequence([torch.tensor(x) for x in X_val], batch_first=True)  # ここではfor文各文章を取り出しでpaddingを行っている(デォルトで0padding)\n",
    "y_train = pad_sequence([torch.tensor(y) for y in y_train], batch_first=True)\n",
    "y_val = pad_sequence([torch.tensor(y) for y in y_val], batch_first=True)"
   ]
  },
  {
   "cell_type": "code",
   "execution_count": 391,
   "id": "a8836290-45fb-4841-b467-0d8029c00b7c",
   "metadata": {},
   "outputs": [
    {
     "data": {
      "text/plain": [
       "tensor([[ 94,  51,  95,  96,  97,  98,   7,   0,   0,   0],\n",
       "        [ 17,  18,  19,  87,   7,   0,   0,   0,   0,   0],\n",
       "        [  1,  50,  51,  52,  10,  53,   7,   0,   0,   0],\n",
       "        [  1,   2,   3,   4,   5,   6,   7,   0,   0,   0],\n",
       "        [  1,  21,  22,  23,  10,  24,   7,   0,   0,   0],\n",
       "        [ 25,  23,  60,  61,  24,  36,  62,  63,   7,   0],\n",
       "        [ 25,  23,  26,  27,   7,   0,   0,   0,   0,   0],\n",
       "        [  1,  54,  55,  23,  10,  56,   7,   0,   0,   0],\n",
       "        [  1,  47,  23,   5,  48,  49,  10,   5,  46,   7],\n",
       "        [  1,  82,  22,  31,  83,  23,  10,  84,   7,   0],\n",
       "        [  8,   9,  10,  11,  12,   7,   0,   0,   0,   0],\n",
       "        [ 13,  14,  15,  16,   7,   0,   0,   0,   0,   0],\n",
       "        [  1,  88,  89,  23,  10,  90,   7,   0,   0,   0],\n",
       "        [ 17,  18,  19,  20,   7,   0,   0,   0,   0,   0],\n",
       "        [ 78,  79,  80,  62,  81,   7,   0,   0,   0,   0],\n",
       "        [ 17,  23,  33,  19,   5,  35,  31,  91,   7,   0],\n",
       "        [ 25,  67,  19,  68,   7,   0,   0,   0,   0,   0],\n",
       "        [ 25,  18,  36,   5,  99, 100, 101,   7,   0,   0],\n",
       "        [ 73,  23,  74,  36,  75,  76,  77,   7,   0,   0],\n",
       "        [ 17,  23,  33,  19,  34,  35,   7,   0,   0,   0],\n",
       "        [ 42,  43,  23,   5,  44,  45,  10,   5,  46,   7],\n",
       "        [ 13,  57,  19,  58,   7,   0,   0,   0,   0,   0],\n",
       "        [ 69,  70,  23,  62,  71,  72,   7,   0,   0,   0],\n",
       "        [ 13,  28,   5,  29,  30,  31,  32,   7,   0,   0]])"
      ]
     },
     "execution_count": 391,
     "metadata": {},
     "output_type": "execute_result"
    }
   ],
   "source": [
    "X_train # paddingされている"
   ]
  },
  {
   "cell_type": "code",
   "execution_count": 392,
   "id": "95db0fce-5eb5-4fbf-ba25-faa6c2f8a36e",
   "metadata": {
    "scrolled": true
   },
   "outputs": [
    {
     "data": {
      "text/plain": [
       "{'<PAD>': 0,\n",
       " 'The': 1,\n",
       " 'cat': 2,\n",
       " 'sat': 3,\n",
       " 'on': 4,\n",
       " 'the': 5,\n",
       " 'mat': 6,\n",
       " '.': 7,\n",
       " 'John': 8,\n",
       " 'lives': 9,\n",
       " 'in': 10,\n",
       " 'New': 11,\n",
       " 'York': 12,\n",
       " 'I': 13,\n",
       " 'have': 14,\n",
       " 'two': 15,\n",
       " 'dogs': 16,\n",
       " 'She': 17,\n",
       " 'works': 18,\n",
       " 'at': 19,\n",
       " 'Google': 20,\n",
       " 'Eiffel': 21,\n",
       " 'Tower': 22,\n",
       " 'is': 23,\n",
       " 'Paris': 24,\n",
       " 'He': 25,\n",
       " 'from': 26,\n",
       " 'Spain': 27,\n",
       " 'visited': 28,\n",
       " 'Great': 29,\n",
       " 'Wall': 30,\n",
       " 'of': 31,\n",
       " 'China': 32,\n",
       " 'studying': 33,\n",
       " 'Oxford': 34,\n",
       " 'University': 35,\n",
       " 'for': 36,\n",
       " 'United': 37,\n",
       " 'Nations': 38,\n",
       " 'Berlin': 39,\n",
       " 'capital': 40,\n",
       " 'Germany': 41,\n",
       " 'Mount': 42,\n",
       " 'Everest': 43,\n",
       " 'highest': 44,\n",
       " 'peak': 45,\n",
       " 'world': 46,\n",
       " 'Nile': 47,\n",
       " 'longest': 48,\n",
       " 'river': 49,\n",
       " 'Pyramids': 50,\n",
       " 'are': 51,\n",
       " 'located': 52,\n",
       " 'Egypt': 53,\n",
       " 'Sahara': 54,\n",
       " 'desert': 55,\n",
       " 'Africa': 56,\n",
       " 'work': 57,\n",
       " 'Microsoft': 58,\n",
       " 'Australia': 59,\n",
       " 'going': 60,\n",
       " 'to': 61,\n",
       " 'a': 62,\n",
       " 'meeting': 63,\n",
       " 'Amazon': 64,\n",
       " 'largest': 65,\n",
       " 'rainforest': 66,\n",
       " 'studied': 67,\n",
       " 'Harvard': 68,\n",
       " 'Mona': 69,\n",
       " 'Lisa': 70,\n",
       " 'famous': 71,\n",
       " 'painting': 72,\n",
       " 'Shakespeare': 73,\n",
       " 'known': 74,\n",
       " 'Romeo': 75,\n",
       " 'and': 76,\n",
       " 'Juliet': 77,\n",
       " 'Albert': 78,\n",
       " 'Einstein': 79,\n",
       " 'was': 80,\n",
       " 'physicist': 81,\n",
       " 'Leaning': 82,\n",
       " 'Pisa': 83,\n",
       " 'Italy': 84,\n",
       " 'Barrier': 85,\n",
       " 'Reef': 86,\n",
       " 'Facebook': 87,\n",
       " 'Grand': 88,\n",
       " 'Canyon': 89,\n",
       " 'Arizona': 90,\n",
       " 'Tokyo': 91,\n",
       " 'Los': 92,\n",
       " 'Angeles': 93,\n",
       " 'They': 94,\n",
       " 'visiting': 95,\n",
       " 'London': 96,\n",
       " 'this': 97,\n",
       " 'summer': 98,\n",
       " 'World': 99,\n",
       " 'Health': 100,\n",
       " 'Organization': 101}"
      ]
     },
     "execution_count": 392,
     "metadata": {},
     "output_type": "execute_result"
    }
   ],
   "source": [
    "word2indx"
   ]
  },
  {
   "cell_type": "markdown",
   "id": "c8678b12-1436-4f9f-9d56-5e429bf01418",
   "metadata": {},
   "source": [
    "### NERのモデル"
   ]
  },
  {
   "cell_type": "code",
   "execution_count": 393,
   "id": "5369d470-1e86-4a92-ba53-576364f9d49a",
   "metadata": {},
   "outputs": [],
   "source": [
    "class Model(nn.Module):\n",
    "    def __init__(self, vocab_size, embedding_dim, hidden_size, output_size, num_layers=1, rnn_type='LSTM', bidirectional=False):\n",
    "\n",
    "        super().__init__()\n",
    "        self.num_directions = 2 if bidirectional else 1\n",
    "        \n",
    "        # embedding layer追加 (vocab_size x embedding_dim)\n",
    "        self.embedding = nn.Embedding(vocab_size, embedding_dim, padding_idx=0) # vocab_sizeはdatasetの単語数(one-hotにするため)\n",
    "        input_size = embedding_dim\n",
    "        \n",
    "        if rnn_type == 'RNN':\n",
    "            self.rnn = nn.RNN(input_size, hidden_size, num_layers=num_layers, batch_first=True, bidirectional=bidirectional)\n",
    "        elif rnn_type == 'LSTM':\n",
    "            self.rnn = nn.LSTM(input_size, hidden_size, num_layers=num_layers, batch_first=True, bidirectional=bidirectional)\n",
    "        elif rnn_type == 'GRU':\n",
    "            self.rnn = nn.GRU(input_size, hidden_size, num_layers=num_layers, batch_first=True, bidirectional=bidirectional)\n",
    "        else:\n",
    "            raise ValueError('Unsupported RNN type. Choose from [\"LSTM\", \"RNN\", \"GRU\", \"UGRNN\"]')\n",
    "            \n",
    "        self.fc = nn.Linear(hidden_size*self.num_directions, output_size)\n",
    "\n",
    "    def forward(self, x):\n",
    "        x = self.embedding(x)\n",
    "        output_seq, _ = self.rnn(x)\n",
    "\n",
    "        # many to many の場合は，\n",
    "        # output_seq: [batch_size, seq_len, hidden_size*num_directions]\n",
    "        out = self.fc(output_seq)\n",
    "        return out"
   ]
  },
  {
   "cell_type": "code",
   "execution_count": 394,
   "id": "60a96da2-a13d-4c10-8cf9-3332781fc868",
   "metadata": {
    "scrolled": true
   },
   "outputs": [
    {
     "name": "stdout",
     "output_type": "stream",
     "text": [
      "X_train.shape = torch.Size([24, 10])\n",
      "out.shape = torch.Size([24, 10, 3])\n"
     ]
    },
    {
     "data": {
      "text/plain": [
       "tensor([[[ 0.1597,  0.2041, -0.5249],\n",
       "         [ 0.0493,  0.3011, -0.2500],\n",
       "         [ 0.2399,  0.3452, -0.2732],\n",
       "         [ 0.2377,  0.2774, -0.1198],\n",
       "         [ 0.0402,  0.2234, -0.4049],\n",
       "         [ 0.1574,  0.2072, -0.3116],\n",
       "         [ 0.3859,  0.2719, -0.1763],\n",
       "         [ 0.1073,  0.1647, -0.2150],\n",
       "         [ 0.0916,  0.1829, -0.2100],\n",
       "         [ 0.0758,  0.2110, -0.2081]],\n",
       "\n",
       "        [[ 0.2463,  0.0856, -0.3706],\n",
       "         [ 0.3137,  0.1534, -0.1685],\n",
       "         [ 0.1496,  0.3530,  0.1035],\n",
       "         [ 0.0472,  0.1932,  0.0838],\n",
       "         [ 0.3117,  0.3194, -0.1097],\n",
       "         [ 0.0756,  0.1772, -0.1725],\n",
       "         [ 0.0756,  0.1797, -0.1858],\n",
       "         [ 0.0741,  0.1857, -0.1934],\n",
       "         [ 0.0706,  0.1973, -0.1973],\n",
       "         [ 0.0627,  0.2203, -0.2003]],\n",
       "\n",
       "        [[ 0.4654,  0.3553, -0.4873],\n",
       "         [ 0.3317,  0.1189, -0.5147],\n",
       "         [ 0.1030,  0.2726, -0.2990],\n",
       "         [ 0.0068,  0.2884, -0.3092],\n",
       "         [ 0.0354,  0.2228, -0.5240],\n",
       "         [ 0.2597,  0.4861, -0.2470],\n",
       "         [ 0.3857,  0.2726, -0.1786],\n",
       "         [ 0.1107,  0.1628, -0.2176],\n",
       "         [ 0.0937,  0.1816, -0.2113],\n",
       "         [ 0.0771,  0.2101, -0.2089]],\n",
       "\n",
       "        [[ 0.3799,  0.3980, -0.4608],\n",
       "         [ 0.1532,  0.0774, -0.1354],\n",
       "         [ 0.2510,  0.0256, -0.0806],\n",
       "         [ 0.3899,  0.0273, -0.1693],\n",
       "         [-0.0720,  0.1343, -0.3973],\n",
       "         [ 0.2002,  0.1161, -0.3452],\n",
       "         [ 0.4415,  0.2344, -0.2024],\n",
       "         [ 0.1382,  0.1428, -0.2293],\n",
       "         [ 0.1088,  0.1705, -0.2190],\n",
       "         [ 0.0859,  0.2036, -0.2138]],\n",
       "\n",
       "        [[ 0.4260,  0.4044, -0.4711],\n",
       "         [ 0.2202,  0.1078, -0.3226],\n",
       "         [ 0.0496,  0.2871, -0.2805],\n",
       "         [ 0.0329,  0.1947, -0.4262],\n",
       "         [ 0.1030,  0.1822, -0.4991],\n",
       "         [ 0.3488,  0.1823, -0.3561],\n",
       "         [ 0.4414,  0.2351, -0.2071],\n",
       "         [ 0.1367,  0.1441, -0.2317],\n",
       "         [ 0.1083,  0.1709, -0.2199],\n",
       "         [ 0.0857,  0.2038, -0.2141]],\n",
       "\n",
       "        [[-0.1067,  0.1572, -0.4687],\n",
       "         [-0.0941,  0.2216, -0.3915],\n",
       "         [-0.0217,  0.0908, -0.2643],\n",
       "         [ 0.5057, -0.1819, -0.2819],\n",
       "         [ 0.3465,  0.1556, -0.2930],\n",
       "         [ 0.4567, -0.0768, -0.3410],\n",
       "         [ 0.1320,  0.1269, -0.4314],\n",
       "         [ 0.2022,  0.1850, -0.3911],\n",
       "         [ 0.4093,  0.2484, -0.2027],\n",
       "         [ 0.1128,  0.1879, -0.2297]],\n",
       "\n",
       "        [[-0.0122,  0.1472, -0.4623],\n",
       "         [ 0.2763,  0.0704, -0.4700],\n",
       "         [ 0.4913, -0.0113, -0.5276],\n",
       "         [ 0.3099, -0.3197, -0.2860],\n",
       "         [ 0.4439,  0.2345, -0.2033],\n",
       "         [ 0.1380,  0.1340, -0.2242],\n",
       "         [ 0.1143,  0.1523, -0.2167],\n",
       "         [ 0.0990,  0.1677, -0.2114],\n",
       "         [ 0.0866,  0.1856, -0.2079],\n",
       "         [ 0.0729,  0.2127, -0.2068]],\n",
       "\n",
       "        [[ 0.4087,  0.4034, -0.4681],\n",
       "         [ 0.1419,  0.1865, -0.2768],\n",
       "         [ 0.3794,  0.0789, -0.2285],\n",
       "         [ 0.0205,  0.2007, -0.4136],\n",
       "         [ 0.1103,  0.1751, -0.4755],\n",
       "         [ 0.0957,  0.2396, -0.3141],\n",
       "         [ 0.3769,  0.2786, -0.1744],\n",
       "         [ 0.1067,  0.1658, -0.2161],\n",
       "         [ 0.0915,  0.1832, -0.2102],\n",
       "         [ 0.0757,  0.2111, -0.2082]],\n",
       "\n",
       "        [[ 0.3044,  0.4563, -0.4431],\n",
       "         [ 0.3174, -0.1375, -0.4974],\n",
       "         [ 0.1197,  0.0783, -0.5553],\n",
       "         [-0.0534,  0.1985, -0.5762],\n",
       "         [ 0.0595,  0.3218, -0.3447],\n",
       "         [ 0.4283,  0.1710, -0.2761],\n",
       "         [ 0.1016,  0.1366, -0.3617],\n",
       "         [ 0.2463,  0.2108, -0.3870],\n",
       "         [-0.0103, -0.1599, -0.1616],\n",
       "         [ 0.3723,  0.2602, -0.1960]],\n",
       "\n",
       "        [[ 0.3945,  0.3932, -0.4701],\n",
       "         [-0.1137,  0.1561, -0.1660],\n",
       "         [-0.0495,  0.3590, -0.2152],\n",
       "         [ 0.0672,  0.2209, -0.3154],\n",
       "         [ 0.1242,  0.1854, -0.3585],\n",
       "         [ 0.1761,  0.1073, -0.5177],\n",
       "         [ 0.1464,  0.1694, -0.5107],\n",
       "         [ 0.4711,  0.0693, -0.4443],\n",
       "         [ 0.4961,  0.1884, -0.2373],\n",
       "         [ 0.1575,  0.1540, -0.2402]],\n",
       "\n",
       "        [[ 0.0136,  0.3265, -0.1481],\n",
       "         [ 0.1779,  0.0829, -0.2277],\n",
       "         [ 0.1591,  0.1152, -0.3544],\n",
       "         [ 0.3805, -0.1733, -0.2387],\n",
       "         [ 0.1852,  0.1707, -0.3045],\n",
       "         [ 0.4546,  0.2255, -0.2001],\n",
       "         [ 0.1476,  0.1301, -0.2250],\n",
       "         [ 0.1172,  0.1551, -0.2178],\n",
       "         [ 0.0968,  0.1784, -0.2126],\n",
       "         [ 0.0789,  0.2084, -0.2099]],\n",
       "\n",
       "        [[ 0.3495,  0.2745, -0.4096],\n",
       "         [ 0.1228,  0.3434, -0.2235],\n",
       "         [-0.0267,  0.2548, -0.2771],\n",
       "         [ 0.0119,  0.3534, -0.1562],\n",
       "         [ 0.3805,  0.2791, -0.1821],\n",
       "         [ 0.1061,  0.1589, -0.2190],\n",
       "         [ 0.0972,  0.1652, -0.2110],\n",
       "         [ 0.0893,  0.1749, -0.2069],\n",
       "         [ 0.0808,  0.1898, -0.2049],\n",
       "         [ 0.0694,  0.2153, -0.2048]],\n",
       "\n",
       "        [[ 0.4837,  0.3793, -0.4834],\n",
       "         [ 0.3319,  0.1309, -0.4714],\n",
       "         [ 0.0983,  0.2839, -0.2958],\n",
       "         [ 0.1152,  0.1373, -0.4806],\n",
       "         [ 0.0588,  0.1746, -0.5053],\n",
       "         [ 0.0958,  0.1579, -0.4654],\n",
       "         [ 0.4242,  0.2499, -0.2182],\n",
       "         [ 0.1260,  0.1535, -0.2407],\n",
       "         [ 0.1036,  0.1747, -0.2221],\n",
       "         [ 0.0835,  0.2054, -0.2144]],\n",
       "\n",
       "        [[ 0.2649,  0.0805, -0.3744],\n",
       "         [ 0.3605,  0.1438, -0.1751],\n",
       "         [ 0.2551,  0.5105,  0.1123],\n",
       "         [ 0.1748,  0.2057, -0.3397],\n",
       "         [ 0.3406,  0.3037, -0.1484],\n",
       "         [ 0.0814,  0.1758, -0.2009],\n",
       "         [ 0.0816,  0.1763, -0.2005],\n",
       "         [ 0.0795,  0.1821, -0.2006],\n",
       "         [ 0.0746,  0.1944, -0.2011],\n",
       "         [ 0.0654,  0.2182, -0.2024]],\n",
       "\n",
       "        [[ 0.4872,  0.0382, -0.1842],\n",
       "         [ 0.5421, -0.0459, -0.3222],\n",
       "         [ 0.4279,  0.1777, -0.1301],\n",
       "         [ 0.1677,  0.0347, -0.3776],\n",
       "         [ 0.2339,  0.1902, -0.2150],\n",
       "         [ 0.3447,  0.2992, -0.1429],\n",
       "         [ 0.0890,  0.1720, -0.1956],\n",
       "         [ 0.0836,  0.1794, -0.1990],\n",
       "         [ 0.0767,  0.1931, -0.2008],\n",
       "         [ 0.0665,  0.2175, -0.2025]],\n",
       "\n",
       "        [[ 0.1618,  0.1157, -0.3512],\n",
       "         [ 0.1926,  0.0898, -0.5174],\n",
       "         [ 0.2602,  0.2237, -0.4364],\n",
       "         [ 0.0260,  0.0933, -0.1907],\n",
       "         [-0.1316,  0.1499, -0.4925],\n",
       "         [ 0.3368,  0.0202, -0.3149],\n",
       "         [ 0.1880,  0.1785, -0.3281],\n",
       "         [ 0.1004,  0.2557, -0.3282],\n",
       "         [ 0.3745,  0.2728, -0.1926],\n",
       "         [ 0.0910,  0.2034, -0.2228]],\n",
       "\n",
       "        [[-0.0194,  0.1532, -0.4750],\n",
       "         [ 0.1723,  0.2434, -0.2730],\n",
       "         [ 0.3712,  0.3661,  0.0208],\n",
       "         [ 0.2778,  0.2350, -0.0096],\n",
       "         [ 0.3502,  0.2955, -0.1423],\n",
       "         [ 0.0914,  0.1656, -0.1858],\n",
       "         [ 0.0859,  0.1723, -0.1948],\n",
       "         [ 0.0812,  0.1806, -0.1988],\n",
       "         [ 0.0753,  0.1938, -0.2005],\n",
       "         [ 0.0658,  0.2180, -0.2023]],\n",
       "\n",
       "        [[-0.0342,  0.1403, -0.4947],\n",
       "         [ 0.2470,  0.1303, -0.1975],\n",
       "         [ 0.1332,  0.0893, -0.2000],\n",
       "         [-0.0993,  0.1727, -0.4562],\n",
       "         [ 0.3611,  0.1569, -0.5793],\n",
       "         [ 0.5464,  0.1077, -0.7993],\n",
       "         [ 0.1513,  0.3015, -0.3383],\n",
       "         [ 0.4052,  0.2558, -0.1858],\n",
       "         [ 0.1181,  0.1661, -0.2199],\n",
       "         [ 0.0911,  0.2006, -0.2147]],\n",
       "\n",
       "        [[ 0.2788,  0.1953, -0.3394],\n",
       "         [ 0.2432,  0.0420, -0.4571],\n",
       "         [ 0.4978, -0.0435, -0.3848],\n",
       "         [ 0.4603, -0.0669, -0.3251],\n",
       "         [ 0.3789,  0.2766, -0.1539],\n",
       "         [ 0.1719,  0.3275, -0.2360],\n",
       "         [ 0.1670,  0.1947, -0.2258],\n",
       "         [ 0.4080,  0.2542, -0.1901],\n",
       "         [ 0.1163,  0.1669, -0.2192],\n",
       "         [ 0.0900,  0.2012, -0.2144]],\n",
       "\n",
       "        [[ 0.1663,  0.1159, -0.3518],\n",
       "         [ 0.2214,  0.1027, -0.5190],\n",
       "         [ 0.2914,  0.2279, -0.4283],\n",
       "         [ 0.4293,  0.3298, -0.0832],\n",
       "         [ 0.0311,  0.1179,  0.1374],\n",
       "         [ 0.3575, -0.0066, -0.2564],\n",
       "         [ 0.3742,  0.2769, -0.1525],\n",
       "         [ 0.1014,  0.1675, -0.2001],\n",
       "         [ 0.0870,  0.1859, -0.2029],\n",
       "         [ 0.0725,  0.2134, -0.2047]],\n",
       "\n",
       "        [[ 0.2293,  0.2164, -0.3413],\n",
       "         [ 0.0419,  0.2756, -0.3280],\n",
       "         [ 0.0899,  0.0970, -0.4974],\n",
       "         [ 0.2812,  0.2363, -0.4710],\n",
       "         [ 0.4295,  0.1780, -0.1459],\n",
       "         [ 0.2059,  0.3732, -0.2100],\n",
       "         [ 0.0122,  0.2246, -0.4746],\n",
       "         [ 0.2176,  0.2391, -0.4264],\n",
       "         [-0.0361, -0.1397, -0.1634],\n",
       "         [ 0.3651,  0.2654, -0.1945]],\n",
       "\n",
       "        [[ 0.3657,  0.2652, -0.4324],\n",
       "         [ 0.2160,  0.2948, -0.3355],\n",
       "         [ 0.3418,  0.2842, -0.0457],\n",
       "         [ 0.2386,  0.1301, -0.3624],\n",
       "         [ 0.3817,  0.2760, -0.1689],\n",
       "         [ 0.1058,  0.1583, -0.2120],\n",
       "         [ 0.0963,  0.1657, -0.2081],\n",
       "         [ 0.0885,  0.1755, -0.2057],\n",
       "         [ 0.0802,  0.1903, -0.2043],\n",
       "         [ 0.0690,  0.2156, -0.2045]],\n",
       "\n",
       "        [[-0.0040, -0.0106, -0.2162],\n",
       "         [ 0.2976,  0.0652, -0.3943],\n",
       "         [ 0.2768,  0.0140, -0.5126],\n",
       "         [ 0.1567, -0.0456, -0.5410],\n",
       "         [ 0.2243,  0.0399, -0.3023],\n",
       "         [ 0.2710, -0.1367,  0.0352],\n",
       "         [ 0.4160,  0.2490, -0.1746],\n",
       "         [ 0.1271,  0.1488, -0.2089],\n",
       "         [ 0.1016,  0.1753, -0.2094],\n",
       "         [ 0.0811,  0.2071, -0.2091]],\n",
       "\n",
       "        [[ 0.2272,  0.0704, -0.4298],\n",
       "         [ 0.1267,  0.2299, -0.3830],\n",
       "         [ 0.1694,  0.2298, -0.4437],\n",
       "         [ 0.3049,  0.4160, -0.4030],\n",
       "         [ 0.1215,  0.1826, -0.3822],\n",
       "         [ 0.1440,  0.1876, -0.3332],\n",
       "         [ 0.3543,  0.0944,  0.0882],\n",
       "         [ 0.4148,  0.2478, -0.1827],\n",
       "         [ 0.1216,  0.1614, -0.2100],\n",
       "         [ 0.0920,  0.1993, -0.2111]]], grad_fn=<AddBackward0>)"
      ]
     },
     "execution_count": 394,
     "metadata": {},
     "output_type": "execute_result"
    }
   ],
   "source": [
    "# BiRNNのテスト\n",
    "print(f\"X_train.shape = {X_train.shape}\")\n",
    "vocab_size = 300\n",
    "embedding_dim = 50\n",
    "hidden_size = 3\n",
    "batch_size = 24\n",
    "output_size = 3\n",
    "model = Model(vocab_size, embedding_dim, hidden_size, output_size, bidirectional=True)\n",
    "out = model(X_train) # embedding layerは入力にインデックスの羅列を受け取るので適当にinput_tensorは使えない\n",
    "print(f\"out.shape = {out.shape}\")\n",
    "out"
   ]
  },
  {
   "cell_type": "code",
   "execution_count": 395,
   "id": "5b5d8c89-be4b-4d23-bb74-2e381211b736",
   "metadata": {},
   "outputs": [
    {
     "data": {
      "text/plain": [
       "torch.Size([24, 10, 3])"
      ]
     },
     "execution_count": 395,
     "metadata": {},
     "output_type": "execute_result"
    }
   ],
   "source": [
    "out.shape # [batch_size, seq_len(今回はdataset内で最も長い文章の単語数。バッチ単位でseq_lenを決めることもあるので注意), output_size(num_classes)]"
   ]
  },
  {
   "cell_type": "code",
   "execution_count": 396,
   "id": "883998ad-6802-4177-bc02-4bc3e6cc67e6",
   "metadata": {},
   "outputs": [
    {
     "data": {
      "text/plain": [
       "torch.Size([240, 3])"
      ]
     },
     "execution_count": 396,
     "metadata": {},
     "output_type": "execute_result"
    }
   ],
   "source": [
    "out.view(-1, output_size).shape # [batch_size(24) * seq_len(10),  output_size(3)]  "
   ]
  },
  {
   "cell_type": "code",
   "execution_count": 397,
   "id": "3669322d-14d3-4fa7-9dd0-f5b9559b9fe1",
   "metadata": {},
   "outputs": [
    {
     "data": {
      "text/plain": [
       "torch.Size([24, 10])"
      ]
     },
     "execution_count": 397,
     "metadata": {},
     "output_type": "execute_result"
    }
   ],
   "source": [
    "X_train.shape"
   ]
  },
  {
   "cell_type": "code",
   "execution_count": 398,
   "id": "19058f37-946f-47da-b028-ce5a447a5f6b",
   "metadata": {},
   "outputs": [
    {
     "data": {
      "text/plain": [
       "tensor([[25,  9, 10, 92, 93,  7,  0,  0],\n",
       "        [17, 23, 26, 59,  7,  0,  0,  0],\n",
       "        [ 1, 29, 85, 86, 23, 10, 59,  7],\n",
       "        [ 1, 64, 23,  5, 65, 66,  7,  0],\n",
       "        [25, 18, 36,  5, 37, 38,  7,  0],\n",
       "        [39, 23,  5, 40, 31, 41,  7,  0]])"
      ]
     },
     "execution_count": 398,
     "metadata": {},
     "output_type": "execute_result"
    }
   ],
   "source": [
    "X_val"
   ]
  },
  {
   "cell_type": "markdown",
   "id": "cfa44d4f-40b2-4ac7-80f0-66601ffb0974",
   "metadata": {},
   "source": [
    "### 学習の準備"
   ]
  },
  {
   "cell_type": "code",
   "execution_count": 399,
   "id": "0f2c3acb-e1fd-43d4-a636-13cdf169c544",
   "metadata": {},
   "outputs": [],
   "source": [
    "vocab_size = len(word2indx) # 102\n",
    "num_classes = len(label_encoder.classes_) + 1 # クラス数 paddingも考慮して+1をする 8クラスになる\n",
    "embedding_dim = 50\n",
    "hidden_size = 40 # 一般的にはembedding_dimより減らす\n",
    "output_size = num_classes\n",
    "batch_size = 3\n",
    "learning_rate = 0.003\n",
    "\n",
    "# モデルの定義\n",
    "model = Model(vocab_size, embedding_dim, hidden_size, output_size, num_layers=1, rnn_type='LSTM', bidirectional=True)\n",
    "\n",
    "# Dataset DataLoader作成\n",
    "train_dataset = TensorDataset(X_train, y_train) # datasetを作成してくれる。便利\n",
    "train_loader = DataLoader(train_dataset, batch_size=batch_size, shuffle=True)\n",
    "val_dataset = TensorDataset(X_val, y_val)\n",
    "val_loader = DataLoader(val_dataset, batch_size=batch_size, shuffle=False)\n",
    "\n",
    "# 損失関数とoptimizer\n",
    "opt = optim.Adam(model.parameters(), lr=learning_rate)\n",
    "criterion = nn.CrossEntropyLoss(ignore_index=0)\n",
    "\n"
   ]
  },
  {
   "cell_type": "markdown",
   "id": "f69a3360-3800-4b4e-bc21-2a94bb56f6f9",
   "metadata": {},
   "source": [
    "### 学習ループ"
   ]
  },
  {
   "cell_type": "code",
   "execution_count": 400,
   "id": "4df54e0d-96da-4f3e-9529-5135a83acfc7",
   "metadata": {},
   "outputs": [
    {
     "name": "stderr",
     "output_type": "stream",
     "text": [
      "                                                   \r"
     ]
    },
    {
     "name": "stdout",
     "output_type": "stream",
     "text": [
      "epoch=0  train_losse=1.9249 val_loss=1.6511 val_accuracy=0.5208\n"
     ]
    },
    {
     "name": "stderr",
     "output_type": "stream",
     "text": [
      "                                                   \r"
     ]
    },
    {
     "name": "stdout",
     "output_type": "stream",
     "text": [
      "epoch=1  train_losse=1.3241 val_loss=1.1298 val_accuracy=0.5833\n"
     ]
    },
    {
     "name": "stderr",
     "output_type": "stream",
     "text": [
      "                                                   \r"
     ]
    },
    {
     "name": "stdout",
     "output_type": "stream",
     "text": [
      "epoch=2  train_losse=0.9177 val_loss=1.0288 val_accuracy=0.5833\n"
     ]
    },
    {
     "name": "stderr",
     "output_type": "stream",
     "text": [
      "                                                   \r"
     ]
    },
    {
     "name": "stdout",
     "output_type": "stream",
     "text": [
      "epoch=3  train_losse=0.7994 val_loss=0.9082 val_accuracy=0.5833\n"
     ]
    },
    {
     "name": "stderr",
     "output_type": "stream",
     "text": [
      "                                                   \r"
     ]
    },
    {
     "name": "stdout",
     "output_type": "stream",
     "text": [
      "epoch=4  train_losse=0.6745 val_loss=0.8460 val_accuracy=0.6042\n"
     ]
    },
    {
     "name": "stderr",
     "output_type": "stream",
     "text": [
      "                                                   \r"
     ]
    },
    {
     "name": "stdout",
     "output_type": "stream",
     "text": [
      "epoch=5  train_losse=0.5597 val_loss=0.7886 val_accuracy=0.6250\n"
     ]
    },
    {
     "name": "stderr",
     "output_type": "stream",
     "text": [
      "                                                   \r"
     ]
    },
    {
     "name": "stdout",
     "output_type": "stream",
     "text": [
      "epoch=6  train_losse=0.4356 val_loss=0.7644 val_accuracy=0.6250\n"
     ]
    },
    {
     "name": "stderr",
     "output_type": "stream",
     "text": [
      "                                                   \r"
     ]
    },
    {
     "name": "stdout",
     "output_type": "stream",
     "text": [
      "epoch=7  train_losse=0.3222 val_loss=0.7133 val_accuracy=0.6250\n"
     ]
    },
    {
     "name": "stderr",
     "output_type": "stream",
     "text": [
      "                                                   \r"
     ]
    },
    {
     "name": "stdout",
     "output_type": "stream",
     "text": [
      "epoch=8  train_losse=0.2246 val_loss=0.6263 val_accuracy=0.6042\n"
     ]
    },
    {
     "name": "stderr",
     "output_type": "stream",
     "text": [
      "                                                   \r"
     ]
    },
    {
     "name": "stdout",
     "output_type": "stream",
     "text": [
      "epoch=9  train_losse=0.1595 val_loss=0.6593 val_accuracy=0.6042\n"
     ]
    },
    {
     "name": "stderr",
     "output_type": "stream",
     "text": [
      "                                                   \r"
     ]
    },
    {
     "name": "stdout",
     "output_type": "stream",
     "text": [
      "epoch=10  train_losse=0.1086 val_loss=0.6566 val_accuracy=0.6042\n"
     ]
    },
    {
     "name": "stderr",
     "output_type": "stream",
     "text": [
      "                                                   \r"
     ]
    },
    {
     "name": "stdout",
     "output_type": "stream",
     "text": [
      "epoch=11  train_losse=0.0858 val_loss=0.5829 val_accuracy=0.6250\n"
     ]
    },
    {
     "name": "stderr",
     "output_type": "stream",
     "text": [
      "                                                   \r"
     ]
    },
    {
     "name": "stdout",
     "output_type": "stream",
     "text": [
      "epoch=12  train_losse=0.0596 val_loss=0.5736 val_accuracy=0.6458\n"
     ]
    },
    {
     "name": "stderr",
     "output_type": "stream",
     "text": [
      "                                                   \r"
     ]
    },
    {
     "name": "stdout",
     "output_type": "stream",
     "text": [
      "epoch=13  train_losse=0.0452 val_loss=0.5825 val_accuracy=0.6458\n"
     ]
    },
    {
     "name": "stderr",
     "output_type": "stream",
     "text": [
      "                                                   \r"
     ]
    },
    {
     "name": "stdout",
     "output_type": "stream",
     "text": [
      "epoch=14  train_losse=0.0356 val_loss=0.5783 val_accuracy=0.6458\n"
     ]
    },
    {
     "name": "stderr",
     "output_type": "stream",
     "text": [
      "                                                   \r"
     ]
    },
    {
     "name": "stdout",
     "output_type": "stream",
     "text": [
      "epoch=15  train_losse=0.0284 val_loss=0.5565 val_accuracy=0.6458\n"
     ]
    },
    {
     "name": "stderr",
     "output_type": "stream",
     "text": [
      "                                                   \r"
     ]
    },
    {
     "name": "stdout",
     "output_type": "stream",
     "text": [
      "epoch=16  train_losse=0.0242 val_loss=0.5586 val_accuracy=0.6458\n"
     ]
    },
    {
     "name": "stderr",
     "output_type": "stream",
     "text": [
      "                                                   \r"
     ]
    },
    {
     "name": "stdout",
     "output_type": "stream",
     "text": [
      "epoch=17  train_losse=0.0204 val_loss=0.5664 val_accuracy=0.6458\n"
     ]
    },
    {
     "name": "stderr",
     "output_type": "stream",
     "text": [
      "                                                   \r"
     ]
    },
    {
     "name": "stdout",
     "output_type": "stream",
     "text": [
      "epoch=18  train_losse=0.0171 val_loss=0.5706 val_accuracy=0.6458\n"
     ]
    },
    {
     "name": "stderr",
     "output_type": "stream",
     "text": [
      "                                                   \r"
     ]
    },
    {
     "name": "stdout",
     "output_type": "stream",
     "text": [
      "epoch=19  train_losse=0.0147 val_loss=0.5678 val_accuracy=0.6458\n"
     ]
    },
    {
     "name": "stderr",
     "output_type": "stream",
     "text": [
      "                                                   \r"
     ]
    },
    {
     "name": "stdout",
     "output_type": "stream",
     "text": [
      "epoch=20  train_losse=0.0130 val_loss=0.5671 val_accuracy=0.6458\n"
     ]
    },
    {
     "name": "stderr",
     "output_type": "stream",
     "text": [
      "                                                   \r"
     ]
    },
    {
     "name": "stdout",
     "output_type": "stream",
     "text": [
      "epoch=21  train_losse=0.0116 val_loss=0.5627 val_accuracy=0.6458\n"
     ]
    },
    {
     "name": "stderr",
     "output_type": "stream",
     "text": [
      "                                                   \r"
     ]
    },
    {
     "name": "stdout",
     "output_type": "stream",
     "text": [
      "epoch=22  train_losse=0.0104 val_loss=0.5661 val_accuracy=0.6458\n"
     ]
    },
    {
     "name": "stderr",
     "output_type": "stream",
     "text": [
      "                                                   \r"
     ]
    },
    {
     "name": "stdout",
     "output_type": "stream",
     "text": [
      "epoch=23  train_losse=0.0094 val_loss=0.5640 val_accuracy=0.6458\n"
     ]
    },
    {
     "name": "stderr",
     "output_type": "stream",
     "text": [
      "                                                   \r"
     ]
    },
    {
     "name": "stdout",
     "output_type": "stream",
     "text": [
      "epoch=24  train_losse=0.0083 val_loss=0.5633 val_accuracy=0.6458\n"
     ]
    },
    {
     "name": "stderr",
     "output_type": "stream",
     "text": [
      "                                                   \r"
     ]
    },
    {
     "name": "stdout",
     "output_type": "stream",
     "text": [
      "epoch=25  train_losse=0.0077 val_loss=0.5658 val_accuracy=0.6458\n"
     ]
    },
    {
     "name": "stderr",
     "output_type": "stream",
     "text": [
      "                                                   \r"
     ]
    },
    {
     "name": "stdout",
     "output_type": "stream",
     "text": [
      "epoch=26  train_losse=0.0071 val_loss=0.5639 val_accuracy=0.6458\n"
     ]
    },
    {
     "name": "stderr",
     "output_type": "stream",
     "text": [
      "                                                   \r"
     ]
    },
    {
     "name": "stdout",
     "output_type": "stream",
     "text": [
      "epoch=27  train_losse=0.0065 val_loss=0.5663 val_accuracy=0.6458\n"
     ]
    },
    {
     "name": "stderr",
     "output_type": "stream",
     "text": [
      "                                                   \r"
     ]
    },
    {
     "name": "stdout",
     "output_type": "stream",
     "text": [
      "epoch=28  train_losse=0.0060 val_loss=0.5688 val_accuracy=0.6458\n"
     ]
    },
    {
     "name": "stderr",
     "output_type": "stream",
     "text": [
      "                                                   "
     ]
    },
    {
     "name": "stdout",
     "output_type": "stream",
     "text": [
      "epoch=29  train_losse=0.0056 val_loss=0.5693 val_accuracy=0.6458\n"
     ]
    },
    {
     "name": "stderr",
     "output_type": "stream",
     "text": [
      "\r"
     ]
    }
   ],
   "source": [
    "# 損失関数とoptimizer\n",
    "opt = optim.Adam(model.parameters(), lr=learning_rate)\n",
    "criterion = nn.CrossEntropyLoss(ignore_index=0)\n",
    "\n",
    "num_epochs = 30\n",
    "eary_stopping = 5\n",
    "\n",
    "# ログ\n",
    "# est_val_loss = float('inf')\n",
    "train_losses = []\n",
    "val_losses = []\n",
    "val_accuracies = []\n",
    "\n",
    "# GPU設定\n",
    "device = torch.device('cuda' if torch.cuda.is_available() else 'cpu')\n",
    "\n",
    "\n",
    "\n",
    "for epoch in range(num_epochs):\n",
    "    model.train()\n",
    "    running_loss = 0.0\n",
    "    running_val_loss = 0.0\n",
    "    total_correct = 0\n",
    "    \n",
    "    # training\n",
    "    for i, (sentences, labels) in tqdm(enumerate(train_loader), desc='now training', total=len(train_loader), leave=False):\n",
    "        sentences = sentences.to(device)\n",
    "        labels = labels.to(device)\n",
    "        opt.zero_grad()\n",
    "        output = model(sentences) # [batch_size, seq_len, num_classes]\n",
    "        output = output.view(-1, num_classes) # [batch_size, seq_len, num_classes] -> [batch_size * seq_len, num_classes]\n",
    "        labels = labels.view(-1) # [batch_size, seq_len] -> [batch_size * seq_len]\n",
    "        loss = criterion(output, labels)\n",
    "        loss.backward()\n",
    "        running_loss += loss.item()\n",
    "        opt.step()\n",
    "    train_losses.append(running_loss / len(train_loader))\n",
    "\n",
    "    # validation\n",
    "    # 評価用\n",
    "\n",
    "    total_num = 0\n",
    "    total_correct = 0\n",
    "\n",
    "    for i, (sentences, labels) in tqdm(enumerate(val_loader), desc='valdation', total=len(val_loader), leave=False):\n",
    "        model.eval()\n",
    "        with torch.no_grad():\n",
    "            \n",
    "            sentences = sentences.to(device)\n",
    "            labels = labels.to(device)\n",
    "            output = model(sentences) # [batch_size, seq_len, num_classes]\n",
    "    \n",
    "            # accuracy計算\n",
    "            _, predicted = torch.max(output, -1) #[batch_size, seq_len]\n",
    "            total_correct += torch.sum(predicted == labels).item()\n",
    "            total_num += labels.numel() # [batch_size * seq_len]\n",
    "    \n",
    "            \n",
    "            output = output.view(-1, num_classes) # [batch_size, seq_len, num_classes] -> [batch_size * seq_len, num_classes]\n",
    "            labels = labels.view(-1) # [batch_size, seq_len] -> [batch_size * seq_len]\n",
    "            loss = criterion(output, labels)\n",
    "            running_val_loss += loss.item()\n",
    "    \n",
    "    val_losses.append(running_val_loss / len(val_loader))\n",
    "    val_accuracies.append(total_correct / total_num)\n",
    "    print(f\"epoch={epoch}  train_losse={train_losses[-1]:.4f} val_loss={val_losses[-1]:.4f} val_accuracy={val_accuracies[-1]:.4f}\")"
   ]
  },
  {
   "cell_type": "code",
   "execution_count": 401,
   "id": "0240e1f7-f27c-4323-9850-7546032c4d49",
   "metadata": {},
   "outputs": [
    {
     "data": {
      "image/png": "[encoded data removed]",
      "text/plain": [
       "<Figure size 640x480 with 1 Axes>"
      ]
     },
     "metadata": {},
     "output_type": "display_data"
    }
   ],
   "source": [
    "plt.plot(train_losses, label='train')\n",
    "plt.plot(val_losses, label='val')\n",
    "plt.legend()\n",
    "plt.show()"
   ]
  },
  {
   "cell_type": "markdown",
   "id": "3605285a-29de-47fd-b8a2-37895037f562",
   "metadata": {},
   "source": [
    "### 検証データで評価(本来はテストデータ)"
   ]
  },
  {
   "cell_type": "code",
   "execution_count": 415,
   "id": "a0dfc843-9a32-44be-bd5d-ec063d41b6eb",
   "metadata": {},
   "outputs": [],
   "source": [
    "model.eval()\n",
    "val_outputs = model(X_val)\n",
    "_, predicted = torch.max(val_outputs, dim=-1)"
   ]
  },
  {
   "cell_type": "code",
   "execution_count": 416,
   "id": "795cacd8-d7bb-44c9-b8f5-9b618c7e32b5",
   "metadata": {},
   "outputs": [
    {
     "data": {
      "text/plain": [
       "tensor([[7, 7, 7, 7, 7, 7, 7, 7],\n",
       "        [7, 7, 7, 7, 7, 7, 7, 7],\n",
       "        [7, 1, 1, 7, 7, 7, 1, 7],\n",
       "        [7, 1, 7, 7, 7, 7, 7, 7],\n",
       "        [7, 7, 7, 7, 7, 7, 7, 7],\n",
       "        [7, 7, 7, 7, 7, 7, 7, 7]])"
      ]
     },
     "execution_count": 416,
     "metadata": {},
     "output_type": "execute_result"
    }
   ],
   "source": [
    "predicted"
   ]
  },
  {
   "cell_type": "code",
   "execution_count": 425,
   "id": "a5226dc5-fa09-432b-89df-bfbcd0fb3e31",
   "metadata": {},
   "outputs": [
    {
     "name": "stdout",
     "output_type": "stream",
     "text": [
      "original sentence : He lives in Los Angeles .\n",
      "predicted labels:['O' 'O' 'O' 'O' 'O' 'O']\n",
      "true labels: ['O' 'O' 'O' 'B-geo' 'I-geo' 'O']\n",
      "\n",
      "original sentence : She is from Australia .\n",
      "predicted labels:['O' 'O' 'O' 'O' 'O']\n",
      "true labels: ['O' 'O' 'O' 'B-geo' 'O']\n",
      "\n",
      "original sentence : The Great Barrier Reef is in Australia .\n",
      "predicted labels:['O' 'B-geo' 'B-geo' 'O' 'O' 'O' 'B-geo' 'O']\n",
      "true labels: ['O' 'B-geo' 'I-geo' 'I-geo' 'O' 'O' 'B-geo' 'O']\n",
      "\n",
      "original sentence : The Amazon is the largest rainforest .\n",
      "predicted labels:['O' 'B-geo' 'O' 'O' 'O' 'O' 'O']\n",
      "true labels: ['O' 'B-geo' 'O' 'O' 'O' 'O' 'O']\n",
      "\n",
      "original sentence : He works for the United Nations .\n",
      "predicted labels:['O' 'O' 'O' 'O' 'O' 'O' 'O']\n",
      "true labels: ['O' 'O' 'O' 'O' 'B-org' 'I-org' 'O']\n",
      "\n",
      "original sentence : Berlin is the capital of Germany .\n",
      "predicted labels:['O' 'O' 'O' 'O' 'O' 'O' 'O']\n",
      "true labels: ['B-geo' 'O' 'O' 'O' 'O' 'B-geo' 'O']\n",
      "\n"
     ]
    }
   ],
   "source": [
    "for sentence, predicted_label, val_label in zip(val_sentences, predicted, y_val):\n",
    "    words = sentence.split()\n",
    "    decodered_labels = label_encoder.inverse_transform(predicted_label[:len(words)]-1)\n",
    "    original_labels = label_encoder.inverse_transform(val_label[:len(words)]-1)\n",
    "    print(f'original sentence : {sentence}')\n",
    "    print(f'predicted labels:{decodered_labels}')\n",
    "    print(f'true labels: {original_labels}')\n",
    "    print()"
   ]
  },
  {
   "cell_type": "markdown",
   "id": "a7a5d90b-c8dc-4e0d-b5aa-7d69be98267a",
   "metadata": {},
   "source": [
    "### 補足 : TensorDataset "
   ]
  },
  {
   "cell_type": "code",
   "execution_count": 58,
   "id": "07e97d92-7230-442c-9b8c-85d3bdd664ea",
   "metadata": {},
   "outputs": [],
   "source": [
    "train_dataset = TensorDataset(X_train, y_train)"
   ]
  },
  {
   "cell_type": "code",
   "execution_count": 60,
   "id": "9b459844-b598-4192-888c-a9606f4a0ab0",
   "metadata": {},
   "outputs": [
    {
     "data": {
      "text/plain": [
       "(tensor([94, 51, 95, 96, 97, 98,  7,  0,  0,  0]),\n",
       " tensor([7, 7, 7, 1, 7, 7, 7, 0, 0, 0]))"
      ]
     },
     "execution_count": 60,
     "metadata": {},
     "output_type": "execute_result"
    }
   ],
   "source": [
    "train_dataset[0]"
   ]
  },
  {
   "cell_type": "code",
   "execution_count": 112,
   "id": "c8185038-42e5-47b2-b7d4-8b1fce319093",
   "metadata": {},
   "outputs": [
    {
     "data": {
      "text/plain": [
       "[tensor([[42, 43, 23,  5, 44, 45, 10,  5, 46,  7],\n",
       "         [ 1, 21, 22, 23, 10, 24,  7,  0,  0,  0]]),\n",
       " tensor([[1, 4, 7, 7, 7, 7, 7, 7, 7, 7],\n",
       "         [7, 1, 4, 7, 7, 1, 7, 0, 0, 0]])]"
      ]
     },
     "execution_count": 112,
     "metadata": {},
     "output_type": "execute_result"
    }
   ],
   "source": [
    "train_loader = DataLoader(train_dataset, batch_size=2, shuffle=True)\n",
    "next(iter(train_loader))"
   ]
  }
 ],
 "metadata": {
  "kernelspec": {
   "display_name": "Python 3 (ipykernel)",
   "language": "python",
   "name": "python3"
  },
  "language_info": {
   "codemirror_mode": {
    "name": "ipython",
    "version": 3
   },
   "file_extension": ".py",
   "mimetype": "text/x-python",
   "name": "python",
   "nbconvert_exporter": "python",
   "pygments_lexer": "ipython3",
   "version": "3.8.18"
  }
 },
 "nbformat": 4,
 "nbformat_minor": 5
}
