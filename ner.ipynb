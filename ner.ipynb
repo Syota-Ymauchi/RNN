{
 "cells": [
  {
   "cell_type": "markdown",
   "id": "c9470219-5d92-4b71-a854-4b8ad38fb3ea",
   "metadata": {},
   "source": [
    "### NER"
   ]
  },
  {
   "cell_type": "markdown",
   "id": "08ed11e0-28f6-42f1-bcca-e60e07e20ec6",
   "metadata": {},
   "source": [
    "### データ準備"
   ]
  },
  {
   "cell_type": "code",
   "execution_count": 426,
   "id": "019bb8f0-d22b-4e8c-858b-07a523bf5b35",
   "metadata": {},
   "outputs": [],
   "source": [
    "import pickle # ピクル\n",
    "from sklearn.preprocessing import LabelEncoder\n",
    "from sklearn.model_selection import train_test_split\n",
    "import torch\n",
    "import torch.optim as optim\n",
    "import torch.nn as nn\n",
    "from torch.nn.utils.rnn import pad_sequence\n",
    "from torch.utils.data import DataLoader, TensorDataset\n",
    "from tqdm import tqdm\n",
    "import matplotlib.pyplot as plt"
   ]
  },
  {
   "cell_type": "markdown",
   "id": "9af391d3-711e-4fbe-bf7f-4dcf3d9079ad",
   "metadata": {},
   "source": [
    "##### 'r': 読み取り専用 (デフォルト)\n",
    "##### 'w': 書き込み専用（既存のファイル内容は消去）\n",
    "##### 'a': 追記モード\n",
    "##### 'b': バイナリーモード（例: 'rb', 'wb'）"
   ]
  },
  {
   "cell_type": "markdown",
   "id": "dbdff55e-ec13-41c4-a6e9-38d48c92bdae",
   "metadata": {},
   "source": [
    "### データをロード"
   ]
  },
  {
   "cell_type": "code",
   "execution_count": 427,
   "id": "437f8c7b-7d7b-4253-8ab1-7165a12d8fd1",
   "metadata": {},
   "outputs": [],
   "source": [
    "def load_dataset(sentences_file_name='ner_dataset_sentences.txt', label_file_name='ner_dataset_labels.txt'):\n",
    "    with open(sentences_file_name, 'rb') as fp: # rbはバイナリーファイルの時\n",
    "       sentence = pickle.load(fp) # 開いた後のものを引数に入れる\n",
    "    \n",
    "    with open(label_file_name, 'rb') as fp: # rbはバイナリーファイルの時\n",
    "       labels = pickle.load(fp)\n",
    "    return sentence, labels\n"
   ]
  },
  {
   "cell_type": "code",
   "execution_count": 428,
   "id": "0ad77da2-6147-4777-b394-04eae55c26c8",
   "metadata": {},
   "outputs": [],
   "source": [
    "sentences, labels = load_dataset()"
   ]
  },
  {
   "cell_type": "code",
   "execution_count": 429,
   "id": "3e865af4-06e6-48fb-93fa-a251c6b91eff",
   "metadata": {},
   "outputs": [
    {
     "data": {
      "text/plain": [
       "['The cat sat on the mat .',\n",
       " 'John lives in New York .',\n",
       " 'I have two dogs .',\n",
       " 'She works at Google .',\n",
       " 'The Eiffel Tower is in Paris .',\n",
       " 'He is from Spain .',\n",
       " 'I visited the Great Wall of China .',\n",
       " 'She is studying at Oxford University .',\n",
       " 'He works for the United Nations .',\n",
       " 'Berlin is the capital of Germany .']"
      ]
     },
     "execution_count": 429,
     "metadata": {},
     "output_type": "execute_result"
    }
   ],
   "source": [
    "sentences[:10]"
   ]
  },
  {
   "cell_type": "code",
   "execution_count": 430,
   "id": "87b0988f-d138-4dd1-93a1-aadcaed1597a",
   "metadata": {},
   "outputs": [
    {
     "data": {
      "text/plain": [
       "[['O', 'O', 'O', 'O', 'O', 'O', 'O'],\n",
       " ['B-per', 'O', 'O', 'B-geo', 'I-geo', 'O'],\n",
       " ['O', 'O', 'O', 'O', 'O'],\n",
       " ['O', 'O', 'O', 'B-org', 'O'],\n",
       " ['O', 'B-geo', 'I-geo', 'O', 'O', 'B-geo', 'O'],\n",
       " ['O', 'O', 'O', 'B-geo', 'O'],\n",
       " ['O', 'O', 'O', 'B-geo', 'I-geo', 'I-geo', 'I-geo', 'O'],\n",
       " ['O', 'O', 'O', 'O', 'B-org', 'I-org', 'O'],\n",
       " ['O', 'O', 'O', 'O', 'B-org', 'I-org', 'O'],\n",
       " ['B-geo', 'O', 'O', 'O', 'O', 'B-geo', 'O']]"
      ]
     },
     "execution_count": 430,
     "metadata": {},
     "output_type": "execute_result"
    }
   ],
   "source": [
    "labels[:10]"
   ]
  },
  {
   "cell_type": "markdown",
   "id": "86ab9113-407f-4613-9537-31900543bb6d",
   "metadata": {},
   "source": [
    "### ラベルエンコード"
   ]
  },
  {
   "cell_type": "code",
   "execution_count": 431,
   "id": "750620d9-a686-476d-8604-c3fbb7daaa4f",
   "metadata": {},
   "outputs": [],
   "source": [
    "label_encoder = LabelEncoder()\n",
    "all_labels = [label for sublist in labels for label in sublist]\n",
    "label_encoder = LabelEncoder()\n",
    "label_encoder.fit(all_labels)\n",
    "encoded_labels = [label_encoder.transform(label)+1 for label in labels] # paddingのラベルを0にするので1を足す"
   ]
  },
  {
   "cell_type": "markdown",
   "id": "c0069901-0fec-4d35-8adb-a3cac5c3110e",
   "metadata": {},
   "source": [
    "### 補足 : padding用に1を足す"
   ]
  },
  {
   "cell_type": "code",
   "execution_count": 432,
   "id": "ef3c8098-63de-4afb-ace9-b55d1636072a",
   "metadata": {},
   "outputs": [
    {
     "name": "stdout",
     "output_type": "stream",
     "text": [
      "['O', 'O', 'O', 'O', 'O', 'O', 'O']\n",
      "The cat sat on the mat .\n"
     ]
    },
    {
     "data": {
      "text/plain": [
       "array([7, 7, 7, 7, 7, 7, 7])"
      ]
     },
     "execution_count": 432,
     "metadata": {},
     "output_type": "execute_result"
    }
   ],
   "source": [
    "print(labels[0])\n",
    "print(sentences[0])\n",
    "label_encoder.transform(labels[0]) +1"
   ]
  },
  {
   "cell_type": "markdown",
   "id": "8cf3a610-3167-45cf-90d6-d403a9bfa71c",
   "metadata": {},
   "source": [
    "### 辞書作成とエンコード"
   ]
  },
  {
   "cell_type": "code",
   "execution_count": 433,
   "id": "92463716-9c70-44c7-81f8-71d39c47b09f",
   "metadata": {},
   "outputs": [],
   "source": [
    "# 辞書初期化\n",
    "word2indx = {\"<PAD>\":0}"
   ]
  },
  {
   "cell_type": "code",
   "execution_count": 434,
   "id": "da371985-505e-4d04-8143-73f2748c0786",
   "metadata": {},
   "outputs": [],
   "source": [
    "encorded_sentences = []\n",
    "for sentence in sentences:\n",
    "    encorded_sentence = [word2indx.setdefault(word, len(word2indx)) for word in sentence.split()]\n",
    "    encorded_sentences.append(encorded_sentence)"
   ]
  },
  {
   "cell_type": "code",
   "execution_count": 435,
   "id": "35af856f-6397-48b4-a4d2-c31441bd9b0e",
   "metadata": {},
   "outputs": [
    {
     "data": {
      "text/plain": [
       "[[1, 2, 3, 4, 5, 6, 7],\n",
       " [8, 9, 10, 11, 12, 7],\n",
       " [13, 14, 15, 16, 7],\n",
       " [17, 18, 19, 20, 7],\n",
       " [1, 21, 22, 23, 10, 24, 7],\n",
       " [25, 23, 26, 27, 7],\n",
       " [13, 28, 5, 29, 30, 31, 32, 7],\n",
       " [17, 23, 33, 19, 34, 35, 7],\n",
       " [25, 18, 36, 5, 37, 38, 7],\n",
       " [39, 23, 5, 40, 31, 41, 7]]"
      ]
     },
     "execution_count": 435,
     "metadata": {},
     "output_type": "execute_result"
    }
   ],
   "source": [
    "encorded_sentences[:10]"
   ]
  },
  {
   "cell_type": "markdown",
   "id": "df10f57f-313b-4268-abda-209593946fb2",
   "metadata": {},
   "source": [
    "### 学習データとテストデータに分割"
   ]
  },
  {
   "cell_type": "code",
   "execution_count": 436,
   "id": "74df8c84-63f1-4207-b3c2-46c595b4612f",
   "metadata": {},
   "outputs": [],
   "source": [
    "X_train, X_val, y_train, y_val, train_sentenses, val_sentences = train_test_split(encorded_sentences, encoded_labels, sentences, test_size=0.2, random_state=42) "
   ]
  },
  {
   "cell_type": "code",
   "execution_count": 437,
   "id": "e015d996-8207-4f9e-9b42-d6a452146b04",
   "metadata": {},
   "outputs": [
    {
     "data": {
      "text/plain": [
       "[[94, 51, 95, 96, 97, 98, 7], [17, 18, 19, 87, 7], [1, 50, 51, 52, 10, 53, 7]]"
      ]
     },
     "execution_count": 437,
     "metadata": {},
     "output_type": "execute_result"
    }
   ],
   "source": [
    "X_train[:3]"
   ]
  },
  {
   "cell_type": "code",
   "execution_count": 438,
   "id": "ed67259c-b68d-4946-99ff-6d7d5a02ebbf",
   "metadata": {},
   "outputs": [
    {
     "data": {
      "text/plain": [
       "['They are visiting London this summer .',\n",
       " 'She works at Facebook .',\n",
       " 'The Pyramids are located in Egypt .']"
      ]
     },
     "execution_count": 438,
     "metadata": {},
     "output_type": "execute_result"
    }
   ],
   "source": [
    "train_sentenses[:3]"
   ]
  },
  {
   "cell_type": "markdown",
   "id": "34f75bd7-ec93-4d62-bcb3-3aaee2cd7b03",
   "metadata": {},
   "source": [
    "### Padding"
   ]
  },
  {
   "cell_type": "code",
   "execution_count": 439,
   "id": "cc653b27-dbb2-4290-9082-0dd72e71053e",
   "metadata": {},
   "outputs": [],
   "source": [
    "seq1 = torch.tensor([1, 2, 3])\n",
    "seq2 = torch.tensor([4, 5])\n",
    "seq3 = torch.tensor([6, 7, 8, 9])"
   ]
  },
  {
   "cell_type": "code",
   "execution_count": 440,
   "id": "899c1749-5fff-41e2-80eb-b0a348eec4b4",
   "metadata": {},
   "outputs": [
    {
     "name": "stdout",
     "output_type": "stream",
     "text": [
      "tensor([[1, 2, 3, 0],\n",
      "        [4, 5, 0, 0],\n",
      "        [6, 7, 8, 9]])\n"
     ]
    }
   ],
   "source": [
    "sequence = [seq1, seq2, seq3]\n",
    "padding_sequence = pad_sequence(sequence, batch_first=True)\n",
    "print(padding_sequence)"
   ]
  },
  {
   "cell_type": "code",
   "execution_count": 441,
   "id": "be336d21-d4a1-423c-b9c3-77f41f684568",
   "metadata": {},
   "outputs": [],
   "source": [
    "X_train = pad_sequence([torch.tensor(x) for x in X_train], batch_first=True) # リストの中身はtensorである必要があるのでtorch.tensor(x)の処理が必要\n",
    "X_val = pad_sequence([torch.tensor(x) for x in X_val], batch_first=True)  # ここではfor文各文章を取り出しでpaddingを行っている(デォルトで0padding)\n",
    "y_train = pad_sequence([torch.tensor(y) for y in y_train], batch_first=True)\n",
    "y_val = pad_sequence([torch.tensor(y) for y in y_val], batch_first=True)"
   ]
  },
  {
   "cell_type": "code",
   "execution_count": 442,
   "id": "a8836290-45fb-4841-b467-0d8029c00b7c",
   "metadata": {},
   "outputs": [
    {
     "data": {
      "text/plain": [
       "tensor([[ 94,  51,  95,  96,  97,  98,   7,   0,   0,   0],\n",
       "        [ 17,  18,  19,  87,   7,   0,   0,   0,   0,   0],\n",
       "        [  1,  50,  51,  52,  10,  53,   7,   0,   0,   0],\n",
       "        [  1,   2,   3,   4,   5,   6,   7,   0,   0,   0],\n",
       "        [  1,  21,  22,  23,  10,  24,   7,   0,   0,   0],\n",
       "        [ 25,  23,  60,  61,  24,  36,  62,  63,   7,   0],\n",
       "        [ 25,  23,  26,  27,   7,   0,   0,   0,   0,   0],\n",
       "        [  1,  54,  55,  23,  10,  56,   7,   0,   0,   0],\n",
       "        [  1,  47,  23,   5,  48,  49,  10,   5,  46,   7],\n",
       "        [  1,  82,  22,  31,  83,  23,  10,  84,   7,   0],\n",
       "        [  8,   9,  10,  11,  12,   7,   0,   0,   0,   0],\n",
       "        [ 13,  14,  15,  16,   7,   0,   0,   0,   0,   0],\n",
       "        [  1,  88,  89,  23,  10,  90,   7,   0,   0,   0],\n",
       "        [ 17,  18,  19,  20,   7,   0,   0,   0,   0,   0],\n",
       "        [ 78,  79,  80,  62,  81,   7,   0,   0,   0,   0],\n",
       "        [ 17,  23,  33,  19,   5,  35,  31,  91,   7,   0],\n",
       "        [ 25,  67,  19,  68,   7,   0,   0,   0,   0,   0],\n",
       "        [ 25,  18,  36,   5,  99, 100, 101,   7,   0,   0],\n",
       "        [ 73,  23,  74,  36,  75,  76,  77,   7,   0,   0],\n",
       "        [ 17,  23,  33,  19,  34,  35,   7,   0,   0,   0],\n",
       "        [ 42,  43,  23,   5,  44,  45,  10,   5,  46,   7],\n",
       "        [ 13,  57,  19,  58,   7,   0,   0,   0,   0,   0],\n",
       "        [ 69,  70,  23,  62,  71,  72,   7,   0,   0,   0],\n",
       "        [ 13,  28,   5,  29,  30,  31,  32,   7,   0,   0]])"
      ]
     },
     "execution_count": 442,
     "metadata": {},
     "output_type": "execute_result"
    }
   ],
   "source": [
    "X_train # paddingされている"
   ]
  },
  {
   "cell_type": "code",
   "execution_count": 443,
   "id": "95db0fce-5eb5-4fbf-ba25-faa6c2f8a36e",
   "metadata": {
    "scrolled": true
   },
   "outputs": [
    {
     "data": {
      "text/plain": [
       "{'<PAD>': 0,\n",
       " 'The': 1,\n",
       " 'cat': 2,\n",
       " 'sat': 3,\n",
       " 'on': 4,\n",
       " 'the': 5,\n",
       " 'mat': 6,\n",
       " '.': 7,\n",
       " 'John': 8,\n",
       " 'lives': 9,\n",
       " 'in': 10,\n",
       " 'New': 11,\n",
       " 'York': 12,\n",
       " 'I': 13,\n",
       " 'have': 14,\n",
       " 'two': 15,\n",
       " 'dogs': 16,\n",
       " 'She': 17,\n",
       " 'works': 18,\n",
       " 'at': 19,\n",
       " 'Google': 20,\n",
       " 'Eiffel': 21,\n",
       " 'Tower': 22,\n",
       " 'is': 23,\n",
       " 'Paris': 24,\n",
       " 'He': 25,\n",
       " 'from': 26,\n",
       " 'Spain': 27,\n",
       " 'visited': 28,\n",
       " 'Great': 29,\n",
       " 'Wall': 30,\n",
       " 'of': 31,\n",
       " 'China': 32,\n",
       " 'studying': 33,\n",
       " 'Oxford': 34,\n",
       " 'University': 35,\n",
       " 'for': 36,\n",
       " 'United': 37,\n",
       " 'Nations': 38,\n",
       " 'Berlin': 39,\n",
       " 'capital': 40,\n",
       " 'Germany': 41,\n",
       " 'Mount': 42,\n",
       " 'Everest': 43,\n",
       " 'highest': 44,\n",
       " 'peak': 45,\n",
       " 'world': 46,\n",
       " 'Nile': 47,\n",
       " 'longest': 48,\n",
       " 'river': 49,\n",
       " 'Pyramids': 50,\n",
       " 'are': 51,\n",
       " 'located': 52,\n",
       " 'Egypt': 53,\n",
       " 'Sahara': 54,\n",
       " 'desert': 55,\n",
       " 'Africa': 56,\n",
       " 'work': 57,\n",
       " 'Microsoft': 58,\n",
       " 'Australia': 59,\n",
       " 'going': 60,\n",
       " 'to': 61,\n",
       " 'a': 62,\n",
       " 'meeting': 63,\n",
       " 'Amazon': 64,\n",
       " 'largest': 65,\n",
       " 'rainforest': 66,\n",
       " 'studied': 67,\n",
       " 'Harvard': 68,\n",
       " 'Mona': 69,\n",
       " 'Lisa': 70,\n",
       " 'famous': 71,\n",
       " 'painting': 72,\n",
       " 'Shakespeare': 73,\n",
       " 'known': 74,\n",
       " 'Romeo': 75,\n",
       " 'and': 76,\n",
       " 'Juliet': 77,\n",
       " 'Albert': 78,\n",
       " 'Einstein': 79,\n",
       " 'was': 80,\n",
       " 'physicist': 81,\n",
       " 'Leaning': 82,\n",
       " 'Pisa': 83,\n",
       " 'Italy': 84,\n",
       " 'Barrier': 85,\n",
       " 'Reef': 86,\n",
       " 'Facebook': 87,\n",
       " 'Grand': 88,\n",
       " 'Canyon': 89,\n",
       " 'Arizona': 90,\n",
       " 'Tokyo': 91,\n",
       " 'Los': 92,\n",
       " 'Angeles': 93,\n",
       " 'They': 94,\n",
       " 'visiting': 95,\n",
       " 'London': 96,\n",
       " 'this': 97,\n",
       " 'summer': 98,\n",
       " 'World': 99,\n",
       " 'Health': 100,\n",
       " 'Organization': 101}"
      ]
     },
     "execution_count": 443,
     "metadata": {},
     "output_type": "execute_result"
    }
   ],
   "source": [
    "word2indx"
   ]
  },
  {
   "cell_type": "markdown",
   "id": "c8678b12-1436-4f9f-9d56-5e429bf01418",
   "metadata": {},
   "source": [
    "### NERのモデル"
   ]
  },
  {
   "cell_type": "code",
   "execution_count": 517,
   "id": "5369d470-1e86-4a92-ba53-576364f9d49a",
   "metadata": {},
   "outputs": [],
   "source": [
    "class Model(nn.Module):\n",
    "    def __init__(self, vocab_size, embedding_dim, hidden_size, output_size, num_layers=1, rnn_type='LSTM', bidirectional=False):\n",
    "\n",
    "        super().__init__()\n",
    "        self.num_directions = 2 if bidirectional else 1\n",
    "        \n",
    "        # embedding layer追加 (vocab_size x embedding_dim)\n",
    "        self.embedding = nn.Embedding(vocab_size, embedding_dim, padding_idx=0) # vocab_sizeはdatasetの単語数(one-hotにするため)\n",
    "        input_size = embedding_dim\n",
    "        \n",
    "        if rnn_type == 'RNN':\n",
    "            self.rnn = nn.RNN(input_size, hidden_size, num_layers=num_layers, batch_first=True, bidirectional=bidirectional)\n",
    "        elif rnn_type == 'LSTM':\n",
    "            self.rnn = nn.LSTM(input_size, hidden_size, num_layers=num_layers, batch_first=True, bidirectional=bidirectional)\n",
    "        elif rnn_type == 'GRU':\n",
    "            self.rnn = nn.GRU(input_size, hidden_size, num_layers=num_layers, batch_first=True, bidirectional=bidirectional)\n",
    "        else:\n",
    "            raise ValueError('Unsupported RNN type. Choose from [\"LSTM\", \"RNN\", \"GRU\", \"UGRNN\"]')\n",
    "            \n",
    "        self.fc = nn.Linear(hidden_size*self.num_directions, output_size)\n",
    "        self._wight_initialize()\n",
    "\n",
    "    def _wight_initialize(self):\n",
    "        \"\"\"\n",
    "        パラメータの初期を行うようにする関数.\n",
    "        コンストラクタとして実行\n",
    "        \"\"\"\n",
    "        # ネストが深い...\n",
    "        for name, module in self.named_modules():\n",
    "            if name:\n",
    "                \n",
    "                if isinstance(module, nn.Linear):\n",
    "                    nn.init.kaiming_normal_(module.weight)\n",
    "                    \n",
    "                if isinstance(module, (nn.RNN, nn.LSTM, nn.GRU)):\n",
    "                    for param_name, param in module.named_parameters():\n",
    "                        if 'weight' in param_name:\n",
    "                            nn.init.xavier_normal_(param)  \n",
    "                            \n",
    "            \n",
    "\n",
    "    def forward(self, x):\n",
    "        x = self.embedding(x)\n",
    "        output_seq, _ = self.rnn(x)\n",
    "\n",
    "        # many to many の場合は，\n",
    "        # output_seq: [batch_size, seq_len, hidden_size*num_directions]\n",
    "        out = self.fc(output_seq)\n",
    "        return out"
   ]
  },
  {
   "cell_type": "code",
   "execution_count": 518,
   "id": "60a96da2-a13d-4c10-8cf9-3332781fc868",
   "metadata": {
    "scrolled": true
   },
   "outputs": [
    {
     "name": "stdout",
     "output_type": "stream",
     "text": [
      "X_train.shape = torch.Size([24, 10])\n",
      "out.shape = torch.Size([24, 10, 3])\n"
     ]
    },
    {
     "data": {
      "text/plain": [
       "tensor([[[-3.2659e-01, -3.0335e-01, -6.8132e-02],\n",
       "         [-2.0269e-01, -2.8042e-01,  1.2339e-01],\n",
       "         [-2.4325e-01, -2.6238e-01,  3.8899e-01],\n",
       "         [-3.4347e-01,  1.3476e-02, -1.9096e-02],\n",
       "         [-1.8943e-01, -4.5118e-03, -5.6399e-02],\n",
       "         [-7.8694e-03,  3.3950e-01,  3.6706e-02],\n",
       "         [-5.3014e-02,  2.0262e-01, -3.3467e-01],\n",
       "         [-1.7375e-01, -2.5675e-02,  6.1421e-03],\n",
       "         [-2.1311e-01, -2.6750e-02, -2.6365e-02],\n",
       "         [-2.1160e-01, -2.0684e-02, -3.6246e-02]],\n",
       "\n",
       "        [[-7.9873e-02,  7.5878e-03, -1.9195e-01],\n",
       "         [-3.3329e-01,  2.0156e-01, -5.2328e-01],\n",
       "         [-6.7578e-02,  7.6048e-02,  3.0051e-01],\n",
       "         [-1.7815e-01, -1.9712e-01, -1.1126e-01],\n",
       "         [-2.4044e-01, -5.4029e-03, -3.5955e-01],\n",
       "         [-2.4547e-01, -6.9883e-02,  2.0193e-03],\n",
       "         [-2.6032e-01, -3.2266e-02, -2.5775e-02],\n",
       "         [-2.6110e-01, -2.1259e-02, -3.2304e-02],\n",
       "         [-2.5165e-01, -1.9299e-02, -3.3520e-02],\n",
       "         [-2.2967e-01, -1.5205e-02, -3.4500e-02]],\n",
       "\n",
       "        [[-3.6369e-01, -5.7806e-01, -1.6023e-04],\n",
       "         [-2.9175e-01, -3.7471e-01, -2.4779e-01],\n",
       "         [-2.5173e-01, -4.1234e-01, -2.1003e-01],\n",
       "         [-2.1183e-01, -1.5929e-01,  7.3368e-02],\n",
       "         [-3.4253e-01, -1.0825e-01, -3.3338e-02],\n",
       "         [-1.0368e-01,  2.7505e-01, -2.7360e-01],\n",
       "         [-1.2099e-01,  2.7004e-01, -4.1706e-01],\n",
       "         [-1.9803e-01, -1.4862e-02,  1.0014e-02],\n",
       "         [-2.2368e-01, -2.0382e-02, -1.9644e-02],\n",
       "         [-2.1657e-01, -1.7531e-02, -3.0813e-02]],\n",
       "\n",
       "        [[-4.4281e-01, -5.6626e-01, -2.2385e-02],\n",
       "         [-2.1834e-01, -5.7680e-01,  4.3393e-01],\n",
       "         [-3.6848e-01, -5.6762e-01, -1.1878e-01],\n",
       "         [ 1.0705e-02, -4.5701e-01,  2.0197e-01],\n",
       "         [-2.1728e-01, -3.0129e-01, -3.6399e-02],\n",
       "         [-1.3774e-01, -1.8520e-01,  6.2478e-02],\n",
       "         [-1.9159e-01,  2.9030e-01, -4.7688e-01],\n",
       "         [-2.1562e-01, -2.4477e-02,  2.5483e-02],\n",
       "         [-2.3105e-01, -2.2213e-02, -1.0307e-02],\n",
       "         [-2.2016e-01, -1.7687e-02, -2.5488e-02]],\n",
       "\n",
       "        [[-5.7659e-01, -4.3278e-01, -3.6235e-01],\n",
       "         [-4.7739e-01, -1.1706e-01, -4.0944e-01],\n",
       "         [-2.4028e-01,  9.0187e-03, -3.5165e-01],\n",
       "         [-5.2664e-01,  1.6152e-01, -6.0799e-01],\n",
       "         [-4.1376e-01, -9.3365e-02, -7.6926e-02],\n",
       "         [-4.4225e-01,  5.8613e-02, -4.0728e-01],\n",
       "         [-1.5763e-01,  1.8818e-01, -4.0673e-01],\n",
       "         [-2.1003e-01, -2.9698e-02, -4.2407e-03],\n",
       "         [-2.2867e-01, -2.6051e-02, -2.6392e-02],\n",
       "         [-2.1852e-01, -1.9786e-02, -3.3651e-02]],\n",
       "\n",
       "        [[-5.9011e-02, -3.9299e-01,  3.7549e-01],\n",
       "         [-1.2077e-01,  1.5686e-02,  1.5880e-01],\n",
       "         [-5.5043e-02, -1.3494e-01,  3.8501e-01],\n",
       "         [ 2.7944e-02, -2.2143e-01,  8.5082e-01],\n",
       "         [-2.2413e-01, -2.9398e-01,  1.8979e-01],\n",
       "         [ 8.9455e-03, -5.2800e-01,  5.8147e-01],\n",
       "         [-2.8015e-01, -6.1736e-01,  2.4340e-01],\n",
       "         [-3.6314e-01, -4.1362e-01,  8.5221e-02],\n",
       "         [-1.3767e-01, -7.7398e-02, -1.7408e-01],\n",
       "         [-1.6716e-01, -1.4002e-01,  1.1446e-01]],\n",
       "\n",
       "        [[-1.6838e-01, -2.8253e-01,  1.3132e-01],\n",
       "         [-4.0114e-01,  9.5576e-02, -4.8260e-01],\n",
       "         [-4.1158e-01, -8.1711e-03, -2.8427e-01],\n",
       "         [-3.9527e-01,  1.0515e-03, -4.8217e-01],\n",
       "         [-2.3191e-01, -4.3856e-02, -3.0221e-01],\n",
       "         [-2.4044e-01, -9.6113e-02,  5.0092e-02],\n",
       "         [-2.5792e-01, -4.3454e-02, -3.2014e-03],\n",
       "         [-2.6019e-01, -2.5927e-02, -2.2087e-02],\n",
       "         [-2.5136e-01, -2.1198e-02, -2.8927e-02],\n",
       "         [-2.2962e-01, -1.5940e-02, -3.2455e-02]],\n",
       "\n",
       "        [[-7.0541e-01, -4.5158e-01, -4.4060e-01],\n",
       "         [-5.3447e-01, -1.1498e-01, -5.0742e-01],\n",
       "         [-7.3214e-01, -6.6153e-01, -3.0460e-01],\n",
       "         [-5.2737e-01,  4.2853e-03, -6.3042e-01],\n",
       "         [-3.8014e-01, -1.6478e-01, -1.5390e-01],\n",
       "         [-4.4973e-01, -3.0975e-01, -1.6671e-01],\n",
       "         [-2.0778e-01, -2.1973e-01, -1.4003e-01],\n",
       "         [-2.1683e-01, -1.8062e-01,  1.3225e-01],\n",
       "         [-2.2986e-01, -8.7786e-02,  3.4787e-02],\n",
       "         [-2.1859e-01, -4.5415e-02, -6.2666e-03]],\n",
       "\n",
       "        [[-5.6912e-01, -4.5692e-01, -1.9973e-01],\n",
       "         [-2.2645e-01, -3.0783e-01,  2.6742e-01],\n",
       "         [-1.9097e-01,  6.9026e-02, -3.7154e-02],\n",
       "         [-5.7513e-02, -1.0982e-01,  7.2286e-01],\n",
       "         [-1.4952e-02,  2.9835e-01,  1.3706e-01],\n",
       "         [-2.8817e-01, -1.0294e-01, -1.2883e-01],\n",
       "         [-1.1583e-01, -2.7990e-01,  2.2210e-01],\n",
       "         [-7.2435e-02, -3.0683e-01,  4.6983e-01],\n",
       "         [-3.4308e-02, -6.1826e-02,  3.8907e-01],\n",
       "         [ 5.1877e-03,  2.1384e-01, -2.7525e-01]],\n",
       "\n",
       "        [[-4.6310e-01, -5.0446e-01, -9.2593e-02],\n",
       "         [-4.5545e-01, -3.3016e-01, -1.2488e-01],\n",
       "         [-1.0041e-01, -1.3738e-01, -1.0341e-01],\n",
       "         [-2.5440e-01, -2.1797e-01,  1.6889e-02],\n",
       "         [-4.2723e-01, -1.1996e-01, -5.5651e-01],\n",
       "         [-3.9694e-01,  6.7162e-02, -6.3362e-01],\n",
       "         [-1.3857e-01, -1.6221e-01,  5.8318e-02],\n",
       "         [-1.7817e-01,  1.1262e-01, -3.6208e-01],\n",
       "         [-9.4221e-02,  3.5946e-01, -4.5229e-01],\n",
       "         [-1.5979e-01,  1.1572e-02, -7.4894e-03]],\n",
       "\n",
       "        [[-2.8717e-01, -4.3280e-01,  8.8682e-02],\n",
       "         [-3.7807e-01, -4.6337e-01,  3.7425e-01],\n",
       "         [-1.9730e-01, -2.7697e-01,  1.7473e-01],\n",
       "         [-1.9164e-01, -2.9800e-01,  4.1427e-02],\n",
       "         [-3.3943e-01, -1.2901e-01, -7.7656e-02],\n",
       "         [-2.9011e-02,  4.1148e-02, -1.8510e-01],\n",
       "         [-1.5125e-01, -1.0422e-01,  1.0848e-01],\n",
       "         [-2.1019e-01, -5.9281e-02,  1.9981e-02],\n",
       "         [-2.2868e-01, -3.7093e-02, -1.7379e-02],\n",
       "         [-2.1840e-01, -2.4449e-02, -2.9700e-02]],\n",
       "\n",
       "        [[-9.7272e-02, -4.1147e-01,  6.1899e-02],\n",
       "         [ 7.9931e-04, -3.8059e-01,  2.0425e-01],\n",
       "         [-4.1350e-01, -1.4623e-01, -4.1590e-01],\n",
       "         [-2.6817e-01, -1.2666e-01, -3.1086e-01],\n",
       "         [-1.0106e-01,  8.9727e-02, -2.8673e-01],\n",
       "         [-1.9790e-01, -5.5081e-02,  3.8903e-02],\n",
       "         [-2.4020e-01, -2.8895e-02, -1.2788e-02],\n",
       "         [-2.5249e-01, -2.0546e-02, -2.8917e-02],\n",
       "         [-2.4766e-01, -1.9548e-02, -3.2828e-02],\n",
       "         [-2.2763e-01, -1.5720e-02, -3.4407e-02]],\n",
       "\n",
       "        [[-5.4568e-01, -4.7419e-01, -1.7032e-01],\n",
       "         [-2.5559e-01,  4.6988e-02, -1.4312e-01],\n",
       "         [ 1.0260e-02,  1.9717e-01,  1.2254e-01],\n",
       "         [-4.3864e-01,  9.1880e-02, -7.1831e-01],\n",
       "         [-2.0554e-01, -1.6284e-01, -6.0136e-02],\n",
       "         [-1.6683e-01, -1.3751e-01, -3.2638e-02],\n",
       "         [-1.4732e-01,  2.4360e-01, -4.1524e-01],\n",
       "         [-2.0544e-01, -2.4934e-02,  1.7604e-02],\n",
       "         [-2.2672e-01, -2.4035e-02, -1.5309e-02],\n",
       "         [-2.1795e-01, -1.8872e-02, -2.8440e-02]],\n",
       "\n",
       "        [[-8.1272e-02,  1.3927e-02, -2.1312e-01],\n",
       "         [-3.6996e-01,  2.0797e-01, -5.7955e-01],\n",
       "         [-2.4768e-01,  1.1157e-01, -8.9080e-03],\n",
       "         [-2.2445e-01,  4.4394e-01, -8.4299e-01],\n",
       "         [-1.3179e-01,  2.4433e-01, -4.4700e-01],\n",
       "         [-2.1575e-01,  1.5996e-02, -5.2662e-02],\n",
       "         [-2.4891e-01,  1.1817e-03, -5.3065e-02],\n",
       "         [-2.5637e-01, -7.7794e-03, -4.6002e-02],\n",
       "         [-2.4948e-01, -1.3997e-02, -4.0169e-02],\n",
       "         [-2.2855e-01, -1.3239e-02, -3.7620e-02]],\n",
       "\n",
       "        [[-2.6862e-01, -4.5337e-01, -1.9402e-02],\n",
       "         [-1.8306e-01, -5.7818e-02, -5.3649e-01],\n",
       "         [ 1.5069e-02,  2.7856e-01, -4.0226e-01],\n",
       "         [-1.1140e-01, -2.8048e-01, -1.3518e-02],\n",
       "         [-2.4622e-01, -4.3810e-01,  7.2998e-03],\n",
       "         [-1.8941e-01, -2.3973e-01, -1.1358e-01],\n",
       "         [-2.1618e-01, -1.8165e-01,  1.3853e-01],\n",
       "         [-2.4012e-01, -8.5022e-02,  3.5771e-02],\n",
       "         [-2.4153e-01, -4.6919e-02, -5.8187e-03],\n",
       "         [-2.2433e-01, -2.7794e-02, -2.2788e-02]],\n",
       "\n",
       "        [[-1.0690e-01, -1.5690e-02, -2.1125e-01],\n",
       "         [-4.3904e-01,  2.5104e-01, -4.0166e-01],\n",
       "         [-4.0311e-01, -9.2613e-02,  3.6177e-02],\n",
       "         [-2.2016e-01,  1.3557e-01,  2.8660e-01],\n",
       "         [-1.2872e-01, -1.3489e-01,  6.5190e-01],\n",
       "         [-5.9311e-03,  2.0815e-01,  3.8169e-01],\n",
       "         [-1.9888e-01, -1.8279e-01,  1.7491e-01],\n",
       "         [-3.6953e-01,  4.5740e-02, -7.4301e-01],\n",
       "         [-2.7197e-02,  1.6115e-01, -2.9249e-01],\n",
       "         [-1.3849e-01, -3.5584e-02, -3.1678e-04]],\n",
       "\n",
       "        [[-2.6843e-02, -4.6153e-01,  4.7116e-01],\n",
       "         [-5.3560e-02, -5.0584e-01,  6.7955e-01],\n",
       "         [-2.7162e-01,  1.3674e-02,  2.2864e-01],\n",
       "         [-2.9129e-01, -2.4453e-01,  9.2920e-02],\n",
       "         [-1.6037e-01,  8.0867e-02, -3.1501e-01],\n",
       "         [-2.1869e-01, -6.3451e-02,  5.2016e-02],\n",
       "         [-2.4909e-01, -3.1165e-02, -3.1434e-03],\n",
       "         [-2.5656e-01, -2.1119e-02, -2.2789e-02],\n",
       "         [-2.4978e-01, -1.9367e-02, -2.9516e-02],\n",
       "         [-2.2888e-01, -1.5292e-02, -3.2802e-02]],\n",
       "\n",
       "        [[-3.2781e-02, -3.4142e-01,  3.1492e-01],\n",
       "         [-2.7851e-01,  6.7343e-02, -4.5761e-01],\n",
       "         [-9.1863e-02, -2.8278e-01,  3.0279e-01],\n",
       "         [-2.8695e-01, -3.0506e-01,  3.1569e-01],\n",
       "         [-2.7030e-01,  3.8341e-02,  1.2300e-01],\n",
       "         [-6.3196e-01,  2.0623e-01, -9.9889e-01],\n",
       "         [-4.1897e-01,  1.7450e-01, -5.9057e-01],\n",
       "         [-2.2691e-02,  7.7988e-02, -2.1269e-01],\n",
       "         [-1.4362e-01, -8.5652e-02,  6.8356e-02],\n",
       "         [-1.7993e-01, -5.0227e-02,  1.5496e-04]],\n",
       "\n",
       "        [[-3.3878e-01, -1.2239e-01, -3.5738e-01],\n",
       "         [-1.2912e-01,  4.8062e-02, -3.4165e-01],\n",
       "         [ 2.1378e-01, -1.0833e-01,  5.3040e-01],\n",
       "         [-6.5592e-02, -4.7044e-01,  6.3198e-01],\n",
       "         [-1.9040e-01,  9.2221e-02, -2.7938e-01],\n",
       "         [-2.6475e-01,  3.2488e-01, -3.1756e-01],\n",
       "         [-2.5764e-01,  2.7311e-01, -6.2144e-01],\n",
       "         [-7.2181e-02,  1.6898e-01, -3.1412e-01],\n",
       "         [-1.7077e-01, -4.5532e-02,  2.5278e-02],\n",
       "         [-1.9311e-01, -3.1647e-02, -1.6271e-02]],\n",
       "\n",
       "        [[-1.0998e-01, -2.1409e-02, -2.1692e-01],\n",
       "         [-4.4852e-01,  2.4094e-01, -4.3174e-01],\n",
       "         [-4.1962e-01, -1.1565e-01,  3.3547e-02],\n",
       "         [-3.0877e-01,  6.6418e-02,  1.5005e-01],\n",
       "         [-3.4680e-01, -2.9090e-01, -3.5255e-01],\n",
       "         [-2.4268e-01, -2.1734e-02,  1.6903e-02],\n",
       "         [-1.1063e-01, -5.8982e-02, -2.0222e-01],\n",
       "         [-1.8746e-01, -1.0906e-01,  5.7970e-02],\n",
       "         [-2.1787e-01, -5.9408e-02, -3.8746e-03],\n",
       "         [-2.1329e-01, -3.4012e-02, -2.6073e-02]],\n",
       "\n",
       "        [[-3.6907e-01, -1.8976e-01,  1.4935e-02],\n",
       "         [-4.0112e-01, -6.3236e-02, -1.9913e-01],\n",
       "         [-4.6015e-01,  7.5036e-02, -5.7934e-01],\n",
       "         [-2.4002e-01, -3.0063e-01,  2.3134e-01],\n",
       "         [-1.3603e-01, -9.7859e-03, -1.5474e-02],\n",
       "         [-1.8509e-01, -3.8642e-01,  4.6339e-01],\n",
       "         [-2.0124e-01, -3.6167e-01,  3.9597e-01],\n",
       "         [-6.0413e-02, -3.9200e-01,  6.4850e-01],\n",
       "         [-4.6346e-02, -5.4523e-02,  3.9686e-01],\n",
       "         [-7.5845e-03,  2.3080e-01, -2.9480e-01]],\n",
       "\n",
       "        [[-8.9103e-02, -3.7711e-01,  1.4175e-01],\n",
       "         [-2.9320e-01, -1.8102e-01, -5.7148e-02],\n",
       "         [ 6.1083e-03, -8.2310e-02,  5.7710e-01],\n",
       "         [-1.7799e-01, -2.7996e-01,  1.2538e-02],\n",
       "         [-1.5253e-01,  1.7909e-01, -3.9521e-01],\n",
       "         [-2.1987e-01, -1.9955e-02, -2.4915e-03],\n",
       "         [-2.5015e-01, -1.3299e-02, -2.8359e-02],\n",
       "         [-2.5701e-01, -1.3699e-02, -3.4212e-02],\n",
       "         [-2.4993e-01, -1.6303e-02, -3.4676e-02],\n",
       "         [-2.2889e-01, -1.4052e-02, -3.5120e-02]],\n",
       "\n",
       "        [[-3.9991e-01, -4.1313e-01,  2.9293e-02],\n",
       "         [-1.8059e-01, -2.3335e-01, -1.5951e-01],\n",
       "         [-1.8104e-01, -1.0379e-01, -4.8406e-01],\n",
       "         [-1.0120e-01, -3.9449e-01,  1.3424e-01],\n",
       "         [-9.2127e-02, -6.4081e-02,  1.2725e-02],\n",
       "         [-1.7368e-01, -2.2803e-01,  6.6168e-02],\n",
       "         [-1.0525e-01,  1.0498e-01, -3.0105e-01],\n",
       "         [-1.9162e-01, -5.7818e-02,  2.8441e-02],\n",
       "         [-2.2052e-01, -3.8732e-02, -1.4343e-02],\n",
       "         [-2.1477e-01, -2.5411e-02, -2.9599e-02]],\n",
       "\n",
       "        [[-1.2025e-01, -3.3652e-01,  3.6247e-01],\n",
       "         [-3.5142e-01, -1.9038e-01,  1.7912e-01],\n",
       "         [-2.2008e-01, -1.8253e-01,  5.9223e-01],\n",
       "         [-2.1358e-01,  4.3864e-02,  6.9297e-02],\n",
       "         [-1.7609e-01, -1.0212e-01, -9.8303e-02],\n",
       "         [ 9.9450e-02, -3.2452e-01,  4.8069e-01],\n",
       "         [ 8.5628e-03, -3.8750e-01,  2.8968e-01],\n",
       "         [-1.8629e-01,  1.0832e-01, -3.6002e-01],\n",
       "         [-2.0490e-01, -7.0957e-02,  3.6434e-02],\n",
       "         [-2.0729e-01, -3.9862e-02, -7.0385e-03]]], grad_fn=<AddBackward0>)"
      ]
     },
     "execution_count": 518,
     "metadata": {},
     "output_type": "execute_result"
    }
   ],
   "source": [
    "# BiRNNのテスト\n",
    "print(f\"X_train.shape = {X_train.shape}\")\n",
    "vocab_size = 300\n",
    "embedding_dim = 50\n",
    "hidden_size = 3\n",
    "batch_size = 24\n",
    "output_size = 3\n",
    "model = Model(vocab_size, embedding_dim, hidden_size, output_size, bidirectional=True)\n",
    "out = model(X_train) # embedding layerは入力にインデックスの羅列を受け取るので適当にinput_tensorは使えない\n",
    "print(f\"out.shape = {out.shape}\")\n",
    "out"
   ]
  },
  {
   "cell_type": "code",
   "execution_count": 519,
   "id": "5b5d8c89-be4b-4d23-bb74-2e381211b736",
   "metadata": {},
   "outputs": [
    {
     "data": {
      "text/plain": [
       "torch.Size([24, 10, 3])"
      ]
     },
     "execution_count": 519,
     "metadata": {},
     "output_type": "execute_result"
    }
   ],
   "source": [
    "out.shape # [batch_size, seq_len(今回はdataset内で最も長い文章の単語数。バッチ単位でseq_lenを決めることもあるので注意), output_size(num_classes)]"
   ]
  },
  {
   "cell_type": "code",
   "execution_count": 520,
   "id": "883998ad-6802-4177-bc02-4bc3e6cc67e6",
   "metadata": {},
   "outputs": [
    {
     "data": {
      "text/plain": [
       "torch.Size([240, 3])"
      ]
     },
     "execution_count": 520,
     "metadata": {},
     "output_type": "execute_result"
    }
   ],
   "source": [
    "out.view(-1, output_size).shape # [batch_size(24) * seq_len(10),  output_size(3)]  "
   ]
  },
  {
   "cell_type": "code",
   "execution_count": 521,
   "id": "3669322d-14d3-4fa7-9dd0-f5b9559b9fe1",
   "metadata": {},
   "outputs": [
    {
     "data": {
      "text/plain": [
       "torch.Size([24, 10])"
      ]
     },
     "execution_count": 521,
     "metadata": {},
     "output_type": "execute_result"
    }
   ],
   "source": [
    "X_train.shape"
   ]
  },
  {
   "cell_type": "code",
   "execution_count": 522,
   "id": "19058f37-946f-47da-b028-ce5a447a5f6b",
   "metadata": {},
   "outputs": [
    {
     "data": {
      "text/plain": [
       "tensor([[25,  9, 10, 92, 93,  7,  0,  0],\n",
       "        [17, 23, 26, 59,  7,  0,  0,  0],\n",
       "        [ 1, 29, 85, 86, 23, 10, 59,  7],\n",
       "        [ 1, 64, 23,  5, 65, 66,  7,  0],\n",
       "        [25, 18, 36,  5, 37, 38,  7,  0],\n",
       "        [39, 23,  5, 40, 31, 41,  7,  0]])"
      ]
     },
     "execution_count": 522,
     "metadata": {},
     "output_type": "execute_result"
    }
   ],
   "source": [
    "X_val"
   ]
  },
  {
   "cell_type": "markdown",
   "id": "cfa44d4f-40b2-4ac7-80f0-66601ffb0974",
   "metadata": {},
   "source": [
    "### 学習の準備"
   ]
  },
  {
   "cell_type": "code",
   "execution_count": 554,
   "id": "0f2c3acb-e1fd-43d4-a636-13cdf169c544",
   "metadata": {},
   "outputs": [],
   "source": [
    "vocab_size = len(word2indx) # 102\n",
    "num_classes = len(label_encoder.classes_) + 1 # クラス数 paddingも考慮して+1をする 8クラスになる\n",
    "embedding_dim = 50\n",
    "hidden_size = 70 # 一般的にはembedding_dimより減らす\n",
    "output_size = num_classes\n",
    "batch_size = 3\n",
    "learning_rate = 0.003\n",
    "\n",
    "# モデルの定義\n",
    "model = Model(vocab_size, embedding_dim, hidden_size, output_size, num_layers=1, rnn_type='GRU', bidirectional=True)\n",
    "\n",
    "# Dataset DataLoader作成\n",
    "train_dataset = TensorDataset(X_train, y_train) # datasetを作成してくれる。便利\n",
    "train_loader = DataLoader(train_dataset, batch_size=batch_size, shuffle=True)\n",
    "val_dataset = TensorDataset(X_val, y_val)\n",
    "val_loader = DataLoader(val_dataset, batch_size=batch_size, shuffle=False)\n",
    "\n",
    "# 損失関数とoptimizer\n",
    "opt = optim.Adam(model.parameters(), lr=learning_rate)\n",
    "criterion = nn.CrossEntropyLoss(ignore_index=0)\n",
    "\n"
   ]
  },
  {
   "cell_type": "markdown",
   "id": "f69a3360-3800-4b4e-bc21-2a94bb56f6f9",
   "metadata": {},
   "source": [
    "### 学習ループ"
   ]
  },
  {
   "cell_type": "code",
   "execution_count": 555,
   "id": "4df54e0d-96da-4f3e-9529-5135a83acfc7",
   "metadata": {},
   "outputs": [
    {
     "name": "stderr",
     "output_type": "stream",
     "text": [
      "                                                   \r"
     ]
    },
    {
     "name": "stdout",
     "output_type": "stream",
     "text": [
      "epoch=0  train_losse=1.6199 val_loss=1.1241 val_accuracy=0.5625\n"
     ]
    },
    {
     "name": "stderr",
     "output_type": "stream",
     "text": [
      "                                                   \r"
     ]
    },
    {
     "name": "stdout",
     "output_type": "stream",
     "text": [
      "epoch=1  train_losse=0.7823 val_loss=0.9363 val_accuracy=0.5625\n"
     ]
    },
    {
     "name": "stderr",
     "output_type": "stream",
     "text": [
      "                                                   \r"
     ]
    },
    {
     "name": "stdout",
     "output_type": "stream",
     "text": [
      "epoch=2  train_losse=0.4962 val_loss=0.7317 val_accuracy=0.6042\n"
     ]
    },
    {
     "name": "stderr",
     "output_type": "stream",
     "text": [
      "                                                   \r"
     ]
    },
    {
     "name": "stdout",
     "output_type": "stream",
     "text": [
      "epoch=3  train_losse=0.3239 val_loss=0.6623 val_accuracy=0.6875\n"
     ]
    },
    {
     "name": "stderr",
     "output_type": "stream",
     "text": [
      "                                                   \r"
     ]
    },
    {
     "name": "stdout",
     "output_type": "stream",
     "text": [
      "epoch=4  train_losse=0.1963 val_loss=0.6609 val_accuracy=0.6667\n"
     ]
    },
    {
     "name": "stderr",
     "output_type": "stream",
     "text": [
      "                                                   \r"
     ]
    },
    {
     "name": "stdout",
     "output_type": "stream",
     "text": [
      "epoch=5  train_losse=0.1222 val_loss=0.6148 val_accuracy=0.6667\n"
     ]
    },
    {
     "name": "stderr",
     "output_type": "stream",
     "text": [
      "                                                   \r"
     ]
    },
    {
     "name": "stdout",
     "output_type": "stream",
     "text": [
      "epoch=6  train_losse=0.0761 val_loss=0.5873 val_accuracy=0.6667\n"
     ]
    },
    {
     "name": "stderr",
     "output_type": "stream",
     "text": [
      "                                                   \r"
     ]
    },
    {
     "name": "stdout",
     "output_type": "stream",
     "text": [
      "epoch=7  train_losse=0.0489 val_loss=0.5823 val_accuracy=0.6875\n"
     ]
    },
    {
     "name": "stderr",
     "output_type": "stream",
     "text": [
      "                                                   \r"
     ]
    },
    {
     "name": "stdout",
     "output_type": "stream",
     "text": [
      "epoch=8  train_losse=0.0320 val_loss=0.5847 val_accuracy=0.6875\n"
     ]
    },
    {
     "name": "stderr",
     "output_type": "stream",
     "text": [
      "                                                   \r"
     ]
    },
    {
     "name": "stdout",
     "output_type": "stream",
     "text": [
      "epoch=9  train_losse=0.0240 val_loss=0.5830 val_accuracy=0.6875\n"
     ]
    },
    {
     "name": "stderr",
     "output_type": "stream",
     "text": [
      "                                                   \r"
     ]
    },
    {
     "name": "stdout",
     "output_type": "stream",
     "text": [
      "epoch=10  train_losse=0.0176 val_loss=0.5733 val_accuracy=0.6875\n"
     ]
    },
    {
     "name": "stderr",
     "output_type": "stream",
     "text": [
      "                                                   \r"
     ]
    },
    {
     "name": "stdout",
     "output_type": "stream",
     "text": [
      "epoch=11  train_losse=0.0140 val_loss=0.5664 val_accuracy=0.7292\n"
     ]
    },
    {
     "name": "stderr",
     "output_type": "stream",
     "text": [
      "                                                   \r"
     ]
    },
    {
     "name": "stdout",
     "output_type": "stream",
     "text": [
      "epoch=12  train_losse=0.0117 val_loss=0.5631 val_accuracy=0.7292\n"
     ]
    },
    {
     "name": "stderr",
     "output_type": "stream",
     "text": [
      "                                                   \r"
     ]
    },
    {
     "name": "stdout",
     "output_type": "stream",
     "text": [
      "epoch=13  train_losse=0.0096 val_loss=0.5638 val_accuracy=0.7292\n"
     ]
    },
    {
     "name": "stderr",
     "output_type": "stream",
     "text": [
      "                                                   \r"
     ]
    },
    {
     "name": "stdout",
     "output_type": "stream",
     "text": [
      "epoch=14  train_losse=0.0084 val_loss=0.5667 val_accuracy=0.7292\n"
     ]
    },
    {
     "name": "stderr",
     "output_type": "stream",
     "text": [
      "                                                   \r"
     ]
    },
    {
     "name": "stdout",
     "output_type": "stream",
     "text": [
      "epoch=15  train_losse=0.0073 val_loss=0.5650 val_accuracy=0.7292\n"
     ]
    },
    {
     "name": "stderr",
     "output_type": "stream",
     "text": [
      "                                                   \r"
     ]
    },
    {
     "name": "stdout",
     "output_type": "stream",
     "text": [
      "epoch=16  train_losse=0.0064 val_loss=0.5611 val_accuracy=0.7292\n"
     ]
    },
    {
     "name": "stderr",
     "output_type": "stream",
     "text": [
      "                                                   \r"
     ]
    },
    {
     "name": "stdout",
     "output_type": "stream",
     "text": [
      "epoch=17  train_losse=0.0057 val_loss=0.5606 val_accuracy=0.7292\n"
     ]
    },
    {
     "name": "stderr",
     "output_type": "stream",
     "text": [
      "                                                   \r"
     ]
    },
    {
     "name": "stdout",
     "output_type": "stream",
     "text": [
      "epoch=18  train_losse=0.0052 val_loss=0.5594 val_accuracy=0.7292\n"
     ]
    },
    {
     "name": "stderr",
     "output_type": "stream",
     "text": [
      "                                                   \r"
     ]
    },
    {
     "name": "stdout",
     "output_type": "stream",
     "text": [
      "epoch=19  train_losse=0.0047 val_loss=0.5567 val_accuracy=0.7292\n"
     ]
    },
    {
     "name": "stderr",
     "output_type": "stream",
     "text": [
      "                                                   \r"
     ]
    },
    {
     "name": "stdout",
     "output_type": "stream",
     "text": [
      "epoch=20  train_losse=0.0043 val_loss=0.5566 val_accuracy=0.7292\n"
     ]
    },
    {
     "name": "stderr",
     "output_type": "stream",
     "text": [
      "                                                   \r"
     ]
    },
    {
     "name": "stdout",
     "output_type": "stream",
     "text": [
      "epoch=21  train_losse=0.0040 val_loss=0.5555 val_accuracy=0.7292\n"
     ]
    },
    {
     "name": "stderr",
     "output_type": "stream",
     "text": [
      "                                                   \r"
     ]
    },
    {
     "name": "stdout",
     "output_type": "stream",
     "text": [
      "epoch=22  train_losse=0.0036 val_loss=0.5535 val_accuracy=0.7292\n"
     ]
    },
    {
     "name": "stderr",
     "output_type": "stream",
     "text": [
      "                                                   \r"
     ]
    },
    {
     "name": "stdout",
     "output_type": "stream",
     "text": [
      "epoch=23  train_losse=0.0033 val_loss=0.5533 val_accuracy=0.7292\n"
     ]
    },
    {
     "name": "stderr",
     "output_type": "stream",
     "text": [
      "                                                   \r"
     ]
    },
    {
     "name": "stdout",
     "output_type": "stream",
     "text": [
      "epoch=24  train_losse=0.0031 val_loss=0.5512 val_accuracy=0.7292\n"
     ]
    },
    {
     "name": "stderr",
     "output_type": "stream",
     "text": [
      "                                                   \r"
     ]
    },
    {
     "name": "stdout",
     "output_type": "stream",
     "text": [
      "epoch=25  train_losse=0.0029 val_loss=0.5521 val_accuracy=0.7292\n"
     ]
    },
    {
     "name": "stderr",
     "output_type": "stream",
     "text": [
      "                                                   \r"
     ]
    },
    {
     "name": "stdout",
     "output_type": "stream",
     "text": [
      "epoch=26  train_losse=0.0027 val_loss=0.5517 val_accuracy=0.7292\n"
     ]
    },
    {
     "name": "stderr",
     "output_type": "stream",
     "text": [
      "                                                   \r"
     ]
    },
    {
     "name": "stdout",
     "output_type": "stream",
     "text": [
      "epoch=27  train_losse=0.0025 val_loss=0.5508 val_accuracy=0.7292\n"
     ]
    },
    {
     "name": "stderr",
     "output_type": "stream",
     "text": [
      "                                                   \r"
     ]
    },
    {
     "name": "stdout",
     "output_type": "stream",
     "text": [
      "epoch=28  train_losse=0.0023 val_loss=0.5505 val_accuracy=0.7292\n"
     ]
    },
    {
     "name": "stderr",
     "output_type": "stream",
     "text": [
      "                                                   "
     ]
    },
    {
     "name": "stdout",
     "output_type": "stream",
     "text": [
      "epoch=29  train_losse=0.0022 val_loss=0.5500 val_accuracy=0.7292\n"
     ]
    },
    {
     "name": "stderr",
     "output_type": "stream",
     "text": [
      "\r"
     ]
    }
   ],
   "source": [
    "# 損失関数とoptimizer\n",
    "opt = optim.Adam(model.parameters(), lr=learning_rate)\n",
    "criterion = nn.CrossEntropyLoss(ignore_index=0)\n",
    "\n",
    "num_epochs = 30\n",
    "eary_stopping = 5\n",
    "\n",
    "# ログ\n",
    "# est_val_loss = float('inf')\n",
    "train_losses = []\n",
    "val_losses = []\n",
    "val_accuracies = []\n",
    "\n",
    "# GPU設定\n",
    "device = torch.device('cuda' if torch.cuda.is_available() else 'cpu')\n",
    "\n",
    "\n",
    "\n",
    "for epoch in range(num_epochs):\n",
    "    model.train()\n",
    "    running_loss = 0.0\n",
    "    running_val_loss = 0.0\n",
    "    total_correct = 0\n",
    "    \n",
    "    # training\n",
    "    for i, (sentences, labels) in tqdm(enumerate(train_loader), desc='now training', total=len(train_loader), leave=False):\n",
    "        sentences = sentences.to(device)\n",
    "        labels = labels.to(device)\n",
    "        opt.zero_grad()\n",
    "        output = model(sentences) # [batch_size, seq_len, num_classes]\n",
    "        output = output.view(-1, num_classes) # [batch_size, seq_len, num_classes] -> [batch_size * seq_len, num_classes]\n",
    "        labels = labels.view(-1) # [batch_size, seq_len] -> [batch_size * seq_len]\n",
    "        loss = criterion(output, labels)\n",
    "        loss.backward()\n",
    "        running_loss += loss.item()\n",
    "        opt.step()\n",
    "    train_losses.append(running_loss / len(train_loader))\n",
    "\n",
    "    # validation\n",
    "    # 評価用\n",
    "\n",
    "    total_num = 0\n",
    "    total_correct = 0\n",
    "\n",
    "    for i, (sentences, labels) in tqdm(enumerate(val_loader), desc='valdation', total=len(val_loader), leave=False):\n",
    "        model.eval()\n",
    "        with torch.no_grad():\n",
    "            \n",
    "            sentences = sentences.to(device)\n",
    "            labels = labels.to(device)\n",
    "            output = model(sentences) # [batch_size, seq_len, num_classes]\n",
    "    \n",
    "            # accuracy計算\n",
    "            _, predicted = torch.max(output, -1) #[batch_size, seq_len]\n",
    "            total_correct += torch.sum(predicted == labels).item()\n",
    "            total_num += labels.numel() # [batch_size * seq_len]\n",
    "    \n",
    "            \n",
    "            output = output.view(-1, num_classes) # [batch_size, seq_len, num_classes] -> [batch_size * seq_len, num_classes]\n",
    "            labels = labels.view(-1) # [batch_size, seq_len] -> [batch_size * seq_len]\n",
    "            loss = criterion(output, labels)\n",
    "            running_val_loss += loss.item()\n",
    "    \n",
    "    val_losses.append(running_val_loss / len(val_loader))\n",
    "    val_accuracies.append(total_correct / total_num)\n",
    "    print(f\"epoch={epoch}  train_losse={train_losses[-1]:.4f} val_loss={val_losses[-1]:.4f} val_accuracy={val_accuracies[-1]:.4f}\")"
   ]
  },
  {
   "cell_type": "code",
   "execution_count": 556,
   "id": "0240e1f7-f27c-4323-9850-7546032c4d49",
   "metadata": {},
   "outputs": [
    {
     "data": {
      "image/png": "[encoded data removed]",
      "text/plain": [
       "<Figure size 640x480 with 1 Axes>"
      ]
     },
     "metadata": {},
     "output_type": "display_data"
    }
   ],
   "source": [
    "plt.plot(train_losses, label='train')\n",
    "plt.plot(val_losses, label='val')\n",
    "plt.legend()\n",
    "plt.show()"
   ]
  },
  {
   "cell_type": "markdown",
   "id": "3605285a-29de-47fd-b8a2-37895037f562",
   "metadata": {},
   "source": [
    "### 検証データで評価(本来はテストデータ)"
   ]
  },
  {
   "cell_type": "code",
   "execution_count": 557,
   "id": "a0dfc843-9a32-44be-bd5d-ec063d41b6eb",
   "metadata": {},
   "outputs": [],
   "source": [
    "model.eval()\n",
    "val_outputs = model(X_val)\n",
    "_, predicted = torch.max(val_outputs, dim=-1)"
   ]
  },
  {
   "cell_type": "code",
   "execution_count": 558,
   "id": "795cacd8-d7bb-44c9-b8f5-9b618c7e32b5",
   "metadata": {},
   "outputs": [
    {
     "data": {
      "text/plain": [
       "tensor([[7, 7, 7, 7, 7, 7, 7, 1],\n",
       "        [7, 7, 7, 1, 7, 7, 1, 1],\n",
       "        [7, 1, 4, 4, 7, 7, 1, 7],\n",
       "        [7, 1, 7, 7, 7, 7, 7, 7],\n",
       "        [7, 7, 7, 7, 2, 2, 7, 7],\n",
       "        [7, 7, 7, 7, 1, 1, 7, 7]])"
      ]
     },
     "execution_count": 558,
     "metadata": {},
     "output_type": "execute_result"
    }
   ],
   "source": [
    "predicted"
   ]
  },
  {
   "cell_type": "code",
   "execution_count": 559,
   "id": "a5226dc5-fa09-432b-89df-bfbcd0fb3e31",
   "metadata": {},
   "outputs": [
    {
     "name": "stdout",
     "output_type": "stream",
     "text": [
      "original sentence : He lives in Los Angeles .\n",
      "predicted labels:['O' 'O' 'O' 'O' 'O' 'O']\n",
      "true labels: ['O' 'O' 'O' 'B-geo' 'I-geo' 'O']\n",
      "\n",
      "original sentence : She is from Australia .\n",
      "predicted labels:['O' 'O' 'O' 'B-geo' 'O']\n",
      "true labels: ['O' 'O' 'O' 'B-geo' 'O']\n",
      "\n",
      "original sentence : The Great Barrier Reef is in Australia .\n",
      "predicted labels:['O' 'B-geo' 'I-geo' 'I-geo' 'O' 'O' 'B-geo' 'O']\n",
      "true labels: ['O' 'B-geo' 'I-geo' 'I-geo' 'O' 'O' 'B-geo' 'O']\n",
      "\n",
      "original sentence : The Amazon is the largest rainforest .\n",
      "predicted labels:['O' 'B-geo' 'O' 'O' 'O' 'O' 'O']\n",
      "true labels: ['O' 'B-geo' 'O' 'O' 'O' 'O' 'O']\n",
      "\n",
      "original sentence : He works for the United Nations .\n",
      "predicted labels:['O' 'O' 'O' 'O' 'B-org' 'B-org' 'O']\n",
      "true labels: ['O' 'O' 'O' 'O' 'B-org' 'I-org' 'O']\n",
      "\n",
      "original sentence : Berlin is the capital of Germany .\n",
      "predicted labels:['O' 'O' 'O' 'O' 'B-geo' 'B-geo' 'O']\n",
      "true labels: ['B-geo' 'O' 'O' 'O' 'O' 'B-geo' 'O']\n",
      "\n"
     ]
    }
   ],
   "source": [
    "for sentence, predicted_label, val_label in zip(val_sentences, predicted, y_val):\n",
    "    words = sentence.split()\n",
    "    decodered_labels = label_encoder.inverse_transform(predicted_label[:len(words)]-1)\n",
    "    original_labels = label_encoder.inverse_transform(val_label[:len(words)]-1)\n",
    "    print(f'original sentence : {sentence}')\n",
    "    print(f'predicted labels:{decodered_labels}')\n",
    "    print(f'true labels: {original_labels}')\n",
    "    print()"
   ]
  },
  {
   "cell_type": "markdown",
   "id": "a7a5d90b-c8dc-4e0d-b5aa-7d69be98267a",
   "metadata": {},
   "source": [
    "### 補足 : TensorDataset "
   ]
  },
  {
   "cell_type": "code",
   "execution_count": 560,
   "id": "07e97d92-7230-442c-9b8c-85d3bdd664ea",
   "metadata": {},
   "outputs": [],
   "source": [
    "train_dataset = TensorDataset(X_train, y_train)"
   ]
  },
  {
   "cell_type": "code",
   "execution_count": 561,
   "id": "9b459844-b598-4192-888c-a9606f4a0ab0",
   "metadata": {},
   "outputs": [
    {
     "data": {
      "text/plain": [
       "(tensor([94, 51, 95, 96, 97, 98,  7,  0,  0,  0]),\n",
       " tensor([7, 7, 7, 1, 7, 7, 7, 0, 0, 0]))"
      ]
     },
     "execution_count": 561,
     "metadata": {},
     "output_type": "execute_result"
    }
   ],
   "source": [
    "train_dataset[0]"
   ]
  },
  {
   "cell_type": "code",
   "execution_count": 562,
   "id": "c8185038-42e5-47b2-b7d4-8b1fce319093",
   "metadata": {},
   "outputs": [
    {
     "data": {
      "text/plain": [
       "[tensor([[17, 18, 19, 87,  7,  0,  0,  0,  0,  0],\n",
       "         [13, 28,  5, 29, 30, 31, 32,  7,  0,  0]]),\n",
       " tensor([[7, 7, 7, 2, 7, 0, 0, 0, 0, 0],\n",
       "         [7, 7, 7, 1, 4, 4, 4, 7, 0, 0]])]"
      ]
     },
     "execution_count": 562,
     "metadata": {},
     "output_type": "execute_result"
    }
   ],
   "source": [
    "train_loader = DataLoader(train_dataset, batch_size=2, shuffle=True)\n",
    "next(iter(train_loader))"
   ]
  }
 ],
 "metadata": {
  "kernelspec": {
   "display_name": "Python 3 (ipykernel)",
   "language": "python",
   "name": "python3"
  },
  "language_info": {
   "codemirror_mode": {
    "name": "ipython",
    "version": 3
   },
   "file_extension": ".py",
   "mimetype": "text/x-python",
   "name": "python",
   "nbconvert_exporter": "python",
   "pygments_lexer": "ipython3",
   "version": "3.8.18"
  }
 },
 "nbformat": 4,
 "nbformat_minor": 5
}
