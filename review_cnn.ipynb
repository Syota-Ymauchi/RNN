{
 "cells": [
  {
   "cell_type": "code",
   "execution_count": 55,
   "id": "508bb1a1-cb8b-4ded-a41f-2493eaf3ad55",
   "metadata": {},
   "outputs": [],
   "source": [
    "from functools import partial\n",
    "\n",
    "import torch\n",
    "import torch.nn as nn"
   ]
  },
  {
   "cell_type": "markdown",
   "id": "542428f0-b3ec-4e3e-ad01-a3ae34d8a32d",
   "metadata": {},
   "source": [
    "# 画像系の復習はここに"
   ]
  },
  {
   "cell_type": "code",
   "execution_count": 46,
   "id": "37e43064-2514-471b-8a9f-995df2e50206",
   "metadata": {},
   "outputs": [],
   "source": [
    "# モデルの定義\n",
    "conv_model = nn.Sequential(\n",
    "    # [3, 28, 28]\n",
    "    nn.Conv2d(1, 64, kernel_size=3, stride=2, padding=1),\n",
    "    nn.ReLU(),\n",
    "    # [64, 14, 14]\n",
    "    nn.Conv2d(64, 128, kernel_size=3, stride=2, padding=1),\n",
    "    nn.ReLU(),\n",
    "    # [128, 7, 7]\n",
    "    nn.Conv2d(128, 64, kernel_size=3, stride=2, padding=1),\n",
    "    nn.ReLU(),\n",
    "    # [64, 4, 4]\n",
    "    # GAP\n",
    "    nn.AdaptiveAvgPool2d(1),\n",
    "    # [64, 1, 1]\n",
    "    nn.Flatten(),\n",
    "    # [64, 1]\n",
    "    nn.Linear(64, 10)\n",
    "   \n",
    ")"
   ]
  },
  {
   "cell_type": "code",
   "execution_count": 47,
   "id": "0ca00cc3-97df-4f55-8baf-21b096434dda",
   "metadata": {},
   "outputs": [
    {
     "data": {
      "text/plain": [
       "torch.Size([8, 10])"
      ]
     },
     "execution_count": 47,
     "metadata": {},
     "output_type": "execute_result"
    }
   ],
   "source": [
    "X =  torch.randn(8, 1, 3, 3)\n",
    "output = conv_model(X)\n",
    "output.shape"
   ]
  },
  {
   "cell_type": "code",
   "execution_count": 49,
   "id": "b2fe1bb2-aa6d-4f06-93a6-a042a85bf8ce",
   "metadata": {},
   "outputs": [
    {
     "name": "stdout",
     "output_type": "stream",
     "text": [
      "torch.Size([8, 64, 1, 1])\n"
     ]
    },
    {
     "data": {
      "text/plain": [
       "torch.Size([8, 64])"
      ]
     },
     "execution_count": 49,
     "metadata": {},
     "output_type": "execute_result"
    }
   ],
   "source": [
    "# GAP層　動き確認\n",
    "X =  torch.randn(8, 64, 4, 4)\n",
    "X = nn.AdaptiveAvgPool2d(1)(X)\n",
    "print(X.shape)\n",
    "\n",
    "out = nn.Flatten()(X) # [8, 64]\n",
    "out.shape"
   ]
  },
  {
   "cell_type": "markdown",
   "id": "e8bd64c5-590e-4a2e-9b6d-b6596b1dbbaa",
   "metadata": {},
   "source": [
    "### hook"
   ]
  },
  {
   "cell_type": "code",
   "execution_count": 44,
   "id": "a2096b8b-080b-4276-b47f-039ecfd82ca9",
   "metadata": {},
   "outputs": [
    {
     "name": "stdout",
     "output_type": "stream",
     "text": [
      "tensor([0.2000, 0.2000, 0.2000, 0.2000, 0.2000])\n"
     ]
    }
   ],
   "source": [
    "a = torch.ones(5, requires_grad=True)\n",
    "b = 2 * a\n",
    "b.retain_grad() # 中間層の勾配\n",
    "b.register_hook(lambda grad : print(grad))\n",
    "c = b.mean()\n",
    "c.backward()"
   ]
  },
  {
   "cell_type": "markdown",
   "id": "891ff996-5f56-4890-899d-fe1fa496f2a1",
   "metadata": {},
   "source": [
    "### nn.forward_hook"
   ]
  },
  {
   "cell_type": "code",
   "execution_count": 58,
   "id": "df868d89-b5f5-4eaf-b0ab-2fcf52e2b1d1",
   "metadata": {},
   "outputs": [],
   "source": [
    "outputs = {}\n",
    "def save_output(module, inp, out, name):\n",
    "    module_name = f\"{name}_{str(module)}\"\n",
    "    outputs[module_name] = out.shape\n",
    "\n",
    "for name, module in conv_model.named_modules():\n",
    "    if name:\n",
    "        module.register_forward_hook(partial(save_output, name=name))"
   ]
  }
 ],
 "metadata": {
  "kernelspec": {
   "display_name": "Python 3 (ipykernel)",
   "language": "python",
   "name": "python3"
  },
  "language_info": {
   "codemirror_mode": {
    "name": "ipython",
    "version": 3
   },
   "file_extension": ".py",
   "mimetype": "text/x-python",
   "name": "python",
   "nbconvert_exporter": "python",
   "pygments_lexer": "ipython3",
   "version": "3.8.18"
  }
 },
 "nbformat": 4,
 "nbformat_minor": 5
}
