{
 "cells": [
  {
   "cell_type": "code",
   "execution_count": 97,
   "id": "486e2557-613a-488a-9618-2a86dd6d1c25",
   "metadata": {},
   "outputs": [],
   "source": [
    "import torch\n",
    "from sklearn import datasets\n",
    "import matplotlib.pyplot as plt\n",
    "from torch.nn import functional as F\n",
    "from sklearn.model_selection import train_test_split\n",
    "import numpy as np\n",
    "import math\n",
    "from torch import nn"
   ]
  },
  {
   "cell_type": "markdown",
   "id": "4a57cdbb-6888-4ce4-847a-f0b5747afeed",
   "metadata": {},
   "source": [
    "### Backpropagation"
   ]
  },
  {
   "cell_type": "code",
   "execution_count": 126,
   "id": "5e84568b-5354-4a5f-ba68-6f48607d888b",
   "metadata": {},
   "outputs": [
    {
     "name": "stdout",
     "output_type": "stream",
     "text": [
      "(1437, 8, 8) (360, 8, 8)\n",
      "(1437,) (360,)\n",
      "torch.Size([1437, 64]) torch.Size([360, 64])\n",
      "torch.Size([1437, 10]) torch.Size([360, 10])\n"
     ]
    }
   ],
   "source": [
    "# データの読み込み\n",
    "dataset = datasets.load_digits()\n",
    "images = dataset['images']\n",
    "target = dataset['target']\n",
    "\n",
    "X_train, X_val, y_train, y_val = train_test_split(images, target, test_size=0.2)\n",
    "print(X_train.shape, X_val.shape)\n",
    "print(y_train.shape, y_val.shape)\n",
    "\n",
    "# 前処理\n",
    "X_train = torch.tensor(X_train, dtype=torch.float32).reshape(-1, 64)\n",
    "y_train = F.one_hot(torch.tensor(y_train), num_classes=10) # one-hot\n",
    "X_val= torch.tensor(X_val, dtype=torch.float32).reshape(-1, 64)\n",
    "y_val = F.one_hot(torch.tensor(y_val), num_classes=10) # one-hot\n",
    "\n",
    "print(X_train.shape, X_val.shape)\n",
    "print(y_train.shape, y_val.shape)\n",
    "\n",
    "# 標準化\n",
    "X_train_mean = X_train.mean()\n",
    "X_train_std = X_train.std()\n",
    "X_train = (X_train - X_train_mean) / X_train_std\n",
    "X_val = (X_val - X_train_mean) / X_train_std"
   ]
  },
  {
   "cell_type": "code",
   "execution_count": 159,
   "id": "7495f4a2-0838-4093-8447-8bf894e5b7fb",
   "metadata": {},
   "outputs": [],
   "source": [
    "def linear_backward(A, W, b, Z):\n",
    "    W.grad_ = Z.grad_.T @ A \n",
    "    b.grad_ = torch.sum(Z.grad_ , dim=0)\n",
    "    A.grad_ = Z.grad_ @ W\n",
    "\n",
    "def relu_backward(Z, A):\n",
    "    Z.grad_ = A.grad_ * (Z > 0).float()\n",
    "\n",
    "def softmax_cross_entropy(X, y_true):\n",
    "    e_x = torch.exp(X - torch.max(X, dim=-1, keepdim=True)[0])\n",
    "    softmax_out = e_x / (torch.sum(e_x, dim=-1, keepdim=True) + 1e-10)\n",
    "    loss = -torch.sum(y_true * torch.log(softmax_out  + 1e-10)) / y_true.shape[0]\n",
    "    return loss, softmax_out\n",
    "\n",
    "def linear(X, W, b):\n",
    "    return X @ W.T + b\n",
    "\n",
    "def relu(Z):\n",
    "    return Z.clamp_min(0.)\n",
    "\n",
    "def forward_and_backward(X, y):\n",
    "    # forward\n",
    "    Z1 = linear(X, W1, b1)\n",
    "    Z1.retain_grad() # 中間ノードは勾配を求める時にretain_grad()が必要\n",
    "    A1 = relu(Z1)\n",
    "    A1.retain_grad()\n",
    "    Z2 = linear(A1, W2, b2)\n",
    "    Z2.retain_grad()\n",
    "    loss , A2 = softmax_cross_entropy(Z2, y)\n",
    "    A2.retain_grad()\n",
    "    # backward\n",
    "    Z2.grad_ = (A2 - y) / X.shape[0]\n",
    "    linear_backward(A1, W2, b2, Z2)\n",
    "    relu_backward(Z1, A1)\n",
    "    linear_backward(X, W1, b1, Z1)\n",
    "    return loss, Z1, A1, Z2, A2"
   ]
  },
  {
   "cell_type": "markdown",
   "id": "3c37d63c-b7f5-4529-88c8-a2b64ba9d9bf",
   "metadata": {},
   "source": [
    "### Autogradの結果と確認することを確認"
   ]
  },
  {
   "cell_type": "code",
   "execution_count": 163,
   "id": "4eadd1b5-6bb2-4087-92cd-7ec22002019c",
   "metadata": {},
   "outputs": [
    {
     "name": "stdout",
     "output_type": "stream",
     "text": [
      "torch.Size([1437, 64]) torch.Size([64, 32])\n"
     ]
    }
   ],
   "source": [
    "# パラメータの初期化\n",
    "\n",
    "num_features = X_train.shape[1]\n",
    "hidden_size = 32\n",
    "num_classes = y_train.shape[1]\n",
    "\n",
    "\n",
    "# パラメータの初期値\n",
    "W1 = torch.randn((hidden_size, num_features)) * torch.sqrt(torch.tensor(2 / num_features))  # kaiming初期値\n",
    "W1.requires_grad=True\n",
    "b1 = torch.zeros((1, hidden_size), requires_grad=True)\n",
    "\n",
    "print(X_train.shape, W1.T.shape)\n",
    "W2 = torch.randn((num_classes, hidden_size))  * torch.sqrt(torch.tensor(2 / hidden_size)) # kaiming初期値\n",
    "W2.requires_grad = True\n",
    "b2 = torch.zeros((1, num_classes), requires_grad=True)\n",
    "\n",
    "\n",
    "\n",
    "\n",
    "# スクラッチ実装したbackwardの出力\n",
    "loss, Z1, A1, Z2, A2 = forward_and_backward(X_train, y_train)\n"
   ]
  },
  {
   "cell_type": "code",
   "execution_count": 164,
   "id": "2e4fb6d4-f758-43e0-8894-08730b67b573",
   "metadata": {},
   "outputs": [],
   "source": [
    "# autograd\n",
    "loss.backward()"
   ]
  },
  {
   "cell_type": "code",
   "execution_count": 165,
   "id": "4d3f2d9e-0463-4a83-bcbc-910a1b54e775",
   "metadata": {},
   "outputs": [
    {
     "data": {
      "text/plain": [
       "tensor([[-0.0199, -0.0225, -0.0143,  ...,  0.0537,  0.0045, -0.0174],\n",
       "        [-0.0116, -0.0152, -0.0299,  ..., -0.0258, -0.0237, -0.0112],\n",
       "        [-0.1092, -0.1090, -0.0287,  ...,  0.1149, -0.0437, -0.0958],\n",
       "        ...,\n",
       "        [ 0.0117,  0.0153,  0.0250,  ...,  0.0085,  0.0094,  0.0113],\n",
       "        [-0.1055, -0.1064, -0.0749,  ...,  0.2135,  0.0351, -0.0801],\n",
       "        [-0.0293, -0.0314, -0.0298,  ...,  0.0556, -0.0088, -0.0284]],\n",
       "       grad_fn=<MmBackward0>)"
      ]
     },
     "execution_count": 165,
     "metadata": {},
     "output_type": "execute_result"
    }
   ],
   "source": [
    "W1.grad_"
   ]
  },
  {
   "cell_type": "code",
   "execution_count": 166,
   "id": "ef6616e3-eec0-4ef5-9b5c-847f6f3eeb9e",
   "metadata": {},
   "outputs": [
    {
     "data": {
      "text/plain": [
       "tensor([[-0.0199, -0.0225, -0.0143,  ...,  0.0537,  0.0045, -0.0174],\n",
       "        [-0.0116, -0.0152, -0.0299,  ..., -0.0258, -0.0237, -0.0112],\n",
       "        [-0.1092, -0.1090, -0.0287,  ...,  0.1149, -0.0437, -0.0958],\n",
       "        ...,\n",
       "        [ 0.0117,  0.0153,  0.0250,  ...,  0.0085,  0.0094,  0.0113],\n",
       "        [-0.1055, -0.1064, -0.0749,  ...,  0.2135,  0.0351, -0.0801],\n",
       "        [-0.0293, -0.0314, -0.0298,  ...,  0.0556, -0.0088, -0.0284]])"
      ]
     },
     "execution_count": 166,
     "metadata": {},
     "output_type": "execute_result"
    }
   ],
   "source": [
    "W1.grad"
   ]
  },
  {
   "cell_type": "code",
   "execution_count": 171,
   "id": "6d15c9cd-d760-438e-9c2a-fd7b0fdaa5be",
   "metadata": {},
   "outputs": [
    {
     "name": "stdout",
     "output_type": "stream",
     "text": [
      "True True True True\n"
     ]
    }
   ],
   "source": [
    "# だいだい同じかを確認\n",
    "print(torch.allclose(W1.grad, W1.grad_),torch.allclose(W2.grad, W2.grad_),torch.allclose(b1.grad, b1.grad_),torch.allclose(b2.grad, b2.grad_))"
   ]
  },
  {
   "cell_type": "markdown",
   "id": "10f17621-1968-46ab-b79e-965dc170c32f",
   "metadata": {},
   "source": [
    "##### 補足 : one-hotの確認"
   ]
  },
  {
   "cell_type": "code",
   "execution_count": 62,
   "id": "219af478-6991-43c8-aba2-262368e89a72",
   "metadata": {},
   "outputs": [
    {
     "data": {
      "text/plain": [
       "tensor([[0, 0, 1, 0, 0, 0, 0, 0, 0, 0],\n",
       "        [0, 0, 0, 1, 0, 0, 0, 0, 0, 0],\n",
       "        [0, 1, 0, 0, 0, 0, 0, 0, 0, 0],\n",
       "        [0, 0, 0, 0, 1, 0, 0, 0, 0, 0],\n",
       "        [0, 0, 0, 0, 0, 1, 0, 0, 0, 0]])"
      ]
     },
     "execution_count": 62,
     "metadata": {},
     "output_type": "execute_result"
    }
   ],
   "source": [
    "a = torch.tensor([2, 3, 1, 4, 5], dtype=torch.long)\n",
    "one_hot = F.one_hot(a,  num_classes=10) # 0 ~ 9の10クラス分類\n",
    "one_hot"
   ]
  }
 ],
 "metadata": {
  "kernelspec": {
   "display_name": "Python 3 (ipykernel)",
   "language": "python",
   "name": "python3"
  },
  "language_info": {
   "codemirror_mode": {
    "name": "ipython",
    "version": 3
   },
   "file_extension": ".py",
   "mimetype": "text/x-python",
   "name": "python",
   "nbconvert_exporter": "python",
   "pygments_lexer": "ipython3",
   "version": "3.8.18"
  }
 },
 "nbformat": 4,
 "nbformat_minor": 5
}
